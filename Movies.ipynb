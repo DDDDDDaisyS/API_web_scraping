{
 "cells": [
  {
   "cell_type": "markdown",
   "metadata": {},
   "source": [
    "## Movies\n",
    "In this part of mini-project, we need to have our API-KEY ready because this API won't work without it.\n",
    "\n",
    "We encourage you to look for correct endpoints in [the documentation](https://developers.themoviedb.org/3/account). We can also play around with requests there before copying them to Python."
   ]
  },
  {
   "cell_type": "code",
   "execution_count": 1,
   "metadata": {},
   "outputs": [],
   "source": [
    "import requests as re\n",
    "import os\n",
    "from IPython.display import JSON\n",
    "from collections import Counter"
   ]
  },
  {
   "cell_type": "markdown",
   "metadata": {},
   "source": [
    "## Demo"
   ]
  },
  {
   "cell_type": "code",
   "execution_count": 2,
   "metadata": {},
   "outputs": [
    {
     "data": {
      "text/plain": [
       "<Response [200]>"
      ]
     },
     "execution_count": 2,
     "metadata": {},
     "output_type": "execute_result"
    }
   ],
   "source": [
    "api_key = os.environ[\"The_Movie_DB_APIKey\"]\n",
    "re.get(f'https://api.themoviedb.org/3/movie/550?api_key={api_key}')"
   ]
  },
  {
   "cell_type": "code",
   "execution_count": 3,
   "metadata": {},
   "outputs": [
    {
     "data": {
      "text/plain": [
       "requests.models.Response"
      ]
     },
     "execution_count": 3,
     "metadata": {},
     "output_type": "execute_result"
    }
   ],
   "source": [
    "type(re.get(f'https://api.themoviedb.org/3/movie/550?api_key={api_key}'))"
   ]
  },
  {
   "cell_type": "code",
   "execution_count": 3,
   "metadata": {},
   "outputs": [],
   "source": [
    "base = \"https://api.themoviedb.org/3\"\n",
    "url_movie = \"/search/movie\"\n",
    "query_movie = 'titanic'\n",
    "params = f'?query={query_movie}&api_key={api_key}' "
   ]
  },
  {
   "cell_type": "code",
   "execution_count": 5,
   "metadata": {},
   "outputs": [],
   "source": [
    "res = re.get(base+url_movie+params)"
   ]
  },
  {
   "cell_type": "code",
   "execution_count": 6,
   "metadata": {},
   "outputs": [
    {
     "data": {
      "text/plain": [
       "200"
      ]
     },
     "execution_count": 6,
     "metadata": {},
     "output_type": "execute_result"
    }
   ],
   "source": [
    "res.status_code"
   ]
  },
  {
   "cell_type": "code",
   "execution_count": 7,
   "metadata": {},
   "outputs": [
    {
     "data": {
      "application/json": {
       "page": 1,
       "results": [
        {
         "adult": false,
         "backdrop_path": "/6VmFqApQRyZZzmiGOQq2C92jyvH.jpg",
         "genre_ids": [
          18,
          10749
         ],
         "id": 597,
         "original_language": "en",
         "original_title": "Titanic",
         "overview": "101-year-old Rose DeWitt Bukater tells the story of her life aboard the Titanic, 84 years later. A young Rose boards the ship with her mother and fiancé. Meanwhile, Jack Dawson and Fabrizio De Rossi win third-class tickets aboard the ship. Rose tells the whole story from Titanic's departure through to its death—on its first and last voyage—on April 15, 1912.",
         "popularity": 122.474,
         "poster_path": "/9xjZS2rlVxm8SFx8kPC3aIGCOYQ.jpg",
         "release_date": "1997-11-18",
         "title": "Titanic",
         "video": false,
         "vote_average": 7.9,
         "vote_count": 20533
        },
        {
         "adult": false,
         "backdrop_path": "/e9XRikkyth0GtG8RkU3XNm0oMsA.jpg",
         "genre_ids": [
          28,
          12,
          53
         ],
         "id": 44918,
         "original_language": "en",
         "original_title": "Titanic II",
         "overview": "On the 100th anniversary of the original voyage, a modern luxury liner christened \"Titanic 2,\" follows the path of its namesake. But when a tsunami hurls an ice berg into the new ship's path, the passengers and crew must fight to avoid a similar fate.",
         "popularity": 50.554,
         "poster_path": "/3m12UeP1DMfhYZyvpLftaJGsyp3.jpg",
         "release_date": "2010-08-07",
         "title": "Titanic II",
         "video": false,
         "vote_average": 4.8,
         "vote_count": 290
        },
        {
         "adult": false,
         "backdrop_path": "/3oShsRvAyZiQQ5lP2hszWN9Ri0b.jpg",
         "genre_ids": [
          18,
          10749
         ],
         "id": 16535,
         "original_language": "en",
         "original_title": "Titanic",
         "overview": "Unhappily married, Julia Sturges decides to go to America with her two children on the Titanic. Her husband, Richard also arranges passage on the luxury liner so as to have custody of their two children. All this fades to insignificance once the ship hits an iceberg.",
         "popularity": 14.894,
         "poster_path": "/n2hykMnmw1APSBYpJ2CV6dtD47.jpg",
         "release_date": "1953-04-11",
         "title": "Titanic",
         "video": false,
         "vote_average": 6.4,
         "vote_count": 80
        },
        {
         "adult": false,
         "backdrop_path": null,
         "genre_ids": [
          35,
          27
         ],
         "id": 4240,
         "original_language": "en",
         "original_title": "Titanic 2000",
         "overview": "The luxury liner Titanic 2000 has set sail on its maiden voyage, and one of the passengers is the vampire Vladamina. Vladamina is searching for a woman she can turn into a vampire queen, and frustrated rock groupie Shari looks to be a perfect target. As various people get seduced and/or killed as the liner continues on its doomed voyage, Shari must chose between eternity as a living dead sex slave or a frigid grave at the bottom of the ocean.",
         "popularity": 14.24,
         "poster_path": "/91p8xU2nykmw8psADIJOlBLdlXK.jpg",
         "release_date": "1999-01-01",
         "title": "Titanic 2000",
         "video": false,
         "vote_average": 3.3,
         "vote_count": 10
        },
        {
         "adult": false,
         "backdrop_path": "/82tRA7Vdf7TwdyJYILUh6FuY88L.jpg",
         "genre_ids": [
          99
         ],
         "id": 198901,
         "original_language": "en",
         "original_title": "Titanic: 100 Years On",
         "overview": "The \"unsinkable\" floating palace set sail from Southampton on 10th April 1912 on her maiden voyage to New York. An iceberg ended this monumental journey 5 days later. Only 705 of the passengers and crew survived. This program features an exclusive look at the Sea City Museum Titanic Exhibit in Southampton, interviews from both survivors and the cast of the blockbuster film.",
         "popularity": 23.173,
         "poster_path": "/uAaXfaJpKjmsA3F1KgowcRJPKPM.jpg",
         "release_date": "2012-06-01",
         "title": "Titanic: 100 Years On",
         "video": false,
         "vote_average": 6.9,
         "vote_count": 18
        },
        {
         "adult": false,
         "backdrop_path": "/sdtfwZulErbQ7y9RVbaOuWVouD6.jpg",
         "genre_ids": [
          36,
          18,
          53
         ],
         "id": 86938,
         "original_language": "en",
         "original_title": "S.O.S. Titanic",
         "overview": "The Titanic disaster is depicted as seen through the eyes of one couple in each of the three classes on board.",
         "popularity": 9.507,
         "poster_path": "/wy5ut2GVpPaNxxXFRdkIywjRpeO.jpg",
         "release_date": "1979-09-23",
         "title": "S.O.S. Titanic",
         "video": false,
         "vote_average": 6.1,
         "vote_count": 28
        },
        {
         "adult": false,
         "backdrop_path": "/edHgXEtPbyVIQ7xKb1cvJJqTVhA.jpg",
         "genre_ids": [
          28,
          18,
          36
         ],
         "id": 11021,
         "original_language": "de",
         "original_title": "Titanic",
         "overview": "This little-known German film retells the true story of the British ocean liner that met a tragic fate. Ernst Fritz Fürbringer plays the president of the White Star Line, who unwisely pressed the Titanic's captain (Otto Wernicke) to make the swiftest possible crossing to New York.",
         "popularity": 8.732,
         "poster_path": "/Al7oIXQ4dZAofBTZWm6OiXS3MEa.jpg",
         "release_date": "1943-11-10",
         "title": "Titanic",
         "video": false,
         "vote_average": 6.1,
         "vote_count": 44
        },
        {
         "adult": false,
         "backdrop_path": "/q3b8Vi2W6j72aXKggiVoDnEyDgU.jpg",
         "genre_ids": [
          12
         ],
         "id": 24575,
         "original_language": "en",
         "original_title": "Raise the Titanic",
         "overview": "To obtain a supply of a rare mineral, a ship raising operation is conducted for the only known source, the Titanic.",
         "popularity": 14.624,
         "poster_path": "/beYNLj44FOdV47tomXuJyPkvCKl.jpg",
         "release_date": "1980-08-01",
         "title": "Raise the Titanic",
         "video": false,
         "vote_average": 5.5,
         "vote_count": 59
        },
        {
         "adult": false,
         "backdrop_path": "/1Z5RUFWhdH1NZ2M1NfRMov1jC4r.jpg",
         "genre_ids": [
          878,
          28,
          12,
          35
         ],
         "id": 467839,
         "original_language": "en",
         "original_title": "Aliens vs. Titanic",
         "overview": "Offering only the finest amenities, the ‘TITAN 1C’ space-cruiser is considered the most luxurious star-liner ever built. Future spring-breakers on board are excited to be touring through space with some of the world’s elite. However, a sudden meteor storm smashes into the hull, and a deadly biological alien life form is let loose on the ship.  Seeking a suitable host, the retrovirus successfully merges with some the passengers, transforming them into seemingly invincible predators with the “touch of death”. As the ship is destroyed, the surviving passengers crash on a remote planet, and they learn that one of them is “infected”. They must quickly band together before it has a chance to slaughter them all.",
         "popularity": 8.916,
         "poster_path": "/blREOd05hyvbiA3Qc6BqCJ7unvC.jpg",
         "release_date": "2017-09-18",
         "title": "Aliens vs. Titanic",
         "video": false,
         "vote_average": 5,
         "vote_count": 14
        },
        {
         "adult": false,
         "backdrop_path": "/hDfaa3Nj3K3SkXBr8eALYfPT5pF.jpg",
         "genre_ids": [
          99
         ],
         "id": 428950,
         "original_language": "en",
         "original_title": "Drain the Titanic",
         "overview": "Computer-generated imagery and other visualization techniques reveal how it would look if all the water was removed from RMS Titanic's final resting place.",
         "popularity": 8.831,
         "poster_path": "/68Fppsnpc3OmQK8kIustffrxHbq.jpg",
         "release_date": "2016-05-05",
         "title": "Drain the Titanic",
         "video": false,
         "vote_average": 7.2,
         "vote_count": 12
        },
        {
         "adult": false,
         "backdrop_path": "/4Sddw1BFQFHOIQZ3DY7QS0mGnVe.jpg",
         "genre_ids": [
          16,
          10751
         ],
         "id": 71235,
         "original_language": "it",
         "original_title": "Titanic: La leggenda continua",
         "overview": "An animated retelling of the worst passenger ship disaster in history. In this version, love blossoms between the upper-class Sir William and the blue-collar Angelica, who is hoping to find romance in America. At the same time, there are also a number of animal passengers, including talking dogs, cats and mice, who are also looking forward to arriving in the New World.",
         "popularity": 7.851,
         "poster_path": "/s1PHRSlos2hIFrtA8Ze0JybJTGb.jpg",
         "release_date": "2000-09-15",
         "title": "Titanic: The Legend Goes On...",
         "video": false,
         "vote_average": 2.4,
         "vote_count": 47
        },
        {
         "adult": false,
         "backdrop_path": null,
         "genre_ids": [
          99,
          36
         ],
         "id": 530108,
         "original_language": "en",
         "original_title": "The Unsinkable Titanic",
         "overview": "On April 10, 1912, the RMS Titanic embarked on its maiden voyage, sailing from Southampton, England, to New York City. One of the largest and most luxurious passenger liners at the time, the Titanic was also equipped with watertight compartments, which led many to consider the ship unsinkable; an anonymous deckhand famously claimed that “God himself could not sink this ship.” On April 14, however, the ship struck an iceberg, and early the next day it sank. Some 1,500 people perished.",
         "popularity": 8.788,
         "poster_path": "/m3py1JoOPM3s3RTRv965tMC8Fqy.jpg",
         "release_date": "2008-11-03",
         "title": "The Unsinkable Titanic",
         "video": false,
         "vote_average": 9.5,
         "vote_count": 2
        },
        {
         "adult": false,
         "backdrop_path": "/mEoU71g0SjTDEiMTyRj1bV2EfIp.jpg",
         "genre_ids": [
          99
         ],
         "id": 213362,
         "original_language": "en",
         "original_title": "Reflections on Titanic",
         "overview": "An enthralling and fast-paced four-part documentary feature that covers the making of one of the last major Hollywood epics; Titanic. Cast and crew speak on setting the sinking of the ship against a classic romance. The feature also examines casting and the young couple headlining the film, DiCaprio's and Winslet's on-set friendship and their differing acting styles, the expansive sets and filming locations, the authenticity of the recreated ship, James Cameron's work and dedication, and budgeting. And many more aspects of the film are overviewed.",
         "popularity": 7.106,
         "poster_path": "/2hdOU2edVT1MoFBXXTpetJU3LB7.jpg",
         "release_date": "2012-09-10",
         "title": "Reflections on Titanic",
         "video": false,
         "vote_average": 7.2,
         "vote_count": 19
        },
        {
         "adult": false,
         "backdrop_path": "/oTR3KI1kVQ6ULrR2X6TobDlYVzO.jpg",
         "genre_ids": [
          16,
          10751
         ],
         "id": 44310,
         "original_language": "it",
         "original_title": "La leggenda del Titanic",
         "overview": "Old Grandpa mouse tells to his grandchildren the \"real\" story of the Titanic disaster, including evil sharks, a giant octopus, and an evil whaling scheme.",
         "popularity": 3.947,
         "poster_path": "/tscmcvMs9T1TOjoMD7x12FveNsR.jpg",
         "release_date": "1999-01-01",
         "title": "The Legend of the Titanic",
         "video": false,
         "vote_average": 3.3,
         "vote_count": 32
        },
        {
         "adult": false,
         "backdrop_path": null,
         "genre_ids": [],
         "id": 760524,
         "original_language": "en",
         "original_title": "Titanic",
         "overview": "\"Titanic\" is a Punjabi feature film. It is family movie. \"Titanic\" is based on a young boy's life whose dreams are so high. He wants to join Indian Navy. Unfortunately his life completely changed due to week financial conditions at home. He starts his work at low level driving of Autoriksha. He works so hard and he faces many obstacles in this work. At the end he accepted that his vehicle is submarine for him.",
         "popularity": 3.269,
         "poster_path": null,
         "release_date": "2018-12-21",
         "title": "Titanic",
         "video": false,
         "vote_average": 0,
         "vote_count": 0
        },
        {
         "adult": false,
         "backdrop_path": "/v6kUC2dsDwSfhwCWdAgldXB7Knu.jpg",
         "genre_ids": [
          99,
          18,
          10770
         ],
         "id": 102370,
         "original_language": "en",
         "original_title": "Saving the Titanic",
         "overview": "In the hours after the Titanic struck an iceberg 100 years ago, a team of shipbuilders and engineers raced against time to save the stricken vessel.  Based on eye-witness accounts, this film reveals what went on below decks in the hours before the Titanic sank, telling the previously relatively unheralded stories of engineers who fought courageously to hold back the power of the sea and keep the power systems running, even when they learned that all was lost.  Most of these men died but their actions bought enough time to save many lives.  This drama-documentary tells a poignant story of self-sacrifice by the Titanic's engineers, stokers and firemen in the face of impending death.",
         "popularity": 3.957,
         "poster_path": "/gei8kg0KouyPJKUmxDwTNSnBUTV.jpg",
         "release_date": "2012-04-15",
         "title": "Saving the Titanic",
         "video": false,
         "vote_average": 7.3,
         "vote_count": 7
        },
        {
         "adult": false,
         "backdrop_path": null,
         "genre_ids": [
          10770,
          99
         ],
         "id": 463397,
         "original_language": "en",
         "original_title": "Nazi Titanic",
         "overview": "During a bizarre chapter of WWII, Nazi propaganda minister Joseph Goebbels decided to make a movie based on the sinking of the Titanic. This epic film was so large in scale that the Nazis were forced to divert men, material and ships from the war effort in order to complete it. Titanic was filmed aboard cruise ship SS Cap Arcona in the Baltic Sea. The movie’s director Herbert Selpin was arrested by the Gestapo over comments he made about the ship’s crew and he was questioned by Goebbels. Selpin was found dead the next day in his cell. The Gestapo’s verdict was suicide. Titanic never received the impressive premiere that Goebbels intended, being first shown in Nazi-occupied Paris in 1943. We reveal this little known but fascinating story by looking at the making of the film, as well as the fate of the German ship Cap Arcona.",
         "popularity": 2.958,
         "poster_path": "/pmCnVAP0dQumyDMgCnzEgnpMt1g.jpg",
         "release_date": "2012-04-14",
         "title": "Nazi Titanic",
         "video": false,
         "vote_average": 7,
         "vote_count": 3
        },
        {
         "adult": false,
         "backdrop_path": "/dxdN3RxJRVYzFxVSR0fNhSBqBSL.jpg",
         "genre_ids": [
          99
         ],
         "id": 682666,
         "original_language": "en",
         "original_title": "Back To The Titanic",
         "overview": "Back to the Titanic documents the first manned dives to Titanic in nearly 15 years. New footage reveals fresh decay and sheds light on the ship’s future.",
         "popularity": 3.365,
         "poster_path": "/wqa5qTTX547R9RIsiLbvQww1wkL.jpg",
         "release_date": "2020-02-23",
         "title": "Back To The Titanic",
         "video": false,
         "vote_average": 9,
         "vote_count": 3
        },
        {
         "adult": false,
         "backdrop_path": null,
         "genre_ids": [
          99
         ],
         "id": 889363,
         "original_language": "en",
         "original_title": "Titanic: Titanic Remembered",
         "overview": "British documentary takes a look at a few stories of the Titanic. Narrator/host Ray Johnson starts off talking about the actual sinking and then we break off into a few other subjects. Included are the various Titanic Societies from around the world and we get to meet a few of the people. They talk about why they're so fascinated with Titanic and tell a few of their personal stories.",
         "popularity": 1.4,
         "poster_path": "/h6BBFF6EaiQfrYgnf8bcjOhXui5.jpg",
         "release_date": "1998-01-01",
         "title": "Titanic: Titanic Remembered",
         "video": false,
         "vote_average": 0,
         "vote_count": 0
        },
        {
         "adult": false,
         "backdrop_path": "/9PolVogZuHd07JIPOPTDnFAFj1p.jpg",
         "genre_ids": [
          99
         ],
         "id": 489493,
         "original_language": "en",
         "original_title": "Titanic: 20 Years Later with James Cameron",
         "overview": "For the 20th anniversary of \"Titanic,\" James Cameron reopens the file on the disaster.",
         "popularity": 5.966,
         "poster_path": "/5w18P8qU9sHRcW6pH3NVGVVIKFw.jpg",
         "release_date": "2017-11-26",
         "title": "Titanic: 20 Years Later with James Cameron",
         "video": false,
         "vote_average": 6.4,
         "vote_count": 26
        }
       ],
       "total_pages": 7,
       "total_results": 139
      },
      "text/plain": [
       "<IPython.core.display.JSON object>"
      ]
     },
     "execution_count": 7,
     "metadata": {
      "application/json": {
       "expanded": false,
       "root": "root"
      }
     },
     "output_type": "execute_result"
    }
   ],
   "source": [
    "JSON(res.json())"
   ]
  },
  {
   "cell_type": "markdown",
   "metadata": {},
   "source": [
    "## Task\n",
    "Search for you favorite movie and return the information about the movie:\n",
    "- name\n",
    "- release date\n",
    "- runtime\n",
    "- revenue\n",
    "- length of the overview\n",
    "- number of votes\n",
    "- voting average"
   ]
  },
  {
   "cell_type": "code",
   "execution_count": 32,
   "metadata": {},
   "outputs": [],
   "source": [
    "query_movie = 'interstellar'\n",
    "params_movie = f'?query={query_movie}&api_key={api_key}' "
   ]
  },
  {
   "cell_type": "code",
   "execution_count": 36,
   "metadata": {},
   "outputs": [
    {
     "data": {
      "application/json": {
       "page": 1,
       "results": [
        {
         "adult": false,
         "backdrop_path": "/rAiYTfKGqDCRIIqo664sY9XZIvQ.jpg",
         "genre_ids": [
          12,
          18,
          878
         ],
         "id": 157336,
         "original_language": "en",
         "original_title": "Interstellar",
         "overview": "The adventures of a group of explorers who make use of a newly discovered wormhole to surpass the limitations on human space travel and conquer the vast distances involved in an interstellar voyage.",
         "popularity": 138.485,
         "poster_path": "/gEU2QniE6E77NI6lCU6MxlNBvIx.jpg",
         "release_date": "2014-11-05",
         "title": "Interstellar",
         "video": false,
         "vote_average": 8.4,
         "vote_count": 27773
        },
        {
         "adult": false,
         "backdrop_path": "/qpynYr3NPHkj1E7UKfd0OWJ2e2n.jpg",
         "genre_ids": [
          99
         ],
         "id": 301959,
         "original_language": "en",
         "original_title": "Interstellar: Nolan's Odyssey",
         "overview": "A look behind the lens of Christopher Nolan's space epic.",
         "popularity": 9.422,
         "poster_path": "/wUmyEjrLqYpJYjVMD2YR7IffFeE.jpg",
         "release_date": "2014-11-05",
         "title": "Interstellar: Nolan's Odyssey",
         "video": false,
         "vote_average": 7.7,
         "vote_count": 158
        },
        {
         "adult": false,
         "backdrop_path": "/wUZID3WzrzuIQmcIjXahZkV1ItI.jpg",
         "genre_ids": [
          878
         ],
         "id": 398188,
         "original_language": "en",
         "original_title": "Interstellar Wars",
         "overview": "For Millennia the Aliien force has watched and waited, a brooding menace that has now at last decided to take over the Earth. Communications systems worldwide are sent into chaos by a strange atmospheric interference and this has turned into a global phenomenon. A massive spaceship headed towards Earth and smaller spaceships began to cover entire cities around the world. Suddenly, the wonder turns into horror as the spaceships destroy the cities with energy weapons. When the world counterattacks, the alien ships are invincible to military weapons.  The survivors have to use their wits to kill the aliens, or die.",
         "popularity": 4.507,
         "poster_path": "/4uWZ8cdrXMLiyLNgdmqQCIM6z40.jpg",
         "release_date": "2016-06-09",
         "title": "Interstellar Wars",
         "video": false,
         "vote_average": 3.7,
         "vote_count": 10
        },
        {
         "adult": false,
         "backdrop_path": null,
         "genre_ids": [
          35
         ],
         "id": 287954,
         "original_language": "en",
         "original_title": "Lolita from Interstellar Space",
         "overview": "An undeniably beautiful alien is sent to Earth to study the complex mating rituals of human beings, which leads to the young interstellar traveler experiencing the passion that surrounds the centuries-old ritual of the species.",
         "popularity": 7.81,
         "poster_path": "/nhWlip1s5YzhRFKGlHABGJrBhZn.jpg",
         "release_date": "2014-03-08",
         "title": "Lolita from Interstellar Space",
         "video": false,
         "vote_average": 5.7,
         "vote_count": 6
        },
        {
         "adult": false,
         "backdrop_path": "/zjZmXyugypJ8aDc2WdybuG9cmoh.jpg",
         "genre_ids": [
          99
         ],
         "id": 336592,
         "original_language": "en",
         "original_title": "The Science of Interstellar",
         "overview": "Matthew McConaughey narrates a fascinating look at Christopher Nolan's sci-fi film Interstellar, including scientific foundations, the work of consulting Scientist Kip Thorne, basic film themes, the science behind the search for planets capable of hosting life, space-time and the theory of relativity, the science of wormholes and black holes, crafting the film's visuals based on real scientific observation, the birth of the universe, the Dust Bowl and the evolution of dust as a toxin, the likelihood of future dust storms, the prospects of escaping a dying or doomed planet, and the possibilities of colonizing Mars.",
         "popularity": 5.134,
         "poster_path": "/qUZiVjFBd67WKktIrjJ9H3tesyo.jpg",
         "release_date": "2014-11-25",
         "title": "The Science of Interstellar",
         "video": false,
         "vote_average": 7,
         "vote_count": 20
        },
        {
         "adult": false,
         "backdrop_path": "/lQS9il7YqGjmmBefZY27uG5wbzT.jpg",
         "genre_ids": [
          99
         ],
         "id": 660698,
         "original_language": "en",
         "original_title": "Faster Than Light: the Dream of Interstellar Flight",
         "overview": "“Faster Than Light” explores the longstanding quest to develop spacecraft with enough power and speed to reach the stars. The film asks: What will it take to reach a newly discovered planet circling our Sun’s nearest neighbor, Proxima Centauri? Based on real science and engineering, “Faster Than Light” takes audiences on a thrilling journey into the future, aboard laser-driven space sails, antimatter engines, and even warp drive – right out of science fiction. “Who can say how far, and how fast, our technology will one day take us?” said director Thomas Lucas.",
         "popularity": 16.136,
         "poster_path": "/mbgJxB70uMFK2H8DXHUj5lAMgXx.jpg",
         "release_date": "2017-06-07",
         "title": "Faster Than Light: the Dream of Interstellar Flight",
         "video": false,
         "vote_average": 6,
         "vote_count": 1
        },
        {
         "adult": false,
         "backdrop_path": null,
         "genre_ids": [
          99
         ],
         "id": 529107,
         "original_language": "en",
         "original_title": "Inside Interstellar",
         "overview": "Cast and crew of Christopher Nolan's 'Interstellar' discuss project origins, the film's imagery, ambitions, incorporating IMAX footage, the human element within the film, arm shooting locations outside of Calgary, the set construction and design, working with real corn, mechanical characters, including backstory, design, the blend of practical and digital effects in bringing them to life, the differences in the characters, the human performances behind the characters, the creative process behind the film's music, Icelandic locations, vehicle interiors, the processes of simulating the absence of gravity, the crucial end-film visuals and influence and inspiration for future generations",
         "popularity": 2.572,
         "poster_path": "/vemBplPKQhVe5cRWL7kxtgp15Vq.jpg",
         "release_date": "2015-03-31",
         "title": "Inside Interstellar",
         "video": false,
         "vote_average": 6.6,
         "vote_count": 8
        },
        {
         "adult": false,
         "backdrop_path": null,
         "genre_ids": [],
         "id": 838389,
         "original_language": "en",
         "original_title": "Interstellar: Desgornia's Cut",
         "overview": "A team of explorers travel through a wormhole in space in an attempt to ensure humanity's survival.",
         "popularity": 1.093,
         "poster_path": "/geOB25wA6VHSlANpJ1UMyuokjJl.jpg",
         "release_date": "",
         "title": "Interstellar: Desgornia's Cut",
         "video": false,
         "vote_average": 0,
         "vote_count": 0
        },
        {
         "adult": false,
         "backdrop_path": null,
         "genre_ids": [
          28,
          14,
          878
         ],
         "id": 460616,
         "original_language": "en",
         "original_title": "Interstellar Civil War: Shadows of the Empire",
         "overview": "The Imperial Empire is attacked by an Alliance of rebels led by fanatical mystics. The ruler, Empress Nobu, the 8th generation of her family, wants to execute a bold plan to rescue a cyborg, Leah C6, trapped on the battle ravaged planet Endor. The Empress believes Leah C6 holds the secret to destroying the Alliance of Rebels before their insurgency can kill millions of citizens of the Empire. She recruits her heroic fleet commander, Lord General Luka Raan and asks him to gather a team from the Empire's elite soldiers, the Galactic Rangers. Raan assembles the team in the ruins of Endor which was attacked by depraved Rebels and outlaws led by, Kindo-Ker, a fanatical mystic in Dark Energy. The Galactic Rangers begin a desperate search to find and rescue Leah C6 before the Alliance Rebels can.",
         "popularity": 1.487,
         "poster_path": "/1lDY7ZpEKOl3OaIQURjRbmFPfT8.jpg",
         "release_date": "2018-04-15",
         "title": "Interstellar Civil War: Shadows of the Empire",
         "video": false,
         "vote_average": 4,
         "vote_count": 1
        },
        {
         "adult": false,
         "backdrop_path": null,
         "genre_ids": [
          12
         ],
         "id": 552531,
         "original_language": "en",
         "original_title": "The Prom Goer's Interstellar Excursion",
         "overview": "High schooler Bennett lands the prom date of his dreams, Sophie, just days before the dance. Not long after, he witnesses Sophie being abducted by aliens in the middle of the New Mexico desert.",
         "popularity": 0.6,
         "poster_path": null,
         "release_date": "",
         "title": "The Prom Goer's Interstellar Excursion",
         "video": false,
         "vote_average": 0,
         "vote_count": 0
        },
        {
         "adult": false,
         "backdrop_path": "/jiD3YVlYyOqcIgLXGn1W7r0rL7p.jpg",
         "genre_ids": [
          16,
          878,
          10402,
          12
         ],
         "id": 11049,
         "original_language": "ja",
         "original_title": "Interstella 5555: The 5tory of the 5ecret 5tar 5ystem",
         "overview": "Four talented alien musicians are kidnapped by a record producer who disguises them as humans. Shep, a space pilot in love with bass player Stella, follows them to Earth. Reprogrammed to forget their real identities and renamed The Crescendolls, the group quickly becomes a huge success playing soulless corporate pop. At a concert, Shep manages to free all the musicians except Stella, and the band sets out to rediscover who they really are -- and to rescue Stella.",
         "popularity": 12.253,
         "poster_path": "/AsvPgdcSlHocAbMp3yGZXjPiKKF.jpg",
         "release_date": "2003-05-28",
         "title": "Interstella 5555: The 5tory of the 5ecret 5tar 5ystem",
         "video": false,
         "vote_average": 7.9,
         "vote_count": 303
        },
        {
         "adult": false,
         "backdrop_path": null,
         "genre_ids": [
          35,
          18
         ],
         "id": 716603,
         "original_language": "en",
         "original_title": "Only Interstellar Pinball Lives Forever",
         "overview": "A young boy (played by an actual re-purposed Sunday school puppet) loses all faith in religion and afterlife options after having to bury his umpteenth pet, and vows that someday, when he's an adult with money, he'll find a way to become an 'eternal molecule' through science. Then, twenty-two years later, the playing of a pinball game brings dredges up the memory of that vow. Utilizing the hallucinogenic properties of alcohol and cough syrup blends, he undertakes the design of a pinball machine so poignant and dignified that it will convince scientists to create a pinball that we can download our consciousness into and thereby become digitally immortal.",
         "popularity": 0.6,
         "poster_path": "/uLJMGZlrkmvAO9Ria9zrp8GUqjx.jpg",
         "release_date": "2010-06-28",
         "title": "Only Interstellar Pinball Lives Forever",
         "video": false,
         "vote_average": 0,
         "vote_count": 0
        },
        {
         "adult": false,
         "backdrop_path": null,
         "genre_ids": [],
         "id": 763179,
         "original_language": "en",
         "original_title": "Cosmic Journey: The Voyager Interstellar Mission and Message",
         "overview": "The farthest Voyager: \"Cosmic Journey,\" a documentary premiering on the A&E cable network, tells the saga of the farthest-flung space journey to date - the Voyager interstellar mission, which started out 25 years ago and sailed past Jupiter, Saturn, Uranus and Neptune in the 1980s.",
         "popularity": 0.6,
         "poster_path": null,
         "release_date": "2003-01-16",
         "title": "Cosmic Journey: The Voyager Interstellar Mission and Message",
         "video": false,
         "vote_average": 0,
         "vote_count": 0
        },
        {
         "adult": false,
         "backdrop_path": null,
         "genre_ids": [
          28
         ],
         "id": 649745,
         "original_language": "zh",
         "original_title": "星际流浪",
         "overview": "The film tells that the catastrophe era, the earth is a waste land, the survivors are divided into wanderers and civilians, they are attached to the rule of the interstellar armed groups, in which the rogues rely on the plundering of civilian materials as a livelihood, making civilians in this harsh It is difficult to survive in the environment. After a hundred years of black technology explosion, it will bring about a civilized renaissance. In the face of the deteriorating planet, mankind is determined to continue the race and is determined to interstellar immigration. The \"curvature engine\" developed by the Chinese researcher Hailei has become the key to the interstellar immigration, and is also the target of robbers and interstellar armed groups.",
         "popularity": 0.685,
         "poster_path": "/oUWDbde5bWu9syBZglWDIwB1SPm.jpg",
         "release_date": "2019-08-02",
         "title": "Interstellar Wandering",
         "video": false,
         "vote_average": 0,
         "vote_count": 0
        },
        {
         "adult": false,
         "backdrop_path": null,
         "genre_ids": [
          878
         ],
         "id": 261443,
         "original_language": "en",
         "original_title": "Angry Planet",
         "overview": "A criminal sentenced to life on a prison planet reveals his true purpose: to extract revenge on the killers who murdered his family.",
         "popularity": 1.874,
         "poster_path": "/6Bv0rl9R5gaN8X58LOjUT4MWKR7.jpg",
         "release_date": "2008-01-01",
         "title": "Angry Planet",
         "video": false,
         "vote_average": 4.5,
         "vote_count": 1
        },
        {
         "adult": false,
         "backdrop_path": null,
         "genre_ids": [],
         "id": 772265,
         "original_language": "zh",
         "original_title": "星际变种",
         "overview": "After long years of searching, the unknown creature was finally captured by the crew of the Thunder and named \"Baal\". Under the lure of Baal, the young Jamie released it. \"Baal\" who escaped from the experimental tank killed all the crew and Jamie's parents, and the young Jamie escaped back to Earth in an escape capsule alone. Twenty years later, a variant of \"Baal\" appeared on the earth, and Jamie began the story of the journey to save mankind and self-redemption",
         "popularity": 0.6,
         "poster_path": "/mMidfcVVaESbYdF9Tzgejp3FvPR.jpg",
         "release_date": "",
         "title": "Variant",
         "video": false,
         "vote_average": 0,
         "vote_count": 0
        },
        {
         "adult": false,
         "backdrop_path": "/yl9QqtS3tbLCL4e6lHM349joALK.jpg",
         "genre_ids": [
          28,
          53,
          878
         ],
         "id": 47663,
         "original_language": "en",
         "original_title": "Trancers 5: Sudden Deth",
         "overview": "Jack Deth is back for one more round with the trancers. Jack must attempt to find his way home from the other-dimensional world of Orpheus, where magic works and the trancers were the ruling class (before Trancers IV, that is). Unfortunately, Jack's quest to find the mystical Tiamond in the Castle of Unrelenting Terror may be thwarted by the return of Caliban, king of the trancers who was thought dead.",
         "popularity": 1.379,
         "poster_path": "/5GAZiudrdVhMaHeAhsvhqqZJoDU.jpg",
         "release_date": "1994-11-04",
         "title": "Trancers 5: Sudden Deth",
         "video": false,
         "vote_average": 4.9,
         "vote_count": 14
        },
        {
         "adult": false,
         "backdrop_path": "/aPXNyG6035Wz2DhtGAgf7PeGNsz.jpg",
         "genre_ids": [
          878,
          28
         ],
         "id": 47662,
         "original_language": "en",
         "original_title": "Trancers 4: Jack of Swords",
         "overview": "Jack is now back in the future. He had since lost Lena, and finds out that he's lost his other wife Alice to none other than Harris. While heading out for another assignment, something goes awry with the TCL chamber. Jack finds himself in a whole new dimension. He also runs across a different version of trancers. These guys seem to be in control of this planet. Jack manages to assist a rebel group known as the \"Tunnel Rats\" crush the rule of the evil Lord Calaban.",
         "popularity": 2.078,
         "poster_path": "/4CHtO9dUHm9kkmQxvx8pCq4vIi0.jpg",
         "release_date": "1994-02-02",
         "title": "Trancers 4: Jack of Swords",
         "video": false,
         "vote_average": 5.1,
         "vote_count": 17
        }
       ],
       "total_pages": 1,
       "total_results": 18
      },
      "text/plain": [
       "<IPython.core.display.JSON object>"
      ]
     },
     "execution_count": 36,
     "metadata": {
      "application/json": {
       "expanded": false,
       "root": "root"
      }
     },
     "output_type": "execute_result"
    }
   ],
   "source": [
    "# search for given movie from API; extract movie_id for next step\n",
    "res_movie = re.get(base+url_movie+params_movie)\n",
    "\n",
    "JSON(res_movie.json())"
   ]
  },
  {
   "cell_type": "code",
   "execution_count": 56,
   "metadata": {},
   "outputs": [
    {
     "data": {
      "text/plain": [
       "33"
      ]
     },
     "execution_count": 56,
     "metadata": {},
     "output_type": "execute_result"
    }
   ],
   "source": [
    "overview = res_movie.json()['results'][0]['overview']\n",
    "len(overview.split())"
   ]
  },
  {
   "cell_type": "code",
   "execution_count": 37,
   "metadata": {},
   "outputs": [
    {
     "data": {
      "application/json": {
       "adult": false,
       "backdrop_path": "/rAiYTfKGqDCRIIqo664sY9XZIvQ.jpg",
       "belongs_to_collection": null,
       "budget": 165000000,
       "genres": [
        {
         "id": 12,
         "name": "Adventure"
        },
        {
         "id": 18,
         "name": "Drama"
        },
        {
         "id": 878,
         "name": "Science Fiction"
        }
       ],
       "homepage": "http://www.interstellarmovie.net/",
       "id": 157336,
       "imdb_id": "tt0816692",
       "original_language": "en",
       "original_title": "Interstellar",
       "overview": "The adventures of a group of explorers who make use of a newly discovered wormhole to surpass the limitations on human space travel and conquer the vast distances involved in an interstellar voyage.",
       "popularity": 138.485,
       "poster_path": "/gEU2QniE6E77NI6lCU6MxlNBvIx.jpg",
       "production_companies": [
        {
         "id": 923,
         "logo_path": "/5UQsZrfbfG2dYJbx8DxfoTr2Bvu.png",
         "name": "Legendary Pictures",
         "origin_country": "US"
        },
        {
         "id": 9996,
         "logo_path": "/3tvBqYsBhxWeHlu62SIJ1el93O7.png",
         "name": "Syncopy",
         "origin_country": "GB"
        },
        {
         "id": 13769,
         "logo_path": null,
         "name": "Lynda Obst Productions",
         "origin_country": ""
        }
       ],
       "production_countries": [
        {
         "iso_3166_1": "GB",
         "name": "United Kingdom"
        },
        {
         "iso_3166_1": "US",
         "name": "United States of America"
        }
       ],
       "release_date": "2014-11-05",
       "revenue": 701729206,
       "runtime": 169,
       "spoken_languages": [
        {
         "english_name": "English",
         "iso_639_1": "en",
         "name": "English"
        }
       ],
       "status": "Released",
       "tagline": "Mankind was born on Earth. It was never meant to die here.",
       "title": "Interstellar",
       "video": false,
       "vote_average": 8.4,
       "vote_count": 27776
      },
      "text/plain": [
       "<IPython.core.display.JSON object>"
      ]
     },
     "execution_count": 37,
     "metadata": {
      "application/json": {
       "expanded": false,
       "root": "root"
      }
     },
     "output_type": "execute_result"
    }
   ],
   "source": [
    "# request for more detailed info with movie_id  \n",
    "interstellar = re.get(f'https://api.themoviedb.org/3/movie/157336?api_key={api_key}').json()\n",
    "\n",
    "JSON(interstellar)"
   ]
  },
  {
   "cell_type": "code",
   "execution_count": null,
   "metadata": {},
   "outputs": [],
   "source": []
  },
  {
   "cell_type": "markdown",
   "metadata": {},
   "source": [
    "## Task\n",
    "Search for you favorite actor/actress and return the information about him/her:\n",
    "- name\n",
    "- date of birth\n",
    "- place of birth\n",
    "- length of the biography"
   ]
  },
  {
   "cell_type": "code",
   "execution_count": 38,
   "metadata": {},
   "outputs": [],
   "source": [
    "url_actress = \"/search/person\"\n",
    "query_actress = 'jennifer lawrence'\n",
    "params_actress = f'?query={query_actress}&api_key={api_key}' "
   ]
  },
  {
   "cell_type": "code",
   "execution_count": 41,
   "metadata": {},
   "outputs": [
    {
     "data": {
      "application/json": {
       "page": 1,
       "results": [
        {
         "adult": false,
         "gender": 1,
         "id": 72129,
         "known_for": [
          {
           "adult": false,
           "backdrop_path": "/aIH9Cf1p0BCMAH7ijYWLvWCmVEr.jpg",
           "genre_ids": [
            878,
            12,
            14
           ],
           "id": 70160,
           "media_type": "movie",
           "original_language": "en",
           "original_title": "The Hunger Games",
           "overview": "Every year in the ruins of what was once North America, the nation of Panem forces each of its twelve districts to send a teenage boy and girl to compete in the Hunger Games.  Part twisted entertainment, part government intimidation tactic, the Hunger Games are a nationally televised event in which “Tributes” must fight with one another until one survivor remains.  Pitted against highly-trained Tributes who have prepared for these Games their entire lives, Katniss is forced to rely upon her sharp instincts as well as the mentorship of drunken former victor Haymitch Abernathy.  If she’s ever to return home to District 12, Katniss must make impossible choices in the arena that weigh survival against humanity and life against love. The world will be watching.",
           "poster_path": "/iQK0pkTQC60XR3Zlu2pp8kujoqW.jpg",
           "release_date": "2012-03-12",
           "title": "The Hunger Games",
           "video": false,
           "vote_average": 7.2,
           "vote_count": 18834
          },
          {
           "adult": false,
           "backdrop_path": "/k3lx69sRhlFZOQBPDRc52dZC4tn.jpg",
           "genre_ids": [
            12,
            28,
            878
           ],
           "id": 101299,
           "media_type": "movie",
           "original_language": "en",
           "original_title": "The Hunger Games: Catching Fire",
           "overview": "Katniss Everdeen has returned home safe after winning the 74th Annual Hunger Games along with fellow tribute Peeta Mellark. Winning means that they must turn around and leave their family and close friends, embarking on a \"Victor's Tour\" of the districts. Along the way Katniss senses that a rebellion is simmering, but the Capitol is still very much in control as President Snow prepares the 75th Annual Hunger Games (The Quarter Quell) - a competition that could change Panem forever.",
           "poster_path": "/xLOTc1DEMJseC2rGCk88Bjggg06.jpg",
           "release_date": "2013-11-15",
           "title": "The Hunger Games: Catching Fire",
           "video": false,
           "vote_average": 7.4,
           "vote_count": 14655
          },
          {
           "adult": false,
           "backdrop_path": "/tFlSDoWQsAZ2qjICKzfP5Yw6zM5.jpg",
           "genre_ids": [
            878,
            12,
            53
           ],
           "id": 131631,
           "media_type": "movie",
           "original_language": "en",
           "original_title": "The Hunger Games: Mockingjay - Part 1",
           "overview": "Katniss Everdeen reluctantly becomes the symbol of a mass rebellion against the autocratic Capitol.",
           "poster_path": "/4FAA18ZIja70d1Tu5hr5cj2q1sB.jpg",
           "release_date": "2014-11-19",
           "title": "The Hunger Games: Mockingjay - Part 1",
           "video": false,
           "vote_average": 6.8,
           "vote_count": 13304
          }
         ],
         "known_for_department": "Acting",
         "name": "Jennifer Lawrence",
         "popularity": 24.969,
         "profile_path": "/hvMB8ItfetI8baJJ15XgI4gITqf.jpg"
        },
        {
         "adult": false,
         "gender": 1,
         "id": 1804307,
         "known_for": [
          {
           "adult": false,
           "backdrop_path": "/eHWkqOG6m2IUcr123l5TrSJmCrS.jpg",
           "genre_ids": [
            35,
            10749
           ],
           "id": 454585,
           "media_type": "movie",
           "original_language": "en",
           "original_title": "Excess Baggage",
           "overview": "Scott spends his days teaching at Space Defender camp, frustrated that he can't seem to find a woman with no baggage. His best friend Jake is no help, despite offering him his own brand of wisdom and truth.  Scott meets Jessica who is seemingly the perfect woman - brains, beauty and a sci-fi nerd. When Scott learns the truth about Jessica's past he is forced to rethink his long held relationship rules in favor of accepting someone for who they are ... and maybe even himself.",
           "poster_path": "/uIV3V5wKXYYjtybO9wkZy4njx9h.jpg",
           "release_date": "2015-12-04",
           "title": "Excess Baggage",
           "video": false,
           "vote_average": 2,
           "vote_count": 1
          },
          {
           "adult": false,
           "backdrop_path": null,
           "genre_ids": [
            27
           ],
           "id": 810045,
           "media_type": "movie",
           "original_language": "en",
           "original_title": "Shortcuts to Hell: Volume 1",
           "overview": "An anthology film featuring 26 short horror tales by up-and-coming UK filmmakers.",
           "poster_path": "/1q1NDBWblU8N6ltAEBbgrdZuM3I.jpg",
           "release_date": "2013-08-23",
           "title": "Shortcuts to Hell: Volume 1",
           "video": false,
           "vote_average": 0,
           "vote_count": 0
          }
         ],
         "known_for_department": "Acting",
         "name": "Taylor Lawrence",
         "popularity": 0.6,
         "profile_path": "/8lvuBGibfQDcuWxIyKVlCa5b4rs.jpg"
        }
       ],
       "total_pages": 1,
       "total_results": 2
      },
      "text/plain": [
       "<IPython.core.display.JSON object>"
      ]
     },
     "execution_count": 41,
     "metadata": {
      "application/json": {
       "expanded": false,
       "root": "root"
      }
     },
     "output_type": "execute_result"
    }
   ],
   "source": [
    "res_actress = re.get(base+url_actress+params_actress)\n",
    "\n",
    "JSON(res_actress.json())"
   ]
  },
  {
   "cell_type": "code",
   "execution_count": 45,
   "metadata": {},
   "outputs": [
    {
     "data": {
      "application/json": {
       "adult": false,
       "also_known_as": [
        "Jennifer Shrader Lawrence",
        "제니퍼 로렌스",
        "ジェニファー・ローレンス",
        "جينيفر لورنس",
        "เจนนิเฟอร์ ลอว์เรนซ์",
        "珍妮佛·勞倫斯",
        "Џенифер Лоренс",
        "ჯენიფერ ლოურენსი",
        "Τζένιφερ Σρέιντερ Λόρενς",
        "Τζένιφερ Λόρενς",
        "جنیفر لارنیس",
        "Дженніфер Лоренс",
        "Дженнифер Лоуренс"
       ],
       "biography": "Jennifer Shrader Lawrence (born August 15, 1990) is an American actress. The world's highest-paid actress in 2015 and 2016, her films have grossed over $6 billion worldwide to date. She appeared in Time's 100 most influential people in the world list in 2013 and the Forbes Celebrity 100 list from 2013 to 2016.\n\nDuring childhood, Lawrence performed in church plays and school musicals. At 14, she was spotted by a talent scout while vacationing in New York City with her family. She moved to Los Angeles and began her acting career in guest roles on television. Her first major role was that of a main cast member on the sitcom The Bill Engvall Show (2007–2009). She made her film debut in a supporting role in the drama Garden Party (2008), and had her breakthrough playing Ree Dolly, a poverty-stricken teenage girl, in the coming-of-age independent mystery drama Winter's Bone (2010). Lawrence's career progressed with starring roles as the mutant Mystique in the X-Men film series (2011–2019) and Katniss Everdeen in The Hunger Games film series (2012–2015). The latter made her the highest-grossing action heroine of all time.\n\nLawrence has received a number of accolades for various films, including her three collaborations with filmmaker David O. Russell. Her performance as a young widow with an unnamed mental disorder in the romance film Silver Linings Playbook (2012) won her the Academy Award for Best Actress, making her the second-youngest Best Actress winner at 22. She won the BAFTA Award for Best Actress in a Supporting Role for playing an unpredictable wife in the black comedy American Hustle (2013). Lawrence also received Golden Globe Awards for both of these films, and for her portrayal of businesswoman Joy Mangano in the biopic Joy (2015). A series of negatively reviewed films, including Passengers (2016) and Red Sparrow (2018), and the subsequent media scrutiny of her choices of roles led to a small break from acting. She returned in 2021 with the satirical black comedy Don't Look Up.",
       "birthday": "1990-08-15",
       "deathday": null,
       "gender": 1,
       "homepage": "http://jenniferlawrencefoundation.com",
       "id": 72129,
       "imdb_id": "nm2225369",
       "known_for_department": "Acting",
       "name": "Jennifer Lawrence",
       "place_of_birth": "Indian Hills, Kentucky, USA",
       "popularity": 24.969,
       "profile_path": "/hvMB8ItfetI8baJJ15XgI4gITqf.jpg"
      },
      "text/plain": [
       "<IPython.core.display.JSON object>"
      ]
     },
     "execution_count": 45,
     "metadata": {
      "application/json": {
       "expanded": false,
       "root": "root"
      }
     },
     "output_type": "execute_result"
    }
   ],
   "source": [
    "fav_actress = re.get(f'https://api.themoviedb.org/3/person/72129?api_key={api_key}').json()\n",
    "\n",
    "JSON(fav_actress)"
   ]
  },
  {
   "cell_type": "code",
   "execution_count": null,
   "metadata": {},
   "outputs": [],
   "source": []
  },
  {
   "cell_type": "markdown",
   "metadata": {},
   "source": [
    "## Task\n",
    "Search for you favorite tv-show and return the information about it:\n",
    "- name\n",
    "- first air date\n",
    "- number of seasons\n",
    "- number of episodes\n",
    "- genres"
   ]
  },
  {
   "cell_type": "code",
   "execution_count": 48,
   "metadata": {},
   "outputs": [],
   "source": [
    "url_tv = \"/search/tv\"\n",
    "query_tv = 'Breaking Bad'\n",
    "params_tv = f'?query={query_tv}&api_key={api_key}' "
   ]
  },
  {
   "cell_type": "code",
   "execution_count": 49,
   "metadata": {},
   "outputs": [
    {
     "data": {
      "application/json": {
       "page": 1,
       "results": [
        {
         "backdrop_path": "/tsRy63Mu5cu8etL1X7ZLyf7UP1M.jpg",
         "first_air_date": "2008-01-20",
         "genre_ids": [
          18
         ],
         "id": 1396,
         "name": "Breaking Bad",
         "origin_country": [
          "US"
         ],
         "original_language": "en",
         "original_name": "Breaking Bad",
         "overview": "When Walter White, a New Mexico chemistry teacher, is diagnosed with Stage III cancer and given a prognosis of only two years left to live. He becomes filled with a sense of fearlessness and an unrelenting desire to secure his family's financial future at any cost as he enters the dangerous world of drugs and crime.",
         "popularity": 426.672,
         "poster_path": "/ggFHVNu6YYI5L9pCfOacjizRGt.jpg",
         "vote_average": 8.8,
         "vote_count": 8260
        }
       ],
       "total_pages": 1,
       "total_results": 1
      },
      "text/plain": [
       "<IPython.core.display.JSON object>"
      ]
     },
     "execution_count": 49,
     "metadata": {
      "application/json": {
       "expanded": false,
       "root": "root"
      }
     },
     "output_type": "execute_result"
    }
   ],
   "source": [
    "res_tv = re.get(base+url_tv+params_tv)\n",
    "\n",
    "JSON(res_tv.json())"
   ]
  },
  {
   "cell_type": "code",
   "execution_count": 51,
   "metadata": {},
   "outputs": [
    {
     "data": {
      "application/json": {
       "adult": false,
       "backdrop_path": "/tsRy63Mu5cu8etL1X7ZLyf7UP1M.jpg",
       "created_by": [
        {
         "credit_id": "52542286760ee31328001a7b",
         "gender": 2,
         "id": 66633,
         "name": "Vince Gilligan",
         "profile_path": "/uFh3OrBvkwKSU3N5y0XnXOhqBJz.jpg"
        }
       ],
       "episode_run_time": [
        45,
        47
       ],
       "first_air_date": "2008-01-20",
       "genres": [
        {
         "id": 18,
         "name": "Drama"
        }
       ],
       "homepage": "http://www.amc.com/shows/breaking-bad",
       "id": 1396,
       "in_production": false,
       "languages": [
        "en"
       ],
       "last_air_date": "2013-09-29",
       "last_episode_to_air": {
        "air_date": "2013-09-29",
        "episode_number": 16,
        "id": 62161,
        "name": "Felina",
        "overview": "All bad things must come to an end.",
        "production_code": "",
        "season_number": 5,
        "still_path": "/pA0YwyhvdDXP3BEGL2grrIhq8aM.jpg",
        "vote_average": 9.2,
        "vote_count": 123
       },
       "name": "Breaking Bad",
       "networks": [
        {
         "id": 174,
         "logo_path": "/pmvRmATOCaDykE6JrVoeYxlFHw3.png",
         "name": "AMC",
         "origin_country": "US"
        }
       ],
       "next_episode_to_air": null,
       "number_of_episodes": 62,
       "number_of_seasons": 5,
       "origin_country": [
        "US"
       ],
       "original_language": "en",
       "original_name": "Breaking Bad",
       "overview": "When Walter White, a New Mexico chemistry teacher, is diagnosed with Stage III cancer and given a prognosis of only two years left to live. He becomes filled with a sense of fearlessness and an unrelenting desire to secure his family's financial future at any cost as he enters the dangerous world of drugs and crime.",
       "popularity": 426.672,
       "poster_path": "/ggFHVNu6YYI5L9pCfOacjizRGt.jpg",
       "production_companies": [
        {
         "id": 11073,
         "logo_path": "/wHs44fktdoj6c378ZbSWfzKsM2Z.png",
         "name": "Sony Pictures Television Studios",
         "origin_country": "US"
        },
        {
         "id": 33742,
         "logo_path": null,
         "name": "High Bridge Entertainment",
         "origin_country": "US"
        },
        {
         "id": 2605,
         "logo_path": null,
         "name": "Gran Via Productions",
         "origin_country": "US"
        }
       ],
       "production_countries": [
        {
         "iso_3166_1": "US",
         "name": "United States of America"
        }
       ],
       "seasons": [
        {
         "air_date": "2009-02-17",
         "episode_count": 11,
         "id": 3577,
         "name": "Specials",
         "overview": "",
         "poster_path": "/m3unpoM9s5XPcu3RAQzbxLBawka.jpg",
         "season_number": 0
        },
        {
         "air_date": "2008-01-20",
         "episode_count": 7,
         "id": 3572,
         "name": "Season 1",
         "overview": "High school chemistry teacher Walter White's life is suddenly transformed by a dire medical diagnosis. Street-savvy former student Jesse Pinkman \"teaches\" Walter a new trade.",
         "poster_path": "/1BP4xYv9ZG4ZVHkL7ocOziBbSYH.jpg",
         "season_number": 1
        },
        {
         "air_date": "2009-03-08",
         "episode_count": 13,
         "id": 3573,
         "name": "Season 2",
         "overview": "In the second season, Walt must deal with the chain reaction of his choice, as he and Jesse face new and severe consequences. When danger and suspicion around Walt escalate, he is pushed to new levels of desperation. Just how much higher will the stakes rise? How far is Walt willing to go to ensure his family's security? Will his grand plan spiral out of control?",
         "poster_path": "/e3oGYpoTUhOFK0BJfloru5ZmGV.jpg",
         "season_number": 2
        },
        {
         "air_date": "2010-03-21",
         "episode_count": 13,
         "id": 3575,
         "name": "Season 3",
         "overview": "In the third season, Walt continues to battle dueling identities: a desperate husband and father trying to provide for his family, and a newly appointed key player in the Albuquerque drug trade. As the danger around him escalates, Walt is now entrenched in the complex worlds of an angst-ridden family on the verge of dissolution, and the ruthless and unrelenting drug cartel.",
         "poster_path": "/ffP8Q8ew048YofHRnFVM18B2fPG.jpg",
         "season_number": 3
        },
        {
         "air_date": "2011-07-17",
         "episode_count": 13,
         "id": 3576,
         "name": "Season 4",
         "overview": "This season, Walt and Jesse must cope with the fallout of their previous actions, both personally and professionally. Tension mounts as Walt faces a true standoff with his employer, Gus, with neither side willing or able to back down. Walt must also adjust to a new relationship with Skyler, whom while still reconciling her relationship with Walt, is committed to properly laundering Walt’s money and ensuring her sister Marie and an ailing Hank are financially stable.",
         "poster_path": "/5ewrnKp4TboU4hTLT5cWO350mHj.jpg",
         "season_number": 4
        },
        {
         "air_date": "2012-07-15",
         "episode_count": 16,
         "id": 3578,
         "name": "Season 5",
         "overview": "In season five, Walt is faced with the prospect of moving on in a world without his enemy. As the pressure of a criminal life starts to build, Skyler struggles to keep Walt’s terrible secrets. Facing resistance from sometime adversary and former Fring lieutenant Mike, Walt tries to keep his world from falling apart even as his DEA Agent brother in law, Hank, finds numerous leads that could blaze a path straight to Walt. \n\nAll bad things must come to an end.",
         "poster_path": "/r3z70vunihrAkjILQKWHX0G2xzO.jpg",
         "season_number": 5
        }
       ],
       "spoken_languages": [
        {
         "english_name": "English",
         "iso_639_1": "en",
         "name": "English"
        }
       ],
       "status": "Ended",
       "tagline": "Remember my name",
       "type": "Scripted",
       "vote_average": 8.8,
       "vote_count": 8262
      },
      "text/plain": [
       "<IPython.core.display.JSON object>"
      ]
     },
     "execution_count": 51,
     "metadata": {
      "application/json": {
       "expanded": false,
       "root": "root"
      }
     },
     "output_type": "execute_result"
    }
   ],
   "source": [
    "fav_tv = re.get(f'https://api.themoviedb.org/3/tv/1396?api_key={api_key}').json()\n",
    "\n",
    "JSON(fav_tv)"
   ]
  },
  {
   "cell_type": "markdown",
   "metadata": {},
   "source": [
    "## Task \n",
    "Find top 5 trending:\n",
    "- movies\n",
    "- tv-shows\n",
    "- people"
   ]
  },
  {
   "cell_type": "code",
   "execution_count": 19,
   "metadata": {},
   "outputs": [],
   "source": [
    "# Get the daily or weekly trending items.\n",
    "def trending(media_type: str, time_window: str):\n",
    "    \"\"\"\n",
    "    media_type: type(str) valid media types including 'all', 'movie', 'tv', 'person'\n",
    "    time_window: type(str) 'day' or 'week'\n",
    "    return\n",
    "    \"\"\"\n",
    "    \n",
    "    url_trend = base + f'/trending/{media_type}/{time_window}?api_key={api_key}'\n",
    "    res_trend = re.get(url_trend).json()\n",
    "      \n",
    "    return res_trend"
   ]
  },
  {
   "cell_type": "code",
   "execution_count": 20,
   "metadata": {},
   "outputs": [
    {
     "data": {
      "application/json": {
       "page": 1,
       "results": [
        {
         "adult": false,
         "backdrop_path": "/iQFcwSGbZXMkeyKrxbPnwnRo5fl.jpg",
         "genre_ids": [
          28,
          12,
          878
         ],
         "id": 634649,
         "media_type": "movie",
         "original_language": "en",
         "original_title": "Spider-Man: No Way Home",
         "overview": "Peter Parker is unmasked and no longer able to separate his normal life from the high-stakes of being a super-hero. When he asks for help from Doctor Strange the stakes become even more dangerous, forcing him to discover what it truly means to be Spider-Man.",
         "popularity": 9972.882,
         "poster_path": "/1g0dhYtq4irTY1GPXvft6k4YLjm.jpg",
         "release_date": "2021-12-15",
         "title": "Spider-Man: No Way Home",
         "video": false,
         "vote_average": 8.4,
         "vote_count": 7478
        },
        {
         "adult": false,
         "backdrop_path": "/oQPbZ5e6J9fuAyv4Gl0mMZMIyPI.jpg",
         "genre_ids": [
          28,
          12,
          53,
          10752
         ],
         "id": 476669,
         "media_type": "movie",
         "original_language": "en",
         "original_title": "The King's Man",
         "overview": "As a collection of history's worst tyrants and criminal masterminds gather to plot a war to wipe out millions, one man must race against time to stop them.",
         "popularity": 922.484,
         "poster_path": "/nj5HmHRZsrYQEYYXyAusFv35erP.jpg",
         "release_date": "2021-12-22",
         "title": "The King's Man",
         "video": false,
         "vote_average": 7,
         "vote_count": 583
        },
        {
         "adult": false,
         "backdrop_path": "/jdLsmpqmP1wTdFUPtmxMnYgoifT.jpg",
         "genre_ids": [
          18,
          80,
          53
         ],
         "id": 644495,
         "media_type": "movie",
         "original_language": "en",
         "original_title": "House of Gucci",
         "overview": "When Patrizia Reggiani, an outsider from humble beginnings, marries into the Gucci family, her unbridled ambition begins to unravel the family legacy and triggers a reckless spiral of betrayal, decadence, revenge, and ultimately…murder.",
         "popularity": 1182.306,
         "poster_path": "/vHla3Ej2m53rNmvmYkzvennLrKn.jpg",
         "release_date": "2021-11-24",
         "title": "House of Gucci",
         "video": false,
         "vote_average": 6.7,
         "vote_count": 902
        },
        {
         "adult": false,
         "backdrop_path": "/c6H7Z4u73ir3cIoCteuhJh7UCAR.jpg",
         "genre_ids": [
          28,
          12,
          14,
          878
         ],
         "id": 524434,
         "media_type": "movie",
         "original_language": "en",
         "original_title": "Eternals",
         "overview": "The Eternals are a team of ancient aliens who have been living on Earth in secret for thousands of years. When an unexpected tragedy forces them out of the shadows, they are forced to reunite against mankind’s most ancient enemy, the Deviants.",
         "popularity": 3099.57,
         "poster_path": "/bcCBq9N1EMo3daNIjWJ8kYvrQm6.jpg",
         "release_date": "2021-11-03",
         "title": "Eternals",
         "video": false,
         "vote_average": 7.2,
         "vote_count": 4162
        },
        {
         "adult": false,
         "backdrop_path": "/eG0oOQVsniPAuecPzDD1B1gnYWy.jpg",
         "genre_ids": [
          16,
          35,
          12,
          10751
         ],
         "id": 774825,
         "media_type": "movie",
         "original_language": "en",
         "original_title": "The Ice Age Adventures of Buck Wild",
         "overview": "The fearless one-eyed weasel Buck teams up with mischievous possum brothers Crash & Eddie as they head off on a new adventure into Buck's home: The Dinosaur World.",
         "popularity": 3025.505,
         "poster_path": "/zzXFM4FKDG7l1ufrAkwQYv2xvnh.jpg",
         "release_date": "2022-01-28",
         "title": "The Ice Age Adventures of Buck Wild",
         "video": false,
         "vote_average": 7.4,
         "vote_count": 461
        },
        {
         "adult": false,
         "backdrop_path": "/mqDnDhG5N6fn1H4MKQqr8E5wfeK.jpg",
         "genre_ids": [
          80,
          18,
          53
         ],
         "id": 597208,
         "media_type": "movie",
         "original_language": "en",
         "original_title": "Nightmare Alley",
         "overview": "An ambitious carnival man with a talent for manipulating people with a few well-chosen words hooks up with a female psychiatrist who is even more dangerous than he is.",
         "popularity": 350.912,
         "poster_path": "/680klE0dIreQQOyWKFgNnCAJtws.jpg",
         "release_date": "2021-12-02",
         "title": "Nightmare Alley",
         "video": false,
         "vote_average": 7.2,
         "vote_count": 564
        },
        {
         "adult": false,
         "backdrop_path": "/EnDlndEvw6Ptpp8HIwmRcSSNKQ.jpg",
         "genre_ids": [
          14,
          35,
          12
         ],
         "id": 425909,
         "media_type": "movie",
         "original_language": "en",
         "original_title": "Ghostbusters: Afterlife",
         "overview": "When a single mom and her two kids arrive in a small town, they begin to discover their connection to the original Ghostbusters and the secret legacy their grandfather left behind.",
         "popularity": 2000.451,
         "poster_path": "/sg4xJaufDiQl7caFEskBtQXfD4x.jpg",
         "release_date": "2021-11-11",
         "title": "Ghostbusters: Afterlife",
         "video": false,
         "vote_average": 7.7,
         "vote_count": 1903
        },
        {
         "adult": false,
         "backdrop_path": "/3G1Q5xF40HkUBJXxt2DQgQzKTp5.jpg",
         "genre_ids": [
          16,
          35,
          10751,
          14
         ],
         "id": 568124,
         "media_type": "movie",
         "original_language": "en",
         "original_title": "Encanto",
         "overview": "The tale of an extraordinary family, the Madrigals, who live hidden in the mountains of Colombia, in a magical house, in a vibrant town, in a wondrous, charmed place called an Encanto. The magic of the Encanto has blessed every child in the family with a unique gift from super strength to the power to heal—every child except one, Mirabel. But when she discovers that the magic surrounding the Encanto is in danger, Mirabel decides that she, the only ordinary Madrigal, might just be her exceptional family's last hope.",
         "popularity": 3724.159,
         "poster_path": "/4j0PNHkMr5ax3IA8tjtxcmPU3QT.jpg",
         "release_date": "2021-11-24",
         "title": "Encanto",
         "video": false,
         "vote_average": 7.8,
         "vote_count": 4136
        },
        {
         "adult": false,
         "backdrop_path": "/8pgKccb5PfE1kWB9qqiXJem83VC.jpg",
         "genre_ids": [
          28,
          53
         ],
         "id": 522016,
         "media_type": "movie",
         "original_language": "en",
         "original_title": "The 355",
         "overview": "A group of top female agents from American, British, Chinese, Columbian and German  government agencies are drawn together to try and stop an organization from acquiring a deadly weapon to send the world into chaos.",
         "popularity": 3111.312,
         "poster_path": "/xef9Ht77B2igqZv754HNdW8qZCk.jpg",
         "release_date": "2022-01-05",
         "title": "The 355",
         "video": false,
         "vote_average": 6.2,
         "vote_count": 183
        },
        {
         "adult": false,
         "backdrop_path": "/eNI7PtK6DEYgZmHWP9gQNuff8pv.jpg",
         "genre_ids": [
          878,
          28,
          12
         ],
         "id": 624860,
         "media_type": "movie",
         "original_language": "en",
         "original_title": "The Matrix Resurrections",
         "overview": "Plagued by strange memories, Neo's life takes an unexpected turn when he finds himself back inside the Matrix.",
         "popularity": 1663.699,
         "poster_path": "/8c4a8kE7PizaGQQnditMmI1xbRp.jpg",
         "release_date": "2021-12-16",
         "title": "The Matrix Resurrections",
         "video": false,
         "vote_average": 6.8,
         "vote_count": 2840
        },
        {
         "adult": false,
         "backdrop_path": "/4rsomWxlqnHt3muGYK06auhOib6.jpg",
         "genre_ids": [
          10749,
          18
         ],
         "id": 818647,
         "media_type": "movie",
         "original_language": "es",
         "original_title": "A través de mi ventana",
         "overview": "Raquel's longtime crush on her next-door neighbor turns into something more when he starts developing feelings for her, despite his family's objections.",
         "popularity": 3158.757,
         "poster_path": "/6gg7fvKc1ZxP9yCczweSxIGYp4S.jpg",
         "release_date": "2022-02-04",
         "title": "Through My Window",
         "video": false,
         "vote_average": 8,
         "vote_count": 858
        },
        {
         "adult": false,
         "backdrop_path": "/jtVl3nN5bJ4t7pgakLfGJmOrqZm.jpg",
         "genre_ids": [
          878,
          12
         ],
         "id": 438631,
         "media_type": "movie",
         "original_language": "en",
         "original_title": "Dune",
         "overview": "Paul Atreides, a brilliant and gifted young man born into a great destiny beyond his understanding, must travel to the most dangerous planet in the universe to ensure the future of his family and his people. As malevolent forces explode into conflict over the planet's exclusive supply of the most precious resource in existence-a commodity capable of unlocking humanity's greatest potential-only those who can conquer their fear will survive.",
         "popularity": 554.888,
         "poster_path": "/d5NXSklXo0qyIYkgV94XAgMIckC.jpg",
         "release_date": "2021-09-15",
         "title": "Dune",
         "video": false,
         "vote_average": 7.9,
         "vote_count": 5880
        },
        {
         "adult": false,
         "backdrop_path": "/tutaKitJJIaqZPyMz7rxrhb4Yxm.jpg",
         "genre_ids": [
          35,
          16,
          10751,
          10402
         ],
         "id": 438695,
         "media_type": "movie",
         "original_language": "en",
         "original_title": "Sing 2",
         "overview": "Buster and his new cast now have their sights set on debuting a new show at the Crystal Tower Theater in glamorous Redshore City. But with no connections, he and his singers must sneak into the Crystal Entertainment offices, run by the ruthless wolf mogul Jimmy Crystal, where the gang pitches the ridiculous idea of casting the lion rock legend Clay Calloway in their show. Buster must embark on a quest to find the now-isolated Clay and persuade him to return to the stage.",
         "popularity": 1761.506,
         "poster_path": "/aWeKITRFbbwY8txG5uCj4rMCfSP.jpg",
         "release_date": "2021-12-01",
         "title": "Sing 2",
         "video": false,
         "vote_average": 8.2,
         "vote_count": 1764
        },
        {
         "adult": false,
         "backdrop_path": "/qBLEWvJNVsehJkEJqIigPsWyBse.jpg",
         "genre_ids": [
          16,
          10751,
          14,
          35,
          12
         ],
         "id": 585083,
         "media_type": "movie",
         "original_language": "en",
         "original_title": "Hotel Transylvania: Transformania",
         "overview": "When Van Helsing's mysterious invention, the \"Monsterfication Ray,\" goes haywire, Drac and his monster pals are all transformed into humans, and Johnny becomes a monster. In their new mismatched bodies, Drac and Johnny must team up and race across the globe to find a cure before it's too late, and before they drive each other crazy.",
         "popularity": 2552.123,
         "poster_path": "/teCy1egGQa0y8ULJvlrDHQKnxBL.jpg",
         "release_date": "2022-01-13",
         "title": "Hotel Transylvania: Transformania",
         "video": false,
         "vote_average": 7.6,
         "vote_count": 1632
        },
        {
         "adult": false,
         "backdrop_path": "/o76ZDm8PS9791XiuieNB93UZcRV.jpg",
         "genre_ids": [
          27,
          28,
          878
         ],
         "id": 460458,
         "media_type": "movie",
         "original_language": "en",
         "original_title": "Resident Evil: Welcome to Raccoon City",
         "overview": "Once the booming home of pharmaceutical giant Umbrella Corporation, Raccoon City is now a dying Midwestern town. The company’s exodus left the city a wasteland…with great evil brewing below the surface. When that evil is unleashed, the townspeople are forever…changed…and a small group of survivors must work together to uncover the truth behind Umbrella and make it through the night.",
         "popularity": 1612.838,
         "poster_path": "/7uRbWOXxpWDMtnsd2PF3clu65jc.jpg",
         "release_date": "2021-11-24",
         "title": "Resident Evil: Welcome to Raccoon City",
         "video": false,
         "vote_average": 6.2,
         "vote_count": 1158
        },
        {
         "adult": false,
         "backdrop_path": "/lMWOcXVA62xnk1jSaz8iwrxVJR7.jpg",
         "genre_ids": [
          18
         ],
         "id": 795514,
         "media_type": "movie",
         "original_language": "en",
         "original_title": "The Fallout",
         "overview": "In the wake of a school tragedy, Vada, Mia and Quinton form a unique and dynamic bond as they navigate the never linear, often confusing journey to heal in a world that feels forever changed.",
         "popularity": 1031.733,
         "poster_path": "/y94auaBWq1E7sun3ZpvBmQfGUW.jpg",
         "release_date": "2022-01-28",
         "title": "The Fallout",
         "video": false,
         "vote_average": 7.4,
         "vote_count": 96
        },
        {
         "adult": false,
         "backdrop_path": "/r2GAjd4rNOHJh6i6Y0FntmYuPQW.jpg",
         "genre_ids": [
          12,
          28,
          53
         ],
         "id": 370172,
         "media_type": "movie",
         "original_language": "en",
         "original_title": "No Time to Die",
         "overview": "Bond has left active service and is enjoying a tranquil life in Jamaica. His peace is short-lived when his old friend Felix Leiter from the CIA turns up asking for help. The mission to rescue a kidnapped scientist turns out to be far more treacherous than expected, leading Bond onto the trail of a mysterious villain armed with dangerous new technology.",
         "popularity": 522.338,
         "poster_path": "/iUgygt3fscRoKWCV1d0C7FbM9TP.jpg",
         "release_date": "2021-09-29",
         "title": "No Time to Die",
         "video": false,
         "vote_average": 7.5,
         "vote_count": 3412
        },
        {
         "adult": false,
         "backdrop_path": "/myJpOGXMAP7KYURVN92EvtIyLVH.jpg",
         "genre_ids": [
          28,
          80,
          18
         ],
         "id": 414906,
         "media_type": "movie",
         "original_language": "en",
         "original_title": "The Batman",
         "overview": "In his second year of fighting crime, Batman uncovers corruption in Gotham City that connects to his own family while facing a serial killer known as the Riddler.",
         "popularity": 231.348,
         "poster_path": "/3VFI3zbuNhXzx7dIbYdmvBLekyB.jpg",
         "release_date": "2022-03-01",
         "title": "The Batman",
         "video": false,
         "vote_average": 0,
         "vote_count": 0
        },
        {
         "adult": false,
         "backdrop_path": "/cZU5eqRtoqcvEIVUTAAe6OkbkNK.jpg",
         "genre_ids": [
          99,
          80
         ],
         "id": 923632,
         "media_type": "movie",
         "original_language": "en",
         "original_title": "The Tinder Swindler",
         "overview": "Posing as a wealthy, jet-setting diamond mogul, an Israeli conman wooed women online then conned them out of millions of dollars. Now some victims plan for payback.",
         "popularity": 153.374,
         "poster_path": "/iLUSFjdavIf0SrP7ldoQ1xomQVC.jpg",
         "release_date": "2022-02-02",
         "title": "The Tinder Swindler",
         "video": false,
         "vote_average": 7,
         "vote_count": 158
        },
        {
         "adult": false,
         "backdrop_path": "/ejgC2lEmuGXiP0A1LvwNezUjNmt.jpg",
         "genre_ids": [
          28,
          12,
          878
         ],
         "id": 406759,
         "media_type": "movie",
         "original_language": "en",
         "original_title": "Moonfall",
         "overview": "A mysterious force knocks the moon from its orbit around Earth and sends it hurtling on a collision course with life as we know it.",
         "popularity": 615.622,
         "poster_path": "/odVv1sqVs0KxBXiA8bhIBlPgalx.jpg",
         "release_date": "2022-02-03",
         "title": "Moonfall",
         "video": false,
         "vote_average": 6.1,
         "vote_count": 71
        }
       ],
       "total_pages": 1000,
       "total_results": 20000
      },
      "text/plain": [
       "<IPython.core.display.JSON object>"
      ]
     },
     "execution_count": 20,
     "metadata": {
      "application/json": {
       "expanded": false,
       "root": "root"
      }
     },
     "output_type": "execute_result"
    }
   ],
   "source": [
    "trend_mov = trending('movie', 'week')\n",
    "\n",
    "JSON(trend_mov)"
   ]
  },
  {
   "cell_type": "code",
   "execution_count": 21,
   "metadata": {},
   "outputs": [
    {
     "name": "stdout",
     "output_type": "stream",
     "text": [
      "Top 5 trending movies in a week are:\n",
      "Spider-Man: No Way Home\n",
      "Encanto\n",
      "Through My Window\n",
      "The 355\n",
      "Eternals\n"
     ]
    }
   ],
   "source": [
    "pop_mov = {}\n",
    "for item in trend_mov['results']:\n",
    "    pop_mov[item['title']]= item['popularity']\n",
    "        \n",
    "mov_top_5 = Counter(pop_mov).most_common(5)\n",
    "print('Top 5 trending movies in a week are:')\n",
    "for item in mov_top_5: print(item[0])"
   ]
  },
  {
   "cell_type": "code",
   "execution_count": 22,
   "metadata": {},
   "outputs": [
    {
     "data": {
      "application/json": {
       "page": 1,
       "results": [
        {
         "backdrop_path": "/sjx6zjQI2dLGtEL0HGWsnq6UyLU.jpg",
         "first_air_date": "2021-12-29",
         "genre_ids": [
          10759,
          10765
         ],
         "id": 115036,
         "media_type": "tv",
         "name": "The Book of Boba Fett",
         "origin_country": [
          "US"
         ],
         "original_language": "en",
         "original_name": "The Book of Boba Fett",
         "overview": "Legendary bounty hunter Boba Fett and mercenary Fennec Shand must navigate the galaxy’s underworld when they return to the sands of Tatooine to stake their claim on the territory once ruled by Jabba the Hutt and his crime syndicate.",
         "popularity": 2796.695,
         "poster_path": "/gNbdjDi1HamTCrfvM9JeA94bNi2.jpg",
         "vote_average": 8.3,
         "vote_count": 910
        },
        {
         "backdrop_path": "/8Xs20y8gFR0W9u8Yy9NKdpZtSu7.jpg",
         "first_air_date": "2022-01-28",
         "genre_ids": [
          18,
          10765
         ],
         "id": 99966,
         "media_type": "tv",
         "name": "All of Us Are Dead",
         "origin_country": [
          "KR"
         ],
         "original_language": "ko",
         "original_name": "지금 우리 학교는",
         "overview": "A high school becomes ground zero for a zombie virus outbreak. Trapped students must fight their way out — or turn into one of the rabid infected.",
         "popularity": 5582.039,
         "poster_path": "/pTEFqAjLd5YTsMD6NSUxV6Dq7A6.jpg",
         "vote_average": 8.8,
         "vote_count": 1061
        },
        {
         "backdrop_path": "/wrhLyiY7ksW0fQCqNpa52qiOAH8.jpg",
         "first_air_date": "2022-02-03",
         "genre_ids": [
          10759,
          9648,
          80,
          18
         ],
         "id": 108978,
         "media_type": "tv",
         "name": "Reacher",
         "origin_country": [
          "US"
         ],
         "original_language": "en",
         "original_name": "Reacher",
         "overview": "Jack Reacher was arrested for murder and now the police need his help. Based on the books by Lee Child.",
         "popularity": 539.555,
         "poster_path": "/bQnnKBe3VsvXKMoNCaYmRzs1Dup.jpg",
         "vote_average": 8.7,
         "vote_count": 92
        },
        {
         "backdrop_path": "/oKt4J3TFjWirVwBqoHyIvv5IImd.jpg",
         "first_air_date": "2019-06-16",
         "genre_ids": [
          18
         ],
         "id": 85552,
         "media_type": "tv",
         "name": "Euphoria",
         "origin_country": [
          "US"
         ],
         "original_language": "en",
         "original_name": "Euphoria",
         "overview": "A group of high school students navigate love and friendships in a world of drugs, sex, trauma, and social media.",
         "popularity": 4220.682,
         "poster_path": "/jtnfNzqZwN4E32FGGxx1YZaBWWf.jpg",
         "vote_average": 8.4,
         "vote_count": 6431
        },
        {
         "backdrop_path": "/ctxm191q5o3axFzQsvNPlbKoSYv.jpg",
         "first_air_date": "2022-01-13",
         "genre_ids": [
          10759,
          35,
          10765,
          18
         ],
         "id": 110492,
         "media_type": "tv",
         "name": "Peacemaker",
         "origin_country": [
          "US"
         ],
         "original_language": "en",
         "original_name": "Peacemaker",
         "overview": "The continuing story of Peacemaker – a compellingly vainglorious man who believes in peace at any cost, no matter how many people he has to kill to get it – in the aftermath of the events of “The Suicide Squad.”",
         "popularity": 3529.691,
         "poster_path": "/hE3LRZAY84fG19a18pzpkZERjTE.jpg",
         "vote_average": 8.8,
         "vote_count": 751
        },
        {
         "backdrop_path": "/yvKrycViRMQcIgdnjsM5JGNWU4Q.jpg",
         "first_air_date": "2013-04-07",
         "genre_ids": [
          10765,
          16,
          10759
         ],
         "id": 1429,
         "media_type": "tv",
         "name": "Attack on Titan",
         "origin_country": [
          "JP"
         ],
         "original_language": "ja",
         "original_name": "進撃の巨人",
         "overview": "Several hundred years ago, humans were nearly exterminated by Titans. Titans are typically several stories tall, seem to have no intelligence, devour human beings and, worst of all, seem to do it for the pleasure rather than as a food source. A small percentage of humanity survived by walling themselves in a city protected by extremely high walls, even taller than the biggest Titans. Flash forward to the present and the city has not seen a Titan in over 100 years. Teenage boy Eren and his foster sister Mikasa witness something horrific as the city walls are destroyed by a Colossal Titan that appears out of thin air. As the smaller Titans flood the city, the two kids watch in horror as their mother is eaten alive. Eren vows that he will murder every single Titan and take revenge for all of mankind.",
         "popularity": 337.143,
         "poster_path": "/aiy35Evcofzl7hASZZvsFgltHTX.jpg",
         "vote_average": 8.6,
         "vote_count": 3990
        },
        {
         "backdrop_path": "/iBAtBLqCMON3NPIjyQ1wdMbpTAk.jpg",
         "first_air_date": "2019-04-06",
         "genre_ids": [
          16,
          10759,
          10765
         ],
         "id": 85937,
         "media_type": "tv",
         "name": "Demon Slayer: Kimetsu no Yaiba",
         "origin_country": [
          "JP"
         ],
         "original_language": "ja",
         "original_name": "鬼滅の刃",
         "overview": "It is the Taisho Period in Japan. Tanjiro, a kindhearted boy who sells charcoal for a living, finds his family slaughtered by a demon. To make matters worse, his younger sister Nezuko, the sole survivor, has been transformed into a demon herself. Though devastated by this grim reality, Tanjiro resolves to become a “demon slayer” so that he can turn his sister back into a human, and kill the demon that massacred his family.",
         "popularity": 409.233,
         "poster_path": "/wrCVHdkBlBWdJUZPvnJWcBRuhSY.jpg",
         "vote_average": 8.8,
         "vote_count": 3492
        },
        {
         "backdrop_path": "/mV1OPLgFSqF02VPBNtkXLjF9t4s.jpg",
         "first_air_date": "2020-09-03",
         "genre_ids": [
          10765,
          18
         ],
         "id": 85723,
         "media_type": "tv",
         "name": "Raised by Wolves",
         "origin_country": [
          "US"
         ],
         "original_language": "en",
         "original_name": "Raised by Wolves",
         "overview": "After Earth is ravaged by a great religious war, an atheistic android architect sends two of his creations, Mother and Father, to start a peaceful, godless colony on the planet Kepler-22b. Their treacherous task is jeopardized by the arrival of the Mithraic, a deeply devout religious order of surviving humans.",
         "popularity": 371.452,
         "poster_path": "/f6Xg4mTARZi2YDqAh3WwZuebcHO.jpg",
         "vote_average": 7.7,
         "vote_count": 916
        },
        {
         "backdrop_path": "/z6GVQ8DfyQ6u7YfU16O5XiHCDr5.jpg",
         "first_air_date": "2022-02-02",
         "genre_ids": [
          35,
          18
         ],
         "id": 114925,
         "media_type": "tv",
         "name": "Pam & Tommy",
         "origin_country": [
          "US"
         ],
         "original_language": "en",
         "original_name": "Pam & Tommy",
         "overview": "This comedic series takes on the true story behind the release of the first ever viral video in history — the sex tape of Pamela Anderson and Tommy Lee.",
         "popularity": 932.87,
         "poster_path": "/u6Hfb3EsnvlPChr01jErXDTsdan.jpg",
         "vote_average": 8,
         "vote_count": 23
        },
        {
         "backdrop_path": "/gFZriCkpJYsApPZEF3jhxL4yLzG.jpg",
         "first_air_date": "2017-05-02",
         "genre_ids": [
          80,
          18
         ],
         "id": 71446,
         "media_type": "tv",
         "name": "Money Heist",
         "origin_country": [
          "ES"
         ],
         "original_language": "es",
         "original_name": "La Casa de Papel",
         "overview": "To carry out the biggest heist in history, a mysterious man called The Professor recruits a band of eight robbers who have a single characteristic: none of them has anything to lose. Five months of seclusion - memorizing every step, every detail, every probability - culminate in eleven days locked up in the National Coinage and Stamp Factory of Spain, surrounded by police forces and with dozens of hostages in their power, to find out whether their suicide wager will lead to everything or nothing.",
         "popularity": 424.591,
         "poster_path": "/reEMJA1uzscCbkpeRJeTT2bjqUp.jpg",
         "vote_average": 8.3,
         "vote_count": 16032
        },
        {
         "backdrop_path": "/h8dzXytAPFkAHv1kZAN1SshXI68.jpg",
         "first_air_date": "2020-05-17",
         "genre_ids": [
          10765
         ],
         "id": 79680,
         "media_type": "tv",
         "name": "Snowpiercer",
         "origin_country": [
          "US"
         ],
         "original_language": "en",
         "original_name": "Snowpiercer",
         "overview": "Set more than seven years after the world has become a frozen wasteland, the remnants of humanity inhabit a gigantic, perpetually-moving train that circles the globe as class warfare, social injustice and the politics of survival play out.",
         "popularity": 198.864,
         "poster_path": "/3s6ZyZKurx6wDJZMXSsbUsgjWCI.jpg",
         "vote_average": 7.5,
         "vote_count": 800
        },
        {
         "backdrop_path": "/fVc8V31Kk1wAyorbg5BrzVSNNiv.jpg",
         "first_air_date": "2019-10-04",
         "genre_ids": [
          18,
          10765
         ],
         "id": 93392,
         "media_type": "tv",
         "name": "Raising Dion",
         "origin_country": [
          "US"
         ],
         "original_language": "en",
         "original_name": "Raising Dion",
         "overview": "A widowed mom sets out to solve the mystery surrounding her young son's emerging superpowers while keeping his extraordinary gifts under wraps.",
         "popularity": 147.647,
         "poster_path": "/nydKXBiLn4vpL1d5o1utbPKYdii.jpg",
         "vote_average": 7.9,
         "vote_count": 248
        },
        {
         "backdrop_path": "/arA6ppsA066ogDfq1rosho94LZd.jpg",
         "first_air_date": "2022-01-28",
         "genre_ids": [
          9648,
          80,
          18,
          35
         ],
         "id": 111838,
         "media_type": "tv",
         "name": "The Woman in the House Across the Street from the Girl in the Window",
         "origin_country": [
          "US"
         ],
         "original_language": "en",
         "original_name": "The Woman in the House Across the Street from the Girl in the Window",
         "overview": "For Anna, every day is the same. She sits with her wine, staring out the window, watching life go by without her. But when a handsome neighbor moves in across the street, Anna starts to see a light at the end of the tunnel. That is until she witnesses a gruesome murder… Or did she?",
         "popularity": 60.796,
         "poster_path": "/riSoMsWYkwqed4ul5PgHOnbIVFp.jpg",
         "vote_average": 7.3,
         "vote_count": 81
        },
        {
         "backdrop_path": "/yhIpzIfSjGX92ea7Ts8J3VHMBDt.jpg",
         "first_air_date": "2022-02-04",
         "genre_ids": [
          18,
          80
         ],
         "id": 100414,
         "media_type": "tv",
         "name": "Suspicion",
         "origin_country": [
          "GB"
         ],
         "original_language": "en",
         "original_name": "Suspicion",
         "overview": "Five ordinary Brits are accused of kidnapping the son of a prominent U.S. media mogul. They embark on a desperate race against time to prove their innocence, but will anyone believe them—and are they telling the truth?",
         "popularity": 97.651,
         "poster_path": "/muLbLW8kWOSiEBLgmHeAw6gKpB0.jpg",
         "vote_average": 8.4,
         "vote_count": 10
        },
        {
         "backdrop_path": "/zwlNpibOPWiwk5Bx2D4FyV7yjih.jpg",
         "first_air_date": "2022-01-28",
         "genre_ids": [
          18,
          10765,
          10759
         ],
         "id": 146173,
         "media_type": "tv",
         "name": "In From the Cold",
         "origin_country": [
          "US"
         ],
         "original_language": "en",
         "original_name": "In From the Cold",
         "overview": "Exposed as an ex-Russian spy, an American single mom must juggle family life and unique shape-shifting skills in a battle against an insidious enemy.",
         "popularity": 35.175,
         "poster_path": "/mND3MZbnOIasM3XaL2mXOVMvBw6.jpg",
         "vote_average": 7.7,
         "vote_count": 27
        },
        {
         "backdrop_path": "/a6ptrTUH1c5OdWanjyYtAkOuYD0.jpg",
         "first_air_date": "1999-10-20",
         "genre_ids": [
          10759,
          35,
          16
         ],
         "id": 37854,
         "media_type": "tv",
         "name": "One Piece",
         "origin_country": [
          "JP"
         ],
         "original_language": "ja",
         "original_name": "ワンピース",
         "overview": "Years ago, the fearsome pirate king Gol D. Roger was executed, leaving a huge pile of treasure and the famous \"One Piece\" behind. Whoever claims the \"One Piece\" will be named the new pirate king. Monkey D. Luffy, a boy who consumed a \"Devil's Fruit,\" decides to follow in the footsteps of his idol, the pirate Shanks, and find the One Piece. It helps, of course, that his body has the properties of rubber and that he's surrounded by a bevy of skilled fighters and thieves to help him along the way. Luffy will do anything to get the One Piece and become King of the Pirates!",
         "popularity": 119.931,
         "poster_path": "/dum1wnm6kJOUos0XJqjB8s2UWi9.jpg",
         "vote_average": 8.8,
         "vote_count": 2748
        },
        {
         "backdrop_path": "/7gpxYeVaEivYnpnsBFkzmWOSUHG.jpg",
         "first_air_date": "2022-02-06",
         "genre_ids": [
          80,
          18
         ],
         "id": 119845,
         "media_type": "tv",
         "name": "Power Book IV: Force",
         "origin_country": [
          "US"
         ],
         "original_language": "en",
         "original_name": "Power Book IV: Force",
         "overview": "Tommy Egan leaves New York behind and plans to take on Chicago, using his outsider status to break all the local rules and rewrite them on his quest to become the biggest drug dealer in the city.",
         "popularity": 93.87,
         "poster_path": "/yzL4Tqbw2JA9MCsHJWFC4xV1IYU.jpg",
         "vote_average": 9.6,
         "vote_count": 16
        },
        {
         "backdrop_path": "/suopoADq0k8YZr4dQXcU6pToj6s.jpg",
         "first_air_date": "2011-04-17",
         "genre_ids": [
          10765,
          18,
          10759
         ],
         "id": 1399,
         "media_type": "tv",
         "name": "Game of Thrones",
         "origin_country": [
          "US"
         ],
         "original_language": "en",
         "original_name": "Game of Thrones",
         "overview": "Seven noble families fight for control of the mythical land of Westeros. Friction between the houses leads to full-scale war. All while a very ancient evil awakens in the farthest north. Amidst the war, a neglected military order of misfits, the Night's Watch, is all that stands between the realms of men and icy horrors beyond.",
         "popularity": 698.962,
         "poster_path": "/u3bZgnGQ9T01sWNhyveQz0wH0Hl.jpg",
         "vote_average": 8.4,
         "vote_count": 17158
        },
        {
         "backdrop_path": "/gD830J0sf5gEeZvzkRVPdGxJmSR.jpg",
         "first_air_date": "2017-07-21",
         "genre_ids": [
          80,
          18
         ],
         "id": 69740,
         "media_type": "tv",
         "name": "Ozark",
         "origin_country": [
          "US"
         ],
         "original_language": "en",
         "original_name": "Ozark",
         "overview": "A financial adviser drags his family from Chicago to the Missouri Ozarks, where he must launder $500 million in five years to appease a drug boss.",
         "popularity": 238.318,
         "poster_path": "/m73bD8VjibSKuTWg597GQVyVhSb.jpg",
         "vote_average": 8.2,
         "vote_count": 1277
        },
        {
         "backdrop_path": "/qw3J9cNeLioOLoR68WX7z79aCdK.jpg",
         "first_air_date": "2021-09-17",
         "genre_ids": [
          10759,
          9648,
          18
         ],
         "id": 93405,
         "media_type": "tv",
         "name": "Squid Game",
         "origin_country": [
          "KR"
         ],
         "original_language": "ko",
         "original_name": "오징어 게임",
         "overview": "Hundreds of cash-strapped players accept a strange invitation to compete in children's games—with high stakes. But, a tempting prize awaits the victor.",
         "popularity": 671.045,
         "poster_path": "/dDlEmu3EZ0Pgg93K2SVNLCjCSvE.jpg",
         "vote_average": 7.8,
         "vote_count": 10104
        }
       ],
       "total_pages": 1000,
       "total_results": 20000
      },
      "text/plain": [
       "<IPython.core.display.JSON object>"
      ]
     },
     "execution_count": 22,
     "metadata": {
      "application/json": {
       "expanded": false,
       "root": "root"
      }
     },
     "output_type": "execute_result"
    }
   ],
   "source": [
    "trend_tv = trending('tv', 'week')\n",
    "\n",
    "JSON(trend_tv)"
   ]
  },
  {
   "cell_type": "code",
   "execution_count": 23,
   "metadata": {},
   "outputs": [
    {
     "name": "stdout",
     "output_type": "stream",
     "text": [
      "Top 5 trending movies in a week are:\n",
      "All of Us Are Dead\n",
      "Euphoria\n",
      "Peacemaker\n",
      "The Book of Boba Fett\n",
      "Pam & Tommy\n"
     ]
    }
   ],
   "source": [
    "pop_tv = {}\n",
    "for item in trend_tv['results']:\n",
    "    pop_tv[item['name']]= item['popularity']\n",
    "        \n",
    "tv_top_5 = Counter(pop_tv).most_common(5)\n",
    "print('Top 5 trending movies in a week are:')\n",
    "for item in tv_top_5: print(item[0])"
   ]
  },
  {
   "cell_type": "code",
   "execution_count": 24,
   "metadata": {},
   "outputs": [
    {
     "data": {
      "application/json": {
       "page": 1,
       "results": [
        {
         "adult": false,
         "gender": 2,
         "id": 6193,
         "known_for": [
          {
           "adult": false,
           "backdrop_path": "/s3TBrRGB1iav7gFOCNx3H31MoES.jpg",
           "genre_ids": [
            28,
            878,
            12
           ],
           "id": 27205,
           "media_type": "movie",
           "original_language": "en",
           "original_title": "Inception",
           "overview": "Cobb, a skilled thief who commits corporate espionage by infiltrating the subconscious of his targets is offered a chance to regain his old life as payment for a task considered to be impossible: \"inception\", the implantation of another person's idea into a target's subconscious.",
           "popularity": 158.634,
           "poster_path": "/edv5CZvWj09upOsy2Y6IwDhK8bt.jpg",
           "release_date": "2010-07-15",
           "title": "Inception",
           "video": false,
           "vote_average": 8.4,
           "vote_count": 30894
          },
          {
           "adult": false,
           "backdrop_path": "/2oZklIzUbvZXXzIFzv7Hi68d6xf.jpg",
           "genre_ids": [
            18,
            37
           ],
           "id": 68718,
           "media_type": "movie",
           "original_language": "en",
           "original_title": "Django Unchained",
           "overview": "With the help of a German bounty hunter, a freed slave sets out to rescue his wife from a brutal Mississippi plantation owner.",
           "popularity": 88.016,
           "poster_path": "/7oWY8VDWW7thTzWh3OKYRkWUlD5.jpg",
           "release_date": "2012-12-25",
           "title": "Django Unchained",
           "video": false,
           "vote_average": 8.1,
           "vote_count": 22019
          },
          {
           "adult": false,
           "backdrop_path": "/6VmFqApQRyZZzmiGOQq2C92jyvH.jpg",
           "genre_ids": [
            18,
            10749
           ],
           "id": 597,
           "media_type": "movie",
           "original_language": "en",
           "original_title": "Titanic",
           "overview": "101-year-old Rose DeWitt Bukater tells the story of her life aboard the Titanic, 84 years later. A young Rose boards the ship with her mother and fiancé. Meanwhile, Jack Dawson and Fabrizio De Rossi win third-class tickets aboard the ship. Rose tells the whole story from Titanic's departure through to its death—on its first and last voyage—on April 15, 1912.",
           "popularity": 132.82,
           "poster_path": "/9xjZS2rlVxm8SFx8kPC3aIGCOYQ.jpg",
           "release_date": "1997-11-18",
           "title": "Titanic",
           "video": false,
           "vote_average": 7.9,
           "vote_count": 20525
          }
         ],
         "known_for_department": "Acting",
         "media_type": "person",
         "name": "Leonardo DiCaprio",
         "popularity": 57.316,
         "profile_path": "/wo2hJpn04vbtmh0B9utCFdsQhxM.jpg"
        },
        {
         "adult": false,
         "gender": 2,
         "id": 62,
         "known_for": [
          {
           "adult": false,
           "backdrop_path": "/suaEOtk1N1sgg2MTM7oZd2cfVp3.jpg",
           "genre_ids": [
            53,
            80
           ],
           "id": 680,
           "media_type": "movie",
           "original_language": "en",
           "original_title": "Pulp Fiction",
           "overview": "A burger-loving hit man, his philosophical partner, a drug-addled gangster's moll and a washed-up boxer converge in this sprawling, comedic crime caper. Their adventures unfurl in three stories that ingeniously trip back and forth in time.",
           "popularity": 65.263,
           "poster_path": "/d5iIlFn5s0ImszYzBPb8JPIfbXD.jpg",
           "release_date": "1994-09-10",
           "title": "Pulp Fiction",
           "video": false,
           "vote_average": 8.5,
           "vote_count": 22593
          },
          {
           "adult": false,
           "backdrop_path": "/9pkZesKMnblFfKxEhQx45YQ2kIe.jpg",
           "genre_ids": [
            27,
            53
           ],
           "id": 381288,
           "media_type": "movie",
           "original_language": "en",
           "original_title": "Split",
           "overview": "Though Kevin has evidenced 23 personalities to his trusted psychiatrist, Dr. Fletcher, there remains one still submerged who is set to materialize and dominate all the others. Compelled to abduct three teenage girls led by the willful, observant Casey, Kevin reaches a war for survival among all of those contained within him — as well as everyone around him — as the walls between his compartments shatter apart.",
           "popularity": 86.023,
           "poster_path": "/lli31lYTFpvxVBeFHWoe5PMfW5s.jpg",
           "release_date": "2017-01-19",
           "title": "Split",
           "video": false,
           "vote_average": 7.3,
           "vote_count": 14658
          },
          {
           "adult": false,
           "backdrop_path": "/6TjllWT3cGrPFyqDXurVZ3L8bBi.jpg",
           "genre_ids": [
            9648,
            53,
            18
           ],
           "id": 745,
           "media_type": "movie",
           "original_language": "en",
           "original_title": "The Sixth Sense",
           "overview": "Following an unexpected tragedy, a child psychologist named Malcolm Crowe meets an nine year old boy named Cole Sear, who is hiding a dark secret.",
           "popularity": 56.086,
           "poster_path": "/fIssD3w3SvIhPPmVo4WMgZDVLID.jpg",
           "release_date": "1999-08-06",
           "title": "The Sixth Sense",
           "video": false,
           "vote_average": 7.937,
           "vote_count": 9250
          }
         ],
         "known_for_department": "Acting",
         "media_type": "person",
         "name": "Bruce Willis",
         "popularity": 47.695,
         "profile_path": "/caX3KtMU42EP3VLRFFBwqIIrch5.jpg"
        },
        {
         "adult": false,
         "gender": 2,
         "id": 6384,
         "known_for": [
          {
           "adult": false,
           "backdrop_path": "/ncEsesgOJDNrTUED89hYbA117wo.jpg",
           "genre_ids": [
            28,
            878
           ],
           "id": 603,
           "media_type": "movie",
           "original_language": "en",
           "original_title": "The Matrix",
           "overview": "Set in the 22nd century, The Matrix tells the story of a computer hacker who joins a group of underground insurgents fighting the vast and powerful computers who now rule the earth.",
           "popularity": 105.282,
           "poster_path": "/f89U3ADr1oiB1s9GkdPOEpXUk5H.jpg",
           "release_date": "1999-03-30",
           "title": "The Matrix",
           "video": false,
           "vote_average": 8.2,
           "vote_count": 21023
          },
          {
           "adult": false,
           "backdrop_path": "/7dzngS8pLkGJpyeskCFcjPO9qLF.jpg",
           "genre_ids": [
            28,
            53
           ],
           "id": 245891,
           "media_type": "movie",
           "original_language": "en",
           "original_title": "John Wick",
           "overview": "Ex-hitman John Wick comes out of retirement to track down the gangsters that took everything from him.",
           "popularity": 78.66,
           "poster_path": "/fZPSd91yGE9fCcCe6OoQr6E3Bev.jpg",
           "release_date": "2014-10-22",
           "title": "John Wick",
           "video": false,
           "vote_average": 7.4,
           "vote_count": 15302
          },
          {
           "adult": false,
           "backdrop_path": "/r17jFHAemzcWPPtoO0UxjIX0xas.jpg",
           "genre_ids": [
            53,
            28,
            80
           ],
           "id": 324552,
           "media_type": "movie",
           "original_language": "en",
           "original_title": "John Wick: Chapter 2",
           "overview": "John Wick is forced out of retirement by a former associate looking to seize control of a shadowy international assassins’ guild. Bound by a blood oath to aid him, Wick travels to Rome and does battle against some of the world’s most dangerous killers.",
           "popularity": 129.136,
           "poster_path": "/hXWBc0ioZP3cN4zCu6SN3YHXZVO.jpg",
           "release_date": "2017-02-08",
           "title": "John Wick: Chapter 2",
           "video": false,
           "vote_average": 7.3,
           "vote_count": 9899
          }
         ],
         "known_for_department": "Acting",
         "media_type": "person",
         "name": "Keanu Reeves",
         "popularity": 65.756,
         "profile_path": "/rRdru6REr9i3WIHv2mntpcgxnoY.jpg"
        },
        {
         "adult": false,
         "gender": 2,
         "id": 31,
         "known_for": [
          {
           "adult": false,
           "backdrop_path": "/qdIMHd4sEfJSckfVJfKQvisL02a.jpg",
           "genre_ids": [
            35,
            18,
            10749
           ],
           "id": 13,
           "media_type": "movie",
           "original_language": "en",
           "original_title": "Forrest Gump",
           "overview": "A man with a low IQ has accomplished great things in his life and been present during significant historic events—in each case, far exceeding what anyone imagined he could do. But despite all he has achieved, his one true love eludes him.",
           "popularity": 74.757,
           "poster_path": "/saHP97rTPS5eLmrLQEcANmKrsFl.jpg",
           "release_date": "1994-07-06",
           "title": "Forrest Gump",
           "video": false,
           "vote_average": 8.5,
           "vote_count": 22147
          },
          {
           "adult": false,
           "backdrop_path": "/3Rfvhy1Nl6sSGJwyjb0QiZzZYlB.jpg",
           "genre_ids": [
            16,
            12,
            10751,
            35
           ],
           "id": 862,
           "media_type": "movie",
           "original_language": "en",
           "original_title": "Toy Story",
           "overview": "Led by Woody, Andy's toys live happily in his room until Andy's birthday brings Buzz Lightyear onto the scene. Afraid of losing his place in Andy's heart, Woody plots against Buzz. But when circumstances separate Buzz and Woody from their owner, the duo eventually learns to put aside their differences.",
           "popularity": 192.945,
           "poster_path": "/uXDfjJbdP4ijW5hWSBrPrlKpxab.jpg",
           "release_date": "1995-10-30",
           "title": "Toy Story",
           "video": false,
           "vote_average": 8,
           "vote_count": 15019
          },
          {
           "adult": false,
           "backdrop_path": "/l6hQWH9eDksNJNiXWYRkWqikOdu.jpg",
           "genre_ids": [
            14,
            18,
            80
           ],
           "id": 497,
           "media_type": "movie",
           "original_language": "en",
           "original_title": "The Green Mile",
           "overview": "A supernatural tale set on death row in a Southern prison, where gentle giant John Coffey possesses the mysterious power to heal people's ailments. When the cell block's head guard, Paul Edgecomb, recognizes Coffey's miraculous gift, he tries desperately to help stave off the condemned man's execution.",
           "popularity": 66.454,
           "poster_path": "/velWPhVMQeQKcxggNEU8YmIo52R.jpg",
           "release_date": "1999-12-10",
           "title": "The Green Mile",
           "video": false,
           "vote_average": 8.5,
           "vote_count": 13464
          }
         ],
         "known_for_department": "Acting",
         "media_type": "person",
         "name": "Tom Hanks",
         "popularity": 38.336,
         "profile_path": "/xndWFsBlClOJFRdhSt4NBwiPq2o.jpg"
        },
        {
         "adult": false,
         "gender": 2,
         "id": 2036,
         "known_for": [
          {
           "adult": false,
           "backdrop_path": "/uqOuJ50EtTj7kkDIXP8LCg7G45D.jpg",
           "genre_ids": [
            18,
            878
           ],
           "id": 264660,
           "media_type": "movie",
           "original_language": "en",
           "original_title": "Ex Machina",
           "overview": "Caleb, a coder at the world's largest internet company, wins a competition to spend a week at a private mountain retreat belonging to Nathan, the reclusive CEO of the company. But when Caleb arrives at the remote location he finds that he will have to participate in a strange and fascinating experiment in which he must interact with the world's first true artificial intelligence, housed in the body of a beautiful robot girl.",
           "popularity": 27,
           "poster_path": "/dmJW8IAKHKxFNiUnoDR7JfsK7Rp.jpg",
           "release_date": "2015-01-21",
           "title": "Ex Machina",
           "video": false,
           "vote_average": 7.6,
           "vote_count": 10943
          },
          {
           "adult": false,
           "backdrop_path": "/9trZvBr44UGedUOiGo3jgSUw13e.jpg",
           "genre_ids": [
            878,
            27
           ],
           "id": 300668,
           "media_type": "movie",
           "original_language": "en",
           "original_title": "Annihilation",
           "overview": "A biologist signs up for a dangerous, secret expedition into a mysterious zone where the laws of nature don't apply.",
           "popularity": 43.737,
           "poster_path": "/4YRplSk6BhH6PRuE9gfyw9byUJ6.jpg",
           "release_date": "2018-02-22",
           "title": "Annihilation",
           "video": false,
           "vote_average": 6.4,
           "vote_count": 6945
          },
          {
           "adult": false,
           "backdrop_path": "/veUl0QT8swshQ9Dz0fQ1k6ZkthD.jpg",
           "genre_ids": [
            27,
            53,
            878
           ],
           "id": 170,
           "media_type": "movie",
           "original_language": "en",
           "original_title": "28 Days Later",
           "overview": "Twenty-eight days after a killer virus was accidentally unleashed from a British research facility, a small group of London survivors are caught in a desperate struggle to protect themselves from the infected. Carried by animals and humans, the virus turns those it infects into homicidal maniacs -- and it's absolutely impossible to contain.",
           "popularity": 50.262,
           "poster_path": "/w4SL5hv0qOanrN7GjwNgtjF1RtD.jpg",
           "release_date": "2002-10-31",
           "title": "28 Days Later",
           "video": false,
           "vote_average": 7.204,
           "vote_count": 5174
          }
         ],
         "known_for_department": "Writing",
         "media_type": "person",
         "name": "Alex Garland",
         "popularity": 16.1,
         "profile_path": "/nDCkPeWFVcvXrRAJuXNxVCTJEXe.jpg"
        },
        {
         "adult": false,
         "gender": 2,
         "id": 287,
         "known_for": [
          {
           "adult": false,
           "backdrop_path": "/rr7E0NoGKxvbkb89eR1GwfoYjpA.jpg",
           "genre_ids": [
            18
           ],
           "id": 550,
           "media_type": "movie",
           "original_language": "en",
           "original_title": "Fight Club",
           "overview": "A ticking-time-bomb insomniac and a slippery soap salesman channel primal male aggression into a shocking new form of therapy. Their concept catches on, with underground \"fight clubs\" forming in every town, until an eccentric gets in the way and ignites an out-of-control spiral toward oblivion.",
           "popularity": 56.716,
           "poster_path": "/pB8BM7pdSp6B6Ih7QZ4DrQ3PmJK.jpg",
           "release_date": "1999-10-15",
           "title": "Fight Club",
           "video": false,
           "vote_average": 8.4,
           "vote_count": 23435
          },
          {
           "adult": false,
           "backdrop_path": "/50VD6QU0NX0aRB6ftKCVWun80bm.jpg",
           "genre_ids": [
            18,
            28,
            53,
            10752
           ],
           "id": 16869,
           "media_type": "movie",
           "original_language": "en",
           "original_title": "Inglourious Basterds",
           "overview": "In Nazi-occupied France during World War II, a group of Jewish-American soldiers known as \"The Basterds\" are chosen specifically to spread fear throughout the Third Reich by scalping and brutally killing Nazis. The Basterds, lead by Lt. Aldo Raine soon cross paths with a French-Jewish teenage girl who runs a movie theater in Paris which is targeted by the soldiers.",
           "popularity": 100.696,
           "poster_path": "/7sfbEnaARXDDhKm0CZ7D7uc2sbo.jpg",
           "release_date": "2009-08-19",
           "title": "Inglourious Basterds",
           "video": false,
           "vote_average": 8.2,
           "vote_count": 18203
          },
          {
           "adult": false,
           "backdrop_path": "/i5H7zusQGsysGQ8i6P361Vnr0n2.jpg",
           "genre_ids": [
            80,
            9648,
            53
           ],
           "id": 807,
           "media_type": "movie",
           "original_language": "en",
           "original_title": "Se7en",
           "overview": "Two homicide detectives are on a desperate hunt for a serial killer whose crimes are based on the \"seven deadly sins\" in this dark and haunting film that takes viewers from the tortured remains of one victim to the next. The seasoned Det. Sommerset researches each sin in an effort to get inside the killer's mind, while his novice partner, Mills, scoffs at his efforts to unravel the case.",
           "popularity": 42.966,
           "poster_path": "/69Sns8WoET6CfaYlIkHbla4l7nC.jpg",
           "release_date": "1995-09-22",
           "title": "Se7en",
           "video": false,
           "vote_average": 8.3,
           "vote_count": 16526
          }
         ],
         "known_for_department": "Acting",
         "media_type": "person",
         "name": "Brad Pitt",
         "popularity": 29.825,
         "profile_path": "/oTB9vGIBacH5aQNS0pUM74QSWuf.jpg"
        },
        {
         "adult": false,
         "gender": 2,
         "id": 18897,
         "known_for": [
          {
           "adult": false,
           "backdrop_path": "/vndouqEyQqpvvk0FwIlkfceblrh.jpg",
           "genre_ids": [
            28,
            12,
            16,
            10751,
            35
           ],
           "id": 9502,
           "media_type": "movie",
           "original_language": "en",
           "original_title": "Kung Fu Panda",
           "overview": "When the Valley of Peace is threatened, lazy Po the panda discovers his destiny as the \"chosen one\" and trains to become a kung fu hero, but transforming the unsleek slacker into a brave warrior won't be easy. It's up to Master Shifu and the Furious Five -- Tigress, Crane, Mantis, Viper and Monkey -- to give it a try.",
           "popularity": 100.513,
           "poster_path": "/wWt4JYXTg5Wr3xBW2phBrMKgp3x.jpg",
           "release_date": "2008-06-04",
           "title": "Kung Fu Panda",
           "video": false,
           "vote_average": 7.2,
           "vote_count": 9075
          },
          {
           "adult": false,
           "backdrop_path": "/7BdxZXbSkUiVeCRXKD3hi9KYeWm.jpg",
           "genre_ids": [
            16,
            10751
           ],
           "id": 49444,
           "media_type": "movie",
           "original_language": "en",
           "original_title": "Kung Fu Panda 2",
           "overview": "Po is now living his dream as The Dragon Warrior, protecting the Valley of Peace alongside his friends and fellow kung fu masters, The Furious Five - Tigress, Crane, Mantis, Viper and Monkey. But Po’s new life of awesomeness is threatened by the emergence of a formidable villain, who plans to use a secret, unstoppable weapon to conquer China and destroy kung fu. It is up to Po and The Furious Five to journey across China to face this threat and vanquish it. But how can Po stop a weapon that can stop kung fu? He must look to his past and uncover the secrets of his mysterious origins; only then will he be able to unlock the strength he needs to succeed.",
           "popularity": 79.87,
           "poster_path": "/mtqqD00vB4PGRt20gWtGqFhrkd0.jpg",
           "release_date": "2011-05-25",
           "title": "Kung Fu Panda 2",
           "video": false,
           "vote_average": 6.9,
           "vote_count": 5412
          },
          {
           "adult": false,
           "backdrop_path": "/pttjdO239dLB1CuuL4VqOosyvHc.jpg",
           "genre_ids": [
            28,
            12,
            18,
            10751
           ],
           "id": 38575,
           "media_type": "movie",
           "original_language": "en",
           "original_title": "The Karate Kid",
           "overview": "Twelve-year-old Dre Parker could have been the most popular kid in Detroit, but his mother's latest career move has landed him in China. Dre immediately falls for his classmate Mei Ying but the cultural differences make such a friendship impossible. Even worse, Dre's feelings make him an enemy of the class bully, Cheng. With no friends in a strange land, Dre has nowhere to turn but maintenance man Mr. Han, who is a kung fu master. As Han teaches Dre that kung fu is not about punches and parries, but maturity and calm, Dre realizes that facing down the bullies will be the fight of his life.",
           "popularity": 148.192,
           "poster_path": "/tAMQREOoztvluqrfHiGHFVfB04B.jpg",
           "release_date": "2010-06-10",
           "title": "The Karate Kid",
           "video": false,
           "vote_average": 6.5,
           "vote_count": 4807
          }
         ],
         "known_for_department": "Acting",
         "media_type": "person",
         "name": "Jackie Chan",
         "popularity": 38.558,
         "profile_path": "/nraZoTzwJQPHspAVsKfgl3RXKKa.jpg"
        },
        {
         "adult": false,
         "gender": 2,
         "id": 138,
         "known_for": [
          {
           "adult": false,
           "backdrop_path": "/suaEOtk1N1sgg2MTM7oZd2cfVp3.jpg",
           "genre_ids": [
            53,
            80
           ],
           "id": 680,
           "media_type": "movie",
           "original_language": "en",
           "original_title": "Pulp Fiction",
           "overview": "A burger-loving hit man, his philosophical partner, a drug-addled gangster's moll and a washed-up boxer converge in this sprawling, comedic crime caper. Their adventures unfurl in three stories that ingeniously trip back and forth in time.",
           "popularity": 65.263,
           "poster_path": "/d5iIlFn5s0ImszYzBPb8JPIfbXD.jpg",
           "release_date": "1994-09-10",
           "title": "Pulp Fiction",
           "video": false,
           "vote_average": 8.5,
           "vote_count": 22589
          },
          {
           "adult": false,
           "backdrop_path": "/2oZklIzUbvZXXzIFzv7Hi68d6xf.jpg",
           "genre_ids": [
            18,
            37
           ],
           "id": 68718,
           "media_type": "movie",
           "original_language": "en",
           "original_title": "Django Unchained",
           "overview": "With the help of a German bounty hunter, a freed slave sets out to rescue his wife from a brutal Mississippi plantation owner.",
           "popularity": 78.952,
           "poster_path": "/7oWY8VDWW7thTzWh3OKYRkWUlD5.jpg",
           "release_date": "2012-12-25",
           "title": "Django Unchained",
           "video": false,
           "vote_average": 8.1,
           "vote_count": 22011
          },
          {
           "adult": false,
           "backdrop_path": "/50VD6QU0NX0aRB6ftKCVWun80bm.jpg",
           "genre_ids": [
            18,
            28,
            53,
            10752
           ],
           "id": 16869,
           "media_type": "movie",
           "original_language": "en",
           "original_title": "Inglourious Basterds",
           "overview": "In Nazi-occupied France during World War II, a group of Jewish-American soldiers known as \"The Basterds\" are chosen specifically to spread fear throughout the Third Reich by scalping and brutally killing Nazis. The Basterds, lead by Lt. Aldo Raine soon cross paths with a French-Jewish teenage girl who runs a movie theater in Paris which is targeted by the soldiers.",
           "popularity": 123.022,
           "poster_path": "/7sfbEnaARXDDhKm0CZ7D7uc2sbo.jpg",
           "release_date": "2009-08-19",
           "title": "Inglourious Basterds",
           "video": false,
           "vote_average": 8.2,
           "vote_count": 18192
          }
         ],
         "known_for_department": "Directing",
         "media_type": "person",
         "name": "Quentin Tarantino",
         "popularity": 24.65,
         "profile_path": "/1gjcpAa99FAOWGnrUvHEXXsRs7o.jpg"
        },
        {
         "adult": false,
         "gender": 2,
         "id": 1136406,
         "known_for": [
          {
           "adult": false,
           "backdrop_path": "/lmZFxXgJE3vgrciwuDib0N8CfQo.jpg",
           "genre_ids": [
            12,
            28,
            878
           ],
           "id": 299536,
           "media_type": "movie",
           "original_language": "en",
           "original_title": "Avengers: Infinity War",
           "overview": "As the Avengers and their allies have continued to protect the world from threats too large for any one hero to handle, a new danger has emerged from the cosmic shadows: Thanos. A despot of intergalactic infamy, his goal is to collect all six Infinity Stones, artifacts of unimaginable power, and use them to inflict his twisted will on all of reality. Everything the Avengers have fought for has led up to this moment - the fate of Earth and existence itself has never been more uncertain.",
           "popularity": 412.777,
           "poster_path": "/7WsyChQLEftFiDOVTGkv3hFpyyt.jpg",
           "release_date": "2018-04-25",
           "title": "Avengers: Infinity War",
           "video": false,
           "vote_average": 8.3,
           "vote_count": 23869
          },
          {
           "adult": false,
           "backdrop_path": "/7RyHsO4yDXtBv1zUU3mTpHeQ0d5.jpg",
           "genre_ids": [
            12,
            878,
            28
           ],
           "id": 299534,
           "media_type": "movie",
           "original_language": "en",
           "original_title": "Avengers: Endgame",
           "overview": "After the devastating events of Avengers: Infinity War, the universe is in ruins due to the efforts of the Mad Titan, Thanos. With the help of remaining allies, the Avengers must assemble once more in order to undo Thanos' actions and restore order to the universe once and for all, no matter what consequences may be in store.",
           "popularity": 262.479,
           "poster_path": "/or06FN3Dka5tukK1e9sl16pB3iy.jpg",
           "release_date": "2019-04-24",
           "title": "Avengers: Endgame",
           "video": false,
           "vote_average": 8.3,
           "vote_count": 20307
          },
          {
           "adult": false,
           "backdrop_path": "/7FWlcZq3r6525LWOcvO9kNWurN1.jpg",
           "genre_ids": [
            12,
            28,
            878
           ],
           "id": 271110,
           "media_type": "movie",
           "original_language": "en",
           "original_title": "Captain America: Civil War",
           "overview": "Following the events of Age of Ultron, the collective governments of the world pass an act designed to regulate all superhuman activity. This polarizes opinion amongst the Avengers, causing two factions to side with Iron Man or Captain America, which causes an epic battle between former allies.",
           "popularity": 192.474,
           "poster_path": "/rAGiXaUfPzY7CDEyNKUofk3Kw2e.jpg",
           "release_date": "2016-04-27",
           "title": "Captain America: Civil War",
           "video": false,
           "vote_average": 7.4,
           "vote_count": 19341
          }
         ],
         "known_for_department": "Acting",
         "media_type": "person",
         "name": "Tom Holland",
         "popularity": 128.373,
         "profile_path": "/2qhIDp44cAqP2clOgt2afQI07X8.jpg"
        },
        {
         "adult": false,
         "gender": 2,
         "id": 525,
         "known_for": [
          {
           "adult": false,
           "backdrop_path": "/s3TBrRGB1iav7gFOCNx3H31MoES.jpg",
           "genre_ids": [
            28,
            878,
            12
           ],
           "id": 27205,
           "media_type": "movie",
           "original_language": "en",
           "original_title": "Inception",
           "overview": "Cobb, a skilled thief who commits corporate espionage by infiltrating the subconscious of his targets is offered a chance to regain his old life as payment for a task considered to be impossible: \"inception\", the implantation of another person's idea into a target's subconscious.",
           "popularity": 158.634,
           "poster_path": "/edv5CZvWj09upOsy2Y6IwDhK8bt.jpg",
           "release_date": "2010-07-15",
           "title": "Inception",
           "video": false,
           "vote_average": 8.4,
           "vote_count": 30894
          },
          {
           "adult": false,
           "backdrop_path": "/rAiYTfKGqDCRIIqo664sY9XZIvQ.jpg",
           "genre_ids": [
            12,
            18,
            878
           ],
           "id": 157336,
           "media_type": "movie",
           "original_language": "en",
           "original_title": "Interstellar",
           "overview": "The adventures of a group of explorers who make use of a newly discovered wormhole to surpass the limitations on human space travel and conquer the vast distances involved in an interstellar voyage.",
           "popularity": 138.194,
           "poster_path": "/gEU2QniE6E77NI6lCU6MxlNBvIx.jpg",
           "release_date": "2014-11-05",
           "title": "Interstellar",
           "video": false,
           "vote_average": 8.4,
           "vote_count": 27767
          },
          {
           "adult": false,
           "backdrop_path": "/nMKdUUepR0i5zn0y1T4CsSB5chy.jpg",
           "genre_ids": [
            18,
            28,
            80,
            53
           ],
           "id": 155,
           "media_type": "movie",
           "original_language": "en",
           "original_title": "The Dark Knight",
           "overview": "Batman raises the stakes in his war on crime. With the help of Lt. Jim Gordon and District Attorney Harvey Dent, Batman sets out to dismantle the remaining criminal organizations that plague the streets. The partnership proves to be effective, but they soon find themselves prey to a reign of chaos unleashed by a rising criminal mastermind known to the terrified citizens of Gotham as the Joker.",
           "popularity": 82.878,
           "poster_path": "/qJ2tW6WMUDux911r6m7haRef0WH.jpg",
           "release_date": "2008-07-14",
           "title": "The Dark Knight",
           "video": false,
           "vote_average": 8.5,
           "vote_count": 26798
          }
         ],
         "known_for_department": "Directing",
         "media_type": "person",
         "name": "Christopher Nolan",
         "popularity": 18.676,
         "profile_path": "/xuAIuYSmsUzKlUMBFGVZaWsY3DZ.jpg"
        },
        {
         "adult": false,
         "gender": 2,
         "id": 2963,
         "known_for": [
          {
           "adult": false,
           "backdrop_path": "/x2IqsMlpbOhS8zIUJfyl1yO4gHF.jpg",
           "genre_ids": [
            28,
            12,
            16,
            878
           ],
           "id": 324857,
           "media_type": "movie",
           "original_language": "en",
           "original_title": "Spider-Man: Into the Spider-Verse",
           "overview": "Miles Morales is juggling his life between being a high school student and being a spider-man. When Wilson \"Kingpin\" Fisk uses a super collider, others from across the Spider-Verse are transported to this dimension.",
           "popularity": 247.387,
           "poster_path": "/iiZZdoQBEYBv6id8su7ImL0oCbD.jpg",
           "release_date": "2018-12-06",
           "title": "Spider-Man: Into the Spider-Verse",
           "video": false,
           "vote_average": 8.4,
           "vote_count": 10786
          },
          {
           "adult": false,
           "backdrop_path": "/zvRsjPHJDoJhhNdmYkFJqCdqmyr.jpg",
           "genre_ids": [
            28,
            80
           ],
           "id": 23483,
           "media_type": "movie",
           "original_language": "en",
           "original_title": "Kick-Ass",
           "overview": "Dave Lizewski is an unnoticed high school student and comic book fan who one day decides to become a super-hero, even though he has no powers, training or meaningful reason to do so.",
           "popularity": 73.843,
           "poster_path": "/8citjdBmjddZjlPsAHEyCKwGVvD.jpg",
           "release_date": "2010-03-22",
           "title": "Kick-Ass",
           "video": false,
           "vote_average": 7.1,
           "vote_count": 9901
          },
          {
           "adult": false,
           "backdrop_path": "/bNgqt819qpHcszjCzLCG5y16ldF.jpg",
           "genre_ids": [
            16,
            12,
            10751,
            14,
            35,
            28
           ],
           "id": 49519,
           "media_type": "movie",
           "original_language": "en",
           "original_title": "The Croods",
           "overview": "The prehistoric Croods family live in a particularly dangerous moment in time. Patriarch Grug, his mate Ugga, teenage daughter Eep, son Thunk, and feisty Gran gather food by day and huddle together in a cave at night. When a more evolved caveman named Guy arrives on the scene, Grug is distrustful, but it soon becomes apparent that Guy is correct about the impending destruction of their world.",
           "popularity": 93.352,
           "poster_path": "/27zvjVOtOi5ped1HSlJKNsKXkFH.jpg",
           "release_date": "2013-03-15",
           "title": "The Croods",
           "video": false,
           "vote_average": 6.9,
           "vote_count": 5834
          }
         ],
         "known_for_department": "Acting",
         "media_type": "person",
         "name": "Nicolas Cage",
         "popularity": 29.644,
         "profile_path": "/y1RtezurZYveYkVNRht7CwEgSYY.jpg"
        },
        {
         "adult": false,
         "gender": 2,
         "id": 500,
         "known_for": [
          {
           "adult": false,
           "backdrop_path": "/b4ZjgjOvbIJ6oJoiCJpnYNT50s2.jpg",
           "genre_ids": [
            28,
            878
           ],
           "id": 137113,
           "media_type": "movie",
           "original_language": "en",
           "original_title": "Edge of Tomorrow",
           "overview": "Major Bill Cage is an officer who has never seen a day of combat when he is unceremoniously demoted and dropped into combat. Cage is killed within minutes, managing to take an alpha alien down with him. He awakens back at the beginning of the same day and is forced to fight and die again... and again - as physical contact with the alien has thrown him into a time loop.",
           "popularity": 79.093,
           "poster_path": "/uUHvlkLavotfGsNtosDy8ShsIYF.jpg",
           "release_date": "2014-05-27",
           "title": "Edge of Tomorrow",
           "video": false,
           "vote_average": 7.6,
           "vote_count": 11353
          },
          {
           "adult": false,
           "backdrop_path": "/Pv6vu1lxgct3GWhUXVVOMZwNlZ.jpg",
           "genre_ids": [
            28,
            878,
            12,
            9648
           ],
           "id": 75612,
           "media_type": "movie",
           "original_language": "en",
           "original_title": "Oblivion",
           "overview": "Jack Harper is one of the last few drone repairmen stationed on Earth.  Part of a massive operation to extract vital resources after decades of war with a terrifying threat known as the Scavs, Jack’s mission is nearly complete.  His existence is brought crashing down when he rescues a beautiful  stranger from a downed spacecraft.  Her arrival triggers a chain of events that  forces him to question everything he knows and puts the fate of humanity in his hands.",
           "popularity": 31.011,
           "poster_path": "/eO3r38fwnhb58M1YgcjQBd3VNcp.jpg",
           "release_date": "2013-04-10",
           "title": "Oblivion",
           "video": false,
           "vote_average": 6.6,
           "vote_count": 9066
          },
          {
           "adult": false,
           "backdrop_path": "/hqyjzDRCs1N5gEsh2gklzPdsEFD.jpg",
           "genre_ids": [
            28,
            53,
            12
           ],
           "id": 56292,
           "media_type": "movie",
           "original_language": "en",
           "original_title": "Mission: Impossible - Ghost Protocol",
           "overview": "Ethan Hunt and his team are racing against time to track down a dangerous terrorist named Hendricks, who has gained access to Russian nuclear launch codes and is planning a strike on the United States. An attempt to stop him ends in an explosion causing severe destruction to the Kremlin and the IMF to be implicated in the bombing, forcing the President to disavow them. No longer being aided by the government, Ethan and his team chase Hendricks around the globe, although they might still be too late to stop a disaster.",
           "popularity": 71.661,
           "poster_path": "/7GCKNRbzcA4rJXAKoE8KS9IDnZP.jpg",
           "release_date": "2011-12-07",
           "title": "Mission: Impossible - Ghost Protocol",
           "video": false,
           "vote_average": 7,
           "vote_count": 8125
          }
         ],
         "known_for_department": "Acting",
         "media_type": "person",
         "name": "Tom Cruise",
         "popularity": 42.564,
         "profile_path": "/8qBylBsQf4llkGrWR3qAsOtOU8O.jpg"
        },
        {
         "adult": false,
         "gender": 2,
         "id": 976,
         "known_for": [
          {
           "adult": false,
           "backdrop_path": "/mRfI3y2oAd7ejur2di09xC9niqp.jpg",
           "genre_ids": [
            28,
            53,
            80
           ],
           "id": 82992,
           "media_type": "movie",
           "original_language": "en",
           "original_title": "Fast & Furious 6",
           "overview": "Hobbs has Dominic and Brian reassemble their crew to take down a team of mercenaries: Dominic unexpectedly gets convoluted also facing his presumed deceased girlfriend, Letty.",
           "popularity": 13.014,
           "poster_path": "/n31VRDodbaZxkrZmmzyYSFNVpW5.jpg",
           "release_date": "2013-05-21",
           "title": "Fast & Furious 6",
           "video": false,
           "vote_average": 6.8,
           "vote_count": 9098
          },
          {
           "adult": false,
           "backdrop_path": "/cHkhb5A4gQRK6zs6Pv7zorHs8Nk.jpg",
           "genre_ids": [
            28,
            53,
            80,
            12
           ],
           "id": 168259,
           "media_type": "movie",
           "original_language": "en",
           "original_title": "Furious 7",
           "overview": "Deckard Shaw seeks revenge against Dominic Toretto and his family for his comatose brother.",
           "popularity": 115.548,
           "poster_path": "/ktofZ9Htrjiy0P6LEowsDaxd3Ri.jpg",
           "release_date": "2015-04-01",
           "title": "Furious 7",
           "video": false,
           "vote_average": 7.3,
           "vote_count": 8926
          },
          {
           "adult": false,
           "backdrop_path": "/jzdnhRhG0dsuYorwvSqPqqnM1cV.jpg",
           "genre_ids": [
            28,
            80,
            53
           ],
           "id": 337339,
           "media_type": "movie",
           "original_language": "en",
           "original_title": "The Fate of the Furious",
           "overview": "When a mysterious woman seduces Dom into the world of crime and a betrayal of those closest to him, the crew face trials that will test them as never before.",
           "popularity": 133.093,
           "poster_path": "/dImWM7GJqryWJO9LHa3XQ8DD5NH.jpg",
           "release_date": "2017-04-12",
           "title": "The Fate of the Furious",
           "video": false,
           "vote_average": 6.9,
           "vote_count": 8740
          }
         ],
         "known_for_department": "Acting",
         "media_type": "person",
         "name": "Jason Statham",
         "popularity": 44.672,
         "profile_path": "/lldeQ91GwIVff43JBrpdbAAeYWj.jpg"
        },
        {
         "adult": false,
         "gender": 2,
         "id": 8784,
         "known_for": [
          {
           "adult": false,
           "backdrop_path": "/k6EOrckWFuz7I4z4wiRwz8zsj4H.jpg",
           "genre_ids": [
            28,
            12,
            878,
            14
           ],
           "id": 140607,
           "media_type": "movie",
           "original_language": "en",
           "original_title": "Star Wars: The Force Awakens",
           "overview": "Thirty years after defeating the Galactic Empire, Han Solo and his allies face a new threat from the evil Kylo Ren and his army of Stormtroopers.",
           "popularity": 102.855,
           "poster_path": "/wqnLdwVXoBjKibFRR5U3y0aDUhs.jpg",
           "release_date": "2015-12-15",
           "title": "Star Wars: The Force Awakens",
           "video": false,
           "vote_average": 7.33,
           "vote_count": 16668
          },
          {
           "adult": false,
           "backdrop_path": "/tLHx93pJL00XmAQsjGuW4PFsJq9.jpg",
           "genre_ids": [
            28,
            12,
            53
           ],
           "id": 37724,
           "media_type": "movie",
           "original_language": "en",
           "original_title": "Skyfall",
           "overview": "When Bond's latest assignment goes gravely wrong and agents around the world are exposed, MI6 is attacked forcing M to relocate the agency. These events cause her authority and position to be challenged by Gareth Mallory, the new Chairman of the Intelligence and Security Committee. With MI6 now compromised from both inside and out, M is left with one ally she can trust: Bond. 007 takes to the shadows - aided only by field agent, Eve - following a trail to the mysterious Silva, whose lethal and hidden motives have yet to reveal themselves.",
           "popularity": 92.665,
           "poster_path": "/izrHg2UzxG3YXTBcKFaUbYp9LWA.jpg",
           "release_date": "2012-10-25",
           "title": "Skyfall",
           "video": false,
           "vote_average": 7.193,
           "vote_count": 13228
          },
          {
           "adult": false,
           "backdrop_path": "/tcf8WL3Lf1nWkOOT7SdhbS2kU6E.jpg",
           "genre_ids": [
            28,
            12,
            53
           ],
           "id": 206647,
           "media_type": "movie",
           "original_language": "en",
           "original_title": "Spectre",
           "overview": "A cryptic message from Bond’s past sends him on a trail to uncover a sinister organization. While M battles political forces to keep the secret service alive, Bond peels back the layers of deceit to reveal the terrible truth behind SPECTRE.",
           "popularity": 69.667,
           "poster_path": "/zj8ongFhtWNsVlfjOGo8pSr7PQg.jpg",
           "release_date": "2015-10-26",
           "title": "Spectre",
           "video": false,
           "vote_average": 6.506,
           "vote_count": 8892
          }
         ],
         "known_for_department": "Acting",
         "media_type": "person",
         "name": "Daniel Craig",
         "popularity": 26.956,
         "profile_path": "/iFerDZUmC5Fu26i4qI8xnUVEHc7.jpg"
        },
        {
         "adult": false,
         "gender": 2,
         "id": 229931,
         "known_for": [
          {
           "adult": false,
           "backdrop_path": "/6DEl5KfpKkS6ZEiy4s9s7EukpAB.jpg",
           "genre_ids": [
            18
           ],
           "id": 60243,
           "media_type": "movie",
           "original_language": "fa",
           "original_title": "جدایی نادر از سیمین",
           "overview": "A married couple are faced with a difficult decision - to improve the life of their child by moving to another country or to stay in Iran and look after a deteriorating parent who has Alzheimer's disease.",
           "popularity": 11.914,
           "poster_path": "/wQVvASmpm8jGhJBQU20OkoMcNzi.jpg",
           "release_date": "2011-03-15",
           "title": "A Separation",
           "video": false,
           "vote_average": 7.9,
           "vote_count": 1275
          },
          {
           "adult": false,
           "backdrop_path": "/gJqQxpe03aIRZZjy8A4nbLtBpch.jpg",
           "genre_ids": [
            18
           ],
           "id": 401545,
           "media_type": "movie",
           "original_language": "es",
           "original_title": "Todos lo saben",
           "overview": "Laura, a Spanish woman living in Buenos Aires, returns to her hometown outside Madrid with her Argentinian husband and children. However, the trip is upset by unexpected events that bring secrets into the open.",
           "popularity": 14.517,
           "poster_path": "/1TuuM451os3NaltCwGfPCVL2BST.jpg",
           "release_date": "2018-05-09",
           "title": "Everybody Knows",
           "video": false,
           "vote_average": 6.5,
           "vote_count": 764
          },
          {
           "adult": false,
           "backdrop_path": "/woSmQgo1wxE4WRVXWHrmgv3jy2O.jpg",
           "genre_ids": [
            18,
            53
           ],
           "id": 375315,
           "media_type": "movie",
           "original_language": "fa",
           "original_title": "فروشنده",
           "overview": "Forced out of their apartment due to dangerous works on a neighboring building, Emad and Rana move into a new flat in the center of Tehran. An incident linked to the previous tenant will dramatically change the young couple’s life.",
           "popularity": 16.724,
           "poster_path": "/z2AFU8rv7HmNosDvnVcMrG7OlVN.jpg",
           "release_date": "2016-06-24",
           "title": "The Salesman",
           "video": false,
           "vote_average": 7.3,
           "vote_count": 659
          }
         ],
         "known_for_department": "Directing",
         "media_type": "person",
         "name": "Asghar Farhadi",
         "popularity": 4.528,
         "profile_path": "/iJB0ZFCOpWVBlehfOeuZOK8eWh5.jpg"
        },
        {
         "adult": false,
         "gender": 2,
         "id": 5292,
         "known_for": [
          {
           "adult": false,
           "backdrop_path": "/gIjKKa0F4DOTub2CH8TwLe4tPOf.jpg",
           "genre_ids": [
            53,
            28,
            80
           ],
           "id": 156022,
           "media_type": "movie",
           "original_language": "en",
           "original_title": "The Equalizer",
           "overview": "McCall believes he has put his mysterious past behind him and dedicated himself to beginning a new, quiet life. But when he meets Teri, a young girl under the control of ultra-violent Russian gangsters, he can’t stand idly by – he has to help her. Armed with hidden skills that allow him to serve vengeance against anyone who would brutalize the helpless, McCall comes out of his self-imposed retirement and finds his desire for justice reawakened. If someone has a problem, if the odds are stacked against them, if they have nowhere else to turn, McCall will help. He is The Equalizer.",
           "popularity": 83.996,
           "poster_path": "/9u4yW7yPA0BQ2pv9XwiNzItwvp8.jpg",
           "release_date": "2014-09-24",
           "title": "The Equalizer",
           "video": false,
           "vote_average": 7.2,
           "vote_count": 7040
          },
          {
           "adult": false,
           "backdrop_path": "/bQMRePvke0SruzXuDmx9v8vqNWW.jpg",
           "genre_ids": [
            18
           ],
           "id": 87502,
           "media_type": "movie",
           "original_language": "en",
           "original_title": "Flight",
           "overview": "Commercial airline pilot Whip Whitaker has a problem with drugs and alcohol, though so far he's managed to complete his flights safely. His luck runs out when a disastrous mechanical malfunction sends his plane hurtling toward the ground. Whip pulls off a miraculous crash-landing that results in only six lives lost. Shaken to the core, Whip vows to get sober -- but when the crash investigation exposes his addiction, he finds himself in an even worse situation.",
           "popularity": 28.111,
           "poster_path": "/1AjXgBM2lkpG3FLQO0f6AK3Bi1e.jpg",
           "release_date": "2012-11-02",
           "title": "Flight",
           "video": false,
           "vote_average": 6.8,
           "vote_count": 4944
          },
          {
           "adult": false,
           "backdrop_path": "/aPrrrGtSjXbw8XnpzsVJgF0ioq3.jpg",
           "genre_ids": [
            28,
            53,
            878
           ],
           "id": 20504,
           "media_type": "movie",
           "original_language": "en",
           "original_title": "The Book of Eli",
           "overview": "A post-apocalyptic tale, in which a lone man fights his way across America in order to protect a sacred book that holds the secrets to saving humankind.",
           "popularity": 27.727,
           "poster_path": "/1H1y9ZiqNFaLgQiRDDZLA55PviW.jpg",
           "release_date": "2010-01-11",
           "title": "The Book of Eli",
           "video": false,
           "vote_average": 6.8,
           "vote_count": 4940
          }
         ],
         "known_for_department": "Acting",
         "media_type": "person",
         "name": "Denzel Washington",
         "popularity": 31.845,
         "profile_path": "/8osNHZW1ZlBVp50xVdWH0fGu9Dx.jpg"
        },
        {
         "adult": false,
         "gender": 2,
         "id": 1100,
         "known_for": [
          {
           "adult": false,
           "backdrop_path": "/hplKoKmi0IL1uDPYtHu3rogcvIQ.jpg",
           "genre_ids": [
            28,
            53,
            878
           ],
           "id": 218,
           "media_type": "movie",
           "original_language": "en",
           "original_title": "The Terminator",
           "overview": "In the post-apocalyptic future, reigning tyrannical supercomputers teleport a cyborg assassin known as the \"Terminator\" back to 1984 to kill Sarah Connor, whose unborn son is destined to lead insurgents against 21st century mechanical hegemony. Meanwhile, the human-resistance movement dispatches a lone warrior to safeguard Sarah. Can he stop the virtually indestructible killing machine?",
           "popularity": 55.989,
           "poster_path": "/qvktm0BHcnmDpul4Hz01GIazWPr.jpg",
           "release_date": "1984-10-26",
           "title": "The Terminator",
           "video": false,
           "vote_average": 7.6,
           "vote_count": 10152
          },
          {
           "adult": false,
           "backdrop_path": "/xKb6mtdfI5Qsggc44Hr9CCUDvaj.jpg",
           "genre_ids": [
            28,
            53,
            878
           ],
           "id": 280,
           "media_type": "movie",
           "original_language": "en",
           "original_title": "Terminator 2: Judgment Day",
           "overview": "Nearly 10 years have passed since Sarah Connor was targeted for termination by a cyborg from the future. Now her son, John, the future leader of the resistance, is the target for a newer, more deadly terminator. Once again, the resistance has managed to send a protector back to attempt to save John and his mother Sarah.",
           "popularity": 67.555,
           "poster_path": "/weVXMD5QBGeQil4HEATZqAkXeEc.jpg",
           "release_date": "1991-07-03",
           "title": "Terminator 2: Judgment Day",
           "video": false,
           "vote_average": 8.1,
           "vote_count": 10072
          },
          {
           "adult": false,
           "backdrop_path": "/g4a5YLWwi6OCp8TcvxsUNrXMbN5.jpg",
           "genre_ids": [
            878,
            28,
            53,
            12
           ],
           "id": 87101,
           "media_type": "movie",
           "original_language": "en",
           "original_title": "Terminator Genisys",
           "overview": "The year is 2029. John Connor, leader of the resistance continues the war against the machines. At the Los Angeles offensive, John's fears of the unknown future begin to emerge when TECOM spies reveal a new plot by SkyNet that will attack him from both fronts; past and future, and will ultimately change warfare forever.",
           "popularity": 112.237,
           "poster_path": "/oZRVDpNtmHk8M1VYy1aeOWUXgbC.jpg",
           "release_date": "2015-06-23",
           "title": "Terminator Genisys",
           "video": false,
           "vote_average": 5.9,
           "vote_count": 7052
          }
         ],
         "known_for_department": "Acting",
         "media_type": "person",
         "name": "Arnold Schwarzenegger",
         "popularity": 33.546,
         "profile_path": "/z6IbTtI2FWAVZE6b1V4mqEHjwO6.jpg"
        },
        {
         "adult": false,
         "gender": 2,
         "id": 2421480,
         "known_for": [
          {
           "backdrop_path": "/9wbFXCcMLNO4V8W7trERZoPcZMC.jpg",
           "first_air_date": "2021-01-05",
           "genre_ids": [
            16,
            18
           ],
           "id": 116181,
           "media_type": "tv",
           "name": "When the Hydrangeas fall",
           "origin_country": [
            "JP"
           ],
           "original_language": "ja",
           "original_name": "Ajisai no Chiru Koro ni",
           "overview": "Yuuta Yamano and Shinomiya Natsuha are dating. But it seems that he has no idea that she is hiding a secret relationship that gives her more satisfaction than dating him.",
           "popularity": 88.243,
           "poster_path": "/lGaiXdJSB02drrazdqtBZMGP0L3.jpg",
           "vote_average": 7,
           "vote_count": 5
          },
          {
           "backdrop_path": "/1FOwTzCKjuIUyXdOfwFb7BM1nN5.jpg",
           "first_air_date": "2015-04-24",
           "genre_ids": [],
           "id": 78426,
           "media_type": "tv",
           "name": "Monster Family House: The Nightmare of Living With Family Who Rape My Girlfriend",
           "origin_country": [
            "JP"
           ],
           "original_language": "ja",
           "original_name": "Kedamono-tachi no Sumu Ie de",
           "overview": "Arata Asaoka lives with his despicable, chauvinist father and older brother.\n\nA house of three men.\n\nArata was an illegitimate child. Bearing only a tenuous blood relation to the man who bastarded him into the world, he was treated like a second-rate human. With nowhere else to go, Arata suffered the cruelty of his father and brother for years. For years, he forced a smile and pretended happiness for the sake of strangers...\n\nOne day he met the girl who gave him hope. Her name was Koharu Hinomoto. She was a ray of sunshine. Being with Koharu made Arata feel good, and he fell deep in love. He began to believe that his life could be better.\n\nArata decided he would move out and live with her.\n\nEven without money, they could make it work. Anything was better than how he lived right now.\n\nArata knew in his heart that he could make a warm, loving family with Koharu.\n\nIf he could just move out... before his despicable family ruins everything.",
           "popularity": 12.637,
           "poster_path": "/20vJEIdU45QCAG6gVJsE1QjnEd1.jpg",
           "vote_average": 0,
           "vote_count": 0
          }
         ],
         "known_for_department": "Visual Effects",
         "media_type": "person",
         "name": "Hiromitsu Takeda",
         "popularity": 17.055,
         "profile_path": null
        },
        {
         "adult": false,
         "gender": 2,
         "id": 2888,
         "known_for": [
          {
           "adult": false,
           "backdrop_path": "/sMRwI5trKI6qhxYcjPgGghmPBef.jpg",
           "genre_ids": [
            28,
            12,
            14
           ],
           "id": 297761,
           "media_type": "movie",
           "original_language": "en",
           "original_title": "Suicide Squad",
           "overview": "From DC Comics comes the Suicide Squad, an antihero team of incarcerated supervillains who act as deniable assets for the United States government, undertaking high-risk black ops missions in exchange for commuted prison sentences.",
           "popularity": 89.88,
           "poster_path": "/xFw9RXKZDvevAGocgBK0zteto4U.jpg",
           "release_date": "2016-08-03",
           "title": "Suicide Squad",
           "video": false,
           "vote_average": 5.9,
           "vote_count": 18444
          },
          {
           "adult": false,
           "backdrop_path": "/lhVVIWKR13khBvjFz8XyZ2GM0JS.jpg",
           "genre_ids": [
            18,
            878,
            53
           ],
           "id": 6479,
           "media_type": "movie",
           "original_language": "en",
           "original_title": "I Am Legend",
           "overview": "Robert Neville is a scientist who was unable to stop the spread of the terrible virus that was incurable and man-made. Immune, Neville is now the last human survivor in what is left of New York City and perhaps the world. For three years, Neville has faithfully sent out daily radio messages, desperate to find any other survivors who might be out there. But he is not alone.",
           "popularity": 91.422,
           "poster_path": "/iPDkaSdKk2jRLTM65UOEoKtsIZ8.jpg",
           "release_date": "2007-12-12",
           "title": "I Am Legend",
           "video": false,
           "vote_average": 7.2,
           "vote_count": 12947
          },
          {
           "adult": false,
           "backdrop_path": "/1GJvBE7UWU1WOVi0XREl4JQc7f8.jpg",
           "genre_ids": [
            28,
            12,
            35,
            878
           ],
           "id": 607,
           "media_type": "movie",
           "original_language": "en",
           "original_title": "Men in Black",
           "overview": "After a police chase with an otherworldly being, a New York City cop is recruited as an agent in a top-secret organization established to monitor and police alien activity on Earth: the Men in Black. Agent Kay and new recruit Agent Jay find themselves in the middle of a deadly plot by an intergalactic terrorist who has arrived on Earth to assassinate two ambassadors from opposing galaxies.",
           "popularity": 59.377,
           "poster_path": "/uLOmOF5IzWoyrgIF5MfUnh5pa1X.jpg",
           "release_date": "1997-07-02",
           "title": "Men in Black",
           "video": false,
           "vote_average": 7.2,
           "vote_count": 11346
          }
         ],
         "known_for_department": "Acting",
         "media_type": "person",
         "name": "Will Smith",
         "popularity": 47.72,
         "profile_path": "/6a6cl4ZNufJzrx5HZKWPU1BjjRF.jpg"
        },
        {
         "adult": false,
         "gender": 2,
         "id": 190,
         "known_for": [
          {
           "adult": false,
           "backdrop_path": "/smAnf46gZL1jXuP9nZvkM3Uynav.jpg",
           "genre_ids": [
            10752,
            28
           ],
           "id": 190859,
           "media_type": "movie",
           "original_language": "en",
           "original_title": "American Sniper",
           "overview": "U.S. Navy SEAL Chris Kyle takes his sole mission—protect his comrades—to heart and becomes one of the most lethal snipers in American history. His pinpoint accuracy not only saves countless lives but also makes him a prime target of insurgents. Despite grave danger and his struggle to be a good husband and father to his family back in the States, Kyle serves four tours of duty in Iraq. However, when he finally returns home, he finds that he cannot leave the war behind.",
           "popularity": 104.611,
           "poster_path": "/i1U46OwMc6vlm7OoSUKfqUH615e.jpg",
           "release_date": "2014-12-25",
           "title": "American Sniper",
           "video": false,
           "vote_average": 7.4,
           "vote_count": 10860
          },
          {
           "adult": false,
           "backdrop_path": "/2t82UwR1OtqBrDkbMMQRiRpTyi8.jpg",
           "genre_ids": [
            18
           ],
           "id": 13223,
           "media_type": "movie",
           "original_language": "en",
           "original_title": "Gran Torino",
           "overview": "Disgruntled Korean War veteran Walt Kowalski sets out to reform his neighbor, Thao Lor, a Hmong teenager who tried to steal Kowalski's prized possession: a 1972 Gran Torino.",
           "popularity": 31.776,
           "poster_path": "/zUybYvxWdAJy5hhYovsXtHSWI1l.jpg",
           "release_date": "2008-12-09",
           "title": "Gran Torino",
           "video": false,
           "vote_average": 8,
           "vote_count": 8742
          },
          {
           "adult": false,
           "backdrop_path": "/oGMomeS7bE43eN8SGJUaKvQnmud.jpg",
           "genre_ids": [
            18
           ],
           "id": 70,
           "media_type": "movie",
           "original_language": "en",
           "original_title": "Million Dollar Baby",
           "overview": "Despondent over a painful estrangement from his daughter, trainer Frankie Dunn isn't prepared for boxer Maggie Fitzgerald to enter his life. But Maggie's determined to go pro and to convince Dunn and his cohort to help her.",
           "popularity": 34.403,
           "poster_path": "/2ti3l1OeB8G94yyqfAI7nmMZUbA.jpg",
           "release_date": "2004-12-15",
           "title": "Million Dollar Baby",
           "video": false,
           "vote_average": 8,
           "vote_count": 7699
          }
         ],
         "known_for_department": "Acting",
         "media_type": "person",
         "name": "Clint Eastwood",
         "popularity": 29.336,
         "profile_path": "/dU35NnjZ4aGw5abIJe3WXVf3Eey.jpg"
        }
       ],
       "total_pages": 1000,
       "total_results": 20000
      },
      "text/plain": [
       "<IPython.core.display.JSON object>"
      ]
     },
     "execution_count": 24,
     "metadata": {
      "application/json": {
       "expanded": false,
       "root": "root"
      }
     },
     "output_type": "execute_result"
    }
   ],
   "source": [
    "trend_peop = trending('person', 'week')\n",
    "\n",
    "JSON(trend_peop)"
   ]
  },
  {
   "cell_type": "code",
   "execution_count": 27,
   "metadata": {},
   "outputs": [
    {
     "name": "stdout",
     "output_type": "stream",
     "text": [
      "Top 5 trending movies in a week are:\n",
      "Tom Holland\n",
      "Keanu Reeves\n",
      "Leonardo DiCaprio\n",
      "Will Smith\n",
      "Bruce Willis\n"
     ]
    }
   ],
   "source": [
    "pop_peop = {}\n",
    "for item in trend_peop['results']:\n",
    "    pop_peop[item['name']]= item['popularity']\n",
    "        \n",
    "peop_top_5 = Counter(pop_peop).most_common(5)\n",
    "print('Top 5 trending movies in a week are:')\n",
    "for item in peop_top_5: print(item[0])"
   ]
  },
  {
   "cell_type": "code",
   "execution_count": null,
   "metadata": {},
   "outputs": [],
   "source": []
  }
 ],
 "metadata": {
  "kernelspec": {
   "display_name": "Python 3 (ipykernel)",
   "language": "python",
   "name": "python3"
  },
  "language_info": {
   "codemirror_mode": {
    "name": "ipython",
    "version": 3
   },
   "file_extension": ".py",
   "mimetype": "text/x-python",
   "name": "python",
   "nbconvert_exporter": "python",
   "pygments_lexer": "ipython3",
   "version": "3.9.7"
  }
 },
 "nbformat": 4,
 "nbformat_minor": 4
}

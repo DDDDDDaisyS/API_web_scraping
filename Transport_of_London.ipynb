{
 "cells": [
  {
   "cell_type": "markdown",
   "metadata": {
    "tags": []
   },
   "source": [
    "# Mini-Project I\n",
    "During this project, we will practice handling of complex lists and dictionaries in Python. Plus, we will learn how to work with API documentation. Don't be afraid to search for the information in the [**documentation**](https://api.tfl.gov.uk/swagger/ui/index.html?url=/swagger/docs/v1#!/AccidentStats/AccidentStats_Get).\n",
    "\n",
    "Let's go to the tasks, we have some parsing to do :)!!"
   ]
  },
  {
   "cell_type": "code",
   "execution_count": 1,
   "metadata": {},
   "outputs": [],
   "source": [
    "# import packages we need\n",
    "import requests as re\n",
    "from IPython.display import JSON"
   ]
  },
  {
   "cell_type": "markdown",
   "metadata": {},
   "source": [
    "## URL Testing Demo"
   ]
  },
  {
   "cell_type": "code",
   "execution_count": 2,
   "metadata": {},
   "outputs": [],
   "source": [
    "# URL\n",
    "url = \"https://api.tfl.gov.uk/AirQuality\""
   ]
  },
  {
   "cell_type": "code",
   "execution_count": 3,
   "metadata": {},
   "outputs": [
    {
     "name": "stdout",
     "output_type": "stream",
     "text": [
      "200\n"
     ]
    }
   ],
   "source": [
    "# send the request to the API\n",
    "# this API doesn't need an APP_KEY\n",
    "res = re.get(url)\n",
    "\n",
    "# check if the request was successful\n",
    "print(res.status_code)"
   ]
  },
  {
   "cell_type": "code",
   "execution_count": 4,
   "metadata": {},
   "outputs": [
    {
     "data": {
      "application/json": {
       "$id": "1",
       "$type": "Tfl.Api.Presentation.Entities.LondonAirForecast, Tfl.Api.Presentation.Entities",
       "currentForecast": [
        {
         "$id": "2",
         "$type": "Tfl.Api.Presentation.Entities.CurrentForecast, Tfl.Api.Presentation.Entities",
         "forecastBand": "Low",
         "forecastID": "35873",
         "forecastSummary": "Low air pollution forecast valid from Wednesday 13 April to end of Wednesday 13 April GMT",
         "forecastText": "Increasingly warm with sunny spells Wednesday interspersed with cloudier periods and scattered showers.&lt;br/&gt;&lt;br/&gt;There should also be enough air movement to prevent the build-up of local emissions in a light &#39;clean&#39; south westerly Atlantic airflow.&lt;br/&gt;&lt;br/&gt;Overall air pollution is expected to remain &#39;Low&#39; throughout the forecast period for the following pollutants:&lt;br/&gt;&lt;br/&gt;Nitrogen Dioxide&lt;br/&gt;Ozone&lt;br/&gt;PM10 Particulate&lt;br/&gt;PM2.5 Particulate&lt;br/&gt;Sulphur Dioxide&lt;br/&gt;&lt;br/&gt;",
         "forecastType": "Current",
         "nO2Band": "Low",
         "o3Band": "Low",
         "pM10Band": "Low",
         "pM25Band": "Low",
         "publishedDate": "2022-12-04T10:48:54Z",
         "sO2Band": "Low"
        },
        {
         "$id": "3",
         "$type": "Tfl.Api.Presentation.Entities.CurrentForecast, Tfl.Api.Presentation.Entities",
         "forecastBand": "Low",
         "forecastID": "35874",
         "forecastSummary": "Low air pollution forecast valid from Thursday 14 April to end of Thursday 14 April GMT",
         "forecastText": "Sunny early on Thursday but forecast to cloud over, continuing to be warm. &lt;br/&gt;&lt;br/&gt;Some build-up of local emissions close to roadside locations during morning rush hour, in relatively calm conditions. Any build-up is expected to disperse from late morning in a light &#39;clean&#39; south westerly Atlantic airflow.&lt;br/&gt;&lt;br/&gt;Overall air pollution is expected to remain &#39;Low&#39; throughout the forecast period for the following pollutants:&lt;br/&gt;&lt;br/&gt;Nitrogen Dioxide&lt;br/&gt;Ozone&lt;br/&gt;PM10 Particulate&lt;br/&gt;PM2.5 Particulate&lt;br/&gt;Sulphur Dioxide&lt;br/&gt;&lt;br/&gt;",
         "forecastType": "Future",
         "nO2Band": "Low",
         "o3Band": "Low",
         "pM10Band": "Low",
         "pM25Band": "Low",
         "publishedDate": "2022-12-04T11:09:23Z",
         "sO2Band": "Low"
        }
       ],
       "disclaimerText": "This forecast is intended to provide information on expected pollution levels in areas of significant public exposure. It may not apply in very specific locations close to unusually strong or short-lived local sources of pollution.",
       "forecastURL": "http://londonair.org.uk/forecast",
       "updateFrequency": "1",
       "updatePeriod": "hourly"
      },
      "text/plain": [
       "<IPython.core.display.JSON object>"
      ]
     },
     "execution_count": 4,
     "metadata": {
      "application/json": {
       "expanded": false,
       "root": "root"
      }
     },
     "output_type": "execute_result"
    }
   ],
   "source": [
    "# export the information that was returned using method .json()\n",
    "info = res.json()\n",
    "JSON(info)"
   ]
  },
  {
   "cell_type": "markdown",
   "metadata": {},
   "source": [
    "## Create a function to get response in JSON with given URL"
   ]
  },
  {
   "cell_type": "code",
   "execution_count": 6,
   "metadata": {},
   "outputs": [
    {
     "data": {
      "text/plain": [
       "{'$id': '1',\n",
       " '$type': 'Tfl.Api.Presentation.Entities.LondonAirForecast, Tfl.Api.Presentation.Entities',\n",
       " 'updatePeriod': 'hourly',\n",
       " 'updateFrequency': '1',\n",
       " 'forecastURL': 'http://londonair.org.uk/forecast',\n",
       " 'disclaimerText': 'This forecast is intended to provide information on expected pollution levels in areas of significant public exposure. It may not apply in very specific locations close to unusually strong or short-lived local sources of pollution.',\n",
       " 'currentForecast': [{'$id': '2',\n",
       "   '$type': 'Tfl.Api.Presentation.Entities.CurrentForecast, Tfl.Api.Presentation.Entities',\n",
       "   'forecastType': 'Current',\n",
       "   'forecastID': '35873',\n",
       "   'publishedDate': '2022-12-04T10:48:54Z',\n",
       "   'forecastBand': 'Low',\n",
       "   'forecastSummary': 'Low air pollution forecast valid from Wednesday 13 April to end of Wednesday 13 April GMT',\n",
       "   'nO2Band': 'Low',\n",
       "   'o3Band': 'Low',\n",
       "   'pM10Band': 'Low',\n",
       "   'pM25Band': 'Low',\n",
       "   'sO2Band': 'Low',\n",
       "   'forecastText': 'Increasingly warm with sunny spells Wednesday interspersed with cloudier periods and scattered showers.&lt;br/&gt;&lt;br/&gt;There should also be enough air movement to prevent the build-up of local emissions in a light &#39;clean&#39; south westerly Atlantic airflow.&lt;br/&gt;&lt;br/&gt;Overall air pollution is expected to remain &#39;Low&#39; throughout the forecast period for the following pollutants:&lt;br/&gt;&lt;br/&gt;Nitrogen Dioxide&lt;br/&gt;Ozone&lt;br/&gt;PM10 Particulate&lt;br/&gt;PM2.5 Particulate&lt;br/&gt;Sulphur Dioxide&lt;br/&gt;&lt;br/&gt;'},\n",
       "  {'$id': '3',\n",
       "   '$type': 'Tfl.Api.Presentation.Entities.CurrentForecast, Tfl.Api.Presentation.Entities',\n",
       "   'forecastType': 'Future',\n",
       "   'forecastID': '35874',\n",
       "   'publishedDate': '2022-12-04T11:09:23Z',\n",
       "   'forecastBand': 'Low',\n",
       "   'forecastSummary': 'Low air pollution forecast valid from Thursday 14 April to end of Thursday 14 April GMT',\n",
       "   'nO2Band': 'Low',\n",
       "   'o3Band': 'Low',\n",
       "   'pM10Band': 'Low',\n",
       "   'pM25Band': 'Low',\n",
       "   'sO2Band': 'Low',\n",
       "   'forecastText': 'Sunny early on Thursday but forecast to cloud over, continuing to be warm. &lt;br/&gt;&lt;br/&gt;Some build-up of local emissions close to roadside locations during morning rush hour, in relatively calm conditions. Any build-up is expected to disperse from late morning in a light &#39;clean&#39; south westerly Atlantic airflow.&lt;br/&gt;&lt;br/&gt;Overall air pollution is expected to remain &#39;Low&#39; throughout the forecast period for the following pollutants:&lt;br/&gt;&lt;br/&gt;Nitrogen Dioxide&lt;br/&gt;Ozone&lt;br/&gt;PM10 Particulate&lt;br/&gt;PM2.5 Particulate&lt;br/&gt;Sulphur Dioxide&lt;br/&gt;&lt;br/&gt;'}]}"
      ]
     },
     "execution_count": 6,
     "metadata": {},
     "output_type": "execute_result"
    }
   ],
   "source": [
    "# get response from given url and return it in list\n",
    "def getResponse(url, parameters=None):\n",
    "    \"\"\"\n",
    "    url: type(str) url from API\n",
    "    parameters: type(dict) specify the parameters to pass to 'params' argument in requests.get()\n",
    "    return json list or dict\n",
    "    \"\"\"\n",
    "    return re.get(url, params=parameters).json()\n",
    "\n",
    "# test\n",
    "getResponse('https://api.tfl.gov.uk/AirQuality')"
   ]
  },
  {
   "cell_type": "markdown",
   "metadata": {},
   "source": [
    "## Exploration\n",
    "### Task\n",
    "Parse the dictionary and print the AirQuality predictions for tomorrow"
   ]
  },
  {
   "cell_type": "code",
   "execution_count": 7,
   "metadata": {},
   "outputs": [
    {
     "data": {
      "application/json": {
       "$id": "3",
       "$type": "Tfl.Api.Presentation.Entities.CurrentForecast, Tfl.Api.Presentation.Entities",
       "forecastBand": "Low",
       "forecastID": "35874",
       "forecastSummary": "Low air pollution forecast valid from Thursday 14 April to end of Thursday 14 April GMT",
       "forecastText": "Sunny early on Thursday but forecast to cloud over, continuing to be warm. &lt;br/&gt;&lt;br/&gt;Some build-up of local emissions close to roadside locations during morning rush hour, in relatively calm conditions. Any build-up is expected to disperse from late morning in a light &#39;clean&#39; south westerly Atlantic airflow.&lt;br/&gt;&lt;br/&gt;Overall air pollution is expected to remain &#39;Low&#39; throughout the forecast period for the following pollutants:&lt;br/&gt;&lt;br/&gt;Nitrogen Dioxide&lt;br/&gt;Ozone&lt;br/&gt;PM10 Particulate&lt;br/&gt;PM2.5 Particulate&lt;br/&gt;Sulphur Dioxide&lt;br/&gt;&lt;br/&gt;",
       "forecastType": "Future",
       "nO2Band": "Low",
       "o3Band": "Low",
       "pM10Band": "Low",
       "pM25Band": "Low",
       "publishedDate": "2022-12-04T11:09:23Z",
       "sO2Band": "Low"
      },
      "text/plain": [
       "<IPython.core.display.JSON object>"
      ]
     },
     "execution_count": 7,
     "metadata": {
      "application/json": {
       "expanded": false,
       "root": "root"
      }
     },
     "output_type": "execute_result"
    }
   ],
   "source": [
    "# request for air quality info from API\n",
    "air_info = getResponse('https://api.tfl.gov.uk/AirQuality')\n",
    "\n",
    "# extrat air quality forcast for tomorrow\n",
    "tmr_air = air_info['currentForecast'][1]\n",
    "JSON(tmr_air)"
   ]
  },
  {
   "cell_type": "markdown",
   "metadata": {
    "tags": []
   },
   "source": [
    "### Task\n",
    "What are the different modes of transport which are operated by Transfer for London?\n",
    "Print the list with different modes of transport, plus their count. Example output:\n",
    "```\n",
    "[bus, cable-car,.....]\n",
    "Number of different modes of transport is: xyz\n",
    "```\n",
    "\n",
    "We need to search the documentation for correct request."
   ]
  },
  {
   "cell_type": "code",
   "execution_count": 8,
   "metadata": {},
   "outputs": [
    {
     "data": {
      "application/json": [
       {
        "$type": "Tfl.Api.Presentation.Entities.Mode, Tfl.Api.Presentation.Entities",
        "isFarePaying": true,
        "isScheduledService": true,
        "isTflService": true,
        "modeName": "bus"
       },
       {
        "$type": "Tfl.Api.Presentation.Entities.Mode, Tfl.Api.Presentation.Entities",
        "isFarePaying": true,
        "isScheduledService": true,
        "isTflService": true,
        "modeName": "cable-car"
       },
       {
        "$type": "Tfl.Api.Presentation.Entities.Mode, Tfl.Api.Presentation.Entities",
        "isFarePaying": true,
        "isScheduledService": true,
        "isTflService": false,
        "modeName": "coach"
       },
       {
        "$type": "Tfl.Api.Presentation.Entities.Mode, Tfl.Api.Presentation.Entities",
        "isFarePaying": false,
        "isScheduledService": false,
        "isTflService": false,
        "modeName": "cycle"
       },
       {
        "$type": "Tfl.Api.Presentation.Entities.Mode, Tfl.Api.Presentation.Entities",
        "isFarePaying": true,
        "isScheduledService": false,
        "isTflService": true,
        "modeName": "cycle-hire"
       }
      ],
      "text/plain": [
       "<IPython.core.display.JSON object>"
      ]
     },
     "execution_count": 8,
     "metadata": {
      "application/json": {
       "expanded": false,
       "root": "root"
      }
     },
     "output_type": "execute_result"
    }
   ],
   "source": [
    "# request transport line info and store in transport_list type(list)\n",
    "transport_list = getResponse('https://api.tfl.gov.uk/Line/Meta/Modes')\n",
    "\n",
    "JSON(transport_list[:5])"
   ]
  },
  {
   "cell_type": "code",
   "execution_count": 9,
   "metadata": {},
   "outputs": [
    {
     "name": "stdout",
     "output_type": "stream",
     "text": [
      "Tansport modes are displayed below:\n",
      " ['bus', 'cable-car', 'coach', 'cycle', 'cycle-hire', 'dlr', 'elizabeth-line', 'interchange-keep-sitting', 'interchange-secure', 'national-rail', 'overground', 'replacement-bus', 'river-bus', 'river-tour', 'taxi', 'tflrail', 'tram', 'tube', 'walking']\n",
      "19 modes in total.\n"
     ]
    }
   ],
   "source": [
    "# extract mode names from it and store in mode_names\n",
    "mode_names = [transport['modeName'] for transport in transport_list]\n",
    "\n",
    "print('Tansport modes are displayed below:\\n', mode_names)\n",
    "print('{} modes in total.'.format(len(mode_names)))"
   ]
  },
  {
   "cell_type": "markdown",
   "metadata": {},
   "source": [
    "### Task\n",
    "How many BikePoints in London are operated by Transfor for London? How many docks are in **all** BikePoints? There is the information for empty and full docks for each BikePoint."
   ]
  },
  {
   "cell_type": "code",
   "execution_count": 11,
   "metadata": {},
   "outputs": [
    {
     "data": {
      "application/json": [
       {
        "$type": "Tfl.Api.Presentation.Entities.Place, Tfl.Api.Presentation.Entities",
        "additionalProperties": [
         {
          "$type": "Tfl.Api.Presentation.Entities.AdditionalProperties, Tfl.Api.Presentation.Entities",
          "category": "Description",
          "key": "TerminalName",
          "modified": "2022-02-11T21:49:55.1Z",
          "sourceSystemKey": "BikePoints",
          "value": "003471"
         },
         {
          "$type": "Tfl.Api.Presentation.Entities.AdditionalProperties, Tfl.Api.Presentation.Entities",
          "category": "Description",
          "key": "Installed",
          "modified": "2022-02-11T21:49:55.1Z",
          "sourceSystemKey": "BikePoints",
          "value": "true"
         },
         {
          "$type": "Tfl.Api.Presentation.Entities.AdditionalProperties, Tfl.Api.Presentation.Entities",
          "category": "Description",
          "key": "Locked",
          "modified": "2022-02-11T21:49:55.1Z",
          "sourceSystemKey": "BikePoints",
          "value": "false"
         },
         {
          "$type": "Tfl.Api.Presentation.Entities.AdditionalProperties, Tfl.Api.Presentation.Entities",
          "category": "Description",
          "key": "InstallDate",
          "modified": "2022-02-11T21:49:55.1Z",
          "sourceSystemKey": "BikePoints",
          "value": "1279700940000"
         },
         {
          "$type": "Tfl.Api.Presentation.Entities.AdditionalProperties, Tfl.Api.Presentation.Entities",
          "category": "Description",
          "key": "RemovalDate",
          "modified": "2022-02-11T21:49:55.1Z",
          "sourceSystemKey": "BikePoints",
          "value": ""
         },
         {
          "$type": "Tfl.Api.Presentation.Entities.AdditionalProperties, Tfl.Api.Presentation.Entities",
          "category": "Description",
          "key": "Temporary",
          "modified": "2022-02-11T21:49:55.1Z",
          "sourceSystemKey": "BikePoints",
          "value": "false"
         },
         {
          "$type": "Tfl.Api.Presentation.Entities.AdditionalProperties, Tfl.Api.Presentation.Entities",
          "category": "Description",
          "key": "NbBikes",
          "modified": "2022-02-11T21:49:55.1Z",
          "sourceSystemKey": "BikePoints",
          "value": "15"
         },
         {
          "$type": "Tfl.Api.Presentation.Entities.AdditionalProperties, Tfl.Api.Presentation.Entities",
          "category": "Description",
          "key": "NbEmptyDocks",
          "modified": "2022-02-11T21:49:55.1Z",
          "sourceSystemKey": "BikePoints",
          "value": "2"
         },
         {
          "$type": "Tfl.Api.Presentation.Entities.AdditionalProperties, Tfl.Api.Presentation.Entities",
          "category": "Description",
          "key": "NbDocks",
          "modified": "2022-02-11T21:49:55.1Z",
          "sourceSystemKey": "BikePoints",
          "value": "18"
         },
         {
          "$type": "Tfl.Api.Presentation.Entities.AdditionalProperties, Tfl.Api.Presentation.Entities",
          "category": "Description",
          "key": "NbStandardBikes",
          "modified": "2022-02-11T21:49:55.1Z",
          "sourceSystemKey": "BikePoints",
          "value": ""
         },
         {
          "$type": "Tfl.Api.Presentation.Entities.AdditionalProperties, Tfl.Api.Presentation.Entities",
          "category": "Description",
          "key": "NbEBikes",
          "modified": "2022-02-11T21:49:55.1Z",
          "sourceSystemKey": "BikePoints",
          "value": ""
         }
        ],
        "children": [],
        "childrenUrls": [],
        "commonName": "Chadwell Street, Angel",
        "id": "BikePoints_254",
        "lat": 51.530515,
        "lon": -0.106408,
        "placeType": "BikePoint",
        "url": "/Place/BikePoints_254"
       },
       {
        "$type": "Tfl.Api.Presentation.Entities.Place, Tfl.Api.Presentation.Entities",
        "additionalProperties": [
         {
          "$type": "Tfl.Api.Presentation.Entities.AdditionalProperties, Tfl.Api.Presentation.Entities",
          "category": "Description",
          "key": "TerminalName",
          "modified": "2022-02-11T22:18:59.567Z",
          "sourceSystemKey": "BikePoints",
          "value": "001147"
         },
         {
          "$type": "Tfl.Api.Presentation.Entities.AdditionalProperties, Tfl.Api.Presentation.Entities",
          "category": "Description",
          "key": "Installed",
          "modified": "2022-02-11T22:18:59.567Z",
          "sourceSystemKey": "BikePoints",
          "value": "true"
         },
         {
          "$type": "Tfl.Api.Presentation.Entities.AdditionalProperties, Tfl.Api.Presentation.Entities",
          "category": "Description",
          "key": "Locked",
          "modified": "2022-02-11T22:18:59.567Z",
          "sourceSystemKey": "BikePoints",
          "value": "false"
         },
         {
          "$type": "Tfl.Api.Presentation.Entities.AdditionalProperties, Tfl.Api.Presentation.Entities",
          "category": "Description",
          "key": "InstallDate",
          "modified": "2022-02-11T22:18:59.567Z",
          "sourceSystemKey": "BikePoints",
          "value": "1279702560000"
         },
         {
          "$type": "Tfl.Api.Presentation.Entities.AdditionalProperties, Tfl.Api.Presentation.Entities",
          "category": "Description",
          "key": "RemovalDate",
          "modified": "2022-02-11T22:18:59.567Z",
          "sourceSystemKey": "BikePoints",
          "value": ""
         },
         {
          "$type": "Tfl.Api.Presentation.Entities.AdditionalProperties, Tfl.Api.Presentation.Entities",
          "category": "Description",
          "key": "Temporary",
          "modified": "2022-02-11T22:18:59.567Z",
          "sourceSystemKey": "BikePoints",
          "value": "false"
         },
         {
          "$type": "Tfl.Api.Presentation.Entities.AdditionalProperties, Tfl.Api.Presentation.Entities",
          "category": "Description",
          "key": "NbBikes",
          "modified": "2022-02-11T22:18:59.567Z",
          "sourceSystemKey": "BikePoints",
          "value": "4"
         },
         {
          "$type": "Tfl.Api.Presentation.Entities.AdditionalProperties, Tfl.Api.Presentation.Entities",
          "category": "Description",
          "key": "NbEmptyDocks",
          "modified": "2022-02-11T22:18:59.567Z",
          "sourceSystemKey": "BikePoints",
          "value": "18"
         },
         {
          "$type": "Tfl.Api.Presentation.Entities.AdditionalProperties, Tfl.Api.Presentation.Entities",
          "category": "Description",
          "key": "NbDocks",
          "modified": "2022-02-11T22:18:59.567Z",
          "sourceSystemKey": "BikePoints",
          "value": "22"
         },
         {
          "$type": "Tfl.Api.Presentation.Entities.AdditionalProperties, Tfl.Api.Presentation.Entities",
          "category": "Description",
          "key": "NbStandardBikes",
          "modified": "2022-02-11T22:18:59.567Z",
          "sourceSystemKey": "BikePoints",
          "value": ""
         },
         {
          "$type": "Tfl.Api.Presentation.Entities.AdditionalProperties, Tfl.Api.Presentation.Entities",
          "category": "Description",
          "key": "NbEBikes",
          "modified": "2022-02-11T22:18:59.567Z",
          "sourceSystemKey": "BikePoints",
          "value": ""
         }
        ],
        "children": [],
        "childrenUrls": [],
        "commonName": "Clifton Road, Maida Vale",
        "id": "BikePoints_255",
        "lat": 51.525575,
        "lon": -0.179592,
        "placeType": "BikePoint",
        "url": "/Place/BikePoints_255"
       },
       {
        "$type": "Tfl.Api.Presentation.Entities.Place, Tfl.Api.Presentation.Entities",
        "additionalProperties": [
         {
          "$type": "Tfl.Api.Presentation.Entities.AdditionalProperties, Tfl.Api.Presentation.Entities",
          "category": "Description",
          "key": "TerminalName",
          "modified": "2022-02-11T20:20:41.153Z",
          "sourceSystemKey": "BikePoints",
          "value": "003484"
         },
         {
          "$type": "Tfl.Api.Presentation.Entities.AdditionalProperties, Tfl.Api.Presentation.Entities",
          "category": "Description",
          "key": "Installed",
          "modified": "2022-02-11T20:20:41.153Z",
          "sourceSystemKey": "BikePoints",
          "value": "true"
         },
         {
          "$type": "Tfl.Api.Presentation.Entities.AdditionalProperties, Tfl.Api.Presentation.Entities",
          "category": "Description",
          "key": "Locked",
          "modified": "2022-02-11T20:20:41.153Z",
          "sourceSystemKey": "BikePoints",
          "value": "false"
         },
         {
          "$type": "Tfl.Api.Presentation.Entities.AdditionalProperties, Tfl.Api.Presentation.Entities",
          "category": "Description",
          "key": "InstallDate",
          "modified": "2022-02-11T20:20:41.153Z",
          "sourceSystemKey": "BikePoints",
          "value": "1279708020000"
         },
         {
          "$type": "Tfl.Api.Presentation.Entities.AdditionalProperties, Tfl.Api.Presentation.Entities",
          "category": "Description",
          "key": "RemovalDate",
          "modified": "2022-02-11T20:20:41.153Z",
          "sourceSystemKey": "BikePoints",
          "value": ""
         },
         {
          "$type": "Tfl.Api.Presentation.Entities.AdditionalProperties, Tfl.Api.Presentation.Entities",
          "category": "Description",
          "key": "Temporary",
          "modified": "2022-02-11T20:20:41.153Z",
          "sourceSystemKey": "BikePoints",
          "value": "false"
         },
         {
          "$type": "Tfl.Api.Presentation.Entities.AdditionalProperties, Tfl.Api.Presentation.Entities",
          "category": "Description",
          "key": "NbBikes",
          "modified": "2022-02-11T20:20:41.153Z",
          "sourceSystemKey": "BikePoints",
          "value": "1"
         },
         {
          "$type": "Tfl.Api.Presentation.Entities.AdditionalProperties, Tfl.Api.Presentation.Entities",
          "category": "Description",
          "key": "NbEmptyDocks",
          "modified": "2022-02-11T20:20:41.153Z",
          "sourceSystemKey": "BikePoints",
          "value": "14"
         },
         {
          "$type": "Tfl.Api.Presentation.Entities.AdditionalProperties, Tfl.Api.Presentation.Entities",
          "category": "Description",
          "key": "NbDocks",
          "modified": "2022-02-11T20:20:41.153Z",
          "sourceSystemKey": "BikePoints",
          "value": "15"
         },
         {
          "$type": "Tfl.Api.Presentation.Entities.AdditionalProperties, Tfl.Api.Presentation.Entities",
          "category": "Description",
          "key": "NbStandardBikes",
          "modified": "2022-02-11T20:20:41.153Z",
          "sourceSystemKey": "BikePoints",
          "value": ""
         },
         {
          "$type": "Tfl.Api.Presentation.Entities.AdditionalProperties, Tfl.Api.Presentation.Entities",
          "category": "Description",
          "key": "NbEBikes",
          "modified": "2022-02-11T20:20:41.153Z",
          "sourceSystemKey": "BikePoints",
          "value": ""
         }
        ],
        "children": [],
        "childrenUrls": [],
        "commonName": "Houghton Street, Strand",
        "id": "BikePoints_256",
        "lat": 51.51362,
        "lon": -0.116764,
        "placeType": "BikePoint",
        "url": "/Place/BikePoints_256"
       },
       {
        "$type": "Tfl.Api.Presentation.Entities.Place, Tfl.Api.Presentation.Entities",
        "additionalProperties": [
         {
          "$type": "Tfl.Api.Presentation.Entities.AdditionalProperties, Tfl.Api.Presentation.Entities",
          "category": "Description",
          "key": "TerminalName",
          "modified": "2022-02-11T20:17:40.147Z",
          "sourceSystemKey": "BikePoints",
          "value": "001194"
         },
         {
          "$type": "Tfl.Api.Presentation.Entities.AdditionalProperties, Tfl.Api.Presentation.Entities",
          "category": "Description",
          "key": "Installed",
          "modified": "2022-02-11T20:17:40.147Z",
          "sourceSystemKey": "BikePoints",
          "value": "true"
         },
         {
          "$type": "Tfl.Api.Presentation.Entities.AdditionalProperties, Tfl.Api.Presentation.Entities",
          "category": "Description",
          "key": "Locked",
          "modified": "2022-02-11T20:17:40.147Z",
          "sourceSystemKey": "BikePoints",
          "value": "false"
         },
         {
          "$type": "Tfl.Api.Presentation.Entities.AdditionalProperties, Tfl.Api.Presentation.Entities",
          "category": "Description",
          "key": "InstallDate",
          "modified": "2022-02-11T20:17:40.147Z",
          "sourceSystemKey": "BikePoints",
          "value": "1279708140000"
         },
         {
          "$type": "Tfl.Api.Presentation.Entities.AdditionalProperties, Tfl.Api.Presentation.Entities",
          "category": "Description",
          "key": "RemovalDate",
          "modified": "2022-02-11T20:17:40.147Z",
          "sourceSystemKey": "BikePoints",
          "value": ""
         },
         {
          "$type": "Tfl.Api.Presentation.Entities.AdditionalProperties, Tfl.Api.Presentation.Entities",
          "category": "Description",
          "key": "Temporary",
          "modified": "2022-02-11T20:17:40.147Z",
          "sourceSystemKey": "BikePoints",
          "value": "false"
         },
         {
          "$type": "Tfl.Api.Presentation.Entities.AdditionalProperties, Tfl.Api.Presentation.Entities",
          "category": "Description",
          "key": "NbBikes",
          "modified": "2022-02-11T20:17:40.147Z",
          "sourceSystemKey": "BikePoints",
          "value": "4"
         },
         {
          "$type": "Tfl.Api.Presentation.Entities.AdditionalProperties, Tfl.Api.Presentation.Entities",
          "category": "Description",
          "key": "NbEmptyDocks",
          "modified": "2022-02-11T20:17:40.147Z",
          "sourceSystemKey": "BikePoints",
          "value": "11"
         },
         {
          "$type": "Tfl.Api.Presentation.Entities.AdditionalProperties, Tfl.Api.Presentation.Entities",
          "category": "Description",
          "key": "NbDocks",
          "modified": "2022-02-11T20:17:40.147Z",
          "sourceSystemKey": "BikePoints",
          "value": "16"
         },
         {
          "$type": "Tfl.Api.Presentation.Entities.AdditionalProperties, Tfl.Api.Presentation.Entities",
          "category": "Description",
          "key": "NbStandardBikes",
          "modified": "2022-02-11T20:17:40.147Z",
          "sourceSystemKey": "BikePoints",
          "value": ""
         },
         {
          "$type": "Tfl.Api.Presentation.Entities.AdditionalProperties, Tfl.Api.Presentation.Entities",
          "category": "Description",
          "key": "NbEBikes",
          "modified": "2022-02-11T20:17:40.147Z",
          "sourceSystemKey": "BikePoints",
          "value": ""
         }
        ],
        "children": [],
        "childrenUrls": [],
        "commonName": "Westminster University, Marylebone",
        "id": "BikePoints_257",
        "lat": 51.522481,
        "lon": -0.154907,
        "placeType": "BikePoint",
        "url": "/Place/BikePoints_257"
       },
       {
        "$type": "Tfl.Api.Presentation.Entities.Place, Tfl.Api.Presentation.Entities",
        "additionalProperties": [
         {
          "$type": "Tfl.Api.Presentation.Entities.AdditionalProperties, Tfl.Api.Presentation.Entities",
          "category": "Description",
          "key": "TerminalName",
          "modified": "2022-02-11T22:19:58.33Z",
          "sourceSystemKey": "BikePoints",
          "value": "001193"
         },
         {
          "$type": "Tfl.Api.Presentation.Entities.AdditionalProperties, Tfl.Api.Presentation.Entities",
          "category": "Description",
          "key": "Installed",
          "modified": "2022-02-11T22:19:58.33Z",
          "sourceSystemKey": "BikePoints",
          "value": "true"
         },
         {
          "$type": "Tfl.Api.Presentation.Entities.AdditionalProperties, Tfl.Api.Presentation.Entities",
          "category": "Description",
          "key": "Locked",
          "modified": "2022-02-11T22:19:58.33Z",
          "sourceSystemKey": "BikePoints",
          "value": "false"
         },
         {
          "$type": "Tfl.Api.Presentation.Entities.AdditionalProperties, Tfl.Api.Presentation.Entities",
          "category": "Description",
          "key": "InstallDate",
          "modified": "2022-02-11T22:19:58.33Z",
          "sourceSystemKey": "BikePoints",
          "value": "1279708380000"
         },
         {
          "$type": "Tfl.Api.Presentation.Entities.AdditionalProperties, Tfl.Api.Presentation.Entities",
          "category": "Description",
          "key": "RemovalDate",
          "modified": "2022-02-11T22:19:58.33Z",
          "sourceSystemKey": "BikePoints",
          "value": ""
         },
         {
          "$type": "Tfl.Api.Presentation.Entities.AdditionalProperties, Tfl.Api.Presentation.Entities",
          "category": "Description",
          "key": "Temporary",
          "modified": "2022-02-11T22:19:58.33Z",
          "sourceSystemKey": "BikePoints",
          "value": "false"
         },
         {
          "$type": "Tfl.Api.Presentation.Entities.AdditionalProperties, Tfl.Api.Presentation.Entities",
          "category": "Description",
          "key": "NbBikes",
          "modified": "2022-02-11T22:19:58.33Z",
          "sourceSystemKey": "BikePoints",
          "value": "0"
         },
         {
          "$type": "Tfl.Api.Presentation.Entities.AdditionalProperties, Tfl.Api.Presentation.Entities",
          "category": "Description",
          "key": "NbEmptyDocks",
          "modified": "2022-02-11T22:19:58.33Z",
          "sourceSystemKey": "BikePoints",
          "value": "23"
         },
         {
          "$type": "Tfl.Api.Presentation.Entities.AdditionalProperties, Tfl.Api.Presentation.Entities",
          "category": "Description",
          "key": "NbDocks",
          "modified": "2022-02-11T22:19:58.33Z",
          "sourceSystemKey": "BikePoints",
          "value": "23"
         },
         {
          "$type": "Tfl.Api.Presentation.Entities.AdditionalProperties, Tfl.Api.Presentation.Entities",
          "category": "Description",
          "key": "NbStandardBikes",
          "modified": "2022-02-11T22:19:58.33Z",
          "sourceSystemKey": "BikePoints",
          "value": ""
         },
         {
          "$type": "Tfl.Api.Presentation.Entities.AdditionalProperties, Tfl.Api.Presentation.Entities",
          "category": "Description",
          "key": "NbEBikes",
          "modified": "2022-02-11T22:19:58.33Z",
          "sourceSystemKey": "BikePoints",
          "value": ""
         }
        ],
        "children": [],
        "childrenUrls": [],
        "commonName": "Kensington Gore, Knightsbridge",
        "id": "BikePoints_258",
        "lat": 51.501432,
        "lon": -0.178656,
        "placeType": "BikePoint",
        "url": "/Place/BikePoints_258"
       }
      ],
      "text/plain": [
       "<IPython.core.display.JSON object>"
      ]
     },
     "execution_count": 11,
     "metadata": {
      "application/json": {
       "expanded": false,
       "root": "root"
      }
     },
     "output_type": "execute_result"
    }
   ],
   "source": [
    "# request all bikepoints line info from API and store in bikepoints_list type(list)\n",
    "bikepoints_list = getResponse('https://api.tfl.gov.uk/BikePoint/')\n",
    "\n",
    "JSON(bikepoints_list[:5])"
   ]
  },
  {
   "cell_type": "code",
   "execution_count": 12,
   "metadata": {},
   "outputs": [
    {
     "name": "stdout",
     "output_type": "stream",
     "text": [
      "785\n"
     ]
    }
   ],
   "source": [
    "# count bikepoints in London\n",
    "print(len(bikepoints_list))"
   ]
  },
  {
   "cell_type": "code",
   "execution_count": 16,
   "metadata": {},
   "outputs": [
    {
     "name": "stdout",
     "output_type": "stream",
     "text": [
      "10099\n",
      "20880\n"
     ]
    }
   ],
   "source": [
    "# How many docks are in **all** BikePoints? \n",
    "dock_ct = 0\n",
    "emptyDock_ct = 0\n",
    "for bikepoint in bikepoints_list:\n",
    "    emptyDock_ct += int(bikepoint['additionalProperties'][7]['value'])\n",
    "    dock_ct += int(bikepoint['additionalProperties'][8]['value'])\n",
    "print(emptyDock_ct)\n",
    "print(dock_ct)"
   ]
  },
  {
   "cell_type": "markdown",
   "metadata": {},
   "source": [
    "### Task\n",
    "How many tube and bus lines are in London? Print names of all tube lines."
   ]
  },
  {
   "cell_type": "code",
   "execution_count": 18,
   "metadata": {},
   "outputs": [
    {
     "data": {
      "application/json": [
       {
        "$type": "Tfl.Api.Presentation.Entities.Line, Tfl.Api.Presentation.Entities",
        "created": "2022-02-08T17:26:20.863Z",
        "crowding": {
         "$type": "Tfl.Api.Presentation.Entities.Crowding, Tfl.Api.Presentation.Entities"
        },
        "disruptions": [],
        "id": "1",
        "lineStatuses": [],
        "modeName": "bus",
        "modified": "2022-02-08T17:26:20.863Z",
        "name": "1",
        "routeSections": [],
        "serviceTypes": [
         {
          "$type": "Tfl.Api.Presentation.Entities.LineServiceTypeInfo, Tfl.Api.Presentation.Entities",
          "name": "Regular",
          "uri": "/Line/Route?ids=1&serviceTypes=Regular"
         }
        ]
       },
       {
        "$type": "Tfl.Api.Presentation.Entities.Line, Tfl.Api.Presentation.Entities",
        "created": "2022-02-08T17:26:20.897Z",
        "crowding": {
         "$type": "Tfl.Api.Presentation.Entities.Crowding, Tfl.Api.Presentation.Entities"
        },
        "disruptions": [],
        "id": "100",
        "lineStatuses": [],
        "modeName": "bus",
        "modified": "2022-02-08T17:26:20.897Z",
        "name": "100",
        "routeSections": [],
        "serviceTypes": [
         {
          "$type": "Tfl.Api.Presentation.Entities.LineServiceTypeInfo, Tfl.Api.Presentation.Entities",
          "name": "Regular",
          "uri": "/Line/Route?ids=100&serviceTypes=Regular"
         }
        ]
       },
       {
        "$type": "Tfl.Api.Presentation.Entities.Line, Tfl.Api.Presentation.Entities",
        "created": "2022-02-08T17:26:20.88Z",
        "crowding": {
         "$type": "Tfl.Api.Presentation.Entities.Crowding, Tfl.Api.Presentation.Entities"
        },
        "disruptions": [],
        "id": "101",
        "lineStatuses": [],
        "modeName": "bus",
        "modified": "2022-02-08T17:26:20.88Z",
        "name": "101",
        "routeSections": [],
        "serviceTypes": [
         {
          "$type": "Tfl.Api.Presentation.Entities.LineServiceTypeInfo, Tfl.Api.Presentation.Entities",
          "name": "Regular",
          "uri": "/Line/Route?ids=101&serviceTypes=Regular"
         }
        ]
       },
       {
        "$type": "Tfl.Api.Presentation.Entities.Line, Tfl.Api.Presentation.Entities",
        "created": "2022-02-08T17:26:20.88Z",
        "crowding": {
         "$type": "Tfl.Api.Presentation.Entities.Crowding, Tfl.Api.Presentation.Entities"
        },
        "disruptions": [],
        "id": "102",
        "lineStatuses": [],
        "modeName": "bus",
        "modified": "2022-02-08T17:26:20.88Z",
        "name": "102",
        "routeSections": [],
        "serviceTypes": [
         {
          "$type": "Tfl.Api.Presentation.Entities.LineServiceTypeInfo, Tfl.Api.Presentation.Entities",
          "name": "Regular",
          "uri": "/Line/Route?ids=102&serviceTypes=Regular"
         }
        ]
       },
       {
        "$type": "Tfl.Api.Presentation.Entities.Line, Tfl.Api.Presentation.Entities",
        "created": "2022-02-08T17:26:20.88Z",
        "crowding": {
         "$type": "Tfl.Api.Presentation.Entities.Crowding, Tfl.Api.Presentation.Entities"
        },
        "disruptions": [],
        "id": "103",
        "lineStatuses": [],
        "modeName": "bus",
        "modified": "2022-02-08T17:26:20.88Z",
        "name": "103",
        "routeSections": [],
        "serviceTypes": [
         {
          "$type": "Tfl.Api.Presentation.Entities.LineServiceTypeInfo, Tfl.Api.Presentation.Entities",
          "name": "Regular",
          "uri": "/Line/Route?ids=103&serviceTypes=Regular"
         }
        ]
       }
      ],
      "text/plain": [
       "<IPython.core.display.JSON object>"
      ]
     },
     "execution_count": 18,
     "metadata": {
      "application/json": {
       "expanded": false,
       "root": "root"
      }
     },
     "output_type": "execute_result"
    }
   ],
   "source": [
    "# request for bus and tube lines info from API\n",
    "bus_tube_lines = getResponse('https://api.tfl.gov.uk/Line/Mode/bus%2Ctube')\n",
    "\n",
    "JSON(bus_tube_lines[:5])"
   ]
  },
  {
   "cell_type": "code",
   "execution_count": 57,
   "metadata": {},
   "outputs": [
    {
     "name": "stdout",
     "output_type": "stream",
     "text": [
      "There are 690 tube and bus lines in London.\n"
     ]
    }
   ],
   "source": [
    "print('There are {} tube and bus lines in London.'.format(len(bus_tube_lines)))"
   ]
  },
  {
   "cell_type": "code",
   "execution_count": 19,
   "metadata": {},
   "outputs": [
    {
     "data": {
      "application/json": [
       {
        "$type": "Tfl.Api.Presentation.Entities.Line, Tfl.Api.Presentation.Entities",
        "created": "2022-02-08T17:26:20.863Z",
        "crowding": {
         "$type": "Tfl.Api.Presentation.Entities.Crowding, Tfl.Api.Presentation.Entities"
        },
        "disruptions": [],
        "id": "bakerloo",
        "lineStatuses": [],
        "modeName": "tube",
        "modified": "2022-02-08T17:26:20.863Z",
        "name": "Bakerloo",
        "routeSections": [],
        "serviceTypes": [
         {
          "$type": "Tfl.Api.Presentation.Entities.LineServiceTypeInfo, Tfl.Api.Presentation.Entities",
          "name": "Regular",
          "uri": "/Line/Route?ids=Bakerloo&serviceTypes=Regular"
         }
        ]
       },
       {
        "$type": "Tfl.Api.Presentation.Entities.Line, Tfl.Api.Presentation.Entities",
        "created": "2022-02-08T17:26:20.88Z",
        "crowding": {
         "$type": "Tfl.Api.Presentation.Entities.Crowding, Tfl.Api.Presentation.Entities"
        },
        "disruptions": [],
        "id": "central",
        "lineStatuses": [],
        "modeName": "tube",
        "modified": "2022-02-08T17:26:20.88Z",
        "name": "Central",
        "routeSections": [],
        "serviceTypes": [
         {
          "$type": "Tfl.Api.Presentation.Entities.LineServiceTypeInfo, Tfl.Api.Presentation.Entities",
          "name": "Regular",
          "uri": "/Line/Route?ids=Central&serviceTypes=Regular"
         },
         {
          "$type": "Tfl.Api.Presentation.Entities.LineServiceTypeInfo, Tfl.Api.Presentation.Entities",
          "name": "Night",
          "uri": "/Line/Route?ids=Central&serviceTypes=Night"
         }
        ]
       },
       {
        "$type": "Tfl.Api.Presentation.Entities.Line, Tfl.Api.Presentation.Entities",
        "created": "2022-02-08T17:26:20.863Z",
        "crowding": {
         "$type": "Tfl.Api.Presentation.Entities.Crowding, Tfl.Api.Presentation.Entities"
        },
        "disruptions": [],
        "id": "circle",
        "lineStatuses": [],
        "modeName": "tube",
        "modified": "2022-02-08T17:26:20.863Z",
        "name": "Circle",
        "routeSections": [],
        "serviceTypes": [
         {
          "$type": "Tfl.Api.Presentation.Entities.LineServiceTypeInfo, Tfl.Api.Presentation.Entities",
          "name": "Regular",
          "uri": "/Line/Route?ids=Circle&serviceTypes=Regular"
         }
        ]
       },
       {
        "$type": "Tfl.Api.Presentation.Entities.Line, Tfl.Api.Presentation.Entities",
        "created": "2022-02-08T17:26:20.863Z",
        "crowding": {
         "$type": "Tfl.Api.Presentation.Entities.Crowding, Tfl.Api.Presentation.Entities"
        },
        "disruptions": [],
        "id": "district",
        "lineStatuses": [],
        "modeName": "tube",
        "modified": "2022-02-08T17:26:20.863Z",
        "name": "District",
        "routeSections": [],
        "serviceTypes": [
         {
          "$type": "Tfl.Api.Presentation.Entities.LineServiceTypeInfo, Tfl.Api.Presentation.Entities",
          "name": "Regular",
          "uri": "/Line/Route?ids=District&serviceTypes=Regular"
         }
        ]
       },
       {
        "$type": "Tfl.Api.Presentation.Entities.Line, Tfl.Api.Presentation.Entities",
        "created": "2022-02-08T17:26:20.863Z",
        "crowding": {
         "$type": "Tfl.Api.Presentation.Entities.Crowding, Tfl.Api.Presentation.Entities"
        },
        "disruptions": [],
        "id": "hammersmith-city",
        "lineStatuses": [],
        "modeName": "tube",
        "modified": "2022-02-08T17:26:20.863Z",
        "name": "Hammersmith & City",
        "routeSections": [],
        "serviceTypes": [
         {
          "$type": "Tfl.Api.Presentation.Entities.LineServiceTypeInfo, Tfl.Api.Presentation.Entities",
          "name": "Regular",
          "uri": "/Line/Route?ids=Hammersmith & City&serviceTypes=Regular"
         }
        ]
       }
      ],
      "text/plain": [
       "<IPython.core.display.JSON object>"
      ]
     },
     "execution_count": 19,
     "metadata": {
      "application/json": {
       "expanded": false,
       "root": "root"
      }
     },
     "output_type": "execute_result"
    }
   ],
   "source": [
    "# request for tube lines info from API\n",
    "tube_lines = getResponse('https://api.tfl.gov.uk/Line/Mode/tube')\n",
    "\n",
    "JSON(tube_lines[:5])"
   ]
  },
  {
   "cell_type": "code",
   "execution_count": 20,
   "metadata": {},
   "outputs": [
    {
     "data": {
      "text/plain": [
       "['Bakerloo',\n",
       " 'Central',\n",
       " 'Circle',\n",
       " 'District',\n",
       " 'Hammersmith & City',\n",
       " 'Jubilee',\n",
       " 'Metropolitan',\n",
       " 'Northern',\n",
       " 'Piccadilly',\n",
       " 'Victoria',\n",
       " 'Waterloo & City']"
      ]
     },
     "execution_count": 20,
     "metadata": {},
     "output_type": "execute_result"
    }
   ],
   "source": [
    "# extract tube line names by key 'name' from each tube line; store in tube_linename \n",
    "tube_linename = [tube['name'] for tube in tube_lines]\n",
    "\n",
    "tube_linename"
   ]
  },
  {
   "cell_type": "markdown",
   "metadata": {},
   "source": [
    "### Task\n",
    "How many station has `victoria` line?"
   ]
  },
  {
   "cell_type": "code",
   "execution_count": 21,
   "metadata": {},
   "outputs": [
    {
     "data": {
      "application/json": [
       {
        "$type": "Tfl.Api.Presentation.Entities.StopPoint, Tfl.Api.Presentation.Entities",
        "additionalProperties": [
         {
          "$type": "Tfl.Api.Presentation.Entities.AdditionalProperties, Tfl.Api.Presentation.Entities",
          "category": "ServiceInfo",
          "key": "Night",
          "sourceSystemKey": "TransXchangeETL",
          "value": "yes"
         },
         {
          "$type": "Tfl.Api.Presentation.Entities.AdditionalProperties, Tfl.Api.Presentation.Entities",
          "category": "Facility",
          "key": "Help Points",
          "sourceSystemKey": "StaticObjects",
          "value": "0 on platforms, 0 in ticket halls, 0 elsewhere"
         },
         {
          "$type": "Tfl.Api.Presentation.Entities.AdditionalProperties, Tfl.Api.Presentation.Entities",
          "category": "Facility",
          "key": "Payphones",
          "sourceSystemKey": "StaticObjects",
          "value": "2"
         },
         {
          "$type": "Tfl.Api.Presentation.Entities.AdditionalProperties, Tfl.Api.Presentation.Entities",
          "category": "Geo",
          "key": "Zone",
          "sourceSystemKey": "StaticObjects",
          "value": "3"
         },
         {
          "$type": "Tfl.Api.Presentation.Entities.AdditionalProperties, Tfl.Api.Presentation.Entities",
          "category": "Facility",
          "key": "Bridge",
          "sourceSystemKey": "StaticObjects",
          "value": "no"
         },
         {
          "$type": "Tfl.Api.Presentation.Entities.AdditionalProperties, Tfl.Api.Presentation.Entities",
          "category": "Facility",
          "key": "Ticket Halls",
          "sourceSystemKey": "StaticObjects",
          "value": "1"
         },
         {
          "$type": "Tfl.Api.Presentation.Entities.AdditionalProperties, Tfl.Api.Presentation.Entities",
          "category": "Address",
          "key": "PhoneNo",
          "sourceSystemKey": "StaticObjects",
          "value": "0845 330 9880"
         },
         {
          "$type": "Tfl.Api.Presentation.Entities.AdditionalProperties, Tfl.Api.Presentation.Entities",
          "category": "Facility",
          "key": "Photo Booths",
          "sourceSystemKey": "StaticObjects",
          "value": "0"
         },
         {
          "$type": "Tfl.Api.Presentation.Entities.AdditionalProperties, Tfl.Api.Presentation.Entities",
          "category": "Facility",
          "key": "Waiting Room",
          "sourceSystemKey": "StaticObjects",
          "value": "no"
         },
         {
          "$type": "Tfl.Api.Presentation.Entities.AdditionalProperties, Tfl.Api.Presentation.Entities",
          "category": "Facility",
          "key": "Car park",
          "sourceSystemKey": "StaticObjects",
          "value": "no"
         },
         {
          "$type": "Tfl.Api.Presentation.Entities.AdditionalProperties, Tfl.Api.Presentation.Entities",
          "category": "Facility",
          "key": "Other Facilities",
          "sourceSystemKey": "StaticObjects",
          "value": "post office style queuing for tickets, routeways platform to ticket hall."
         },
         {
          "$type": "Tfl.Api.Presentation.Entities.AdditionalProperties, Tfl.Api.Presentation.Entities",
          "category": "Address",
          "key": "Address",
          "sourceSystemKey": "StaticObjects",
          "value": "Blackhorse Road Underground Station,London Underground Ltd.,Blackhorse Rd,London,E17 6ND"
         },
         {
          "$type": "Tfl.Api.Presentation.Entities.AdditionalProperties, Tfl.Api.Presentation.Entities",
          "category": "Facility",
          "key": "ASDA Click and Collect",
          "sourceSystemKey": "StaticObjects",
          "value": "yes"
         },
         {
          "$type": "Tfl.Api.Presentation.Entities.AdditionalProperties, Tfl.Api.Presentation.Entities",
          "category": "Facility",
          "key": "Cash Machines",
          "sourceSystemKey": "StaticObjects",
          "value": "0"
         },
         {
          "$type": "Tfl.Api.Presentation.Entities.AdditionalProperties, Tfl.Api.Presentation.Entities",
          "category": "Facility",
          "key": "Gates",
          "sourceSystemKey": "StaticObjects",
          "value": "5"
         },
         {
          "$type": "Tfl.Api.Presentation.Entities.AdditionalProperties, Tfl.Api.Presentation.Entities",
          "category": "Facility",
          "key": "Lifts",
          "sourceSystemKey": "StaticObjects",
          "value": "0"
         },
         {
          "$type": "Tfl.Api.Presentation.Entities.AdditionalProperties, Tfl.Api.Presentation.Entities",
          "category": "Facility",
          "key": "Toilets",
          "sourceSystemKey": "StaticObjects",
          "value": "no"
         },
         {
          "$type": "Tfl.Api.Presentation.Entities.AdditionalProperties, Tfl.Api.Presentation.Entities",
          "category": "Facility",
          "key": "Escalators",
          "sourceSystemKey": "StaticObjects",
          "value": "2"
         },
         {
          "$type": "Tfl.Api.Presentation.Entities.AdditionalProperties, Tfl.Api.Presentation.Entities",
          "category": "Facility",
          "key": "WiFi",
          "sourceSystemKey": "StaticObjects",
          "value": "yes"
         },
         {
          "$type": "Tfl.Api.Presentation.Entities.AdditionalProperties, Tfl.Api.Presentation.Entities",
          "category": "NearestPlaces",
          "key": "SourceSystemPlaceId",
          "sourceSystemKey": "StaticObjects",
          "value": "CarParks_800466"
         }
        ],
        "children": [
         {
          "$type": "Tfl.Api.Presentation.Entities.StopPoint, Tfl.Api.Presentation.Entities",
          "additionalProperties": [],
          "children": [],
          "commonName": "Blackhorse Road Underground Station",
          "hubNaptanCode": "HUBBHO",
          "icsCode": "1000024",
          "id": "9400ZZLUBLR1",
          "lat": 0,
          "lineGroup": [],
          "lineModeGroups": [],
          "lines": [],
          "lon": 0,
          "modes": [],
          "naptanId": "9400ZZLUBLR1",
          "placeType": "StopPoint",
          "stationNaptan": "940GZZLUBLR",
          "status": true
         }
        ],
        "commonName": "Blackhorse Road Underground Station",
        "hubNaptanCode": "HUBBHO",
        "icsCode": "1000024",
        "id": "940GZZLUBLR",
        "lat": 51.586919,
        "lineGroup": [
         {
          "$type": "Tfl.Api.Presentation.Entities.LineGroup, Tfl.Api.Presentation.Entities",
          "lineIdentifier": [
           "victoria"
          ],
          "stationAtcoCode": "940GZZLUBLR"
         }
        ],
        "lineModeGroups": [
         {
          "$type": "Tfl.Api.Presentation.Entities.LineModeGroup, Tfl.Api.Presentation.Entities",
          "lineIdentifier": [
           "victoria"
          ],
          "modeName": "tube"
         }
        ],
        "lines": [
         {
          "$type": "Tfl.Api.Presentation.Entities.Identifier, Tfl.Api.Presentation.Entities",
          "crowding": {
           "$type": "Tfl.Api.Presentation.Entities.Crowding, Tfl.Api.Presentation.Entities"
          },
          "id": "victoria",
          "name": "Victoria",
          "routeType": "Unknown",
          "status": "Unknown",
          "type": "Line",
          "uri": "/Line/victoria"
         }
        ],
        "lon": -0.04115,
        "modes": [
         "tube"
        ],
        "naptanId": "940GZZLUBLR",
        "placeType": "StopPoint",
        "stationNaptan": "940GZZLUBLR",
        "status": true,
        "stopType": "NaptanMetroStation"
       },
       {
        "$type": "Tfl.Api.Presentation.Entities.StopPoint, Tfl.Api.Presentation.Entities",
        "additionalProperties": [
         {
          "$type": "Tfl.Api.Presentation.Entities.AdditionalProperties, Tfl.Api.Presentation.Entities",
          "category": "ServiceInfo",
          "key": "Night",
          "sourceSystemKey": "TransXchangeETL",
          "value": "yes"
         },
         {
          "$type": "Tfl.Api.Presentation.Entities.AdditionalProperties, Tfl.Api.Presentation.Entities",
          "category": "Facility",
          "key": "Help Points",
          "sourceSystemKey": "StaticObjects",
          "value": "6 on platforms, 0 in ticket halls, 1 elsewhere"
         },
         {
          "$type": "Tfl.Api.Presentation.Entities.AdditionalProperties, Tfl.Api.Presentation.Entities",
          "category": "Address",
          "key": "PhoneNo",
          "sourceSystemKey": "StaticObjects",
          "value": "0845 330 9880"
         },
         {
          "$type": "Tfl.Api.Presentation.Entities.AdditionalProperties, Tfl.Api.Presentation.Entities",
          "category": "Facility",
          "key": "Waiting Room",
          "sourceSystemKey": "StaticObjects",
          "value": "no"
         },
         {
          "$type": "Tfl.Api.Presentation.Entities.AdditionalProperties, Tfl.Api.Presentation.Entities",
          "category": "Facility",
          "key": "Cash Machines",
          "sourceSystemKey": "StaticObjects",
          "value": "0"
         },
         {
          "$type": "Tfl.Api.Presentation.Entities.AdditionalProperties, Tfl.Api.Presentation.Entities",
          "category": "Facility",
          "key": "Escalators",
          "sourceSystemKey": "StaticObjects",
          "value": "2"
         },
         {
          "$type": "Tfl.Api.Presentation.Entities.AdditionalProperties, Tfl.Api.Presentation.Entities",
          "category": "Geo",
          "key": "Zone",
          "sourceSystemKey": "StaticObjects",
          "value": "2"
         },
         {
          "$type": "Tfl.Api.Presentation.Entities.AdditionalProperties, Tfl.Api.Presentation.Entities",
          "category": "Facility",
          "key": "Bridge",
          "sourceSystemKey": "StaticObjects",
          "value": "no"
         },
         {
          "$type": "Tfl.Api.Presentation.Entities.AdditionalProperties, Tfl.Api.Presentation.Entities",
          "category": "Facility",
          "key": "Car park",
          "sourceSystemKey": "StaticObjects",
          "value": "no"
         },
         {
          "$type": "Tfl.Api.Presentation.Entities.AdditionalProperties, Tfl.Api.Presentation.Entities",
          "category": "Facility",
          "key": "Toilets",
          "sourceSystemKey": "StaticObjects",
          "value": "no"
         },
         {
          "$type": "Tfl.Api.Presentation.Entities.AdditionalProperties, Tfl.Api.Presentation.Entities",
          "category": "Facility",
          "key": "Ticket Halls",
          "sourceSystemKey": "StaticObjects",
          "value": "1"
         },
         {
          "$type": "Tfl.Api.Presentation.Entities.AdditionalProperties, Tfl.Api.Presentation.Entities",
          "category": "Address",
          "key": "Address",
          "sourceSystemKey": "StaticObjects",
          "value": "Brixton Underground Station,London Underground Ltd.,Brixton Rd,London,SW9 8HE"
         },
         {
          "$type": "Tfl.Api.Presentation.Entities.AdditionalProperties, Tfl.Api.Presentation.Entities",
          "category": "Facility",
          "key": "Gates",
          "sourceSystemKey": "StaticObjects",
          "value": "9"
         },
         {
          "$type": "Tfl.Api.Presentation.Entities.AdditionalProperties, Tfl.Api.Presentation.Entities",
          "category": "Facility",
          "key": "Lifts",
          "sourceSystemKey": "StaticObjects",
          "value": "2"
         },
         {
          "$type": "Tfl.Api.Presentation.Entities.AdditionalProperties, Tfl.Api.Presentation.Entities",
          "category": "Facility",
          "key": "Photo Booths",
          "sourceSystemKey": "StaticObjects",
          "value": "0"
         },
         {
          "$type": "Tfl.Api.Presentation.Entities.AdditionalProperties, Tfl.Api.Presentation.Entities",
          "category": "Facility",
          "key": "Other Facilities",
          "sourceSystemKey": "StaticObjects",
          "value": "electronic whiteboards in ticket hall, routeways platform to ticket hall."
         },
         {
          "$type": "Tfl.Api.Presentation.Entities.AdditionalProperties, Tfl.Api.Presentation.Entities",
          "category": "Facility",
          "key": "WiFi",
          "sourceSystemKey": "StaticObjects",
          "value": "yes"
         },
         {
          "$type": "Tfl.Api.Presentation.Entities.AdditionalProperties, Tfl.Api.Presentation.Entities",
          "category": "Facility",
          "key": "Payphones",
          "sourceSystemKey": "StaticObjects",
          "value": "0"
         },
         {
          "$type": "Tfl.Api.Presentation.Entities.AdditionalProperties, Tfl.Api.Presentation.Entities",
          "category": "Accessibility",
          "key": "AccessViaLift",
          "sourceSystemKey": "LRAD",
          "value": "Yes"
         },
         {
          "$type": "Tfl.Api.Presentation.Entities.AdditionalProperties, Tfl.Api.Presentation.Entities",
          "category": "Accessibility",
          "key": "BlueBadgeCarParkSpaces",
          "sourceSystemKey": "LRAD",
          "value": "0"
         },
         {
          "$type": "Tfl.Api.Presentation.Entities.AdditionalProperties, Tfl.Api.Presentation.Entities",
          "category": "Accessibility",
          "key": "LimitedCapacityLift",
          "sourceSystemKey": "LRAD",
          "value": "No"
         },
         {
          "$type": "Tfl.Api.Presentation.Entities.AdditionalProperties, Tfl.Api.Presentation.Entities",
          "category": "Accessibility",
          "key": "SpecificEntranceRequired",
          "sourceSystemKey": "LRAD",
          "value": "No"
         },
         {
          "$type": "Tfl.Api.Presentation.Entities.AdditionalProperties, Tfl.Api.Presentation.Entities",
          "category": "Accessibility",
          "key": "TaxiRankOutsideStation",
          "sourceSystemKey": "LRAD",
          "value": "No"
         },
         {
          "$type": "Tfl.Api.Presentation.Entities.AdditionalProperties, Tfl.Api.Presentation.Entities",
          "category": "Accessibility",
          "key": "Toilet",
          "sourceSystemKey": "LRAD",
          "value": "No"
         },
         {
          "$type": "Tfl.Api.Presentation.Entities.AdditionalProperties, Tfl.Api.Presentation.Entities",
          "category": "NearestPlaces",
          "key": "SourceSystemPlaceId",
          "sourceSystemKey": "StaticObjects",
          "value": "BikePoints_831"
         },
         {
          "$type": "Tfl.Api.Presentation.Entities.AdditionalProperties, Tfl.Api.Presentation.Entities",
          "category": "NearestPlaces",
          "key": "SourceSystemPlaceId",
          "sourceSystemKey": "StaticObjects",
          "value": "BikePoints_832"
         },
         {
          "$type": "Tfl.Api.Presentation.Entities.AdditionalProperties, Tfl.Api.Presentation.Entities",
          "category": "NearestPlaces",
          "key": "SourceSystemPlaceId",
          "sourceSystemKey": "StaticObjects",
          "value": "BikePoints_833"
         }
        ],
        "children": [
         {
          "$type": "Tfl.Api.Presentation.Entities.StopPoint, Tfl.Api.Presentation.Entities",
          "additionalProperties": [],
          "children": [],
          "commonName": "Brixton Underground Station",
          "hubNaptanCode": "HUBBRX",
          "icsCode": "1000031",
          "id": "9400ZZLUBXN1",
          "lat": 0,
          "lineGroup": [],
          "lineModeGroups": [],
          "lines": [],
          "lon": 0,
          "modes": [],
          "naptanId": "9400ZZLUBXN1",
          "placeType": "StopPoint",
          "stationNaptan": "940GZZLUBXN",
          "status": true
         }
        ],
        "commonName": "Brixton Underground Station",
        "hubNaptanCode": "HUBBRX",
        "icsCode": "1000031",
        "id": "940GZZLUBXN",
        "lat": 51.462618,
        "lineGroup": [
         {
          "$type": "Tfl.Api.Presentation.Entities.LineGroup, Tfl.Api.Presentation.Entities",
          "lineIdentifier": [
           "victoria"
          ],
          "stationAtcoCode": "940GZZLUBXN"
         }
        ],
        "lineModeGroups": [
         {
          "$type": "Tfl.Api.Presentation.Entities.LineModeGroup, Tfl.Api.Presentation.Entities",
          "lineIdentifier": [
           "victoria"
          ],
          "modeName": "tube"
         }
        ],
        "lines": [
         {
          "$type": "Tfl.Api.Presentation.Entities.Identifier, Tfl.Api.Presentation.Entities",
          "crowding": {
           "$type": "Tfl.Api.Presentation.Entities.Crowding, Tfl.Api.Presentation.Entities"
          },
          "id": "victoria",
          "name": "Victoria",
          "routeType": "Unknown",
          "status": "Unknown",
          "type": "Line",
          "uri": "/Line/victoria"
         }
        ],
        "lon": -0.114888,
        "modes": [
         "tube"
        ],
        "naptanId": "940GZZLUBXN",
        "placeType": "StopPoint",
        "stationNaptan": "940GZZLUBXN",
        "status": true,
        "stopType": "NaptanMetroStation"
       },
       {
        "$type": "Tfl.Api.Presentation.Entities.StopPoint, Tfl.Api.Presentation.Entities",
        "additionalProperties": [
         {
          "$type": "Tfl.Api.Presentation.Entities.AdditionalProperties, Tfl.Api.Presentation.Entities",
          "category": "ServiceInfo",
          "key": "Night",
          "sourceSystemKey": "TransXchangeETL",
          "value": "yes"
         },
         {
          "$type": "Tfl.Api.Presentation.Entities.AdditionalProperties, Tfl.Api.Presentation.Entities",
          "category": "Address",
          "key": "PhoneNo",
          "sourceSystemKey": "StaticObjects",
          "value": "0845 330 9880"
         },
         {
          "$type": "Tfl.Api.Presentation.Entities.AdditionalProperties, Tfl.Api.Presentation.Entities",
          "category": "Facility",
          "key": "Bridge",
          "sourceSystemKey": "StaticObjects",
          "value": "no"
         },
         {
          "$type": "Tfl.Api.Presentation.Entities.AdditionalProperties, Tfl.Api.Presentation.Entities",
          "category": "Facility",
          "key": "Help Points",
          "sourceSystemKey": "StaticObjects",
          "value": "0 on platforms, 0 in ticket halls, 0 elsewhere"
         },
         {
          "$type": "Tfl.Api.Presentation.Entities.AdditionalProperties, Tfl.Api.Presentation.Entities",
          "category": "Facility",
          "key": "Other Facilities",
          "sourceSystemKey": "StaticObjects",
          "value": "electronic whiteboards in ticket hall, post office style queuing for tickets."
         },
         {
          "$type": "Tfl.Api.Presentation.Entities.AdditionalProperties, Tfl.Api.Presentation.Entities",
          "category": "Facility",
          "key": "Payphones",
          "sourceSystemKey": "StaticObjects",
          "value": "2"
         },
         {
          "$type": "Tfl.Api.Presentation.Entities.AdditionalProperties, Tfl.Api.Presentation.Entities",
          "category": "Facility",
          "key": "Boarding Ramps",
          "sourceSystemKey": "StaticObjects",
          "value": "yes London Overgrounnd and National Rail only"
         },
         {
          "$type": "Tfl.Api.Presentation.Entities.AdditionalProperties, Tfl.Api.Presentation.Entities",
          "category": "Facility",
          "key": "Toilets",
          "sourceSystemKey": "StaticObjects",
          "value": "yes"
         },
         {
          "$type": "Tfl.Api.Presentation.Entities.AdditionalProperties, Tfl.Api.Presentation.Entities",
          "category": "Facility",
          "key": "Waiting Room",
          "sourceSystemKey": "StaticObjects",
          "value": "no"
         },
         {
          "$type": "Tfl.Api.Presentation.Entities.AdditionalProperties, Tfl.Api.Presentation.Entities",
          "category": "Facility",
          "key": "WiFi",
          "sourceSystemKey": "StaticObjects",
          "value": "yes"
         },
         {
          "$type": "Tfl.Api.Presentation.Entities.AdditionalProperties, Tfl.Api.Presentation.Entities",
          "category": "Geo",
          "key": "Zone",
          "sourceSystemKey": "StaticObjects",
          "value": "1"
         },
         {
          "$type": "Tfl.Api.Presentation.Entities.AdditionalProperties, Tfl.Api.Presentation.Entities",
          "category": "Address",
          "key": "Address",
          "sourceSystemKey": "StaticObjects",
          "value": "Euston Underground Station,London Underground Ltd.,Eversholt St,London,NW1 2DU"
         },
         {
          "$type": "Tfl.Api.Presentation.Entities.AdditionalProperties, Tfl.Api.Presentation.Entities",
          "category": "Facility",
          "key": "Cash Machines",
          "sourceSystemKey": "StaticObjects",
          "value": "2"
         },
         {
          "$type": "Tfl.Api.Presentation.Entities.AdditionalProperties, Tfl.Api.Presentation.Entities",
          "category": "Facility",
          "key": "Gates",
          "sourceSystemKey": "StaticObjects",
          "value": "16"
         },
         {
          "$type": "Tfl.Api.Presentation.Entities.AdditionalProperties, Tfl.Api.Presentation.Entities",
          "category": "Facility",
          "key": "Euro Cash Machines",
          "sourceSystemKey": "StaticObjects",
          "value": "yes"
         },
         {
          "$type": "Tfl.Api.Presentation.Entities.AdditionalProperties, Tfl.Api.Presentation.Entities",
          "category": "Facility",
          "key": "Car park",
          "sourceSystemKey": "StaticObjects",
          "value": "no"
         },
         {
          "$type": "Tfl.Api.Presentation.Entities.AdditionalProperties, Tfl.Api.Presentation.Entities",
          "category": "Facility",
          "key": "Escalators",
          "sourceSystemKey": "StaticObjects",
          "value": "10"
         },
         {
          "$type": "Tfl.Api.Presentation.Entities.AdditionalProperties, Tfl.Api.Presentation.Entities",
          "category": "Facility",
          "key": "Lifts",
          "sourceSystemKey": "StaticObjects",
          "value": "0"
         },
         {
          "$type": "Tfl.Api.Presentation.Entities.AdditionalProperties, Tfl.Api.Presentation.Entities",
          "category": "Facility",
          "key": "Photo Booths",
          "sourceSystemKey": "StaticObjects",
          "value": "0"
         },
         {
          "$type": "Tfl.Api.Presentation.Entities.AdditionalProperties, Tfl.Api.Presentation.Entities",
          "category": "Facility",
          "key": "Ticket Halls",
          "sourceSystemKey": "StaticObjects",
          "value": "1"
         },
         {
          "$type": "Tfl.Api.Presentation.Entities.AdditionalProperties, Tfl.Api.Presentation.Entities",
          "category": "NearestPlaces",
          "key": "SourceSystemPlaceId",
          "sourceSystemKey": "StaticObjects",
          "value": "BikePoints_795"
         },
         {
          "$type": "Tfl.Api.Presentation.Entities.AdditionalProperties, Tfl.Api.Presentation.Entities",
          "category": "NearestPlaces",
          "key": "SourceSystemPlaceId",
          "sourceSystemKey": "StaticObjects",
          "value": "BikePoints_797"
         },
         {
          "$type": "Tfl.Api.Presentation.Entities.AdditionalProperties, Tfl.Api.Presentation.Entities",
          "category": "NearestPlaces",
          "key": "SourceSystemPlaceId",
          "sourceSystemKey": "StaticObjects",
          "value": "BikePoints_16"
         },
         {
          "$type": "Tfl.Api.Presentation.Entities.AdditionalProperties, Tfl.Api.Presentation.Entities",
          "category": "NearestPlaces",
          "key": "SourceSystemPlaceId",
          "sourceSystemKey": "StaticObjects",
          "value": "BikePoints_19"
         },
         {
          "$type": "Tfl.Api.Presentation.Entities.AdditionalProperties, Tfl.Api.Presentation.Entities",
          "category": "NearestPlaces",
          "key": "SourceSystemPlaceId",
          "sourceSystemKey": "StaticObjects",
          "value": "BikePoints_20"
         },
         {
          "$type": "Tfl.Api.Presentation.Entities.AdditionalProperties, Tfl.Api.Presentation.Entities",
          "category": "NearestPlaces",
          "key": "SourceSystemPlaceId",
          "sourceSystemKey": "StaticObjects",
          "value": "BikePoints_25"
         },
         {
          "$type": "Tfl.Api.Presentation.Entities.AdditionalProperties, Tfl.Api.Presentation.Entities",
          "category": "NearestPlaces",
          "key": "SourceSystemPlaceId",
          "sourceSystemKey": "StaticObjects",
          "value": "BikePoints_69"
         },
         {
          "$type": "Tfl.Api.Presentation.Entities.AdditionalProperties, Tfl.Api.Presentation.Entities",
          "category": "NearestPlaces",
          "key": "SourceSystemPlaceId",
          "sourceSystemKey": "StaticObjects",
          "value": "BikePoints_214"
         },
         {
          "$type": "Tfl.Api.Presentation.Entities.AdditionalProperties, Tfl.Api.Presentation.Entities",
          "category": "NearestPlaces",
          "key": "SourceSystemPlaceId",
          "sourceSystemKey": "StaticObjects",
          "value": "TaxiRank_5449"
         },
         {
          "$type": "Tfl.Api.Presentation.Entities.AdditionalProperties, Tfl.Api.Presentation.Entities",
          "category": "NearestPlaces",
          "key": "SourceSystemPlaceId",
          "sourceSystemKey": "StaticObjects",
          "value": "TaxiRank_4427"
         },
         {
          "$type": "Tfl.Api.Presentation.Entities.AdditionalProperties, Tfl.Api.Presentation.Entities",
          "category": "NearestPlaces",
          "key": "SourceSystemPlaceId",
          "sourceSystemKey": "StaticObjects",
          "value": "TaxiRank_4914"
         },
         {
          "$type": "Tfl.Api.Presentation.Entities.AdditionalProperties, Tfl.Api.Presentation.Entities",
          "category": "NearestPlaces",
          "key": "SourceSystemPlaceId",
          "sourceSystemKey": "StaticObjects",
          "value": "TaxiRank_5896"
         },
         {
          "$type": "Tfl.Api.Presentation.Entities.AdditionalProperties, Tfl.Api.Presentation.Entities",
          "category": "NearestPlaces",
          "key": "SourceSystemPlaceId",
          "sourceSystemKey": "StaticObjects",
          "value": "TaxiRank_4557"
         }
        ],
        "children": [
         {
          "$type": "Tfl.Api.Presentation.Entities.StopPoint, Tfl.Api.Presentation.Entities",
          "additionalProperties": [],
          "children": [],
          "commonName": "Euston Underground Station",
          "hubNaptanCode": "HUBEUS",
          "icsCode": "1000077",
          "id": "9400ZZLUEUS2",
          "lat": 51.527824,
          "lineGroup": [],
          "lineModeGroups": [],
          "lines": [],
          "lon": -0.131846,
          "modes": [],
          "naptanId": "9400ZZLUEUS2",
          "placeType": "StopPoint",
          "stationNaptan": "940GZZLUEUS",
          "status": true
         },
         {
          "$type": "Tfl.Api.Presentation.Entities.StopPoint, Tfl.Api.Presentation.Entities",
          "additionalProperties": [],
          "children": [],
          "commonName": "Euston Underground Station",
          "hubNaptanCode": "HUBEUS",
          "icsCode": "1000077",
          "id": "9400ZZLUEUS3",
          "lat": 0,
          "lineGroup": [],
          "lineModeGroups": [],
          "lines": [],
          "lon": 0,
          "modes": [],
          "naptanId": "9400ZZLUEUS3",
          "placeType": "StopPoint",
          "stationNaptan": "940GZZLUEUS",
          "status": true
         },
         {
          "$type": "Tfl.Api.Presentation.Entities.StopPoint, Tfl.Api.Presentation.Entities",
          "additionalProperties": [],
          "children": [],
          "commonName": "Euston Underground Station",
          "hubNaptanCode": "HUBEUS",
          "icsCode": "1000077",
          "id": "9400ZZLUEUS4",
          "lat": 0,
          "lineGroup": [],
          "lineModeGroups": [],
          "lines": [],
          "lon": 0,
          "modes": [],
          "naptanId": "9400ZZLUEUS4",
          "placeType": "StopPoint",
          "stationNaptan": "940GZZLUEUS",
          "status": true
         },
         {
          "$type": "Tfl.Api.Presentation.Entities.StopPoint, Tfl.Api.Presentation.Entities",
          "additionalProperties": [],
          "children": [],
          "commonName": "Euston Underground Station",
          "hubNaptanCode": "HUBEUS",
          "icsCode": "1000077",
          "id": "9400ZZLUEUS5",
          "lat": 0,
          "lineGroup": [],
          "lineModeGroups": [],
          "lines": [],
          "lon": 0,
          "modes": [],
          "naptanId": "9400ZZLUEUS5",
          "placeType": "StopPoint",
          "stationNaptan": "940GZZLUEUS",
          "status": true
         },
         {
          "$type": "Tfl.Api.Presentation.Entities.StopPoint, Tfl.Api.Presentation.Entities",
          "additionalProperties": [],
          "children": [],
          "commonName": "Euston Underground Station",
          "hubNaptanCode": "HUBEUS",
          "icsCode": "1000077",
          "id": "9400ZZLUEUS1",
          "lat": 0,
          "lineGroup": [],
          "lineModeGroups": [],
          "lines": [],
          "lon": 0,
          "modes": [],
          "naptanId": "9400ZZLUEUS1",
          "placeType": "StopPoint",
          "stationNaptan": "940GZZLUEUS",
          "status": true
         },
         {
          "$type": "Tfl.Api.Presentation.Entities.StopPoint, Tfl.Api.Presentation.Entities",
          "additionalProperties": [],
          "children": [],
          "commonName": "Euston Underground Station",
          "hubNaptanCode": "HUBEUS",
          "icsCode": "1000077",
          "id": "9400ZZLUEUS6",
          "lat": 0,
          "lineGroup": [],
          "lineModeGroups": [],
          "lines": [],
          "lon": 0,
          "modes": [],
          "naptanId": "9400ZZLUEUS6",
          "placeType": "StopPoint",
          "stationNaptan": "940GZZLUEUS",
          "status": true
         }
        ],
        "commonName": "Euston Underground Station",
        "hubNaptanCode": "HUBEUS",
        "icsCode": "1000077",
        "id": "940GZZLUEUS",
        "lat": 51.527824,
        "lineGroup": [
         {
          "$type": "Tfl.Api.Presentation.Entities.LineGroup, Tfl.Api.Presentation.Entities",
          "lineIdentifier": [
           "northern"
          ],
          "stationAtcoCode": "940GZZLUEUS"
         },
         {
          "$type": "Tfl.Api.Presentation.Entities.LineGroup, Tfl.Api.Presentation.Entities",
          "lineIdentifier": [
           "victoria"
          ],
          "stationAtcoCode": "940GZZLUEUS"
         }
        ],
        "lineModeGroups": [
         {
          "$type": "Tfl.Api.Presentation.Entities.LineModeGroup, Tfl.Api.Presentation.Entities",
          "lineIdentifier": [
           "northern",
           "victoria"
          ],
          "modeName": "tube"
         }
        ],
        "lines": [
         {
          "$type": "Tfl.Api.Presentation.Entities.Identifier, Tfl.Api.Presentation.Entities",
          "crowding": {
           "$type": "Tfl.Api.Presentation.Entities.Crowding, Tfl.Api.Presentation.Entities"
          },
          "id": "northern",
          "name": "Northern",
          "routeType": "Unknown",
          "status": "Unknown",
          "type": "Line",
          "uri": "/Line/northern"
         },
         {
          "$type": "Tfl.Api.Presentation.Entities.Identifier, Tfl.Api.Presentation.Entities",
          "crowding": {
           "$type": "Tfl.Api.Presentation.Entities.Crowding, Tfl.Api.Presentation.Entities"
          },
          "id": "victoria",
          "name": "Victoria",
          "routeType": "Unknown",
          "status": "Unknown",
          "type": "Line",
          "uri": "/Line/victoria"
         }
        ],
        "lon": -0.131846,
        "modes": [
         "tube"
        ],
        "naptanId": "940GZZLUEUS",
        "placeType": "StopPoint",
        "stationNaptan": "940GZZLUEUS",
        "status": true,
        "stopType": "NaptanMetroStation"
       },
       {
        "$type": "Tfl.Api.Presentation.Entities.StopPoint, Tfl.Api.Presentation.Entities",
        "additionalProperties": [
         {
          "$type": "Tfl.Api.Presentation.Entities.AdditionalProperties, Tfl.Api.Presentation.Entities",
          "category": "ServiceInfo",
          "key": "Night",
          "sourceSystemKey": "TransXchangeETL",
          "value": "yes"
         },
         {
          "$type": "Tfl.Api.Presentation.Entities.AdditionalProperties, Tfl.Api.Presentation.Entities",
          "category": "Address",
          "key": "PhoneNo",
          "sourceSystemKey": "StaticObjects",
          "value": "0845 330 9880"
         },
         {
          "$type": "Tfl.Api.Presentation.Entities.AdditionalProperties, Tfl.Api.Presentation.Entities",
          "category": "Opening Time",
          "key": "SunFrom",
          "sourceSystemKey": "StaticObjects",
          "value": "08:15"
         },
         {
          "$type": "Tfl.Api.Presentation.Entities.AdditionalProperties, Tfl.Api.Presentation.Entities",
          "category": "Facility",
          "key": "Cash Machines",
          "sourceSystemKey": "StaticObjects",
          "value": "2"
         },
         {
          "$type": "Tfl.Api.Presentation.Entities.AdditionalProperties, Tfl.Api.Presentation.Entities",
          "category": "Facility",
          "key": "Escalators",
          "sourceSystemKey": "StaticObjects",
          "value": "0"
         },
         {
          "$type": "Tfl.Api.Presentation.Entities.AdditionalProperties, Tfl.Api.Presentation.Entities",
          "category": "Opening Time",
          "key": "MonFriTo",
          "sourceSystemKey": "StaticObjects",
          "value": "21:15"
         },
         {
          "$type": "Tfl.Api.Presentation.Entities.AdditionalProperties, Tfl.Api.Presentation.Entities",
          "category": "Facility",
          "key": "Other Facilities",
          "sourceSystemKey": "StaticObjects",
          "value": "electronic whiteboards in ticket hall, subway to street, routeways platform to ticket hall."
         },
         {
          "$type": "Tfl.Api.Presentation.Entities.AdditionalProperties, Tfl.Api.Presentation.Entities",
          "category": "Opening Time",
          "key": "SatTo",
          "sourceSystemKey": "StaticObjects",
          "value": "22:30"
         },
         {
          "$type": "Tfl.Api.Presentation.Entities.AdditionalProperties, Tfl.Api.Presentation.Entities",
          "category": "Facility",
          "key": "Ticket Halls",
          "sourceSystemKey": "StaticObjects",
          "value": "1"
         },
         {
          "$type": "Tfl.Api.Presentation.Entities.AdditionalProperties, Tfl.Api.Presentation.Entities",
          "category": "Facility",
          "key": "Toilets",
          "sourceSystemKey": "StaticObjects",
          "value": "no"
         },
         {
          "$type": "Tfl.Api.Presentation.Entities.AdditionalProperties, Tfl.Api.Presentation.Entities",
          "category": "Facility",
          "key": "Bridge",
          "sourceSystemKey": "StaticObjects",
          "value": "no"
         },
         {
          "$type": "Tfl.Api.Presentation.Entities.AdditionalProperties, Tfl.Api.Presentation.Entities",
          "category": "Facility",
          "key": "Gates",
          "sourceSystemKey": "StaticObjects",
          "value": "0"
         },
         {
          "$type": "Tfl.Api.Presentation.Entities.AdditionalProperties, Tfl.Api.Presentation.Entities",
          "category": "Facility",
          "key": "Photo Booths",
          "sourceSystemKey": "StaticObjects",
          "value": "0"
         },
         {
          "$type": "Tfl.Api.Presentation.Entities.AdditionalProperties, Tfl.Api.Presentation.Entities",
          "category": "Opening Time",
          "key": "MonFriFrom",
          "sourceSystemKey": "StaticObjects",
          "value": "06:15"
         },
         {
          "$type": "Tfl.Api.Presentation.Entities.AdditionalProperties, Tfl.Api.Presentation.Entities",
          "category": "Facility",
          "key": "WiFi",
          "sourceSystemKey": "StaticObjects",
          "value": "yes"
         },
         {
          "$type": "Tfl.Api.Presentation.Entities.AdditionalProperties, Tfl.Api.Presentation.Entities",
          "category": "Facility",
          "key": "Euro Cash Machines",
          "sourceSystemKey": "StaticObjects",
          "value": "yes"
         },
         {
          "$type": "Tfl.Api.Presentation.Entities.AdditionalProperties, Tfl.Api.Presentation.Entities",
          "category": "Facility",
          "key": "Help Points",
          "sourceSystemKey": "StaticObjects",
          "value": "12 on platforms, 0 in ticket halls, 5 elsewhere"
         },
         {
          "$type": "Tfl.Api.Presentation.Entities.AdditionalProperties, Tfl.Api.Presentation.Entities",
          "category": "Facility",
          "key": "Lifts",
          "sourceSystemKey": "StaticObjects",
          "value": "1"
         },
         {
          "$type": "Tfl.Api.Presentation.Entities.AdditionalProperties, Tfl.Api.Presentation.Entities",
          "category": "Opening Time",
          "key": "SatFrom",
          "sourceSystemKey": "StaticObjects",
          "value": "07:00"
         },
         {
          "$type": "Tfl.Api.Presentation.Entities.AdditionalProperties, Tfl.Api.Presentation.Entities",
          "category": "Geo",
          "key": "Zone",
          "sourceSystemKey": "StaticObjects",
          "value": "2"
         },
         {
          "$type": "Tfl.Api.Presentation.Entities.AdditionalProperties, Tfl.Api.Presentation.Entities",
          "category": "Address",
          "key": "Address",
          "sourceSystemKey": "StaticObjects",
          "value": "Finsbury Park Underground Station,London Underground Ltd.,Wells Terrace,London,N4 3JU"
         },
         {
          "$type": "Tfl.Api.Presentation.Entities.AdditionalProperties, Tfl.Api.Presentation.Entities",
          "category": "Opening Time",
          "key": "SunTo",
          "sourceSystemKey": "StaticObjects",
          "value": "22:00"
         },
         {
          "$type": "Tfl.Api.Presentation.Entities.AdditionalProperties, Tfl.Api.Presentation.Entities",
          "category": "Facility",
          "key": "Car park",
          "sourceSystemKey": "StaticObjects",
          "value": "no"
         },
         {
          "$type": "Tfl.Api.Presentation.Entities.AdditionalProperties, Tfl.Api.Presentation.Entities",
          "category": "Facility",
          "key": "Payphones",
          "sourceSystemKey": "StaticObjects",
          "value": "4"
         },
         {
          "$type": "Tfl.Api.Presentation.Entities.AdditionalProperties, Tfl.Api.Presentation.Entities",
          "category": "Facility",
          "key": "Waiting Room",
          "sourceSystemKey": "StaticObjects",
          "value": "no"
         },
         {
          "$type": "Tfl.Api.Presentation.Entities.AdditionalProperties, Tfl.Api.Presentation.Entities",
          "category": "Accessibility",
          "key": "AccessViaLift",
          "sourceSystemKey": "LRAD",
          "value": "No"
         },
         {
          "$type": "Tfl.Api.Presentation.Entities.AdditionalProperties, Tfl.Api.Presentation.Entities",
          "category": "Accessibility",
          "key": "BlueBadgeCarParkSpaces",
          "sourceSystemKey": "LRAD",
          "value": "0"
         },
         {
          "$type": "Tfl.Api.Presentation.Entities.AdditionalProperties, Tfl.Api.Presentation.Entities",
          "category": "Accessibility",
          "key": "LimitedCapacityLift",
          "sourceSystemKey": "LRAD",
          "value": "No"
         },
         {
          "$type": "Tfl.Api.Presentation.Entities.AdditionalProperties, Tfl.Api.Presentation.Entities",
          "category": "Accessibility",
          "key": "TaxiRankOutsideStation",
          "sourceSystemKey": "LRAD",
          "value": "No"
         },
         {
          "$type": "Tfl.Api.Presentation.Entities.AdditionalProperties, Tfl.Api.Presentation.Entities",
          "category": "Accessibility",
          "key": "Toilet",
          "sourceSystemKey": "LRAD",
          "value": "No"
         },
         {
          "$type": "Tfl.Api.Presentation.Entities.AdditionalProperties, Tfl.Api.Presentation.Entities",
          "category": "NearestPlaces",
          "key": "SourceSystemPlaceId",
          "sourceSystemKey": "StaticObjects",
          "value": "TaxiRank_5870"
         }
        ],
        "children": [
         {
          "$type": "Tfl.Api.Presentation.Entities.StopPoint, Tfl.Api.Presentation.Entities",
          "additionalProperties": [],
          "children": [],
          "commonName": "Finsbury Park Underground Station",
          "hubNaptanCode": "HUBFPK",
          "icsCode": "1000083",
          "id": "9400ZZLUFPK1",
          "lat": 0,
          "lineGroup": [],
          "lineModeGroups": [],
          "lines": [],
          "lon": 0,
          "modes": [],
          "naptanId": "9400ZZLUFPK1",
          "placeType": "StopPoint",
          "stationNaptan": "940GZZLUFPK",
          "status": true
         },
         {
          "$type": "Tfl.Api.Presentation.Entities.StopPoint, Tfl.Api.Presentation.Entities",
          "additionalProperties": [],
          "children": [],
          "commonName": "Finsbury Park Underground Station",
          "hubNaptanCode": "HUBFPK",
          "icsCode": "1000083",
          "id": "9400ZZLUFPK2",
          "lat": 0,
          "lineGroup": [],
          "lineModeGroups": [],
          "lines": [],
          "lon": 0,
          "modes": [],
          "naptanId": "9400ZZLUFPK2",
          "placeType": "StopPoint",
          "stationNaptan": "940GZZLUFPK",
          "status": true
         },
         {
          "$type": "Tfl.Api.Presentation.Entities.StopPoint, Tfl.Api.Presentation.Entities",
          "additionalProperties": [],
          "children": [],
          "commonName": "Finsbury Park Underground Station",
          "hubNaptanCode": "HUBFPK",
          "icsCode": "1000083",
          "id": "9400ZZLUFPK3",
          "lat": 0,
          "lineGroup": [],
          "lineModeGroups": [],
          "lines": [],
          "lon": 0,
          "modes": [],
          "naptanId": "9400ZZLUFPK3",
          "placeType": "StopPoint",
          "stationNaptan": "940GZZLUFPK",
          "status": true
         },
         {
          "$type": "Tfl.Api.Presentation.Entities.StopPoint, Tfl.Api.Presentation.Entities",
          "additionalProperties": [],
          "children": [],
          "commonName": "Finsbury Park Underground Station",
          "hubNaptanCode": "HUBFPK",
          "icsCode": "1000083",
          "id": "9400ZZLUFPK4",
          "lat": 0,
          "lineGroup": [],
          "lineModeGroups": [],
          "lines": [],
          "lon": 0,
          "modes": [],
          "naptanId": "9400ZZLUFPK4",
          "placeType": "StopPoint",
          "stationNaptan": "940GZZLUFPK",
          "status": true
         }
        ],
        "commonName": "Finsbury Park Underground Station",
        "hubNaptanCode": "HUBFPK",
        "icsCode": "1000083",
        "id": "940GZZLUFPK",
        "lat": 51.564158,
        "lineGroup": [
         {
          "$type": "Tfl.Api.Presentation.Entities.LineGroup, Tfl.Api.Presentation.Entities",
          "lineIdentifier": [
           "piccadilly"
          ],
          "stationAtcoCode": "940GZZLUFPK"
         },
         {
          "$type": "Tfl.Api.Presentation.Entities.LineGroup, Tfl.Api.Presentation.Entities",
          "lineIdentifier": [
           "victoria"
          ],
          "stationAtcoCode": "940GZZLUFPK"
         }
        ],
        "lineModeGroups": [
         {
          "$type": "Tfl.Api.Presentation.Entities.LineModeGroup, Tfl.Api.Presentation.Entities",
          "lineIdentifier": [
           "piccadilly",
           "victoria"
          ],
          "modeName": "tube"
         }
        ],
        "lines": [
         {
          "$type": "Tfl.Api.Presentation.Entities.Identifier, Tfl.Api.Presentation.Entities",
          "crowding": {
           "$type": "Tfl.Api.Presentation.Entities.Crowding, Tfl.Api.Presentation.Entities"
          },
          "id": "piccadilly",
          "name": "Piccadilly",
          "routeType": "Unknown",
          "status": "Unknown",
          "type": "Line",
          "uri": "/Line/piccadilly"
         },
         {
          "$type": "Tfl.Api.Presentation.Entities.Identifier, Tfl.Api.Presentation.Entities",
          "crowding": {
           "$type": "Tfl.Api.Presentation.Entities.Crowding, Tfl.Api.Presentation.Entities"
          },
          "id": "victoria",
          "name": "Victoria",
          "routeType": "Unknown",
          "status": "Unknown",
          "type": "Line",
          "uri": "/Line/victoria"
         }
        ],
        "lon": -0.106825,
        "modes": [
         "tube"
        ],
        "naptanId": "940GZZLUFPK",
        "placeType": "StopPoint",
        "stationNaptan": "940GZZLUFPK",
        "status": true,
        "stopType": "NaptanMetroStation"
       },
       {
        "$type": "Tfl.Api.Presentation.Entities.StopPoint, Tfl.Api.Presentation.Entities",
        "additionalProperties": [
         {
          "$type": "Tfl.Api.Presentation.Entities.AdditionalProperties, Tfl.Api.Presentation.Entities",
          "category": "ServiceInfo",
          "key": "Night",
          "sourceSystemKey": "TransXchangeETL",
          "value": "yes"
         },
         {
          "$type": "Tfl.Api.Presentation.Entities.AdditionalProperties, Tfl.Api.Presentation.Entities",
          "category": "Address",
          "key": "PhoneNo",
          "sourceSystemKey": "StaticObjects",
          "value": "0845 330 9880"
         },
         {
          "$type": "Tfl.Api.Presentation.Entities.AdditionalProperties, Tfl.Api.Presentation.Entities",
          "category": "Facility",
          "key": "Waiting Room",
          "sourceSystemKey": "StaticObjects",
          "value": "no"
         },
         {
          "$type": "Tfl.Api.Presentation.Entities.AdditionalProperties, Tfl.Api.Presentation.Entities",
          "category": "Facility",
          "key": "Euro Cash Machines",
          "sourceSystemKey": "StaticObjects",
          "value": "yes"
         },
         {
          "$type": "Tfl.Api.Presentation.Entities.AdditionalProperties, Tfl.Api.Presentation.Entities",
          "category": "Facility",
          "key": "Toilets",
          "sourceSystemKey": "StaticObjects",
          "value": "no"
         },
         {
          "$type": "Tfl.Api.Presentation.Entities.AdditionalProperties, Tfl.Api.Presentation.Entities",
          "category": "Address",
          "key": "Address",
          "sourceSystemKey": "StaticObjects",
          "value": "Green Park Station,London Underground Ltd.,Piccadilly,London,W1J 9DZ"
         },
         {
          "$type": "Tfl.Api.Presentation.Entities.AdditionalProperties, Tfl.Api.Presentation.Entities",
          "category": "Facility",
          "key": "Gates",
          "sourceSystemKey": "StaticObjects",
          "value": "13"
         },
         {
          "$type": "Tfl.Api.Presentation.Entities.AdditionalProperties, Tfl.Api.Presentation.Entities",
          "category": "Facility",
          "key": "WiFi",
          "sourceSystemKey": "StaticObjects",
          "value": "yes"
         },
         {
          "$type": "Tfl.Api.Presentation.Entities.AdditionalProperties, Tfl.Api.Presentation.Entities",
          "category": "Geo",
          "key": "Zone",
          "sourceSystemKey": "StaticObjects",
          "value": "1"
         },
         {
          "$type": "Tfl.Api.Presentation.Entities.AdditionalProperties, Tfl.Api.Presentation.Entities",
          "category": "Facility",
          "key": "Other Facilities",
          "sourceSystemKey": "StaticObjects",
          "value": "electronic whiteboards in ticket hall, subway to street, routeways platform to ticket hall."
         },
         {
          "$type": "Tfl.Api.Presentation.Entities.AdditionalProperties, Tfl.Api.Presentation.Entities",
          "category": "Facility",
          "key": "Ticket Halls",
          "sourceSystemKey": "StaticObjects",
          "value": "1"
         },
         {
          "$type": "Tfl.Api.Presentation.Entities.AdditionalProperties, Tfl.Api.Presentation.Entities",
          "category": "Facility",
          "key": "Help Points",
          "sourceSystemKey": "StaticObjects",
          "value": "0 on platforms, 0 in ticket halls, 0 elsewhere"
         },
         {
          "$type": "Tfl.Api.Presentation.Entities.AdditionalProperties, Tfl.Api.Presentation.Entities",
          "category": "Facility",
          "key": "Lifts",
          "sourceSystemKey": "StaticObjects",
          "value": "5"
         },
         {
          "$type": "Tfl.Api.Presentation.Entities.AdditionalProperties, Tfl.Api.Presentation.Entities",
          "category": "Facility",
          "key": "Bridge",
          "sourceSystemKey": "StaticObjects",
          "value": "no"
         },
         {
          "$type": "Tfl.Api.Presentation.Entities.AdditionalProperties, Tfl.Api.Presentation.Entities",
          "category": "Facility",
          "key": "Car park",
          "sourceSystemKey": "StaticObjects",
          "value": "no"
         },
         {
          "$type": "Tfl.Api.Presentation.Entities.AdditionalProperties, Tfl.Api.Presentation.Entities",
          "category": "Facility",
          "key": "Cash Machines",
          "sourceSystemKey": "StaticObjects",
          "value": "1"
         },
         {
          "$type": "Tfl.Api.Presentation.Entities.AdditionalProperties, Tfl.Api.Presentation.Entities",
          "category": "Facility",
          "key": "Escalators",
          "sourceSystemKey": "StaticObjects",
          "value": "11"
         },
         {
          "$type": "Tfl.Api.Presentation.Entities.AdditionalProperties, Tfl.Api.Presentation.Entities",
          "category": "Facility",
          "key": "Payphones",
          "sourceSystemKey": "StaticObjects",
          "value": "4"
         },
         {
          "$type": "Tfl.Api.Presentation.Entities.AdditionalProperties, Tfl.Api.Presentation.Entities",
          "category": "Facility",
          "key": "Photo Booths",
          "sourceSystemKey": "StaticObjects",
          "value": "0"
         },
         {
          "$type": "Tfl.Api.Presentation.Entities.AdditionalProperties, Tfl.Api.Presentation.Entities",
          "category": "Accessibility",
          "key": "AccessViaLift",
          "sourceSystemKey": "LRAD",
          "value": "Yes"
         },
         {
          "$type": "Tfl.Api.Presentation.Entities.AdditionalProperties, Tfl.Api.Presentation.Entities",
          "category": "Accessibility",
          "key": "AddtionalInformation",
          "sourceSystemKey": "LRAD",
          "value": "You need to make a 220m journey to change between the Jubilee and the Piccadilly line, a  160m journey to change between the Victoria  and the Piccadilly line and a 380m journey to  change between the Victoria and the Jubilee line"
         },
         {
          "$type": "Tfl.Api.Presentation.Entities.AdditionalProperties, Tfl.Api.Presentation.Entities",
          "category": "Accessibility",
          "key": "BlueBadgeCarParkSpaces",
          "sourceSystemKey": "LRAD",
          "value": "0"
         },
         {
          "$type": "Tfl.Api.Presentation.Entities.AdditionalProperties, Tfl.Api.Presentation.Entities",
          "category": "Accessibility",
          "key": "LimitedCapacityLift",
          "sourceSystemKey": "LRAD",
          "value": "No"
         },
         {
          "$type": "Tfl.Api.Presentation.Entities.AdditionalProperties, Tfl.Api.Presentation.Entities",
          "category": "Accessibility",
          "key": "SpecificEntranceRequired",
          "sourceSystemKey": "LRAD",
          "value": "No"
         },
         {
          "$type": "Tfl.Api.Presentation.Entities.AdditionalProperties, Tfl.Api.Presentation.Entities",
          "category": "Accessibility",
          "key": "TaxiRankOutsideStation",
          "sourceSystemKey": "LRAD",
          "value": "No"
         },
         {
          "$type": "Tfl.Api.Presentation.Entities.AdditionalProperties, Tfl.Api.Presentation.Entities",
          "category": "Accessibility",
          "key": "Toilet",
          "sourceSystemKey": "LRAD",
          "value": "No"
         },
         {
          "$type": "Tfl.Api.Presentation.Entities.AdditionalProperties, Tfl.Api.Presentation.Entities",
          "category": "NearestPlaces",
          "key": "SourceSystemPlaceId",
          "sourceSystemKey": "StaticObjects",
          "value": "BikePoints_44"
         },
         {
          "$type": "Tfl.Api.Presentation.Entities.AdditionalProperties, Tfl.Api.Presentation.Entities",
          "category": "NearestPlaces",
          "key": "SourceSystemPlaceId",
          "sourceSystemKey": "StaticObjects",
          "value": "BikePoints_49"
         },
         {
          "$type": "Tfl.Api.Presentation.Entities.AdditionalProperties, Tfl.Api.Presentation.Entities",
          "category": "NearestPlaces",
          "key": "SourceSystemPlaceId",
          "sourceSystemKey": "StaticObjects",
          "value": "BikePoints_53"
         },
         {
          "$type": "Tfl.Api.Presentation.Entities.AdditionalProperties, Tfl.Api.Presentation.Entities",
          "category": "NearestPlaces",
          "key": "SourceSystemPlaceId",
          "sourceSystemKey": "StaticObjects",
          "value": "BikePoints_382"
         },
         {
          "$type": "Tfl.Api.Presentation.Entities.AdditionalProperties, Tfl.Api.Presentation.Entities",
          "category": "NearestPlaces",
          "key": "SourceSystemPlaceId",
          "sourceSystemKey": "StaticObjects",
          "value": "BikePoints_391"
         },
         {
          "$type": "Tfl.Api.Presentation.Entities.AdditionalProperties, Tfl.Api.Presentation.Entities",
          "category": "NearestPlaces",
          "key": "SourceSystemPlaceId",
          "sourceSystemKey": "StaticObjects",
          "value": "BikePoints_528"
         },
         {
          "$type": "Tfl.Api.Presentation.Entities.AdditionalProperties, Tfl.Api.Presentation.Entities",
          "category": "NearestPlaces",
          "key": "SourceSystemPlaceId",
          "sourceSystemKey": "StaticObjects",
          "value": "BikePoints_541"
         },
         {
          "$type": "Tfl.Api.Presentation.Entities.AdditionalProperties, Tfl.Api.Presentation.Entities",
          "category": "NearestPlaces",
          "key": "SourceSystemPlaceId",
          "sourceSystemKey": "StaticObjects",
          "value": "TaxiRank_5252"
         },
         {
          "$type": "Tfl.Api.Presentation.Entities.AdditionalProperties, Tfl.Api.Presentation.Entities",
          "category": "NearestPlaces",
          "key": "SourceSystemPlaceId",
          "sourceSystemKey": "StaticObjects",
          "value": "TaxiRank_5510"
         },
         {
          "$type": "Tfl.Api.Presentation.Entities.AdditionalProperties, Tfl.Api.Presentation.Entities",
          "category": "NearestPlaces",
          "key": "SourceSystemPlaceId",
          "sourceSystemKey": "StaticObjects",
          "value": "TaxiRank_5821"
         },
         {
          "$type": "Tfl.Api.Presentation.Entities.AdditionalProperties, Tfl.Api.Presentation.Entities",
          "category": "NearestPlaces",
          "key": "SourceSystemPlaceId",
          "sourceSystemKey": "StaticObjects",
          "value": "TaxiRank_5868"
         },
         {
          "$type": "Tfl.Api.Presentation.Entities.AdditionalProperties, Tfl.Api.Presentation.Entities",
          "category": "NearestPlaces",
          "key": "SourceSystemPlaceId",
          "sourceSystemKey": "StaticObjects",
          "value": "TaxiRank_5191"
         },
         {
          "$type": "Tfl.Api.Presentation.Entities.AdditionalProperties, Tfl.Api.Presentation.Entities",
          "category": "NearestPlaces",
          "key": "SourceSystemPlaceId",
          "sourceSystemKey": "StaticObjects",
          "value": "TaxiRank_3451"
         },
         {
          "$type": "Tfl.Api.Presentation.Entities.AdditionalProperties, Tfl.Api.Presentation.Entities",
          "category": "NearestPlaces",
          "key": "SourceSystemPlaceId",
          "sourceSystemKey": "StaticObjects",
          "value": "TaxiRank_5014"
         },
         {
          "$type": "Tfl.Api.Presentation.Entities.AdditionalProperties, Tfl.Api.Presentation.Entities",
          "category": "NearestPlaces",
          "key": "SourceSystemPlaceId",
          "sourceSystemKey": "StaticObjects",
          "value": "TaxiRank_5862"
         },
         {
          "$type": "Tfl.Api.Presentation.Entities.AdditionalProperties, Tfl.Api.Presentation.Entities",
          "category": "NearestPlaces",
          "key": "SourceSystemPlaceId",
          "sourceSystemKey": "StaticObjects",
          "value": "TaxiRank_5778"
         },
         {
          "$type": "Tfl.Api.Presentation.Entities.AdditionalProperties, Tfl.Api.Presentation.Entities",
          "category": "NearestPlaces",
          "key": "SourceSystemPlaceId",
          "sourceSystemKey": "StaticObjects",
          "value": "TaxiRank_4706"
         },
         {
          "$type": "Tfl.Api.Presentation.Entities.AdditionalProperties, Tfl.Api.Presentation.Entities",
          "category": "NearestPlaces",
          "key": "SourceSystemPlaceId",
          "sourceSystemKey": "StaticObjects",
          "value": "TaxiRank_5594"
         },
         {
          "$type": "Tfl.Api.Presentation.Entities.AdditionalProperties, Tfl.Api.Presentation.Entities",
          "category": "NearestPlaces",
          "key": "SourceSystemPlaceId",
          "sourceSystemKey": "StaticObjects",
          "value": "TaxiRank_4182"
         },
         {
          "$type": "Tfl.Api.Presentation.Entities.AdditionalProperties, Tfl.Api.Presentation.Entities",
          "category": "NearestPlaces",
          "key": "SourceSystemPlaceId",
          "sourceSystemKey": "StaticObjects",
          "value": "TaxiRank_4623"
         },
         {
          "$type": "Tfl.Api.Presentation.Entities.AdditionalProperties, Tfl.Api.Presentation.Entities",
          "category": "NearestPlaces",
          "key": "SourceSystemPlaceId",
          "sourceSystemKey": "StaticObjects",
          "value": "TaxiRank_5714"
         },
         {
          "$type": "Tfl.Api.Presentation.Entities.AdditionalProperties, Tfl.Api.Presentation.Entities",
          "category": "NearestPlaces",
          "key": "SourceSystemPlaceId",
          "sourceSystemKey": "StaticObjects",
          "value": "TaxiRank_5647"
         },
         {
          "$type": "Tfl.Api.Presentation.Entities.AdditionalProperties, Tfl.Api.Presentation.Entities",
          "category": "NearestPlaces",
          "key": "SourceSystemPlaceId",
          "sourceSystemKey": "StaticObjects",
          "value": "TaxiRank_5811"
         },
         {
          "$type": "Tfl.Api.Presentation.Entities.AdditionalProperties, Tfl.Api.Presentation.Entities",
          "category": "NearestPlaces",
          "key": "SourceSystemPlaceId",
          "sourceSystemKey": "StaticObjects",
          "value": "TaxiRank_5863"
         },
         {
          "$type": "Tfl.Api.Presentation.Entities.AdditionalProperties, Tfl.Api.Presentation.Entities",
          "category": "NearestPlaces",
          "key": "SourceSystemPlaceId",
          "sourceSystemKey": "StaticObjects",
          "value": "TaxiRank_5351"
         },
         {
          "$type": "Tfl.Api.Presentation.Entities.AdditionalProperties, Tfl.Api.Presentation.Entities",
          "category": "NearestPlaces",
          "key": "SourceSystemPlaceId",
          "sourceSystemKey": "StaticObjects",
          "value": "TaxiRank_4875"
         },
         {
          "$type": "Tfl.Api.Presentation.Entities.AdditionalProperties, Tfl.Api.Presentation.Entities",
          "category": "NearestPlaces",
          "key": "SourceSystemPlaceId",
          "sourceSystemKey": "StaticObjects",
          "value": "TaxiRank_4150"
         },
         {
          "$type": "Tfl.Api.Presentation.Entities.AdditionalProperties, Tfl.Api.Presentation.Entities",
          "category": "NearestPlaces",
          "key": "SourceSystemPlaceId",
          "sourceSystemKey": "StaticObjects",
          "value": "TaxiRank_5317"
         },
         {
          "$type": "Tfl.Api.Presentation.Entities.AdditionalProperties, Tfl.Api.Presentation.Entities",
          "category": "NearestPlaces",
          "key": "SourceSystemPlaceId",
          "sourceSystemKey": "StaticObjects",
          "value": "TaxiRank_4863"
         },
         {
          "$type": "Tfl.Api.Presentation.Entities.AdditionalProperties, Tfl.Api.Presentation.Entities",
          "category": "NearestPlaces",
          "key": "SourceSystemPlaceId",
          "sourceSystemKey": "StaticObjects",
          "value": "TaxiRank_5713"
         },
         {
          "$type": "Tfl.Api.Presentation.Entities.AdditionalProperties, Tfl.Api.Presentation.Entities",
          "category": "NearestPlaces",
          "key": "SourceSystemPlaceId",
          "sourceSystemKey": "StaticObjects",
          "value": "TaxiRank_5651"
         },
         {
          "$type": "Tfl.Api.Presentation.Entities.AdditionalProperties, Tfl.Api.Presentation.Entities",
          "category": "NearestPlaces",
          "key": "SourceSystemPlaceId",
          "sourceSystemKey": "StaticObjects",
          "value": "TaxiRank_5363"
         },
         {
          "$type": "Tfl.Api.Presentation.Entities.AdditionalProperties, Tfl.Api.Presentation.Entities",
          "category": "NearestPlaces",
          "key": "SourceSystemPlaceId",
          "sourceSystemKey": "StaticObjects",
          "value": "TaxiRank_5323"
         },
         {
          "$type": "Tfl.Api.Presentation.Entities.AdditionalProperties, Tfl.Api.Presentation.Entities",
          "category": "NearestPlaces",
          "key": "SourceSystemPlaceId",
          "sourceSystemKey": "StaticObjects",
          "value": "TaxiRank_5099"
         },
         {
          "$type": "Tfl.Api.Presentation.Entities.AdditionalProperties, Tfl.Api.Presentation.Entities",
          "category": "NearestPlaces",
          "key": "SourceSystemPlaceId",
          "sourceSystemKey": "StaticObjects",
          "value": "TaxiRank_5715"
         },
         {
          "$type": "Tfl.Api.Presentation.Entities.AdditionalProperties, Tfl.Api.Presentation.Entities",
          "category": "NearestPlaces",
          "key": "SourceSystemPlaceId",
          "sourceSystemKey": "StaticObjects",
          "value": "TaxiRank_4475"
         },
         {
          "$type": "Tfl.Api.Presentation.Entities.AdditionalProperties, Tfl.Api.Presentation.Entities",
          "category": "NearestPlaces",
          "key": "SourceSystemPlaceId",
          "sourceSystemKey": "StaticObjects",
          "value": "TaxiRank_5267"
         },
         {
          "$type": "Tfl.Api.Presentation.Entities.AdditionalProperties, Tfl.Api.Presentation.Entities",
          "category": "NearestPlaces",
          "key": "SourceSystemPlaceId",
          "sourceSystemKey": "StaticObjects",
          "value": "TaxiRank_5687"
         },
         {
          "$type": "Tfl.Api.Presentation.Entities.AdditionalProperties, Tfl.Api.Presentation.Entities",
          "category": "NearestPlaces",
          "key": "SourceSystemPlaceId",
          "sourceSystemKey": "StaticObjects",
          "value": "TaxiRank_5861"
         },
         {
          "$type": "Tfl.Api.Presentation.Entities.AdditionalProperties, Tfl.Api.Presentation.Entities",
          "category": "NearestPlaces",
          "key": "SourceSystemPlaceId",
          "sourceSystemKey": "StaticObjects",
          "value": "TaxiRank_5600"
         },
         {
          "$type": "Tfl.Api.Presentation.Entities.AdditionalProperties, Tfl.Api.Presentation.Entities",
          "category": "NearestPlaces",
          "key": "SourceSystemPlaceId",
          "sourceSystemKey": "StaticObjects",
          "value": "TaxiRank_5800"
         },
         {
          "$type": "Tfl.Api.Presentation.Entities.AdditionalProperties, Tfl.Api.Presentation.Entities",
          "category": "NearestPlaces",
          "key": "SourceSystemPlaceId",
          "sourceSystemKey": "StaticObjects",
          "value": "TaxiRank_4949"
         }
        ],
        "children": [
         {
          "$type": "Tfl.Api.Presentation.Entities.StopPoint, Tfl.Api.Presentation.Entities",
          "additionalProperties": [],
          "children": [],
          "commonName": "Green Park Underground Station",
          "icsCode": "1000093",
          "id": "9400ZZLUGPK2",
          "lat": 0,
          "lineGroup": [],
          "lineModeGroups": [],
          "lines": [],
          "lon": 0,
          "modes": [],
          "naptanId": "9400ZZLUGPK2",
          "placeType": "StopPoint",
          "stationNaptan": "940GZZLUGPK",
          "status": true
         },
         {
          "$type": "Tfl.Api.Presentation.Entities.StopPoint, Tfl.Api.Presentation.Entities",
          "additionalProperties": [],
          "children": [],
          "commonName": "Green Park Underground Station",
          "icsCode": "1000093",
          "id": "9400ZZLUGPK3",
          "lat": 0,
          "lineGroup": [],
          "lineModeGroups": [],
          "lines": [],
          "lon": 0,
          "modes": [],
          "naptanId": "9400ZZLUGPK3",
          "placeType": "StopPoint",
          "stationNaptan": "940GZZLUGPK",
          "status": true
         },
         {
          "$type": "Tfl.Api.Presentation.Entities.StopPoint, Tfl.Api.Presentation.Entities",
          "additionalProperties": [],
          "children": [],
          "commonName": "Green Park Underground Station",
          "icsCode": "1000093",
          "id": "9400ZZLUGPK4",
          "lat": 0,
          "lineGroup": [],
          "lineModeGroups": [],
          "lines": [],
          "lon": 0,
          "modes": [],
          "naptanId": "9400ZZLUGPK4",
          "placeType": "StopPoint",
          "stationNaptan": "940GZZLUGPK",
          "status": true
         },
         {
          "$type": "Tfl.Api.Presentation.Entities.StopPoint, Tfl.Api.Presentation.Entities",
          "additionalProperties": [],
          "children": [],
          "commonName": "Green Park Underground Station",
          "icsCode": "1000093",
          "id": "9400ZZLUGPK1",
          "lat": 0,
          "lineGroup": [],
          "lineModeGroups": [],
          "lines": [],
          "lon": 0,
          "modes": [],
          "naptanId": "9400ZZLUGPK1",
          "placeType": "StopPoint",
          "stationNaptan": "940GZZLUGPK",
          "status": true
         },
         {
          "$type": "Tfl.Api.Presentation.Entities.StopPoint, Tfl.Api.Presentation.Entities",
          "additionalProperties": [],
          "children": [],
          "commonName": "Green Park Underground Station",
          "icsCode": "1000093",
          "id": "9400ZZLUGPK5",
          "lat": 0,
          "lineGroup": [],
          "lineModeGroups": [],
          "lines": [],
          "lon": 0,
          "modes": [],
          "naptanId": "9400ZZLUGPK5",
          "placeType": "StopPoint",
          "stationNaptan": "940GZZLUGPK",
          "status": true
         }
        ],
        "commonName": "Green Park Underground Station",
        "icsCode": "1000093",
        "id": "940GZZLUGPK",
        "lat": 51.506947,
        "lineGroup": [
         {
          "$type": "Tfl.Api.Presentation.Entities.LineGroup, Tfl.Api.Presentation.Entities",
          "lineIdentifier": [
           "14",
           "19",
           "38",
           "6",
           "9",
           "n19",
           "n38",
           "n9",
           "n97"
          ],
          "naptanIdReference": "490000093PB",
          "stationAtcoCode": "490G00093PE"
         },
         {
          "$type": "Tfl.Api.Presentation.Entities.LineGroup, Tfl.Api.Presentation.Entities",
          "lineIdentifier": [
           "14",
           "19",
           "22",
           "38",
           "6",
           "9",
           "n19",
           "n22",
           "n38",
           "n9",
           "n97"
          ],
          "naptanIdReference": "490000093PE",
          "stationAtcoCode": "490G00093PE"
         },
         {
          "$type": "Tfl.Api.Presentation.Entities.LineGroup, Tfl.Api.Presentation.Entities",
          "lineIdentifier": [
           "22",
           "n22"
          ],
          "naptanIdReference": "490000093PA",
          "stationAtcoCode": "490G00093PE"
         },
         {
          "$type": "Tfl.Api.Presentation.Entities.LineGroup, Tfl.Api.Presentation.Entities",
          "lineIdentifier": [
           "jubilee"
          ],
          "stationAtcoCode": "940GZZLUGPK"
         },
         {
          "$type": "Tfl.Api.Presentation.Entities.LineGroup, Tfl.Api.Presentation.Entities",
          "lineIdentifier": [
           "piccadilly"
          ],
          "stationAtcoCode": "940GZZLUGPK"
         },
         {
          "$type": "Tfl.Api.Presentation.Entities.LineGroup, Tfl.Api.Presentation.Entities",
          "lineIdentifier": [
           "victoria"
          ],
          "stationAtcoCode": "940GZZLUGPK"
         }
        ],
        "lineModeGroups": [
         {
          "$type": "Tfl.Api.Presentation.Entities.LineModeGroup, Tfl.Api.Presentation.Entities",
          "lineIdentifier": [
           "14",
           "19",
           "22",
           "38",
           "6",
           "9",
           "n19",
           "n22",
           "n38",
           "n9",
           "n97"
          ],
          "modeName": "bus"
         },
         {
          "$type": "Tfl.Api.Presentation.Entities.LineModeGroup, Tfl.Api.Presentation.Entities",
          "lineIdentifier": [
           "jubilee",
           "piccadilly",
           "victoria"
          ],
          "modeName": "tube"
         }
        ],
        "lines": [
         {
          "$type": "Tfl.Api.Presentation.Entities.Identifier, Tfl.Api.Presentation.Entities",
          "crowding": {
           "$type": "Tfl.Api.Presentation.Entities.Crowding, Tfl.Api.Presentation.Entities"
          },
          "id": "14",
          "name": "14",
          "routeType": "Unknown",
          "status": "Unknown",
          "type": "Line",
          "uri": "/Line/14"
         },
         {
          "$type": "Tfl.Api.Presentation.Entities.Identifier, Tfl.Api.Presentation.Entities",
          "crowding": {
           "$type": "Tfl.Api.Presentation.Entities.Crowding, Tfl.Api.Presentation.Entities"
          },
          "id": "19",
          "name": "19",
          "routeType": "Unknown",
          "status": "Unknown",
          "type": "Line",
          "uri": "/Line/19"
         },
         {
          "$type": "Tfl.Api.Presentation.Entities.Identifier, Tfl.Api.Presentation.Entities",
          "crowding": {
           "$type": "Tfl.Api.Presentation.Entities.Crowding, Tfl.Api.Presentation.Entities"
          },
          "id": "22",
          "name": "22",
          "routeType": "Unknown",
          "status": "Unknown",
          "type": "Line",
          "uri": "/Line/22"
         },
         {
          "$type": "Tfl.Api.Presentation.Entities.Identifier, Tfl.Api.Presentation.Entities",
          "crowding": {
           "$type": "Tfl.Api.Presentation.Entities.Crowding, Tfl.Api.Presentation.Entities"
          },
          "id": "38",
          "name": "38",
          "routeType": "Unknown",
          "status": "Unknown",
          "type": "Line",
          "uri": "/Line/38"
         },
         {
          "$type": "Tfl.Api.Presentation.Entities.Identifier, Tfl.Api.Presentation.Entities",
          "crowding": {
           "$type": "Tfl.Api.Presentation.Entities.Crowding, Tfl.Api.Presentation.Entities"
          },
          "id": "6",
          "name": "6",
          "routeType": "Unknown",
          "status": "Unknown",
          "type": "Line",
          "uri": "/Line/6"
         },
         {
          "$type": "Tfl.Api.Presentation.Entities.Identifier, Tfl.Api.Presentation.Entities",
          "crowding": {
           "$type": "Tfl.Api.Presentation.Entities.Crowding, Tfl.Api.Presentation.Entities"
          },
          "id": "9",
          "name": "9",
          "routeType": "Unknown",
          "status": "Unknown",
          "type": "Line",
          "uri": "/Line/9"
         },
         {
          "$type": "Tfl.Api.Presentation.Entities.Identifier, Tfl.Api.Presentation.Entities",
          "crowding": {
           "$type": "Tfl.Api.Presentation.Entities.Crowding, Tfl.Api.Presentation.Entities"
          },
          "id": "jubilee",
          "name": "Jubilee",
          "routeType": "Unknown",
          "status": "Unknown",
          "type": "Line",
          "uri": "/Line/jubilee"
         },
         {
          "$type": "Tfl.Api.Presentation.Entities.Identifier, Tfl.Api.Presentation.Entities",
          "crowding": {
           "$type": "Tfl.Api.Presentation.Entities.Crowding, Tfl.Api.Presentation.Entities"
          },
          "id": "n19",
          "name": "N19",
          "routeType": "Unknown",
          "status": "Unknown",
          "type": "Line",
          "uri": "/Line/n19"
         },
         {
          "$type": "Tfl.Api.Presentation.Entities.Identifier, Tfl.Api.Presentation.Entities",
          "crowding": {
           "$type": "Tfl.Api.Presentation.Entities.Crowding, Tfl.Api.Presentation.Entities"
          },
          "id": "n22",
          "name": "N22",
          "routeType": "Unknown",
          "status": "Unknown",
          "type": "Line",
          "uri": "/Line/n22"
         },
         {
          "$type": "Tfl.Api.Presentation.Entities.Identifier, Tfl.Api.Presentation.Entities",
          "crowding": {
           "$type": "Tfl.Api.Presentation.Entities.Crowding, Tfl.Api.Presentation.Entities"
          },
          "id": "n38",
          "name": "N38",
          "routeType": "Unknown",
          "status": "Unknown",
          "type": "Line",
          "uri": "/Line/n38"
         },
         {
          "$type": "Tfl.Api.Presentation.Entities.Identifier, Tfl.Api.Presentation.Entities",
          "crowding": {
           "$type": "Tfl.Api.Presentation.Entities.Crowding, Tfl.Api.Presentation.Entities"
          },
          "id": "n9",
          "name": "N9",
          "routeType": "Unknown",
          "status": "Unknown",
          "type": "Line",
          "uri": "/Line/n9"
         },
         {
          "$type": "Tfl.Api.Presentation.Entities.Identifier, Tfl.Api.Presentation.Entities",
          "crowding": {
           "$type": "Tfl.Api.Presentation.Entities.Crowding, Tfl.Api.Presentation.Entities"
          },
          "id": "n97",
          "name": "N97",
          "routeType": "Unknown",
          "status": "Unknown",
          "type": "Line",
          "uri": "/Line/n97"
         },
         {
          "$type": "Tfl.Api.Presentation.Entities.Identifier, Tfl.Api.Presentation.Entities",
          "crowding": {
           "$type": "Tfl.Api.Presentation.Entities.Crowding, Tfl.Api.Presentation.Entities"
          },
          "id": "piccadilly",
          "name": "Piccadilly",
          "routeType": "Unknown",
          "status": "Unknown",
          "type": "Line",
          "uri": "/Line/piccadilly"
         },
         {
          "$type": "Tfl.Api.Presentation.Entities.Identifier, Tfl.Api.Presentation.Entities",
          "crowding": {
           "$type": "Tfl.Api.Presentation.Entities.Crowding, Tfl.Api.Presentation.Entities"
          },
          "id": "victoria",
          "name": "Victoria",
          "routeType": "Unknown",
          "status": "Unknown",
          "type": "Line",
          "uri": "/Line/victoria"
         }
        ],
        "lon": -0.142787,
        "modes": [
         "tube",
         "bus"
        ],
        "naptanId": "940GZZLUGPK",
        "placeType": "StopPoint",
        "stationNaptan": "940GZZLUGPK",
        "status": true,
        "stopType": "NaptanMetroStation"
       }
      ],
      "text/plain": [
       "<IPython.core.display.JSON object>"
      ]
     },
     "execution_count": 21,
     "metadata": {
      "application/json": {
       "expanded": false,
       "root": "root"
      }
     },
     "output_type": "execute_result"
    }
   ],
   "source": [
    "# Gets a list of the stations that serve 'Victoria' line\n",
    "lineVic_stations = getResponse('https://api.tfl.gov.uk/Line/Victoria/StopPoints')\n",
    "\n",
    "JSON(lineVic_stations[:5])"
   ]
  },
  {
   "cell_type": "code",
   "execution_count": 59,
   "metadata": {},
   "outputs": [
    {
     "name": "stdout",
     "output_type": "stream",
     "text": [
      "16 station(s) has/have Victoria line.\n"
     ]
    }
   ],
   "source": [
    "num_lineVic_stations = len(lineVic_stations)\n",
    "print('{} station(s) has/have Victoria line.'.format(num_lineVic_stations))"
   ]
  },
  {
   "cell_type": "code",
   "execution_count": null,
   "metadata": {},
   "outputs": [],
   "source": []
  },
  {
   "cell_type": "markdown",
   "metadata": {},
   "source": [
    "### Task\n",
    "Plan the journey from Heathrow Airport to Tower Bridge using Bus and Tube? Which way is faster? Example output:\n",
    "```\n",
    "Planned duration:\n",
    "Bus: x minutes\n",
    "Tube: y minutes\n",
    "```\n"
   ]
  },
  {
   "cell_type": "code",
   "execution_count": 52,
   "metadata": {},
   "outputs": [],
   "source": [
    "# stopPoint_HA = getResponse('https://api.tfl.gov.uk/StopPoint/Search?query=Heathrow%20Airport')\n",
    "# stopPoint_TB = getResponse('https://api.tfl.gov.uk/StopPoint/Search?query=Tower%20Bridge')"
   ]
  },
  {
   "cell_type": "code",
   "execution_count": 39,
   "metadata": {
    "tags": []
   },
   "outputs": [
    {
     "data": {
      "application/json": {
       "$type": "Tfl.Api.Presentation.Entities.SearchResponse, Tfl.Api.Presentation.Entities",
       "matches": [
        {
         "$type": "Tfl.Api.Presentation.Entities.MatchedStop, Tfl.Api.Presentation.Entities",
         "icsId": "1000104",
         "id": "HUBHX4",
         "lat": 51.458837,
         "lon": -0.446419,
         "modes": [
          "national-rail",
          "bus",
          "tflrail",
          "tube",
          "plane"
         ],
         "name": "Heathrow Airport Terminal 4",
         "zone": "6"
        },
        {
         "$type": "Tfl.Api.Presentation.Entities.MatchedStop, Tfl.Api.Presentation.Entities",
         "icsId": "1016430",
         "id": "HUBHX5",
         "lat": 51.471569,
         "lon": -0.489556,
         "modes": [
          "bus",
          "plane",
          "tube",
          "tflrail",
          "national-rail"
         ],
         "name": "Heathrow Airport Terminal 5",
         "zone": "6"
        }
       ],
       "query": "Heathrow Airport",
       "total": 2
      },
      "text/plain": [
       "<IPython.core.display.JSON object>"
      ]
     },
     "execution_count": 39,
     "metadata": {
      "application/json": {
       "expanded": false,
       "root": "root"
      }
     },
     "output_type": "execute_result"
    }
   ],
   "source": [
    "# JSON(stopPoint_HA)"
   ]
  },
  {
   "cell_type": "code",
   "execution_count": 53,
   "metadata": {
    "collapsed": true,
    "jupyter": {
     "outputs_hidden": true
    },
    "tags": []
   },
   "outputs": [
    {
     "data": {
      "application/json": {
       "$type": "Tfl.Api.Presentation.Entities.SearchResponse, Tfl.Api.Presentation.Entities",
       "matches": [
        {
         "$type": "Tfl.Api.Presentation.Entities.MatchedStop, Tfl.Api.Presentation.Entities",
         "icsId": "1013744",
         "id": "490G00013744",
         "lat": 51.503659,
         "lon": -0.07674,
         "modes": [
          "bus"
         ],
         "name": "Tower Bridge / City Hall",
         "topMostParentId": "490G00013744"
        },
        {
         "$type": "Tfl.Api.Presentation.Entities.MatchedStop, Tfl.Api.Presentation.Entities",
         "icsId": "1013746",
         "id": "490G00013746",
         "lat": 51.50184,
         "lon": -0.079323,
         "modes": [
          "bus"
         ],
         "name": "Tower Bridge Road",
         "topMostParentId": "490G00013746"
        },
        {
         "$type": "Tfl.Api.Presentation.Entities.MatchedStop, Tfl.Api.Presentation.Entities",
         "icsId": "1019012",
         "id": "490G00019012",
         "lat": 51.495631,
         "lon": -0.08346,
         "modes": [
          "bus"
         ],
         "name": "Bricklayer's Arms / Tower Bridge Road",
         "topMostParentId": "490G00019012"
        },
        {
         "$type": "Tfl.Api.Presentation.Entities.MatchedStop, Tfl.Api.Presentation.Entities",
         "icsId": "1002087",
         "id": "930GSTC",
         "lat": 51.50614,
         "lon": -0.073797,
         "modes": [
          "river-bus"
         ],
         "name": "Tower Bridge Quay",
         "topMostParentId": "930GSTC"
        }
       ],
       "query": "Tower bridge",
       "total": 4
      },
      "text/plain": [
       "<IPython.core.display.JSON object>"
      ]
     },
     "execution_count": 61,
     "metadata": {
      "application/json": {
       "expanded": false,
       "root": "root"
      }
     },
     "output_type": "execute_result"
    }
   ],
   "source": [
    "# JSON(stopPoint_TB)"
   ]
  },
  {
   "cell_type": "code",
   "execution_count": null,
   "metadata": {},
   "outputs": [
    {
     "name": "stdout",
     "output_type": "stream",
     "text": [
      "51.458837 -0.446419\n",
      "51.503659 -0.07674\n"
     ]
    }
   ],
   "source": [
    "# # extract stopPoints' latitude and longitude from stopPoint info\n",
    "# lat_HA, lon_HA = stopPoint_HA['matches'][0]['lat'], stopPoint_HA['matches'][0]['lon']\n",
    "# lat_TB, lon_TB = stopPoint_TB['matches'][0]['lat'], stopPoint_TB['matches'][0]['lon']\n",
    "\n",
    "# print(lat_HA, lon_HA)\n",
    "# print(lat_TB, lon_TB)"
   ]
  },
  {
   "cell_type": "code",
   "execution_count": 75,
   "metadata": {},
   "outputs": [],
   "source": [
    "# request journey plans from API given mode, startpoint and endpoint\n",
    "bus_journey = getResponse('https://api.tfl.gov.uk/Journey/JourneyResults/51.4700%2C%20-0.4543/to/51.5055%2C%20-0.0754?mode=bus')\n",
    "tube_journey = getResponse('https://api.tfl.gov.uk/Journey/JourneyResults/51.4700%2C%20-0.4543/to/51.5055%2C%20-0.0754?mode=tube')"
   ]
  },
  {
   "cell_type": "code",
   "execution_count": 76,
   "metadata": {},
   "outputs": [
    {
     "data": {
      "application/json": {
       "$type": "Tfl.Api.Presentation.Entities.JourneyPlanner.ItineraryResult, Tfl.Api.Presentation.Entities",
       "journeyVector": {
        "$type": "Tfl.Api.Presentation.Entities.JourneyPlanner.JourneyVector, Tfl.Api.Presentation.Entities",
        "from": "-0.4543:51.4700:WGS84[DD.dddd]",
        "to": "-0.0754:51.5055:WGS84[DD.dddd]",
        "uri": "/journey/journeyresults/51.4700,%20-0.4543/to/51.5055,%20-0.0754?mode=bus",
        "via": ""
       },
       "journeys": [
        {
         "$type": "Tfl.Api.Presentation.Entities.JourneyPlanner.Journey, Tfl.Api.Presentation.Entities",
         "arrivalDateTime": "2022-02-11T06:17:00",
         "duration": 126,
         "fare": {
          "$type": "Tfl.Api.Presentation.Entities.JourneyPlanner.JourneyFare, Tfl.Api.Presentation.Entities",
          "caveats": [
           {
            "$type": "Tfl.Api.Presentation.Entities.JourneyPlanner.FareCaveat, Tfl.Api.Presentation.Entities",
            "text": "<p>Unlimited bus and tram journeys within one hour.</p>",
            "type": "hopper"
           },
           {
            "$type": "Tfl.Api.Presentation.Entities.JourneyPlanner.FareCaveat, Tfl.Api.Presentation.Entities",
            "text": "The price shown is a single adult pay as you go fare.",
            "type": "generic"
           }
          ],
          "fares": [
           {
            "$type": "Tfl.Api.Presentation.Entities.JourneyPlanner.Fare, Tfl.Api.Presentation.Entities",
            "cost": 155,
            "highZone": 0,
            "isHopperFare": false,
            "lowZone": 0,
            "offPeak": 0,
            "peak": 0,
            "taps": [
             {
              "$type": "Tfl.Api.Presentation.Entities.JourneyPlanner.FareTap, Tfl.Api.Presentation.Entities",
              "atcoCode": "910GHTRWCBS",
              "tapDetails": {
               "$type": "Tfl.Api.Presentation.Entities.JourneyPlanner.FareTapDetails, Tfl.Api.Presentation.Entities",
               "busRouteId": "111",
               "hostDeviceType": "ETM",
               "modeType": "Bus",
               "nationalLocationCode": 0,
               "tapTimestamp": "2022-02-11T04:16:00+00:00",
               "validationType": "Entry"
              }
             }
            ]
           },
           {
            "$type": "Tfl.Api.Presentation.Entities.JourneyPlanner.Fare, Tfl.Api.Presentation.Entities",
            "cost": 0,
            "highZone": 0,
            "isHopperFare": true,
            "lowZone": 0,
            "offPeak": 0,
            "peak": 0,
            "taps": [
             {
              "$type": "Tfl.Api.Presentation.Entities.JourneyPlanner.FareTap, Tfl.Api.Presentation.Entities",
              "atcoCode": "490G000601",
              "tapDetails": {
               "$type": "Tfl.Api.Presentation.Entities.JourneyPlanner.FareTapDetails, Tfl.Api.Presentation.Entities",
               "busRouteId": "e8",
               "hostDeviceType": "ETM",
               "modeType": "Bus",
               "nationalLocationCode": 0,
               "tapTimestamp": "2022-02-11T04:47:00+00:00",
               "validationType": "Entry"
              }
             }
            ]
           },
           {
            "$type": "Tfl.Api.Presentation.Entities.JourneyPlanner.Fare, Tfl.Api.Presentation.Entities",
            "cost": 0,
            "highZone": 0,
            "isHopperFare": true,
            "lowZone": 0,
            "offPeak": 0,
            "peak": 0,
            "taps": [
             {
              "$type": "Tfl.Api.Presentation.Entities.JourneyPlanner.FareTap, Tfl.Api.Presentation.Entities",
              "atcoCode": "490G00004292",
              "tapDetails": {
               "$type": "Tfl.Api.Presentation.Entities.JourneyPlanner.FareTapDetails, Tfl.Api.Presentation.Entities",
               "busRouteId": "237",
               "hostDeviceType": "ETM",
               "modeType": "Bus",
               "nationalLocationCode": 0,
               "tapTimestamp": "2022-02-11T05:06:00+00:00",
               "validationType": "Entry"
              }
             }
            ]
           },
           {
            "$type": "Tfl.Api.Presentation.Entities.JourneyPlanner.Fare, Tfl.Api.Presentation.Entities",
            "cost": 155,
            "highZone": 0,
            "isHopperFare": false,
            "lowZone": 0,
            "offPeak": 0,
            "peak": 0,
            "taps": [
             {
              "$type": "Tfl.Api.Presentation.Entities.JourneyPlanner.FareTap, Tfl.Api.Presentation.Entities",
              "atcoCode": "490G00203A",
              "tapDetails": {
               "$type": "Tfl.Api.Presentation.Entities.JourneyPlanner.FareTapDetails, Tfl.Api.Presentation.Entities",
               "busRouteId": "148",
               "hostDeviceType": "ETM",
               "modeType": "Bus",
               "nationalLocationCode": 0,
               "tapTimestamp": "2022-02-11T05:28:00+00:00",
               "validationType": "Entry"
              }
             }
            ]
           },
           {
            "$type": "Tfl.Api.Presentation.Entities.JourneyPlanner.Fare, Tfl.Api.Presentation.Entities",
            "cost": 0,
            "highZone": 0,
            "isHopperFare": true,
            "lowZone": 0,
            "offPeak": 0,
            "peak": 0,
            "taps": [
             {
              "$type": "Tfl.Api.Presentation.Entities.JourneyPlanner.FareTap, Tfl.Api.Presentation.Entities",
              "atcoCode": "490G00073G",
              "tapDetails": {
               "$type": "Tfl.Api.Presentation.Entities.JourneyPlanner.FareTapDetails, Tfl.Api.Presentation.Entities",
               "busRouteId": "343",
               "hostDeviceType": "ETM",
               "modeType": "Bus",
               "nationalLocationCode": 0,
               "tapTimestamp": "2022-02-11T06:03:00+00:00",
               "validationType": "Entry"
              }
             }
            ]
           }
          ],
          "totalCost": 310
         },
         "legs": [
          {
           "$type": "Tfl.Api.Presentation.Entities.JourneyPlanner.Leg, Tfl.Api.Presentation.Entities",
           "arrivalPoint": {
            "$type": "Tfl.Api.Presentation.Entities.StopPoint, Tfl.Api.Presentation.Entities",
            "additionalProperties": [],
            "commonName": "Heathrow Central Bus Stn (Rail-Air)",
            "icsCode": "1008016",
            "lat": 51.47136544841,
            "lon": -0.45345569183,
            "naptanId": "910GHTRWCBS",
            "placeType": "StopPoint",
            "platformName": "19"
           },
           "arrivalTime": "2022-02-11T04:16:00",
           "departurePoint": {
            "$type": "Tfl.Api.Presentation.Entities.StopPoint, Tfl.Api.Presentation.Entities",
            "additionalProperties": [],
            "commonName": "Cosmopolitan Way, Heathrow Airport",
            "icsCode": "99999997",
            "lat": 51.469775979350004,
            "lon": -0.45430131310000005,
            "placeType": "StopPoint",
            "platformName": ""
           },
           "departureTime": "2022-02-11T04:11:00",
           "disruptions": [],
           "distance": 335,
           "duration": 5,
           "hasFixedLocations": true,
           "instruction": {
            "$type": "Tfl.Api.Presentation.Entities.Instruction, Tfl.Api.Presentation.Entities",
            "detailed": "Walk to Heathrow Central Bus Station",
            "steps": [
             {
              "$type": "Tfl.Api.Presentation.Entities.InstructionStep, Tfl.Api.Presentation.Entities",
              "cumulativeDistance": 117,
              "cumulativeTravelTime": 107,
              "description": "Cosmopolitan Way for 117 metres",
              "descriptionHeading": "Continue along ",
              "distance": 117,
              "latitude": 51.46977635875,
              "longitude": -0.45433009588,
              "pathAttribute": {
               "$type": "Tfl.Api.Presentation.Entities.PathAttribute, Tfl.Api.Presentation.Entities"
              },
              "skyDirection": 262,
              "skyDirectionDescription": "West",
              "streetName": "Cosmopolitan Way",
              "trackType": "None",
              "turnDirection": "STRAIGHT"
             },
             {
              "$type": "Tfl.Api.Presentation.Entities.InstructionStep, Tfl.Api.Presentation.Entities",
              "cumulativeDistance": 161,
              "cumulativeTravelTime": 147,
              "description": "on to Camborne Way, continue for 44 metres",
              "descriptionHeading": "Turn right",
              "distance": 44,
              "latitude": 51.47042260114,
              "longitude": -0.45560407814,
              "pathAttribute": {
               "$type": "Tfl.Api.Presentation.Entities.PathAttribute, Tfl.Api.Presentation.Entities"
              },
              "skyDirection": 423,
              "skyDirectionDescription": "North",
              "streetName": "Camborne Way",
              "trackType": "None",
              "turnDirection": "RIGHT"
             },
             {
              "$type": "Tfl.Api.Presentation.Entities.InstructionStep, Tfl.Api.Presentation.Entities",
              "cumulativeDistance": 235,
              "cumulativeTravelTime": 214,
              "description": "on to Camborne Road, continue for 74 metres",
              "descriptionHeading": "Take a slight right",
              "distance": 74,
              "latitude": 51.47073377748,
              "longitude": -0.45533440541000003,
              "pathAttribute": {
               "$type": "Tfl.Api.Presentation.Entities.PathAttribute, Tfl.Api.Presentation.Entities"
              },
              "skyDirection": 418,
              "skyDirectionDescription": "North",
              "streetName": "Camborne Road",
              "trackType": "None",
              "turnDirection": "SLIGHT_RIGHT"
             },
             {
              "$type": "Tfl.Api.Presentation.Entities.InstructionStep, Tfl.Api.Presentation.Entities",
              "cumulativeDistance": 267,
              "cumulativeTravelTime": 242,
              "description": "on to Inner Ring West, continue for 32 metres",
              "descriptionHeading": "Turn left",
              "distance": 32,
              "latitude": 51.470945588140005,
              "longitude": -0.45434817678,
              "pathAttribute": {
               "$type": "Tfl.Api.Presentation.Entities.PathAttribute, Tfl.Api.Presentation.Entities"
              },
              "skyDirection": 358,
              "skyDirectionDescription": "North",
              "streetName": "Inner Ring West",
              "trackType": "None",
              "turnDirection": "LEFT"
             },
             {
              "$type": "Tfl.Api.Presentation.Entities.InstructionStep, Tfl.Api.Presentation.Entities",
              "cumulativeDistance": 335,
              "cumulativeTravelTime": 303,
              "description": "on to Control Tower Road, continue for 68 metres",
              "descriptionHeading": "Take a sharp right",
              "distance": 68,
              "latitude": 51.47123340134,
              "longitude": -0.45435284892,
              "pathAttribute": {
               "$type": "Tfl.Api.Presentation.Entities.PathAttribute, Tfl.Api.Presentation.Entities"
              },
              "skyDirection": 485,
              "skyDirectionDescription": "North",
              "streetName": "Control Tower Road",
              "trackType": "None",
              "turnDirection": "SHARP_RIGHT"
             }
            ],
            "summary": "Walk to Heathrow Central Bus Station"
           },
           "isDisrupted": false,
           "mode": {
            "$type": "Tfl.Api.Presentation.Entities.Identifier, Tfl.Api.Presentation.Entities",
            "id": "walking",
            "name": "walking",
            "routeType": "Unknown",
            "status": "Unknown",
            "type": "Mode"
           },
           "obstacles": [],
           "path": {
            "$type": "Tfl.Api.Presentation.Entities.JourneyPlanner.Path, Tfl.Api.Presentation.Entities",
            "elevation": [],
            "lineString": "[[51.46977597935, -0.4543013131],[51.46977635875, -0.45433009588],[51.46977806594, -0.45445961842],[51.46985167889, -0.45458671153],[51.47012929044, -0.45518204429],[51.47042260114, -0.45560407814],[51.47048286506, -0.45540047102],[51.47073377748, -0.45533440541],[51.47091608387, -0.45483871127],[51.47094558814, -0.45434817678],[51.47123340134, -0.45435284892],[51.47102977877, -0.45391338582],[51.47101509723, -0.4534819363]]",
            "stopPoints": []
           },
           "plannedWorks": [],
           "routeOptions": [
            {
             "$type": "Tfl.Api.Presentation.Entities.JourneyPlanner.RouteOption, Tfl.Api.Presentation.Entities",
             "directions": [
              ""
             ],
             "name": ""
            }
           ]
          },
          {
           "$type": "Tfl.Api.Presentation.Entities.JourneyPlanner.Leg, Tfl.Api.Presentation.Entities",
           "arrivalPoint": {
            "$type": "Tfl.Api.Presentation.Entities.StopPoint, Tfl.Api.Presentation.Entities",
            "additionalProperties": [],
            "commonName": "Hounslow Bus Station",
            "icsCode": "1008392",
            "lat": 51.471188317010004,
            "lon": -0.35519312050999996,
            "naptanId": "490G000601",
            "placeType": "StopPoint",
            "platformName": "D",
            "stopLetter": "D"
           },
           "arrivalTime": "2022-02-11T04:38:00",
           "departurePoint": {
            "$type": "Tfl.Api.Presentation.Entities.StopPoint, Tfl.Api.Presentation.Entities",
            "additionalProperties": [],
            "commonName": "Heathrow Central Bus Stn (Rail-Air)",
            "icsCode": "1008016",
            "lat": 51.47136544841,
            "lon": -0.45345569183,
            "naptanId": "910GHTRWCBS",
            "placeType": "StopPoint",
            "platformName": "19"
           },
           "departureTime": "2022-02-11T04:16:00",
           "disruptions": [],
           "duration": 22,
           "hasFixedLocations": true,
           "instruction": {
            "$type": "Tfl.Api.Presentation.Entities.Instruction, Tfl.Api.Presentation.Entities",
            "detailed": "111 bus towards Kingston",
            "steps": [],
            "summary": "111 bus to Hounslow Bus Station"
           },
           "isDisrupted": false,
           "mode": {
            "$type": "Tfl.Api.Presentation.Entities.Identifier, Tfl.Api.Presentation.Entities",
            "id": "bus",
            "name": "bus",
            "routeType": "Unknown",
            "status": "Unknown",
            "type": "Mode"
           },
           "obstacles": [],
           "path": {
            "$type": "Tfl.Api.Presentation.Entities.JourneyPlanner.Path, Tfl.Api.Presentation.Entities",
            "elevation": [],
            "lineString": "[[51.47101407422, -0.45348903241],[51.47102977877, -0.45391338582],[51.47123340134, -0.45435284892],[51.47164382467, -0.45410860501],[51.47176814204, -0.45398921576],[51.4718389094, -0.45390043298],[51.47199993852, -0.45383739555],[51.47215027137, -0.45364513232],[51.47265000589, -0.45335466072],[51.47292750196, -0.45325888387],[51.47348382278, -0.45316807442],[51.47415718024, -0.45308770308],[51.47983216464, -0.45315493627],[51.48028233488, -0.45319731136],[51.48051216594, -0.45357836826],[51.4805808203, -0.45537619694],[51.48058255226, -0.45687386359],[51.480532032, -0.45713478996],[51.48032199499, -0.45757391089],[51.48025907736, -0.45757603333],[51.47999264857, -0.45782983811],[51.48000068956, -0.45912565839],[51.48004790025, -0.45929687979],[51.48024791081, -0.45946295338],[51.48031159651, -0.45944031377],[51.48031159651, -0.45944031377],[51.48056117556, -0.45935159034],[51.48067291611, -0.45895899209],[51.48067026775, -0.45875746417],[51.48081143083, -0.45855108799],[51.48100936126, -0.45855881648],[51.4810906338, -0.45858487926],[51.48112318079, -0.45832455735],[51.48128929481, -0.45591391834],[51.48129013154, -0.45529462871],[51.48129236583, -0.45501490104],[51.48129236583, -0.45501490104],[51.48129691805, -0.45444471504],[51.4813390818, -0.45355040017],[51.48137203681, -0.45059698657],[51.48135277608, -0.4498199607],[51.4812593432, -0.44824648928],[51.4812593432, -0.44824648928],[51.48124865507, -0.44806651712],[51.48118141416, -0.44638383501],[51.48115790672, -0.44596699318],[51.48110660893, -0.44485074433],[51.48110660893, -0.44485074433],[51.48105679557, -0.44376702021],[51.48103806298, -0.44303318812],[51.48101148482, -0.44238603203],[51.48094665055, -0.44089050135],[51.48091833743, -0.44011379483],[51.48089063509, -0.43919645045],[51.48089063509, -0.43919645045],[51.48085402792, -0.43798459424],[51.48083621828, -0.43732274234],[51.48077896367, -0.43572615539],[51.48076859265, -0.43494884035],[51.48075211113, -0.43438775421],[51.48074139338, -0.43425850962],[51.48074004802, -0.43415774669],[51.48072740776, -0.4338845552],[51.48069032907, -0.43309839139],[51.48069032907, -0.43309839139],[51.48065213014, -0.43228859374],[51.48063170332, -0.42874658466],[51.4807350556, -0.42651532735],[51.4807350556, -0.42651532735],[51.48074327993, -0.4263377336],[51.48078145873, -0.42583237365],[51.4809098962, -0.42401338102],[51.48093105628, -0.42358061078],[51.48099590984, -0.42261420937],[51.48099590984, -0.42261420937],[51.48104341969, -0.42190617429],[51.48126090105, -0.4200264766],[51.48127716756, -0.41973193202],[51.48127716756, -0.41973193202],[51.48136208978, -0.41819398861],[51.48134882974, -0.4178776143],[51.48121586028, -0.41668689413],[51.48051086688, -0.41375905236],[51.48027370119, -0.41284560526],[51.48005720113, -0.41204923993],[51.48005720113, -0.41204923993],[51.48003711323, -0.41197535075],[51.47975323824, -0.41093393623],[51.4797155306, -0.41080563771],[51.47975128767, -0.41078999391],[51.47985563259, -0.4105271484],[51.48002621011, -0.41050681753],[51.48035837708, -0.41046646776],[51.4805751955, -0.41046761043],[51.4805751955, -0.41046761043],[51.48071809343, -0.41046836352],[51.48100571042, -0.4104583644],[51.48112255481, -0.41045430221],[51.48167082463, -0.4104352408],[51.48233593876, -0.41041211632],[51.48265950777, -0.41040086625],[51.48275427812, -0.41009513004],[51.48308625806, -0.40937788393],[51.48318364134, -0.40912419984],[51.48318364134, -0.40912419984],[51.48343367001, -0.40847286186],[51.48391726331, -0.40766389863],[51.48402296929, -0.40750179084],[51.48417263757, -0.40726613869],[51.48463941988, -0.40654415067],[51.48518669823, -0.40579053518],[51.48524180039, -0.40587503009],[51.48527599118, -0.40574421297],[51.48523964776, -0.40571667492],[51.48508701147, -0.4044113522],[51.48502633912, -0.403925435],[51.48502633912, -0.403925435],[51.48497599663, -0.40352226151],[51.48497770085, -0.40232678034],[51.48508548221, -0.40099796451],[51.48514442757, -0.40004532275],[51.48514226707, -0.39988696836],[51.48511357113, -0.39778517569],[51.48510727657, -0.39732450927],[51.48510727657, -0.39732450927],[51.48510137378, -0.39689263465],[51.48488572384, -0.39558955562],[51.4846044623, -0.39474967535],[51.48435599201, -0.39367821346],[51.4843610686, -0.39282641117],[51.4843610686, -0.39282641117],[51.48436688786, -0.39184871387],[51.48434358145, -0.39146066654],[51.48432145871, -0.39115899282],[51.48402188913, -0.38964288203],[51.48392616732, -0.38856607676],[51.48388428067, -0.38813548273],[51.48383784003, -0.38737379637],[51.48376067685, -0.38683219264],[51.48376067685, -0.38683219264],[51.48367858777, -0.38625603554],[51.48361376277, -0.38546619907],[51.48358105093, -0.38504968883],[51.48359790236, -0.38431457806],[51.48350411628, -0.38338174721],[51.48336517644, -0.38200187992],[51.48336517644, -0.38200187992],[51.48330614333, -0.38141564966],[51.48336727043, -0.38128386573],[51.48364331204, -0.38108686209],[51.48429604988, -0.38081890463],[51.48476123394, -0.38064399924],[51.48477980606, -0.38068654929],[51.48487827533, -0.38065425594],[51.48482196251, -0.38048341882],[51.4848286947, -0.37986142361],[51.4848286947, -0.37986142361],[51.48483381232, -0.37938839675],[51.48483643342, -0.37892741859],[51.48484422733, -0.37884072621],[51.48486843472, -0.37799010994],[51.48509216207, -0.37726203443],[51.48544673346, -0.37559311898],[51.48545673173, -0.37501664909],[51.48545674156, -0.37436851976],[51.48538763957, -0.3739244889],[51.48548810727, -0.37338800868],[51.48564629434, -0.37312312722],[51.48530934779, -0.37309917529],[51.48530934779, -0.37309917529],[51.48510622397, -0.37308473632],[51.48493445608, -0.3730188358],[51.48472613754, -0.37291102874],[51.48459850989, -0.37278594789],[51.48360324008, -0.37104989208],[51.48351695002, -0.37066410568],[51.4835025615, -0.37027575754],[51.48335613802, -0.36944564899],[51.48307168683, -0.36839003709],[51.48300716966, -0.36827712281],[51.48300611096, -0.36827536608],[51.48300611096, -0.36827536608],[51.48289671162, -0.3680938383],[51.48239376535, -0.36749250866],[51.48154386528, -0.36651474086],[51.48116834535, -0.36602410388],[51.48075386254, -0.36531884674],[51.48043447239, -0.36498463473],[51.48024958528, -0.36497011961],[51.48024958528, -0.36497011961],[51.47993035111, -0.3649450574],[51.47969586472, -0.36489583842],[51.4793882714, -0.36476282854],[51.47901615723, -0.36451692125],[51.47893446377, -0.36446224],[51.47874351099, -0.36431066186],[51.47869776875, -0.36425469517],[51.4785599395, -0.36404361521],[51.47813444835, -0.36319480385],[51.47804712814, -0.36273711201],[51.47713608428, -0.36189131622],[51.47706110277, -0.36102998784],[51.4770576827, -0.36078530632],[51.47696760333, -0.36077413524],[51.47669255511, -0.36060207631],[51.47669255511, -0.36060207631],[51.47587900354, -0.36009316452],[51.47545771297, -0.3595466826],[51.47528311869, -0.35927935175],[51.47454181152, -0.35835558431],[51.47381948083, -0.35750316101],[51.47345432341, -0.35711310053],[51.47344238962, -0.35710335739],[51.47344238962, -0.35710335739],[51.47286305779, -0.35663037808],[51.47272662712, -0.3565200894],[51.4724443742, -0.35627105391],[51.47202568954, -0.35591173626],[51.47147895444, -0.35539864574],[51.47117516078, -0.35527818755]]",
            "stopPoints": [
             {
              "$type": "Tfl.Api.Presentation.Entities.Identifier, Tfl.Api.Presentation.Entities",
              "id": "490G00010245",
              "name": "Newport Road",
              "routeType": "Unknown",
              "status": "Unknown",
              "type": "StopPoint",
              "uri": "/StopPoint/490G00010245"
             },
             {
              "$type": "Tfl.Api.Presentation.Entities.Identifier, Tfl.Api.Presentation.Entities",
              "id": "490G00012177",
              "name": "Sipson Way / Blunts Avenue",
              "routeType": "Unknown",
              "status": "Unknown",
              "type": "StopPoint",
              "uri": "/StopPoint/490G00012177"
             },
             {
              "$type": "Tfl.Api.Presentation.Entities.Identifier, Tfl.Api.Presentation.Entities",
              "id": "490G00012176",
              "name": "Nene Road",
              "routeType": "Unknown",
              "status": "Unknown",
              "type": "StopPoint",
              "uri": "/StopPoint/490G00012176"
             },
             {
              "$type": "Tfl.Api.Presentation.Entities.Identifier, Tfl.Api.Presentation.Entities",
              "id": "490G00004139",
              "name": "Bolton's Lane",
              "routeType": "Unknown",
              "status": "Unknown",
              "type": "StopPoint",
              "uri": "/StopPoint/490G00004139"
             },
             {
              "$type": "Tfl.Api.Presentation.Entities.Identifier, Tfl.Api.Presentation.Entities",
              "id": "490G00010251",
              "name": "New Road",
              "routeType": "Unknown",
              "status": "Unknown",
              "type": "StopPoint",
              "uri": "/StopPoint/490G00010251"
             },
             {
              "$type": "Tfl.Api.Presentation.Entities.Identifier, Tfl.Api.Presentation.Entities",
              "id": "490G00007811",
              "name": "Harlington Corner",
              "routeType": "Unknown",
              "status": "Unknown",
              "type": "StopPoint",
              "uri": "/StopPoint/490G00007811"
             },
             {
              "$type": "Tfl.Api.Presentation.Entities.Identifier, Tfl.Api.Presentation.Entities",
              "id": "490G00015397",
              "name": "Nobel Drive",
              "routeType": "Unknown",
              "status": "Unknown",
              "type": "StopPoint",
              "uri": "/StopPoint/490G00015397"
             },
             {
              "$type": "Tfl.Api.Presentation.Entities.Identifier, Tfl.Api.Presentation.Entities",
              "id": "490G00010677",
              "name": "Oxford Avenue",
              "routeType": "Unknown",
              "status": "Unknown",
              "type": "StopPoint",
              "uri": "/StopPoint/490G00010677"
             },
             {
              "$type": "Tfl.Api.Presentation.Entities.Identifier, Tfl.Api.Presentation.Entities",
              "id": "490G00013596",
              "name": "Craneswater",
              "routeType": "Unknown",
              "status": "Unknown",
              "type": "StopPoint",
              "uri": "/StopPoint/490G00013596"
             },
             {
              "$type": "Tfl.Api.Presentation.Entities.Identifier, Tfl.Api.Presentation.Entities",
              "id": "490G00005704",
              "name": "Waye Avenue",
              "routeType": "Unknown",
              "status": "Unknown",
              "type": "StopPoint",
              "uri": "/StopPoint/490G00005704"
             },
             {
              "$type": "Tfl.Api.Presentation.Entities.Identifier, Tfl.Api.Presentation.Entities",
              "id": "490G00013235",
              "name": "The Avenue",
              "routeType": "Unknown",
              "status": "Unknown",
              "type": "StopPoint",
              "uri": "/StopPoint/490G00013235"
             },
             {
              "$type": "Tfl.Api.Presentation.Entities.Identifier, Tfl.Api.Presentation.Entities",
              "id": "490G00013494",
              "name": "The Parkway",
              "routeType": "Unknown",
              "status": "Unknown",
              "type": "StopPoint",
              "uri": "/StopPoint/490G00013494"
             },
             {
              "$type": "Tfl.Api.Presentation.Entities.Identifier, Tfl.Api.Presentation.Entities",
              "id": "490G00012243",
              "name": "Cranford Lane / Redwood Estate",
              "routeType": "Unknown",
              "status": "Unknown",
              "type": "StopPoint",
              "uri": "/StopPoint/490G00012243"
             },
             {
              "$type": "Tfl.Api.Presentation.Entities.Identifier, Tfl.Api.Presentation.Entities",
              "id": "490G00008115",
              "name": "Harlech Gardens",
              "routeType": "Unknown",
              "status": "Unknown",
              "type": "StopPoint",
              "uri": "/StopPoint/490G00008115"
             },
             {
              "$type": "Tfl.Api.Presentation.Entities.Identifier, Tfl.Api.Presentation.Entities",
              "id": "490G00010365",
              "name": "Northfield Road",
              "routeType": "Unknown",
              "status": "Unknown",
              "type": "StopPoint",
              "uri": "/StopPoint/490G00010365"
             },
             {
              "$type": "Tfl.Api.Presentation.Entities.Identifier, Tfl.Api.Presentation.Entities",
              "id": "490G00012229",
              "name": "Somerset Waye",
              "routeType": "Unknown",
              "status": "Unknown",
              "type": "StopPoint",
              "uri": "/StopPoint/490G00012229"
             },
             {
              "$type": "Tfl.Api.Presentation.Entities.Identifier, Tfl.Api.Presentation.Entities",
              "id": "490G00008114",
              "name": "Heston Health Centre",
              "routeType": "Unknown",
              "status": "Unknown",
              "type": "StopPoint",
              "uri": "/StopPoint/490G00008114"
             },
             {
              "$type": "Tfl.Api.Presentation.Entities.Identifier, Tfl.Api.Presentation.Entities",
              "id": "490G00010221",
              "name": "New Heston Road",
              "routeType": "Unknown",
              "status": "Unknown",
              "type": "StopPoint",
              "uri": "/StopPoint/490G00010221"
             },
             {
              "$type": "Tfl.Api.Presentation.Entities.Identifier, Tfl.Api.Presentation.Entities",
              "id": "490G00012443",
              "name": "St Leonard's Church",
              "routeType": "Unknown",
              "status": "Unknown",
              "type": "StopPoint",
              "uri": "/StopPoint/490G00012443"
             },
             {
              "$type": "Tfl.Api.Presentation.Entities.Identifier, Tfl.Api.Presentation.Entities",
              "id": "490G00008272",
              "name": "Hogarth Gardens",
              "routeType": "Unknown",
              "status": "Unknown",
              "type": "StopPoint",
              "uri": "/StopPoint/490G00008272"
             },
             {
              "$type": "Tfl.Api.Presentation.Entities.Identifier, Tfl.Api.Presentation.Entities",
              "id": "490G00007427",
              "name": "Great West Road",
              "routeType": "Unknown",
              "status": "Unknown",
              "type": "StopPoint",
              "uri": "/StopPoint/490G00007427"
             },
             {
              "$type": "Tfl.Api.Presentation.Entities.Identifier, Tfl.Api.Presentation.Entities",
              "id": "490G00012406",
              "name": "Kings Avenue",
              "routeType": "Unknown",
              "status": "Unknown",
              "type": "StopPoint",
              "uri": "/StopPoint/490G00012406"
             },
             {
              "$type": "Tfl.Api.Presentation.Entities.Identifier, Tfl.Api.Presentation.Entities",
              "id": "490G00117E",
              "name": "Hounslow East Station",
              "routeType": "Unknown",
              "status": "Unknown",
              "type": "StopPoint",
              "uri": "/StopPoint/490G00117E"
             },
             {
              "$type": "Tfl.Api.Presentation.Entities.Identifier, Tfl.Api.Presentation.Entities",
              "id": "490G000601",
              "name": "Hounslow Bus Station",
              "routeType": "Unknown",
              "status": "Unknown",
              "type": "StopPoint",
              "uri": "/StopPoint/490G000601"
             }
            ]
           },
           "plannedWorks": [],
           "routeOptions": [
            {
             "$type": "Tfl.Api.Presentation.Entities.JourneyPlanner.RouteOption, Tfl.Api.Presentation.Entities",
             "directions": [
              "Kingston"
             ],
             "lineIdentifier": {
              "$type": "Tfl.Api.Presentation.Entities.Identifier, Tfl.Api.Presentation.Entities",
              "crowding": {
               "$type": "Tfl.Api.Presentation.Entities.Crowding, Tfl.Api.Presentation.Entities"
              },
              "id": "111",
              "name": "111",
              "routeType": "Unknown",
              "status": "Unknown",
              "type": "Line",
              "uri": "/Line/111"
             },
             "name": "111"
            }
           ]
          },
          {
           "$type": "Tfl.Api.Presentation.Entities.JourneyPlanner.Leg, Tfl.Api.Presentation.Entities",
           "arrivalPoint": {
            "$type": "Tfl.Api.Presentation.Entities.StopPoint, Tfl.Api.Presentation.Entities",
            "additionalProperties": [],
            "commonName": "Market Place",
            "icsCode": "1004292",
            "lat": 51.48339319479,
            "lon": -0.30732731731,
            "naptanId": "490G00004292",
            "placeType": "StopPoint",
            "platformName": "",
            "stopLetter": "BN"
           },
           "arrivalTime": "2022-02-11T05:00:00",
           "departurePoint": {
            "$type": "Tfl.Api.Presentation.Entities.StopPoint, Tfl.Api.Presentation.Entities",
            "additionalProperties": [],
            "commonName": "Hounslow Bus Station",
            "icsCode": "1008392",
            "lat": 51.47101330861,
            "lon": -0.35361559600000003,
            "naptanId": "490G000601",
            "placeType": "StopPoint",
            "platformName": "",
            "stopLetter": "F"
           },
           "departureTime": "2022-02-11T04:47:00",
           "disruptions": [],
           "duration": 13,
           "hasFixedLocations": true,
           "instruction": {
            "$type": "Tfl.Api.Presentation.Entities.Instruction, Tfl.Api.Presentation.Entities",
            "detailed": "E8 bus towards Ealing Broadway",
            "steps": [],
            "summary": "E8 bus to Market Place, Brentford"
           },
           "isDisrupted": false,
           "mode": {
            "$type": "Tfl.Api.Presentation.Entities.Identifier, Tfl.Api.Presentation.Entities",
            "id": "bus",
            "name": "bus",
            "routeType": "Unknown",
            "status": "Unknown",
            "type": "Mode"
           },
           "obstacles": [],
           "path": {
            "$type": "Tfl.Api.Presentation.Entities.JourneyPlanner.Path, Tfl.Api.Presentation.Entities",
            "elevation": [],
            "lineString": "[[51.47094062382, -0.35356465205],[51.47106894789, -0.35309525195],[51.4710657137, -0.35286499454],[51.47116729962, -0.35241498571],[51.4713528953, -0.35154439239],[51.47148880822, -0.35097795212],[51.47176204336, -0.34994580061],[51.47194828574, -0.34933718931],[51.47194828574, -0.34933718931],[51.47237241418, -0.34795114569],[51.47243289532, -0.34777617529],[51.47287686931, -0.34673781069],[51.47289963995, -0.34668491049],[51.47289963995, -0.34668491049],[51.47328610106, -0.34578707689],[51.47339989627, -0.34556697407],[51.47360133458, -0.34518530817],[51.4738035842, -0.34486120646],[51.47397961837, -0.34457845069],[51.47397961837, -0.34457845069],[51.47465649554, -0.34349118249],[51.47470838879, -0.34334530746],[51.47486060964, -0.34266301285],[51.47490721203, -0.34214293854],[51.47490721203, -0.34214293854],[51.47498836783, -0.34088722939],[51.47500206663, -0.34058434024],[51.47505173848, -0.339646561],[51.47511917435, -0.33869373461],[51.47516903505, -0.33777034352],[51.47519408895, -0.33730630818],[51.47519408895, -0.33730630818],[51.47521888846, -0.33684695059],[51.47523441421, -0.33667358946],[51.47524626434, -0.33624116713],[51.47526587502, -0.33572206383],[51.47534555457, -0.33493649595],[51.47534555457, -0.33493649595],[51.4754315233, -0.33408886107],[51.47549055198, -0.33381311463],[51.4755412059, -0.33358087207],[51.4759237133, -0.33231020098],[51.4759237133, -0.33231020098],[51.47596195965, -0.33218314475],[51.47608266915, -0.33181874265],[51.47680567179, -0.32954593374],[51.47701990483, -0.3288036932],[51.47713389394, -0.32839851153],[51.47713389394, -0.32839851153],[51.47720819612, -0.32813439585],[51.47743957422, -0.32733391317],[51.47760274241, -0.32679512707],[51.47768810047, -0.32647519271],[51.47783370029, -0.32596584483],[51.47785922492, -0.3258641065],[51.4779703102, -0.3254568229],[51.47803561824, -0.32522689602],[51.47803561824, -0.32522689602],[51.47809017611, -0.32503481502],[51.47822760451, -0.32458336006],[51.47827926824, -0.32442305948],[51.47839974751, -0.32404422566],[51.47857168221, -0.323490694],[51.47889818611, -0.32242745785],[51.47916561322, -0.32160099233],[51.47916561322, -0.32160099233],[51.47949237417, -0.32059112176],[51.47963753562, -0.32005294841],[51.47967183645, -0.31993647906],[51.47974002528, -0.31967475268],[51.47993986637, -0.31905984828],[51.47993986637, -0.31905984828],[51.4804031796, -0.3176341896],[51.48080173702, -0.31658261642],[51.48101031638, -0.31607021305],[51.48101031638, -0.31607021305],[51.48112311779, -0.31579309689],[51.48141877124, -0.31509092446],[51.48149697089, -0.31490082022],[51.48162744087, -0.31459357447],[51.4818269138, -0.3140821572],[51.48203269489, -0.31355831884],[51.48203269489, -0.31355831884],[51.48221727937, -0.31308842961],[51.48237160052, -0.31256426357],[51.48238729718, -0.31240526221],[51.48240009309, -0.31204473976],[51.48242692525, -0.31141006047],[51.48247276584, -0.31084668819],[51.48270111974, -0.30984450588],[51.4828305387, -0.30946526548],[51.48300157313, -0.30885404847],[51.48308605098, -0.30847646555],[51.48332154573, -0.30729081354]]",
            "stopPoints": [
             {
              "$type": "Tfl.Api.Presentation.Entities.Identifier, Tfl.Api.Presentation.Entities",
              "id": "490G00004327",
              "name": "Bridge Road",
              "routeType": "Unknown",
              "status": "Unknown",
              "type": "StopPoint",
              "uri": "/StopPoint/490G00004327"
             },
             {
              "$type": "Tfl.Api.Presentation.Entities.Identifier, Tfl.Api.Presentation.Entities",
              "id": "490G00012599",
              "name": "Star Road",
              "routeType": "Unknown",
              "status": "Unknown",
              "type": "StopPoint",
              "uri": "/StopPoint/490G00012599"
             },
             {
              "$type": "Tfl.Api.Presentation.Entities.Identifier, Tfl.Api.Presentation.Entities",
              "id": "490G00013620",
              "name": "Thornbury Road",
              "routeType": "Unknown",
              "status": "Unknown",
              "type": "StopPoint",
              "uri": "/StopPoint/490G00013620"
             },
             {
              "$type": "Tfl.Api.Presentation.Entities.Identifier, Tfl.Api.Presentation.Entities",
              "id": "490G00008510",
              "name": "West Thames College",
              "routeType": "Unknown",
              "status": "Unknown",
              "type": "StopPoint",
              "uri": "/StopPoint/490G00008510"
             },
             {
              "$type": "Tfl.Api.Presentation.Entities.Identifier, Tfl.Api.Presentation.Entities",
              "id": "490G01158B",
              "name": "Isleworth Station",
              "routeType": "Unknown",
              "status": "Unknown",
              "type": "StopPoint",
              "uri": "/StopPoint/490G01158B"
             },
             {
              "$type": "Tfl.Api.Presentation.Entities.Identifier, Tfl.Api.Presentation.Entities",
              "id": "490G00009185",
              "name": "Linkfield Road",
              "routeType": "Unknown",
              "status": "Unknown",
              "type": "StopPoint",
              "uri": "/StopPoint/490G00009185"
             },
             {
              "$type": "Tfl.Api.Presentation.Entities.Identifier, Tfl.Api.Presentation.Entities",
              "id": "490G00014874",
              "name": "Wood Lane",
              "routeType": "Unknown",
              "status": "Unknown",
              "type": "StopPoint",
              "uri": "/StopPoint/490G00014874"
             },
             {
              "$type": "Tfl.Api.Presentation.Entities.Identifier, Tfl.Api.Presentation.Entities",
              "id": "490G00007873",
              "name": "Turnpike Way",
              "routeType": "Unknown",
              "status": "Unknown",
              "type": "StopPoint",
              "uri": "/StopPoint/490G00007873"
             },
             {
              "$type": "Tfl.Api.Presentation.Entities.Identifier, Tfl.Api.Presentation.Entities",
              "id": "490G00004635",
              "name": "The Green School",
              "routeType": "Unknown",
              "status": "Unknown",
              "type": "StopPoint",
              "uri": "/StopPoint/490G00004635"
             },
             {
              "$type": "Tfl.Api.Presentation.Entities.Identifier, Tfl.Api.Presentation.Entities",
              "id": "490G00015029",
              "name": "Busch Corner",
              "routeType": "Unknown",
              "status": "Unknown",
              "type": "StopPoint",
              "uri": "/StopPoint/490G00015029"
             },
             {
              "$type": "Tfl.Api.Presentation.Entities.Identifier, Tfl.Api.Presentation.Entities",
              "id": "490G00013141",
              "name": "Syon Lane",
              "routeType": "Unknown",
              "status": "Unknown",
              "type": "StopPoint",
              "uri": "/StopPoint/490G00013141"
             },
             {
              "$type": "Tfl.Api.Presentation.Entities.Identifier, Tfl.Api.Presentation.Entities",
              "id": "490G00003804",
              "name": "Beech Avenue",
              "routeType": "Unknown",
              "status": "Unknown",
              "type": "StopPoint",
              "uri": "/StopPoint/490G00003804"
             },
             {
              "$type": "Tfl.Api.Presentation.Entities.Identifier, Tfl.Api.Presentation.Entities",
              "id": "490G00004296",
              "name": "Brent Lea",
              "routeType": "Unknown",
              "status": "Unknown",
              "type": "StopPoint",
              "uri": "/StopPoint/490G00004296"
             },
             {
              "$type": "Tfl.Api.Presentation.Entities.Identifier, Tfl.Api.Presentation.Entities",
              "id": "490G00004292",
              "name": "Market Place",
              "routeType": "Unknown",
              "status": "Unknown",
              "type": "StopPoint",
              "uri": "/StopPoint/490G00004292"
             }
            ]
           },
           "plannedWorks": [],
           "routeOptions": [
            {
             "$type": "Tfl.Api.Presentation.Entities.JourneyPlanner.RouteOption, Tfl.Api.Presentation.Entities",
             "directions": [
              "Ealing Broadway"
             ],
             "lineIdentifier": {
              "$type": "Tfl.Api.Presentation.Entities.Identifier, Tfl.Api.Presentation.Entities",
              "crowding": {
               "$type": "Tfl.Api.Presentation.Entities.Crowding, Tfl.Api.Presentation.Entities"
              },
              "id": "e8",
              "name": "E8",
              "routeType": "Unknown",
              "status": "Unknown",
              "type": "Line",
              "uri": "/Line/e8"
             },
             "name": "E8"
            }
           ]
          },
          {
           "$type": "Tfl.Api.Presentation.Entities.JourneyPlanner.Leg, Tfl.Api.Presentation.Entities",
           "arrivalPoint": {
            "$type": "Tfl.Api.Presentation.Entities.StopPoint, Tfl.Api.Presentation.Entities",
            "additionalProperties": [],
            "commonName": "Shepherd's Bush Station",
            "icsCode": "1000203",
            "lat": 51.50540750874,
            "lon": -0.21815358642000002,
            "naptanId": "490G00203A",
            "placeType": "StopPoint",
            "platformName": "B",
            "stopLetter": "B"
           },
           "arrivalTime": "2022-02-11T05:26:00",
           "departurePoint": {
            "$type": "Tfl.Api.Presentation.Entities.StopPoint, Tfl.Api.Presentation.Entities",
            "additionalProperties": [],
            "commonName": "Market Place",
            "icsCode": "1004292",
            "lat": 51.48339319479,
            "lon": -0.30732731731,
            "naptanId": "490G00004292",
            "placeType": "StopPoint",
            "platformName": "",
            "stopLetter": "BN"
           },
           "departureTime": "2022-02-11T05:06:00",
           "disruptions": [],
           "duration": 20,
           "hasFixedLocations": true,
           "instruction": {
            "$type": "Tfl.Api.Presentation.Entities.Instruction, Tfl.Api.Presentation.Entities",
            "detailed": "237 bus towards White City",
            "steps": [],
            "summary": "237 bus to Shepherd's Bush (Central Line)"
           },
           "isDisrupted": false,
           "mode": {
            "$type": "Tfl.Api.Presentation.Entities.Identifier, Tfl.Api.Presentation.Entities",
            "id": "bus",
            "name": "bus",
            "routeType": "Unknown",
            "status": "Unknown",
            "type": "Mode"
           },
           "obstacles": [],
           "path": {
            "$type": "Tfl.Api.Presentation.Entities.JourneyPlanner.Path, Tfl.Api.Presentation.Entities",
            "elevation": [],
            "lineString": "[[51.48332154573, -0.30729081354],[51.48336269968, -0.30708360706],[51.48346935342, -0.30637394233],[51.48360904117, -0.30546141634],[51.48393181515, -0.30424783529],[51.48393181515, -0.30424783529],[51.48398430855, -0.30405046198],[51.48407085293, -0.30381681058],[51.48418394299, -0.30355336803],[51.4845405596, -0.30271918035],[51.48492434118, -0.30189837321],[51.4850786116, -0.30137413931],[51.48516410782, -0.3010685016],[51.48522284922, -0.30077826018],[51.48568835207, -0.2993926655],[51.48602089972, -0.29876095743],[51.48611869517, -0.2984666894],[51.48611869517, -0.2984666894],[51.48617599145, -0.29829428237],[51.48632167588, -0.29779914788],[51.4863697496, -0.29739406584],[51.48638667959, -0.29732141881],[51.48660906563, -0.2965353538],[51.48672945331, -0.29615637905],[51.4869080458, -0.29556748428],[51.4869080458, -0.29556748428],[51.48717566958, -0.29468498874],[51.4872699262, -0.29436459369],[51.48751674078, -0.29340474295],[51.48765278808, -0.2928667268],[51.48771297605, -0.29267723062],[51.48805968744, -0.29178564676],[51.48842379284, -0.29041875942],[51.48842379284, -0.29041875942],[51.48848598405, -0.29018527932],[51.48851962502, -0.2900255772],[51.48861949673, -0.28947448871],[51.48864435925, -0.28932951814],[51.488784333, -0.28844563189],[51.48888755979, -0.2881248764],[51.48905911196, -0.28755668944],[51.48929546606, -0.28711570741],[51.48933715561, -0.2870490605],[51.48933715561, -0.2870490605],[51.48947999688, -0.28682070622],[51.48957612474, -0.28662984701],[51.48961123323, -0.28657091359],[51.48968959612, -0.2863951237],[51.48980411895, -0.2862323817],[51.49009186725, -0.28561660416],[51.49016187266, -0.28548433776],[51.49026656473, -0.28526434245],[51.49071108466, -0.28429164022],[51.49071108466, -0.28429164022],[51.49116404786, -0.28330042435],[51.49135270775, -0.2826739281],[51.49153266728, -0.28268157073],[51.49162190915, -0.28263500243],[51.49170195273, -0.28257437461],[51.49178157459, -0.28248495241],[51.49184237806, -0.28233861702],[51.49188913219, -0.2818470882],[51.49187866823, -0.28174664629],[51.49180065085, -0.28133183399],[51.49185955372, -0.28105592311],[51.49195145067, -0.28057709936],[51.49200655137, -0.28004203808],[51.49210923691, -0.27907303044],[51.49213990434, -0.27871174734],[51.49217078201, -0.27836486095],[51.49221209707, -0.27794497883],[51.49221209707, -0.27794497883],[51.49223337999, -0.27772867563],[51.49233932118, -0.2763705946],[51.49239877902, -0.275766214],[51.49239877902, -0.275766214],[51.49243320055, -0.27541630875],[51.49250307544, -0.27466459877],[51.49257811835, -0.27365339623],[51.49262292789, -0.27303227592],[51.49281741517, -0.27158439074],[51.49285039388, -0.27138146829],[51.49288927685, -0.27081196001],[51.49288927685, -0.27081196001],[51.49293913599, -0.27008162581],[51.49294302589, -0.26973574897],[51.49291995266, -0.26939089314],[51.49289730342, -0.26907483236],[51.49268332138, -0.26676368051],[51.49262970516, -0.26557007351],[51.49257967723, -0.2648892199],[51.49257967723, -0.2648892199],[51.49256215017, -0.26465069901],[51.49253373446, -0.26394591932],[51.49245976884, -0.26259463485],[51.49245784915, -0.2624650605],[51.49244867533, -0.26184598325],[51.49244376706, -0.26151484904],[51.49244376706, -0.26151484904],[51.49243949823, -0.26122690633],[51.49244378904, -0.26090982741],[51.49245772438, -0.26003057609],[51.49247206748, -0.25978514044],[51.49250075213, -0.2592942687],[51.49252558682, -0.25854424784],[51.49254014061, -0.25831320857],[51.49255335695, -0.258081421],[51.49255335695, -0.258081421],[51.49260434335, -0.25718714724],[51.49261140499, -0.25705723009],[51.49265933384, -0.25604702882],[51.49270404994, -0.2554258924],[51.49274383456, -0.25447361971],[51.49278105551, -0.25395360451],[51.49278105551, -0.25395360451],[51.49284156966, -0.25258277979],[51.49285182034, -0.2520637934],[51.49286099545, -0.25147282087],[51.49294632862, -0.25056201359],[51.4929781968, -0.25028709017],[51.49304236096, -0.24976603672],[51.49310624109, -0.24927125674],[51.49310624109, -0.24927125674],[51.49317132725, -0.24876711738],[51.49321217847, -0.248491847],[51.49326842274, -0.24804311957],[51.49332999501, -0.24734929217],[51.49333683054, -0.24720497438],[51.49336482904, -0.24653368714],[51.49336482904, -0.24653368714],[51.4933765482, -0.24625268296],[51.49340259157, -0.24558902656],[51.49343078572, -0.2450693427],[51.49361074623, -0.24507683731],[51.49473156716, -0.24486092097],[51.49488391946, -0.24482625709],[51.49519306002, -0.24475440292],[51.49519306002, -0.24475440292],[51.4954036715, -0.24470544946],[51.49552841547, -0.24462862629],[51.4957603598, -0.24450446533],[51.49663477359, -0.24419290563],[51.49663477359, -0.24419290563],[51.4971199544, -0.24402002687],[51.49798805154, -0.2437417446],[51.49821861848, -0.2436702259],[51.49821861848, -0.2436702259],[51.49867726567, -0.24352795757],[51.49869567144, -0.2435560645],[51.49875793515, -0.24351044903],[51.4987204766, -0.24341103823],[51.49878547232, -0.24294750614],[51.4988361597, -0.24272944729],[51.49908959047, -0.2416391459],[51.49941274848, -0.24040207212],[51.49951627406, -0.2401099345],[51.49953149834, -0.24006697298],[51.49953149834, -0.24006697298],[51.49980096556, -0.2393065493],[51.49985294324, -0.23917487749],[51.49987925632, -0.23913064044],[51.49987752671, -0.23901544598],[51.49989756882, -0.23855362877],[51.49991316423, -0.23839454332],[51.49995269264, -0.23803282755],[51.49996936905, -0.23794573838],[51.5000538321, -0.23758228835],[51.50009949215, -0.23732003703],[51.50009949215, -0.23732003703],[51.50020283204, -0.23672648348],[51.50026097926, -0.23640726844],[51.50030992184, -0.23607400018],[51.50039925022, -0.23543660759],[51.50053946393, -0.23459553637],[51.5007627247, -0.23389532851],[51.50083519985, -0.233929132],[51.50083519985, -0.233929132],[51.5007627247, -0.23389532851],[51.50085746351, -0.23361791489],[51.50094386517, -0.23338404647],[51.50115856538, -0.2327129736],[51.50122655681, -0.23245099801],[51.5013960986, -0.23176725622],[51.50149491498, -0.23131736253],[51.50149491498, -0.23131736253],[51.50158122154, -0.23092441585],[51.50163101734, -0.23064873161],[51.50168081249, -0.23037304678],[51.50173060698, -0.23009736136],[51.50187317338, -0.22941464854],[51.50198130941, -0.22883412459],[51.50203110025, -0.22855843576],[51.50218989119, -0.227759817],[51.50223221569, -0.22758527421],[51.50229275629, -0.22722331132],[51.50229275629, -0.22722331132],[51.50235592218, -0.22684564404],[51.50242302937, -0.22652605308],[51.50243947939, -0.22642455517],[51.5025057142, -0.22604736289],[51.50268992391, -0.22514687943],[51.50274912904, -0.22489963348],[51.50298044604, -0.22414139547],[51.50302419667, -0.22406077385],[51.50302419667, -0.22406077385],[51.50316416044, -0.22380285343],[51.50333382556, -0.22372421265],[51.50342413309, -0.22374951867],[51.50370600547, -0.22395469144],[51.50444115882, -0.22440160882],[51.50476752979, -0.22457624207],[51.50503605387, -0.22449375865],[51.50509765576, -0.22440490832],[51.50496027857, -0.22364655707],[51.50490177511, -0.22334623785],[51.50480383123, -0.2228169061],[51.50462634729, -0.22178635119],[51.50453783797, -0.22107932578],[51.50453783797, -0.22107932578],[51.50452402805, -0.22096901348],[51.50446136648, -0.22039508916],[51.50441886203, -0.21996447189],[51.50436321494, -0.21926059496],[51.5043494172, -0.21894413294],[51.50438735393, -0.21848156261],[51.50442550763, -0.21803339214],[51.50506337326, -0.21799409896],[51.50540891113, -0.21800232405]]",
            "stopPoints": [
             {
              "$type": "Tfl.Api.Presentation.Entities.Identifier, Tfl.Api.Presentation.Entities",
              "id": "490G00004289",
              "name": "Brentford County Court",
              "routeType": "Unknown",
              "status": "Unknown",
              "type": "StopPoint",
              "uri": "/StopPoint/490G00004289"
             },
             {
              "$type": "Tfl.Api.Presentation.Entities.Identifier, Tfl.Api.Presentation.Entities",
              "id": "490G00006297",
              "name": "Watermans Centre",
              "routeType": "Unknown",
              "status": "Unknown",
              "type": "StopPoint",
              "uri": "/StopPoint/490G00006297"
             },
             {
              "$type": "Tfl.Api.Presentation.Entities.Identifier, Tfl.Api.Presentation.Entities",
              "id": "490G00004293",
              "name": "The Musical Museum",
              "routeType": "Unknown",
              "status": "Unknown",
              "type": "StopPoint",
              "uri": "/StopPoint/490G00004293"
             },
             {
              "$type": "Tfl.Api.Presentation.Entities.Identifier, Tfl.Api.Presentation.Entities",
              "id": "490G00008690",
              "name": "London Museum Of Water and Steam",
              "routeType": "Unknown",
              "status": "Unknown",
              "type": "StopPoint",
              "uri": "/StopPoint/490G00008690"
             },
             {
              "$type": "Tfl.Api.Presentation.Entities.Identifier, Tfl.Api.Presentation.Entities",
              "id": "490G01167S",
              "name": "Kew Bridge Station",
              "routeType": "Unknown",
              "status": "Unknown",
              "type": "StopPoint",
              "uri": "/StopPoint/490G01167S"
             },
             {
              "$type": "Tfl.Api.Presentation.Entities.Identifier, Tfl.Api.Presentation.Entities",
              "id": "490G00004290",
              "name": "Brentford Fountain Leisure Centre",
              "routeType": "Unknown",
              "status": "Unknown",
              "type": "StopPoint",
              "uri": "/StopPoint/490G00004290"
             },
             {
              "$type": "Tfl.Api.Presentation.Entities.Identifier, Tfl.Api.Presentation.Entities",
              "id": "490G000750",
              "name": "Thorney Hedge Road",
              "routeType": "Unknown",
              "status": "Unknown",
              "type": "StopPoint",
              "uri": "/StopPoint/490G000750"
             },
             {
              "$type": "Tfl.Api.Presentation.Entities.Identifier, Tfl.Api.Presentation.Entities",
              "id": "490G00094B",
              "name": "Gunnersbury Station",
              "routeType": "Unknown",
              "status": "Unknown",
              "type": "StopPoint",
              "uri": "/StopPoint/490G00094B"
             },
             {
              "$type": "Tfl.Api.Presentation.Entities.Identifier, Tfl.Api.Presentation.Entities",
              "id": "490G00005211",
              "name": "Chiswick Road",
              "routeType": "Unknown",
              "status": "Unknown",
              "type": "StopPoint",
              "uri": "/StopPoint/490G00005211"
             },
             {
              "$type": "Tfl.Api.Presentation.Entities.Identifier, Tfl.Api.Presentation.Entities",
              "id": "490G000807",
              "name": "Turnham Green Church",
              "routeType": "Unknown",
              "status": "Unknown",
              "type": "StopPoint",
              "uri": "/StopPoint/490G000807"
             },
             {
              "$type": "Tfl.Api.Presentation.Entities.Identifier, Tfl.Api.Presentation.Entities",
              "id": "490G00005423",
              "name": "Clifton Gardens",
              "routeType": "Unknown",
              "status": "Unknown",
              "type": "StopPoint",
              "uri": "/StopPoint/490G00005423"
             },
             {
              "$type": "Tfl.Api.Presentation.Entities.Identifier, Tfl.Api.Presentation.Entities",
              "id": "490G00005210",
              "name": "Chiswick Police Station",
              "routeType": "Unknown",
              "status": "Unknown",
              "type": "StopPoint",
              "uri": "/StopPoint/490G00005210"
             },
             {
              "$type": "Tfl.Api.Presentation.Entities.Identifier, Tfl.Api.Presentation.Entities",
              "id": "490G00013850",
              "name": "Chiswick Lane",
              "routeType": "Unknown",
              "status": "Unknown",
              "type": "StopPoint",
              "uri": "/StopPoint/490G00013850"
             },
             {
              "$type": "Tfl.Api.Presentation.Entities.Identifier, Tfl.Api.Presentation.Entities",
              "id": "490G00012521",
              "name": "Stamford Brook Bus Garage",
              "routeType": "Unknown",
              "status": "Unknown",
              "type": "StopPoint",
              "uri": "/StopPoint/490G00012521"
             },
             {
              "$type": "Tfl.Api.Presentation.Entities.Identifier, Tfl.Api.Presentation.Entities",
              "id": "490G000535",
              "name": "Goldhawk Road / Young's Corner",
              "routeType": "Unknown",
              "status": "Unknown",
              "type": "StopPoint",
              "uri": "/StopPoint/490G000535"
             },
             {
              "$type": "Tfl.Api.Presentation.Entities.Identifier, Tfl.Api.Presentation.Entities",
              "id": "490G00218N",
              "name": "Stamford Brook Station",
              "routeType": "Unknown",
              "status": "Unknown",
              "type": "StopPoint",
              "uri": "/StopPoint/490G00218N"
             },
             {
              "$type": "Tfl.Api.Presentation.Entities.Identifier, Tfl.Api.Presentation.Entities",
              "id": "490G00011296",
              "name": "Ravenscourt Gardens",
              "routeType": "Unknown",
              "status": "Unknown",
              "type": "StopPoint",
              "uri": "/StopPoint/490G00011296"
             },
             {
              "$type": "Tfl.Api.Presentation.Entities.Identifier, Tfl.Api.Presentation.Entities",
              "id": "490G00012522",
              "name": "Stamford Brook Road",
              "routeType": "Unknown",
              "status": "Unknown",
              "type": "StopPoint",
              "uri": "/StopPoint/490G00012522"
             },
             {
              "$type": "Tfl.Api.Presentation.Entities.Identifier, Tfl.Api.Presentation.Entities",
              "id": "490G00015455",
              "name": "Askew Road",
              "routeType": "Unknown",
              "status": "Unknown",
              "type": "StopPoint",
              "uri": "/StopPoint/490G00015455"
             },
             {
              "$type": "Tfl.Api.Presentation.Entities.Identifier, Tfl.Api.Presentation.Entities",
              "id": "490G00010710",
              "name": "Paddenswick Road",
              "routeType": "Unknown",
              "status": "Unknown",
              "type": "StopPoint",
              "uri": "/StopPoint/490G00010710"
             },
             {
              "$type": "Tfl.Api.Presentation.Entities.Identifier, Tfl.Api.Presentation.Entities",
              "id": "490G00004871",
              "name": "Cathnor Road",
              "routeType": "Unknown",
              "status": "Unknown",
              "type": "StopPoint",
              "uri": "/StopPoint/490G00004871"
             },
             {
              "$type": "Tfl.Api.Presentation.Entities.Identifier, Tfl.Api.Presentation.Entities",
              "id": "490G00012946",
              "name": "St Stephen's Avenue",
              "routeType": "Unknown",
              "status": "Unknown",
              "type": "StopPoint",
              "uri": "/StopPoint/490G00012946"
             },
             {
              "$type": "Tfl.Api.Presentation.Entities.Identifier, Tfl.Api.Presentation.Entities",
              "id": "490G00088Y",
              "name": "Goldhawk Road Station",
              "routeType": "Unknown",
              "status": "Unknown",
              "type": "StopPoint",
              "uri": "/StopPoint/490G00088Y"
             },
             {
              "$type": "Tfl.Api.Presentation.Entities.Identifier, Tfl.Api.Presentation.Entities",
              "id": "490G00010913",
              "name": "Shepherd's Bush Road",
              "routeType": "Unknown",
              "status": "Unknown",
              "type": "StopPoint",
              "uri": "/StopPoint/490G00010913"
             },
             {
              "$type": "Tfl.Api.Presentation.Entities.Identifier, Tfl.Api.Presentation.Entities",
              "id": "490G000856",
              "name": "Shepherd's Bush Green",
              "routeType": "Unknown",
              "status": "Unknown",
              "type": "StopPoint",
              "uri": "/StopPoint/490G000856"
             },
             {
              "$type": "Tfl.Api.Presentation.Entities.Identifier, Tfl.Api.Presentation.Entities",
              "id": "490G00203A",
              "name": "Shepherd's Bush Station",
              "routeType": "Unknown",
              "status": "Unknown",
              "type": "StopPoint",
              "uri": "/StopPoint/490G00203A"
             }
            ]
           },
           "plannedWorks": [],
           "routeOptions": [
            {
             "$type": "Tfl.Api.Presentation.Entities.JourneyPlanner.RouteOption, Tfl.Api.Presentation.Entities",
             "directions": [
              "White City"
             ],
             "lineIdentifier": {
              "$type": "Tfl.Api.Presentation.Entities.Identifier, Tfl.Api.Presentation.Entities",
              "crowding": {
               "$type": "Tfl.Api.Presentation.Entities.Crowding, Tfl.Api.Presentation.Entities"
              },
              "id": "237",
              "name": "237",
              "routeType": "Unknown",
              "status": "Unknown",
              "type": "Line",
              "uri": "/Line/237"
             },
             "name": "237"
            }
           ]
          },
          {
           "$type": "Tfl.Api.Presentation.Entities.JourneyPlanner.Leg, Tfl.Api.Presentation.Entities",
           "arrivalPoint": {
            "$type": "Tfl.Api.Presentation.Entities.StopPoint, Tfl.Api.Presentation.Entities",
            "additionalProperties": [],
            "commonName": "Elephant & Castle Station",
            "icsCode": "1000073",
            "lat": 51.493291236960005,
            "lon": -0.09937564274999999,
            "naptanId": "490G00073G",
            "placeType": "StopPoint",
            "platformName": "R",
            "stopLetter": "R"
           },
           "arrivalTime": "2022-02-11T05:58:00",
           "departurePoint": {
            "$type": "Tfl.Api.Presentation.Entities.StopPoint, Tfl.Api.Presentation.Entities",
            "additionalProperties": [],
            "commonName": "Shepherd's Bush Station",
            "icsCode": "1000203",
            "lat": 51.50452056142,
            "lon": -0.22014782765,
            "naptanId": "490G00203A",
            "placeType": "StopPoint",
            "platformName": "X",
            "stopLetter": "X"
           },
           "departureTime": "2022-02-11T05:28:00",
           "disruptions": [],
           "duration": 30,
           "hasFixedLocations": true,
           "instruction": {
            "$type": "Tfl.Api.Presentation.Entities.Instruction, Tfl.Api.Presentation.Entities",
            "detailed": "148 bus towards Camberwell Green",
            "steps": [],
            "summary": "148 bus to Elephant & Castle Station"
           },
           "isDisrupted": false,
           "mode": {
            "$type": "Tfl.Api.Presentation.Entities.Identifier, Tfl.Api.Presentation.Entities",
            "id": "bus",
            "name": "bus",
            "routeType": "Unknown",
            "status": "Unknown",
            "type": "Mode"
           },
           "obstacles": [],
           "path": {
            "$type": "Tfl.Api.Presentation.Entities.JourneyPlanner.Path, Tfl.Api.Presentation.Entities",
            "elevation": [],
            "lineString": "[[51.5044390008, -0.22016849787],[51.50441886203, -0.21996447189],[51.50436321494, -0.21926059496],[51.5043494172, -0.21894413294],[51.50438735393, -0.21848156261],[51.50442550763, -0.21803339214],[51.5044415126, -0.21790308572],[51.50458926019, -0.2175659108],[51.50464121304, -0.21743420092],[51.50484660312, -0.21733973029],[51.50496234099, -0.21726316705],[51.5050579155, -0.21704329725],[51.50508904722, -0.21672507697],[51.50503118309, -0.21646796848],[51.50491676745, -0.21604015778],[51.50488608219, -0.21579639875],[51.50485408178, -0.2154662359],[51.50490427915, -0.21521931727],[51.50494636558, -0.21503035217],[51.50517886496, -0.21407639623],[51.50517886496, -0.21407639623],[51.50520874202, -0.21395380618],[51.50540951546, -0.21296611443],[51.50545093988, -0.21273394267],[51.50563438749, -0.21179014696],[51.50570101396, -0.21144170998],[51.50591908094, -0.21041008984],[51.50601821828, -0.20992230818],[51.50601821828, -0.20992230818],[51.50601945362, -0.20991622989],[51.50612114332, -0.20950877407],[51.50623137885, -0.20907216195],[51.50637558127, -0.20850452784],[51.50650400714, -0.20808160694],[51.50660569038, -0.20767414285],[51.50684412002, -0.20680019303],[51.50710884329, -0.20588197121],[51.50723637813, -0.20540143087],[51.50741495471, -0.20471253538],[51.50741495471, -0.20471253538],[51.50750809302, -0.204353227],[51.50764328524, -0.20378591602],[51.50773728992, -0.20346519506],[51.50785693094, -0.20305700285],[51.50791675091, -0.20285290596],[51.50813171524, -0.20221039389],[51.50833592228, -0.20145301628],[51.50842225872, -0.20121904996],[51.50854100808, -0.20075323895],[51.50861607188, -0.19978478058],[51.5086311721, -0.19959684925],[51.50865282687, -0.19925014411],[51.50870431653, -0.19908959852],[51.50879073791, -0.198364007],[51.50879073791, -0.198364007],[51.50887158509, -0.19768517946],[51.50892085922, -0.19738061306],[51.50897057531, -0.19710484971],[51.50896703301, -0.19687442022],[51.50904016558, -0.19636716168],[51.50919651903, -0.19542429427],[51.50938115596, -0.19456676644],[51.50948212641, -0.19411604165],[51.5096297369, -0.19338563595],[51.5096297369, -0.19338563595],[51.50969937356, -0.19304105061],[51.50978369571, -0.19267744315],[51.5098831049, -0.19212589571],[51.50996387134, -0.19153185133],[51.50999448909, -0.19118477688],[51.51006093088, -0.19024543428],[51.51008144649, -0.18982670384],[51.5101044061, -0.18956639661],[51.51012174937, -0.18926637424],[51.51012174937, -0.18926637424],[51.51013279441, -0.18907529844],[51.51021207553, -0.18780398747],[51.51021051781, -0.18770317234],[51.51027893543, -0.1868934405],[51.51030092174, -0.18663430924],[51.51030092174, -0.18663430924],[51.51031696753, -0.18644518874],[51.51036918482, -0.18575138498],[51.51042295799, -0.18515839519],[51.51043669738, -0.1848840389],[51.51050761509, -0.18365627743],[51.5105233585, -0.1835115403],[51.51058432216, -0.18280297064],[51.51062953986, -0.18223913717],[51.5106600067, -0.18204956312],[51.5106600067, -0.18204956312],[51.5108509736, -0.18086125877],[51.510957973, -0.18022290194],[51.51099977895, -0.18001947848],[51.51104091401, -0.17977284757],[51.51110876545, -0.17932356716],[51.51110876545, -0.17932356716],[51.51127738428, -0.17820699703],[51.51138392153, -0.17753982346],[51.51150551827, -0.17668469704],[51.51157069575, -0.17624975147],[51.51160238796, -0.17597466822],[51.5116509332, -0.17562685397],[51.51169899034, -0.17522986918],[51.51169899034, -0.17522986918],[51.51173858546, -0.17490277742],[51.51179230345, -0.17430975842],[51.51183792859, -0.17377470775],[51.51201320559, -0.1723265395],[51.51209103436, -0.17149072574],[51.51209103436, -0.17149072574],[51.51225968448, -0.16967933922],[51.51235291375, -0.16873884187],[51.51236841375, -0.1685796915],[51.51246140915, -0.16762478717],[51.51252330372, -0.16701761949],[51.51252330372, -0.16701761949],[51.51257056934, -0.16655393565],[51.51296266738, -0.16287756949],[51.51297748253, -0.16267520671],[51.51303172035, -0.16220952081],[51.51303172035, -0.16220952081],[51.51305674464, -0.16199465652],[51.51310791339, -0.16124317534],[51.51314584693, -0.16079487688],[51.51323024374, -0.15986910994],[51.51326189731, -0.15959400627],[51.51333373717, -0.15901462968],[51.51335730632, -0.15879749889],[51.51329705417, -0.15839639179],[51.51323301586, -0.15832691445],[51.51295171126, -0.15816531682],[51.51273376639, -0.15802998903],[51.51229644704, -0.15779283403],[51.51229644704, -0.15779283403],[51.51218958222, -0.15773488276],[51.51150025107, -0.15735917105],[51.51115581135, -0.15718572158],[51.51100167813, -0.15710547356],[51.51084754485, -0.15702522608],[51.51046625216, -0.15679562433],[51.51013729522, -0.1564630366],[51.50999955038, -0.15628125426],[51.50973236735, -0.1558741247],[51.50894206259, -0.15479641646],[51.50846636552, -0.154282447],[51.50837988679, -0.15418510683],[51.50837988679, -0.15418510683],[51.50797201261, -0.15372601118],[51.50684577532, -0.15244581804],[51.50671814557, -0.15233570114],[51.50662646282, -0.1522241306],[51.50654376675, -0.15211219691],[51.50643388333, -0.15198695377],[51.50606828523, -0.15161268263],[51.50571189973, -0.15125245415],[51.50552989425, -0.15111572507],[51.50516792618, -0.15097187259],[51.50513652526, -0.15097035051],[51.50513652526, -0.15097035051],[51.50500593728, -0.15096402059],[51.50462018721, -0.15102286375],[51.50446809315, -0.15107224806],[51.50435194616, -0.15112017702],[51.50425354568, -0.15115297825],[51.50352175778, -0.15093764502],[51.50330289665, -0.15074477999],[51.50330279988, -0.15016842877],[51.50327379538, -0.15003992349],[51.5030996395, -0.14983084427],[51.50291967698, -0.14982372446],[51.50282127686, -0.14985652738],[51.5025007061, -0.1500568231],[51.50235224623, -0.15033659825],[51.50221436187, -0.15071680317],[51.5021881287, -0.15078210447],[51.5021881287, -0.15078210447],[51.50206726247, -0.15108297023],[51.50202437159, -0.15121438245],[51.50192619801, -0.15126158094],[51.50161996663, -0.1512307489],[51.5015280559, -0.15110479366],[51.5006702586, -0.14974192945],[51.499980345, -0.14876132298],[51.49976955794, -0.14851052457],[51.49924984394, -0.14794528858],[51.49924984394, -0.14794528858],[51.49915653157, -0.14784380461],[51.49878216142, -0.14748438775],[51.49833589611, -0.14712789241],[51.4982605896, -0.14691483705],[51.49824011339, -0.1467571874],[51.49826592865, -0.14554592731],[51.49822439353, -0.14462554691],[51.49816432211, -0.14423899016],[51.49807797284, -0.1438967237],[51.49800015347, -0.14352529749],[51.49794838128, -0.14309518511],[51.49772846076, -0.1422685095],[51.49771638543, -0.14225755953],[51.49771638543, -0.14225755953],[51.497409135, -0.14197894565],[51.49686764962, -0.141856897],[51.49680451433, -0.14184505776],[51.49664421074, -0.14137615286],[51.49678192125, -0.14041969964],[51.49680733749, -0.14024918747],[51.49680733749, -0.14024918747],[51.49695260121, -0.13927460834],[51.49725333916, -0.13725978878],[51.49730245656, -0.13695523908],[51.49735148958, -0.13660739912],[51.49735148958, -0.13660739912],[51.49748832926, -0.13563661649],[51.49752061361, -0.1354047858],[51.49763818521, -0.13488133132],[51.49768911017, -0.134668412],[51.49768911017, -0.134668412],[51.49785740986, -0.13396472907],[51.49838336717, -0.13254573352],[51.49861591795, -0.13190230099],[51.49896883022, -0.13093201299],[51.49896883022, -0.13093201299],[51.49940849874, -0.12972314723],[51.49952096231, -0.12944479645],[51.49977215824, -0.12884379142],[51.49986733564, -0.12860936781],[51.49999593142, -0.12821508748],[51.50013282292, -0.12777724119],[51.50033606793, -0.12755279206],[51.50076696772, -0.12750631438],[51.50093748431, -0.12748491695],[51.50108588901, -0.12720507773],[51.50103913346, -0.12652980875],[51.50102646629, -0.12629979696],[51.50102347553, -0.12611261298],[51.50098662095, -0.12549457244],[51.50097498441, -0.12525450222],[51.50097498441, -0.12525450222],[51.50093294794, -0.12438734513],[51.50091866436, -0.12405654356],[51.50092396562, -0.12382579505],[51.50092166203, -0.12368180789],[51.50091958864, -0.12355221947],[51.50084630493, -0.12178302663],[51.50080087769, -0.12007032528],[51.50079741533, -0.1198543456],[51.50077457529, -0.11899079735],[51.50083078348, -0.11857064643],[51.50081475486, -0.11802435092],[51.50081475486, -0.11802435092],[51.50081093815, -0.11789428063],[51.50074294776, -0.11758010289],[51.50053001507, -0.11719985919],[51.5004276948, -0.11698795571],[51.50037007595, -0.11675980243],[51.50046499764, -0.11651095266],[51.5006458528, -0.11601362065],[51.50069792186, -0.11589620836],[51.50061357245, -0.11568356575],[51.50055757066, -0.11555620298],[51.50048220724, -0.11534319092],[51.50035153534, -0.11504601346],[51.50009926972, -0.11477454508],[51.50009926972, -0.11477454508],[51.50006785917, -0.11474074378],[51.49982911519, -0.11443362333],[51.49970904834, -0.11423686954],[51.49958828652, -0.11399692214],[51.49888052003, -0.11248453206],[51.49873969558, -0.11211575495],[51.49867354442, -0.11191678365],[51.49856843268, -0.11153212627],[51.49848688696, -0.11116744999],[51.49848688696, -0.11116744999],[51.49829709487, -0.1103187154],[51.49830376135, -0.11017436591],[51.49837419788, -0.10952311942],[51.4983679306, -0.10913437903],[51.4983969117, -0.10870095737],[51.49842774915, -0.10838271761],[51.49844590368, -0.1081410691],[51.49844590368, -0.1081410691],[51.49850917846, -0.10729878778],[51.49851560882, -0.10714003946],[51.49856991502, -0.10660471326],[51.49859842171, -0.10614249264],[51.4985970266, -0.10605610562],[51.49861313945, -0.10594017782],[51.49866744015, -0.10540484919],[51.49876187234, -0.10512719007],[51.49889914245, -0.10471808461],[51.49879633452, -0.10447742139],[51.49861613825, -0.10445608274],[51.49831655688, -0.10428121628],[51.49777424623, -0.10355454297],[51.49771939567, -0.10349919093],[51.49696689598, -0.10256515968],[51.49659354841, -0.10208327073],[51.49659354841, -0.10208327073],[51.49629643313, -0.10169978405],[51.4956430045, -0.10077609922],[51.49560250163, -0.10105150704],[51.4954601159, -0.10114386359],[51.49505688761, -0.10123265265],[51.49477749982, -0.10063919893],[51.49422885525, -0.10063319251],[51.49385970804, -0.10060531889],[51.49378758262, -0.100593911],[51.49369701779, -0.10055445774],[51.49352370862, -0.10040319715],[51.49325027064, -0.0996222453],[51.49320224889, -0.09943385594]]",
            "stopPoints": [
             {
              "$type": "Tfl.Api.Presentation.Entities.Identifier, Tfl.Api.Presentation.Entities",
              "id": "490G00008651",
              "name": "Royal Crescent",
              "routeType": "Unknown",
              "status": "Unknown",
              "type": "StopPoint",
              "uri": "/StopPoint/490G00008651"
             },
             {
              "$type": "Tfl.Api.Presentation.Entities.Identifier, Tfl.Api.Presentation.Entities",
              "id": "490G00010305",
              "name": "Norland Square",
              "routeType": "Unknown",
              "status": "Unknown",
              "type": "StopPoint",
              "uri": "/StopPoint/490G00010305"
             },
             {
              "$type": "Tfl.Api.Presentation.Entities.Identifier, Tfl.Api.Presentation.Entities",
              "id": "490G00113G",
              "name": "Holland Park",
              "routeType": "Unknown",
              "status": "Unknown",
              "type": "StopPoint",
              "uri": "/StopPoint/490G00113G"
             },
             {
              "$type": "Tfl.Api.Presentation.Entities.Identifier, Tfl.Api.Presentation.Entities",
              "id": "490G00019162",
              "name": "Notting Hill Gate Stn  / Hillgate St",
              "routeType": "Unknown",
              "status": "Unknown",
              "type": "StopPoint",
              "uri": "/StopPoint/490G00019162"
             },
             {
              "$type": "Tfl.Api.Presentation.Entities.Identifier, Tfl.Api.Presentation.Entities",
              "id": "490G000897",
              "name": "Palace Gardens Terrace",
              "routeType": "Unknown",
              "status": "Unknown",
              "type": "StopPoint",
              "uri": "/StopPoint/490G000897"
             },
             {
              "$type": "Tfl.Api.Presentation.Entities.Identifier, Tfl.Api.Presentation.Entities",
              "id": "490G00010632",
              "name": "Orme Square",
              "routeType": "Unknown",
              "status": "Unknown",
              "type": "StopPoint",
              "uri": "/StopPoint/490G00010632"
             },
             {
              "$type": "Tfl.Api.Presentation.Entities.Identifier, Tfl.Api.Presentation.Entities",
              "id": "490G00187B",
              "name": "Queensway Station",
              "routeType": "Unknown",
              "status": "Unknown",
              "type": "StopPoint",
              "uri": "/StopPoint/490G00187B"
             },
             {
              "$type": "Tfl.Api.Presentation.Entities.Identifier, Tfl.Api.Presentation.Entities",
              "id": "490G00009081",
              "name": "Leinster Terrace",
              "routeType": "Unknown",
              "status": "Unknown",
              "type": "StopPoint",
              "uri": "/StopPoint/490G00009081"
             },
             {
              "$type": "Tfl.Api.Presentation.Entities.Identifier, Tfl.Api.Presentation.Entities",
              "id": "490G00003121",
              "name": "Lancaster Gate",
              "routeType": "Unknown",
              "status": "Unknown",
              "type": "StopPoint",
              "uri": "/StopPoint/490G00003121"
             },
             {
              "$type": "Tfl.Api.Presentation.Entities.Identifier, Tfl.Api.Presentation.Entities",
              "id": "490G00133B",
              "name": "Lancaster Gate Station",
              "routeType": "Unknown",
              "status": "Unknown",
              "type": "StopPoint",
              "uri": "/StopPoint/490G00133B"
             },
             {
              "$type": "Tfl.Api.Presentation.Entities.Identifier, Tfl.Api.Presentation.Entities",
              "id": "490G00014055",
              "name": "Victoria Gate",
              "routeType": "Unknown",
              "status": "Unknown",
              "type": "StopPoint",
              "uri": "/StopPoint/490G00014055"
             },
             {
              "$type": "Tfl.Api.Presentation.Entities.Identifier, Tfl.Api.Presentation.Entities",
              "id": "490G00008446",
              "name": "Hyde Park Street",
              "routeType": "Unknown",
              "status": "Unknown",
              "type": "StopPoint",
              "uri": "/StopPoint/490G00008446"
             },
             {
              "$type": "Tfl.Api.Presentation.Entities.Identifier, Tfl.Api.Presentation.Entities",
              "id": "490G00008447",
              "name": "Marble Arch / Bayswater Road",
              "routeType": "Unknown",
              "status": "Unknown",
              "type": "StopPoint",
              "uri": "/StopPoint/490G00008447"
             },
             {
              "$type": "Tfl.Api.Presentation.Entities.Identifier, Tfl.Api.Presentation.Entities",
              "id": "490G00000399",
              "name": "Marble Arch Station  / Park Lane",
              "routeType": "Unknown",
              "status": "Unknown",
              "type": "StopPoint",
              "uri": "/StopPoint/490G00000399"
             },
             {
              "$type": "Tfl.Api.Presentation.Entities.Identifier, Tfl.Api.Presentation.Entities",
              "id": "490G00006111",
              "name": "Dorchester Hotel",
              "routeType": "Unknown",
              "status": "Unknown",
              "type": "StopPoint",
              "uri": "/StopPoint/490G00006111"
             },
             {
              "$type": "Tfl.Api.Presentation.Entities.Identifier, Tfl.Api.Presentation.Entities",
              "id": "490G00009277",
              "name": "London Hilton Hotel",
              "routeType": "Unknown",
              "status": "Unknown",
              "type": "StopPoint",
              "uri": "/StopPoint/490G00009277"
             },
             {
              "$type": "Tfl.Api.Presentation.Entities.Identifier, Tfl.Api.Presentation.Entities",
              "id": "490G00119F",
              "name": "Hyde Park Corner",
              "routeType": "Unknown",
              "status": "Unknown",
              "type": "StopPoint",
              "uri": "/StopPoint/490G00119F"
             },
             {
              "$type": "Tfl.Api.Presentation.Entities.Identifier, Tfl.Api.Presentation.Entities",
              "id": "490G00014728",
              "name": "Wilton Street",
              "routeType": "Unknown",
              "status": "Unknown",
              "type": "StopPoint",
              "uri": "/StopPoint/490G00014728"
             },
             {
              "$type": "Tfl.Api.Presentation.Entities.Identifier, Tfl.Api.Presentation.Entities",
              "name": "Bressenden Place",
              "routeType": "Unknown",
              "status": "Unknown",
              "type": "StopPoint",
              "uri": "/StopPoint/"
             },
             {
              "$type": "Tfl.Api.Presentation.Entities.Identifier, Tfl.Api.Presentation.Entities",
              "id": "490G00014496",
              "name": "Westminster Cathedral",
              "routeType": "Unknown",
              "status": "Unknown",
              "type": "StopPoint",
              "uri": "/StopPoint/490G00014496"
             },
             {
              "$type": "Tfl.Api.Presentation.Entities.Identifier, Tfl.Api.Presentation.Entities",
              "id": "490G000394",
              "name": "Westminster City Hall",
              "routeType": "Unknown",
              "status": "Unknown",
              "type": "StopPoint",
              "uri": "/StopPoint/490G000394"
             },
             {
              "$type": "Tfl.Api.Presentation.Entities.Identifier, Tfl.Api.Presentation.Entities",
              "id": "490G00221V",
              "name": "St James's Park Station",
              "routeType": "Unknown",
              "status": "Unknown",
              "type": "StopPoint",
              "uri": "/StopPoint/490G00221V"
             },
             {
              "$type": "Tfl.Api.Presentation.Entities.Identifier, Tfl.Api.Presentation.Entities",
              "id": "490G000828",
              "name": "Westminster Abbey",
              "routeType": "Unknown",
              "status": "Unknown",
              "type": "StopPoint",
              "uri": "/StopPoint/490G000828"
             },
             {
              "$type": "Tfl.Api.Presentation.Entities.Identifier, Tfl.Api.Presentation.Entities",
              "id": "490G000829",
              "name": "Westminster Stn  / Westmr Pier",
              "routeType": "Unknown",
              "status": "Unknown",
              "type": "StopPoint",
              "uri": "/StopPoint/490G000829"
             },
             {
              "$type": "Tfl.Api.Presentation.Entities.Identifier, Tfl.Api.Presentation.Entities",
              "id": "490G00018956",
              "name": "St Thomas' Hospital / County Hall",
              "routeType": "Unknown",
              "status": "Unknown",
              "type": "StopPoint",
              "uri": "/StopPoint/490G00018956"
             },
             {
              "$type": "Tfl.Api.Presentation.Entities.Identifier, Tfl.Api.Presentation.Entities",
              "id": "490G00009420",
              "name": "Lower Marsh",
              "routeType": "Unknown",
              "status": "Unknown",
              "type": "StopPoint",
              "uri": "/StopPoint/490G00009420"
             },
             {
              "$type": "Tfl.Api.Presentation.Entities.Identifier, Tfl.Api.Presentation.Entities",
              "id": "490G00132G",
              "name": "Lambeth North Station",
              "routeType": "Unknown",
              "status": "Unknown",
              "type": "StopPoint",
              "uri": "/StopPoint/490G00132G"
             },
             {
              "$type": "Tfl.Api.Presentation.Entities.Identifier, Tfl.Api.Presentation.Entities",
              "id": "490G00012693",
              "name": "St George's Circus",
              "routeType": "Unknown",
              "status": "Unknown",
              "type": "StopPoint",
              "uri": "/StopPoint/490G00012693"
             },
             {
              "$type": "Tfl.Api.Presentation.Entities.Identifier, Tfl.Api.Presentation.Entities",
              "id": "490G000642",
              "name": "Elephant & Castle / London Road",
              "routeType": "Unknown",
              "status": "Unknown",
              "type": "StopPoint",
              "uri": "/StopPoint/490G000642"
             },
             {
              "$type": "Tfl.Api.Presentation.Entities.Identifier, Tfl.Api.Presentation.Entities",
              "id": "490G00073G",
              "name": "Elephant & Castle Station",
              "routeType": "Unknown",
              "status": "Unknown",
              "type": "StopPoint",
              "uri": "/StopPoint/490G00073G"
             }
            ]
           },
           "plannedWorks": [],
           "routeOptions": [
            {
             "$type": "Tfl.Api.Presentation.Entities.JourneyPlanner.RouteOption, Tfl.Api.Presentation.Entities",
             "directions": [
              "Camberwell Green"
             ],
             "lineIdentifier": {
              "$type": "Tfl.Api.Presentation.Entities.Identifier, Tfl.Api.Presentation.Entities",
              "crowding": {
               "$type": "Tfl.Api.Presentation.Entities.Crowding, Tfl.Api.Presentation.Entities"
              },
              "id": "148",
              "name": "148",
              "routeType": "Unknown",
              "status": "Unknown",
              "type": "Line",
              "uri": "/Line/148"
             },
             "name": "148"
            }
           ]
          },
          {
           "$type": "Tfl.Api.Presentation.Entities.JourneyPlanner.Leg, Tfl.Api.Presentation.Entities",
           "arrivalPoint": {
            "$type": "Tfl.Api.Presentation.Entities.StopPoint, Tfl.Api.Presentation.Entities",
            "additionalProperties": [],
            "commonName": "Tower Bridge / City Hall",
            "icsCode": "1013744",
            "lat": 51.50365934258,
            "lon": -0.07673983198,
            "naptanId": "490G00013744",
            "placeType": "StopPoint",
            "platformName": "L",
            "stopLetter": "L"
           },
           "arrivalTime": "2022-02-11T06:13:00",
           "departurePoint": {
            "$type": "Tfl.Api.Presentation.Entities.StopPoint, Tfl.Api.Presentation.Entities",
            "additionalProperties": [],
            "commonName": "Elephant & Castle Station",
            "icsCode": "1000073",
            "lat": 51.49396042522999,
            "lon": -0.1007163805,
            "naptanId": "490G00073G",
            "placeType": "StopPoint",
            "platformName": "",
            "stopLetter": "S"
           },
           "departureTime": "2022-02-11T06:03:00",
           "disruptions": [],
           "duration": 10,
           "hasFixedLocations": true,
           "instruction": {
            "$type": "Tfl.Api.Presentation.Entities.Instruction, Tfl.Api.Presentation.Entities",
            "detailed": "343 bus towards Aldgate",
            "steps": [],
            "summary": "343 bus to Tower Bridge / City Hall"
           },
           "isDisrupted": false,
           "mode": {
            "$type": "Tfl.Api.Presentation.Entities.Identifier, Tfl.Api.Presentation.Entities",
            "id": "bus",
            "name": "bus",
            "routeType": "Unknown",
            "status": "Unknown",
            "type": "Mode"
           },
           "obstacles": [],
           "path": {
            "$type": "Tfl.Api.Presentation.Entities.JourneyPlanner.Path, Tfl.Api.Presentation.Entities",
            "elevation": [],
            "lineString": "[[51.49396346243, -0.10061315316],[51.49422885525, -0.10063319251],[51.49477749982, -0.10063919893],[51.49505688761, -0.10123265265],[51.4954601159, -0.10114386359],[51.49560250163, -0.10105150704],[51.4956430045, -0.10077609922],[51.49563600882, -0.10034419346],[51.49590093985, -0.10004504592],[51.49639504167, -0.09979803987],[51.49639504167, -0.09979803987],[51.49656104368, -0.09971505265],[51.49664098916, -0.09965410014],[51.49712019462, -0.09925958593],[51.49764176364, -0.09870482141],[51.49825156045, -0.09804551962],[51.49872172931, -0.09743925524],[51.49872172931, -0.09743925524],[51.49910596691, -0.09694378339],[51.49935081247, -0.09651575994],[51.49941231575, -0.09642675087],[51.49989301484, -0.09557106273],[51.50017263181, -0.09506953454],[51.50044279218, -0.09453957839],[51.50059088321, -0.09424523892],[51.50076436264, -0.09396868872],[51.50076436264, -0.09396868872],[51.50122199502, -0.09323914415],[51.50128396394, -0.09317892418],[51.50172673189, -0.09275700456],[51.50209096205, -0.09248244247],[51.50215316476, -0.09243661915],[51.502313516, -0.09234347098],[51.50259827234, -0.09215867395],[51.50282957805, -0.09200492487],[51.50300676173, -0.09189780374],[51.50300676173, -0.09189780374],[51.50323920719, -0.09175727123],[51.50373565401, -0.09131866705],[51.50380684267, -0.09127246493],[51.50395726892, -0.0911220871],[51.50401923665, -0.09106186058],[51.50415122088, -0.09088343362],[51.50429195686, -0.09069023048],[51.50450294296, -0.09039322375],[51.50468056187, -0.09025611314],[51.50481348281, -0.09013527989],[51.50490928521, -0.08994395059],[51.5050400949, -0.08969351825],[51.50520708444, -0.08945598067],[51.50558669818, -0.08902222002],[51.50568390662, -0.08891728471],[51.50572790025, -0.08885780492],[51.50586957144, -0.08872218876],[51.50610845048, -0.08848163452],[51.50617940321, -0.08842102543],[51.50613993654, -0.08820652889],[51.50611016021, -0.08803485669],[51.50598317284, -0.0873729817],[51.50598317284, -0.0873729817],[51.50587428977, -0.08680548705],[51.50582371923, -0.08646177031],[51.50578401402, -0.08623287728],[51.5057556448, -0.08614760733],[51.50573626196, -0.08606196091],[51.50564833323, -0.0856333533],[51.50550742478, -0.08526460714],[51.50533080462, -0.08491177021],[51.50528422644, -0.08481285579],[51.50510666415, -0.08440242352],[51.50506907198, -0.0843031332],[51.50503491821, -0.08422721342],[51.50503491821, -0.08422721342],[51.50492910045, -0.08399199446],[51.504741843, -0.08353874691],[51.50450682725, -0.08291459471],[51.50439286966, -0.08254473456],[51.50422334406, -0.08207634429],[51.50415390903, -0.08190829133],[51.50415390903, -0.08190829133],[51.50408289568, -0.08173641951],[51.50398051203, -0.08152458092],[51.50383060448, -0.08115623862],[51.50370859758, -0.08084436295],[51.50361307774, -0.08050255769],[51.50351567111, -0.08004556052],[51.50350693766, -0.08000899604],[51.50350693766, -0.08000899604],[51.50345774497, -0.0798030413],[51.50336387271, -0.07956203396],[51.50329790245, -0.07937749042],[51.5032127799, -0.07912170785],[51.50312742092, -0.07885152722],[51.50300399246, -0.07845326866],[51.50297846911, -0.07799325721],[51.5028725385, -0.07756544806],[51.50277653706, -0.07719485829],[51.50289241583, -0.07713234495],[51.50317691104, -0.07693305225],[51.50346140588, -0.07673375702],[51.50362972284, -0.07662361621]]",
            "stopPoints": [
             {
              "$type": "Tfl.Api.Presentation.Entities.Identifier, Tfl.Api.Presentation.Entities",
              "id": "490G000644",
              "name": "Elephant & Castle / Newington Causeway",
              "routeType": "Unknown",
              "status": "Unknown",
              "type": "StopPoint",
              "uri": "/StopPoint/490G000644"
             },
             {
              "$type": "Tfl.Api.Presentation.Entities.Identifier, Tfl.Api.Presentation.Entities",
              "id": "490G00003548",
              "name": "Inner London Crown Court",
              "routeType": "Unknown",
              "status": "Unknown",
              "type": "StopPoint",
              "uri": "/StopPoint/490G00003548"
             },
             {
              "$type": "Tfl.Api.Presentation.Entities.Identifier, Tfl.Api.Presentation.Entities",
              "id": "490G00026B",
              "name": "Borough Station",
              "routeType": "Unknown",
              "status": "Unknown",
              "type": "StopPoint",
              "uri": "/StopPoint/490G00026B"
             },
             {
              "$type": "Tfl.Api.Presentation.Entities.Identifier, Tfl.Api.Presentation.Entities",
              "id": "490G00013910",
              "name": "Union Street",
              "routeType": "Unknown",
              "status": "Unknown",
              "type": "StopPoint",
              "uri": "/StopPoint/490G00013910"
             },
             {
              "$type": "Tfl.Api.Presentation.Entities.Identifier, Tfl.Api.Presentation.Entities",
              "id": "490G00139R",
              "name": "London Bridge Station",
              "routeType": "Unknown",
              "status": "Unknown",
              "type": "StopPoint",
              "uri": "/StopPoint/490G00139R"
             },
             {
              "$type": "Tfl.Api.Presentation.Entities.Identifier, Tfl.Api.Presentation.Entities",
              "id": "490G00007964",
              "name": "Hay's Galleria",
              "routeType": "Unknown",
              "status": "Unknown",
              "type": "StopPoint",
              "uri": "/StopPoint/490G00007964"
             },
             {
              "$type": "Tfl.Api.Presentation.Entities.Identifier, Tfl.Api.Presentation.Entities",
              "id": "490G00018666",
              "name": "Abbots Lane",
              "routeType": "Unknown",
              "status": "Unknown",
              "type": "StopPoint",
              "uri": "/StopPoint/490G00018666"
             },
             {
              "$type": "Tfl.Api.Presentation.Entities.Identifier, Tfl.Api.Presentation.Entities",
              "id": "490G00016580",
              "name": "City Hall",
              "routeType": "Unknown",
              "status": "Unknown",
              "type": "StopPoint",
              "uri": "/StopPoint/490G00016580"
             },
             {
              "$type": "Tfl.Api.Presentation.Entities.Identifier, Tfl.Api.Presentation.Entities",
              "id": "490G00013744",
              "name": "Tower Bridge / City Hall",
              "routeType": "Unknown",
              "status": "Unknown",
              "type": "StopPoint",
              "uri": "/StopPoint/490G00013744"
             }
            ]
           },
           "plannedWorks": [],
           "routeOptions": [
            {
             "$type": "Tfl.Api.Presentation.Entities.JourneyPlanner.RouteOption, Tfl.Api.Presentation.Entities",
             "directions": [
              "Aldgate"
             ],
             "lineIdentifier": {
              "$type": "Tfl.Api.Presentation.Entities.Identifier, Tfl.Api.Presentation.Entities",
              "crowding": {
               "$type": "Tfl.Api.Presentation.Entities.Crowding, Tfl.Api.Presentation.Entities"
              },
              "id": "343",
              "name": "343",
              "routeType": "Unknown",
              "status": "Unknown",
              "type": "Line",
              "uri": "/Line/343"
             },
             "name": "343"
            }
           ]
          },
          {
           "$type": "Tfl.Api.Presentation.Entities.JourneyPlanner.Leg, Tfl.Api.Presentation.Entities",
           "arrivalPoint": {
            "$type": "Tfl.Api.Presentation.Entities.Place, Tfl.Api.Presentation.Entities",
            "commonName": "1 Tower Bridge, Tower Hamlets",
            "lat": 51.505498499990004,
            "lon": -0.07537992570999999,
            "placeType": "StopPoint"
           },
           "arrivalTime": "2022-02-11T06:17:00",
           "departurePoint": {
            "$type": "Tfl.Api.Presentation.Entities.StopPoint, Tfl.Api.Presentation.Entities",
            "additionalProperties": [],
            "commonName": "Tower Bridge / City Hall",
            "icsCode": "1013744",
            "lat": 51.50365934258,
            "lon": -0.07673983198,
            "naptanId": "490G00013744",
            "placeType": "StopPoint",
            "platformName": "L",
            "stopLetter": "L"
           },
           "departureTime": "2022-02-11T06:13:00",
           "disruptions": [],
           "distance": 225,
           "duration": 4,
           "hasFixedLocations": false,
           "instruction": {
            "$type": "Tfl.Api.Presentation.Entities.Instruction, Tfl.Api.Presentation.Entities",
            "detailed": "Walk to 1 Tower Bridge, Tower Hamlets",
            "steps": [
             {
              "$type": "Tfl.Api.Presentation.Entities.InstructionStep, Tfl.Api.Presentation.Entities",
              "cumulativeDistance": 78,
              "cumulativeTravelTime": 70,
              "description": "Tower Bridge Road for 78 metres",
              "descriptionHeading": "Continue along ",
              "distance": 78,
              "latitude": 51.50363049424,
              "longitude": -0.07662577369,
              "pathAttribute": {
               "$type": "Tfl.Api.Presentation.Entities.PathAttribute, Tfl.Api.Presentation.Entities"
              },
              "skyDirection": 381,
              "skyDirectionDescription": "North",
              "streetName": "Tower Bridge Road",
              "trackType": "None",
              "turnDirection": "STRAIGHT"
             },
             {
              "$type": "Tfl.Api.Presentation.Entities.InstructionStep, Tfl.Api.Presentation.Entities",
              "cumulativeDistance": 82,
              "cumulativeTravelTime": 75,
              "description": "for 4 metres",
              "descriptionHeading": "Continue along ",
              "distance": 4,
              "latitude": 51.50427090104,
              "longitude": -0.0761953462,
              "pathAttribute": {
               "$type": "Tfl.Api.Presentation.Entities.PathAttribute, Tfl.Api.Presentation.Entities"
              },
              "skyDirection": 387,
              "skyDirectionDescription": "North",
              "streetName": "",
              "trackType": "None",
              "turnDirection": "STRAIGHT"
             },
             {
              "$type": "Tfl.Api.Presentation.Entities.InstructionStep, Tfl.Api.Presentation.Entities",
              "cumulativeDistance": 225,
              "cumulativeTravelTime": 204,
              "description": "on to Tower Bridge, continue for 143 metres",
              "descriptionHeading": "Continue along ",
              "distance": 143,
              "latitude": 51.50430637416,
              "longitude": -0.07616503346999999,
              "pathAttribute": {
               "$type": "Tfl.Api.Presentation.Entities.PathAttribute, Tfl.Api.Presentation.Entities"
              },
              "skyDirection": 381,
              "skyDirectionDescription": "North",
              "streetName": "Tower Bridge",
              "trackType": "None",
              "turnDirection": "STRAIGHT"
             }
            ],
            "summary": "Walk to 1 Tower Bridge, Tower Hamlets"
           },
           "isDisrupted": false,
           "mode": {
            "$type": "Tfl.Api.Presentation.Entities.Identifier, Tfl.Api.Presentation.Entities",
            "id": "walking",
            "name": "walking",
            "routeType": "Unknown",
            "status": "Unknown",
            "type": "Mode"
           },
           "obstacles": [],
           "path": {
            "$type": "Tfl.Api.Presentation.Entities.JourneyPlanner.Path, Tfl.Api.Presentation.Entities",
            "elevation": [],
            "lineString": "[[51.50363049424, -0.07662577369],[51.50419096839, -0.07625634998],[51.50427090104, -0.0761953462],[51.50430637416, -0.07616503347],[51.50495576545, -0.07573421435],[51.50548951361, -0.07538030437],[51.50549849999, -0.07537992571]]",
            "stopPoints": []
           },
           "plannedWorks": [],
           "routeOptions": [
            {
             "$type": "Tfl.Api.Presentation.Entities.JourneyPlanner.RouteOption, Tfl.Api.Presentation.Entities",
             "directions": [
              ""
             ],
             "name": ""
            }
           ]
          }
         ],
         "startDateTime": "2022-02-11T04:11:00"
        },
        {
         "$type": "Tfl.Api.Presentation.Entities.JourneyPlanner.Journey, Tfl.Api.Presentation.Entities",
         "arrivalDateTime": "2022-02-11T06:30:00",
         "duration": 120,
         "fare": {
          "$type": "Tfl.Api.Presentation.Entities.JourneyPlanner.JourneyFare, Tfl.Api.Presentation.Entities",
          "caveats": [
           {
            "$type": "Tfl.Api.Presentation.Entities.JourneyPlanner.FareCaveat, Tfl.Api.Presentation.Entities",
            "text": "The price shown is a single adult pay as you go fare.",
            "type": "generic"
           }
          ],
          "fares": [
           {
            "$type": "Tfl.Api.Presentation.Entities.JourneyPlanner.Fare, Tfl.Api.Presentation.Entities",
            "cost": 155,
            "highZone": 0,
            "isHopperFare": false,
            "lowZone": 0,
            "offPeak": 0,
            "peak": 0,
            "taps": [
             {
              "$type": "Tfl.Api.Presentation.Entities.JourneyPlanner.FareTap, Tfl.Api.Presentation.Entities",
              "atcoCode": "910GHTRWCBS",
              "tapDetails": {
               "$type": "Tfl.Api.Presentation.Entities.JourneyPlanner.FareTapDetails, Tfl.Api.Presentation.Entities",
               "busRouteId": "n9",
               "hostDeviceType": "ETM",
               "modeType": "Bus",
               "nationalLocationCode": 0,
               "tapTimestamp": "2022-02-11T04:35:00+00:00",
               "validationType": "Entry"
              }
             }
            ]
           },
           {
            "$type": "Tfl.Api.Presentation.Entities.JourneyPlanner.Fare, Tfl.Api.Presentation.Entities",
            "cost": 155,
            "highZone": 0,
            "isHopperFare": false,
            "lowZone": 0,
            "offPeak": 0,
            "peak": 0,
            "taps": [
             {
              "$type": "Tfl.Api.Presentation.Entities.JourneyPlanner.FareTap, Tfl.Api.Presentation.Entities",
              "atcoCode": "490G00019703",
              "tapDetails": {
               "$type": "Tfl.Api.Presentation.Entities.JourneyPlanner.FareTapDetails, Tfl.Api.Presentation.Entities",
               "busRouteId": "188",
               "hostDeviceType": "ETM",
               "modeType": "Bus",
               "nationalLocationCode": 0,
               "tapTimestamp": "2022-02-11T06:06:00+00:00",
               "validationType": "Entry"
              }
             }
            ]
           }
          ],
          "totalCost": 310
         },
         "legs": [
          {
           "$type": "Tfl.Api.Presentation.Entities.JourneyPlanner.Leg, Tfl.Api.Presentation.Entities",
           "arrivalPoint": {
            "$type": "Tfl.Api.Presentation.Entities.StopPoint, Tfl.Api.Presentation.Entities",
            "additionalProperties": [],
            "commonName": "Heathrow Central Bus Stn (Rail-Air)",
            "icsCode": "1008016",
            "lat": 51.47136544841,
            "lon": -0.45345569183,
            "naptanId": "910GHTRWCBS",
            "placeType": "StopPoint",
            "platformName": "19"
           },
           "arrivalTime": "2022-02-11T04:35:00",
           "departurePoint": {
            "$type": "Tfl.Api.Presentation.Entities.StopPoint, Tfl.Api.Presentation.Entities",
            "additionalProperties": [],
            "commonName": "Cosmopolitan Way, Heathrow Airport",
            "icsCode": "99999997",
            "lat": 51.469775979350004,
            "lon": -0.45430131310000005,
            "placeType": "StopPoint",
            "platformName": ""
           },
           "departureTime": "2022-02-11T04:30:00",
           "disruptions": [],
           "distance": 335,
           "duration": 5,
           "hasFixedLocations": true,
           "instruction": {
            "$type": "Tfl.Api.Presentation.Entities.Instruction, Tfl.Api.Presentation.Entities",
            "detailed": "Walk to Heathrow Central Bus Station",
            "steps": [
             {
              "$type": "Tfl.Api.Presentation.Entities.InstructionStep, Tfl.Api.Presentation.Entities",
              "cumulativeDistance": 117,
              "cumulativeTravelTime": 107,
              "description": "Cosmopolitan Way for 117 metres",
              "descriptionHeading": "Continue along ",
              "distance": 117,
              "latitude": 51.46977635875,
              "longitude": -0.45433009588,
              "pathAttribute": {
               "$type": "Tfl.Api.Presentation.Entities.PathAttribute, Tfl.Api.Presentation.Entities"
              },
              "skyDirection": 262,
              "skyDirectionDescription": "West",
              "streetName": "Cosmopolitan Way",
              "trackType": "None",
              "turnDirection": "STRAIGHT"
             },
             {
              "$type": "Tfl.Api.Presentation.Entities.InstructionStep, Tfl.Api.Presentation.Entities",
              "cumulativeDistance": 161,
              "cumulativeTravelTime": 147,
              "description": "on to Camborne Way, continue for 44 metres",
              "descriptionHeading": "Turn right",
              "distance": 44,
              "latitude": 51.47042260114,
              "longitude": -0.45560407814,
              "pathAttribute": {
               "$type": "Tfl.Api.Presentation.Entities.PathAttribute, Tfl.Api.Presentation.Entities"
              },
              "skyDirection": 423,
              "skyDirectionDescription": "North",
              "streetName": "Camborne Way",
              "trackType": "None",
              "turnDirection": "RIGHT"
             },
             {
              "$type": "Tfl.Api.Presentation.Entities.InstructionStep, Tfl.Api.Presentation.Entities",
              "cumulativeDistance": 235,
              "cumulativeTravelTime": 214,
              "description": "on to Camborne Road, continue for 74 metres",
              "descriptionHeading": "Take a slight right",
              "distance": 74,
              "latitude": 51.47073377748,
              "longitude": -0.45533440541000003,
              "pathAttribute": {
               "$type": "Tfl.Api.Presentation.Entities.PathAttribute, Tfl.Api.Presentation.Entities"
              },
              "skyDirection": 418,
              "skyDirectionDescription": "North",
              "streetName": "Camborne Road",
              "trackType": "None",
              "turnDirection": "SLIGHT_RIGHT"
             },
             {
              "$type": "Tfl.Api.Presentation.Entities.InstructionStep, Tfl.Api.Presentation.Entities",
              "cumulativeDistance": 267,
              "cumulativeTravelTime": 242,
              "description": "on to Inner Ring West, continue for 32 metres",
              "descriptionHeading": "Turn left",
              "distance": 32,
              "latitude": 51.470945588140005,
              "longitude": -0.45434817678,
              "pathAttribute": {
               "$type": "Tfl.Api.Presentation.Entities.PathAttribute, Tfl.Api.Presentation.Entities"
              },
              "skyDirection": 358,
              "skyDirectionDescription": "North",
              "streetName": "Inner Ring West",
              "trackType": "None",
              "turnDirection": "LEFT"
             },
             {
              "$type": "Tfl.Api.Presentation.Entities.InstructionStep, Tfl.Api.Presentation.Entities",
              "cumulativeDistance": 335,
              "cumulativeTravelTime": 303,
              "description": "on to Control Tower Road, continue for 68 metres",
              "descriptionHeading": "Take a sharp right",
              "distance": 68,
              "latitude": 51.47123340134,
              "longitude": -0.45435284892,
              "pathAttribute": {
               "$type": "Tfl.Api.Presentation.Entities.PathAttribute, Tfl.Api.Presentation.Entities"
              },
              "skyDirection": 485,
              "skyDirectionDescription": "North",
              "streetName": "Control Tower Road",
              "trackType": "None",
              "turnDirection": "SHARP_RIGHT"
             }
            ],
            "summary": "Walk to Heathrow Central Bus Station"
           },
           "isDisrupted": false,
           "mode": {
            "$type": "Tfl.Api.Presentation.Entities.Identifier, Tfl.Api.Presentation.Entities",
            "id": "walking",
            "name": "walking",
            "routeType": "Unknown",
            "status": "Unknown",
            "type": "Mode"
           },
           "obstacles": [],
           "path": {
            "$type": "Tfl.Api.Presentation.Entities.JourneyPlanner.Path, Tfl.Api.Presentation.Entities",
            "elevation": [],
            "lineString": "[[51.46977597935, -0.4543013131],[51.46977635875, -0.45433009588],[51.46977806594, -0.45445961842],[51.46985167889, -0.45458671153],[51.47012929044, -0.45518204429],[51.47042260114, -0.45560407814],[51.47048286506, -0.45540047102],[51.47073377748, -0.45533440541],[51.47091608387, -0.45483871127],[51.47094558814, -0.45434817678],[51.47123340134, -0.45435284892],[51.47102977877, -0.45391338582],[51.47101509723, -0.4534819363]]",
            "stopPoints": []
           },
           "plannedWorks": [],
           "routeOptions": [
            {
             "$type": "Tfl.Api.Presentation.Entities.JourneyPlanner.RouteOption, Tfl.Api.Presentation.Entities",
             "directions": [
              ""
             ],
             "name": ""
            }
           ]
          },
          {
           "$type": "Tfl.Api.Presentation.Entities.JourneyPlanner.Leg, Tfl.Api.Presentation.Entities",
           "arrivalPoint": {
            "$type": "Tfl.Api.Presentation.Entities.StopPoint, Tfl.Api.Presentation.Entities",
            "additionalProperties": [],
            "commonName": "Aldwych / Drury Lane",
            "icsCode": "1019703",
            "lat": 51.5126371226,
            "lon": -0.11851660036,
            "naptanId": "490G00019703",
            "placeType": "StopPoint",
            "platformName": "E",
            "stopLetter": "E"
           },
           "arrivalTime": "2022-02-11T05:52:00",
           "departurePoint": {
            "$type": "Tfl.Api.Presentation.Entities.StopPoint, Tfl.Api.Presentation.Entities",
            "additionalProperties": [],
            "commonName": "Heathrow Central Bus Stn (Rail-Air)",
            "icsCode": "1008016",
            "lat": 51.47136544841,
            "lon": -0.45345569183,
            "naptanId": "910GHTRWCBS",
            "placeType": "StopPoint",
            "platformName": "19"
           },
           "departureTime": "2022-02-11T04:35:00",
           "disruptions": [],
           "duration": 77,
           "hasFixedLocations": true,
           "instruction": {
            "$type": "Tfl.Api.Presentation.Entities.Instruction, Tfl.Api.Presentation.Entities",
            "detailed": "N9 bus towards Aldwych",
            "steps": [],
            "summary": "N9 bus to Aldwych / Drury Lane"
           },
           "isDisrupted": false,
           "mode": {
            "$type": "Tfl.Api.Presentation.Entities.Identifier, Tfl.Api.Presentation.Entities",
            "id": "bus",
            "name": "bus",
            "routeType": "Unknown",
            "status": "Unknown",
            "type": "Mode"
           },
           "obstacles": [],
           "path": {
            "$type": "Tfl.Api.Presentation.Entities.JourneyPlanner.Path, Tfl.Api.Presentation.Entities",
            "elevation": [],
            "lineString": "[[51.47101407422, -0.45348903241],[51.47102977877, -0.45391338582],[51.47123340134, -0.45435284892],[51.47164382467, -0.45410860501],[51.47176814204, -0.45398921576],[51.4718389094, -0.45390043298],[51.47213077657, -0.45353060308],[51.47256683384, -0.45318468913],[51.47283610095, -0.45314678483],[51.47322221498, -0.45310492796],[51.47408413526, -0.45300377882],[51.47417420737, -0.45301513121],[51.47983083553, -0.45305417444],[51.48027239733, -0.45312564199],[51.48032689622, -0.45316700162],[51.48049096238, -0.45333426536],[51.48090783727, -0.45357938727],[51.48107899301, -0.45360240117],[51.4813390818, -0.45355040017],[51.48179653161, -0.4534629197],[51.48194724295, -0.45329940378],[51.48204769582, -0.45273434041],[51.4819630031, -0.45244917367],[51.48188995765, -0.45236523637],[51.48162935737, -0.45169718516],[51.4815074304, -0.45063560289],[51.48142753568, -0.45003344818],[51.48137113303, -0.44984814123],[51.48135277608, -0.4498199607],[51.4812593432, -0.44824648928],[51.4812593432, -0.44824648928],[51.48124865507, -0.44806651712],[51.48118141416, -0.44638383501],[51.48115790672, -0.44596699318],[51.48110660893, -0.44485074433],[51.48110660893, -0.44485074433],[51.48105679557, -0.44376702021],[51.48103806298, -0.44303318812],[51.48101148482, -0.44238603203],[51.48094665055, -0.44089050135],[51.48091833743, -0.44011379483],[51.48089063509, -0.43919645045],[51.48089063509, -0.43919645045],[51.48085402792, -0.43798459424],[51.48083621828, -0.43732274234],[51.48077896367, -0.43572615539],[51.48076859265, -0.43494884035],[51.48075211113, -0.43438775421],[51.48074139338, -0.43425850962],[51.48074004802, -0.43415774669],[51.48072740776, -0.4338845552],[51.48069032907, -0.43309839139],[51.48069032907, -0.43309839139],[51.48065213014, -0.43228859374],[51.48063170332, -0.42874658466],[51.4807350556, -0.42651532735],[51.4807350556, -0.42651532735],[51.48074327993, -0.4263377336],[51.48078145873, -0.42583237365],[51.4809098962, -0.42401338102],[51.48093105628, -0.42358061078],[51.48099590984, -0.42261420937],[51.48099590984, -0.42261420937],[51.48104341969, -0.42190617429],[51.48126090105, -0.4200264766],[51.48127716756, -0.41973193202],[51.48127716756, -0.41973193202],[51.48136208978, -0.41819398861],[51.48134882974, -0.4178776143],[51.48121586028, -0.41668689413],[51.48051086688, -0.41375905236],[51.48027370119, -0.41284560526],[51.48005720113, -0.41204923993],[51.48005720113, -0.41204923993],[51.48003711323, -0.41197535075],[51.47975323824, -0.41093393623],[51.4797155306, -0.41080563771],[51.4796399198, -0.41053464712],[51.47948868509, -0.40999430559],[51.47948868509, -0.40999430559],[51.47917686339, -0.40888024733],[51.4790260231, -0.40836706795],[51.47893106288, -0.40799595373],[51.47879917213, -0.40755412356],[51.47871397939, -0.40724027535],[51.47852561539, -0.40661320888],[51.47829953507, -0.40585785727],[51.47815119939, -0.40534555443],[51.47815119939, -0.40534555443],[51.47796929568, -0.40471733364],[51.47792942717, -0.40443071562],[51.47794681565, -0.40438690751],[51.47798120085, -0.40427050394],[51.47788603189, -0.40388501336],[51.47778559649, -0.40377331589],[51.47762809778, -0.40343320534],[51.4769693816, -0.40118133713],[51.4769693816, -0.40118133713],[51.47683584143, -0.40072484635],[51.47649381445, -0.39938320797],[51.47601886104, -0.39752785119],[51.47587210777, -0.39698325082],[51.47587210777, -0.39698325082],[51.4757536223, -0.39654356138],[51.47570061199, -0.39595503005],[51.47575001122, -0.3956221025],[51.47572166884, -0.3955222985],[51.47569450799, -0.39550885171],[51.47551238525, -0.39534244527],[51.47535092223, -0.39471452635],[51.47526589255, -0.39441511906],[51.47509721084, -0.3939170564],[51.47497228372, -0.39333106303],[51.47485752523, -0.39283111243],[51.47467649426, -0.39208870357],[51.47444670529, -0.3912285812],[51.47444670529, -0.3912285812],[51.47430681304, -0.3907049667],[51.47408882888, -0.38989187964],[51.47392812772, -0.38932156904],[51.47352226457, -0.38792475294],[51.47348433416, -0.38778209924],[51.47316587878, -0.38685739222],[51.47295923305, -0.38621673013],[51.47303735141, -0.38601238855],[51.47292604584, -0.38566947249],[51.47292604584, -0.38566947249],[51.47274624244, -0.38511553473],[51.4726301921, -0.38517722767],[51.47252716247, -0.38487849118],[51.47228316618, -0.38413837542],[51.47221767242, -0.38395350652],[51.47214259535, -0.38372578083],[51.47193692493, -0.3831571054],[51.4715064086, -0.38193405731],[51.47136602876, -0.38153586801],[51.47121646098, -0.38112360797],[51.47116973318, -0.38099567673],[51.47114506465, -0.38092250924],[51.47114506465, -0.38092250924],[51.47096345338, -0.38038385211],[51.47051433592, -0.37911832032],[51.47037394664, -0.37872014846],[51.47007339654, -0.37779493103],[51.46986710026, -0.37718313579],[51.4697046736, -0.37659103413],[51.4697046736, -0.37659103413],[51.46932728898, -0.375215394],[51.46918309671, -0.37454382229],[51.4691541381, -0.37440087408],[51.46896595997, -0.37312604754],[51.46896595997, -0.37312604754],[51.46879683322, -0.37198037478],[51.46873391321, -0.37133472215],[51.46867398882, -0.37090492831],[51.46846562336, -0.36885350391],[51.46791796402, -0.3689162253],[51.46733853655, -0.36863454575],[51.46742240824, -0.36819963875],[51.46751566678, -0.36779318963],[51.46764387352, -0.36731350516],[51.46771136785, -0.36699435577],[51.46761808208, -0.36675293267],[51.4673640167, -0.36658923788],[51.46709257679, -0.36646935663],[51.46706349489, -0.36644735983],[51.46706349489, -0.36644735983],[51.46678358141, -0.36623564201],[51.46671846082, -0.36607960107],[51.46683105275, -0.3651253766],[51.46688955331, -0.3648065511],[51.46708282464, -0.36383503696],[51.46720880565, -0.3631970569],[51.46730922624, -0.36266076841],[51.46750968673, -0.36211328399],[51.46750968673, -0.36211328399],[51.46762971668, -0.36178546044],[51.46772677337, -0.36165240875],[51.4681503465, -0.36107573758],[51.4687927059, -0.35942578824],[51.468870576, -0.35920703031],[51.46926951262, -0.35815607859],[51.46938721893, -0.3579267322],[51.46938721893, -0.3579267322],[51.46964591155, -0.35742267192],[51.46992908616, -0.35709574649],[51.47002593569, -0.35694828738],[51.47052998694, -0.35505841518],[51.47059865903, -0.35482557394],[51.47078669688, -0.35412769296],[51.47094062382, -0.35356465205],[51.47094062382, -0.35356465205],[51.47106894789, -0.35309525195],[51.4710657137, -0.35286499454],[51.47116729962, -0.35241498571],[51.4713528953, -0.35154439239],[51.47148880822, -0.35097795212],[51.47176204336, -0.34994580061],[51.47194828574, -0.34933718931],[51.47194828574, -0.34933718931],[51.47237241418, -0.34795114569],[51.47243289532, -0.34777617529],[51.47287686931, -0.34673781069],[51.47289963995, -0.34668491049],[51.47289963995, -0.34668491049],[51.47328610106, -0.34578707689],[51.47339989627, -0.34556697407],[51.47360133458, -0.34518530817],[51.4738035842, -0.34486120646],[51.47397961837, -0.34457845069],[51.47397961837, -0.34457845069],[51.47465649554, -0.34349118249],[51.47470838879, -0.34334530746],[51.47486060964, -0.34266301285],[51.47490721203, -0.34214293854],[51.47490721203, -0.34214293854],[51.47498836783, -0.34088722939],[51.47500206663, -0.34058434024],[51.47505173848, -0.339646561],[51.47511917435, -0.33869373461],[51.47516903505, -0.33777034352],[51.47519408895, -0.33730630818],[51.47519408895, -0.33730630818],[51.47521888846, -0.33684695059],[51.47523441421, -0.33667358946],[51.47524626434, -0.33624116713],[51.47526587502, -0.33572206383],[51.47534555457, -0.33493649595],[51.47534555457, -0.33493649595],[51.4754315233, -0.33408886107],[51.47549055198, -0.33381311463],[51.4755412059, -0.33358087207],[51.4759237133, -0.33231020098],[51.4759237133, -0.33231020098],[51.47596195965, -0.33218314475],[51.47608266915, -0.33181874265],[51.47680567179, -0.32954593374],[51.47701990483, -0.3288036932],[51.47713389394, -0.32839851153],[51.47713389394, -0.32839851153],[51.47720819612, -0.32813439585],[51.47743957422, -0.32733391317],[51.47760274241, -0.32679512707],[51.47768810047, -0.32647519271],[51.47783370029, -0.32596584483],[51.47785922492, -0.3258641065],[51.4779703102, -0.3254568229],[51.47803561824, -0.32522689602],[51.47803561824, -0.32522689602],[51.47809017611, -0.32503481502],[51.47822760451, -0.32458336006],[51.47827926824, -0.32442305948],[51.47839974751, -0.32404422566],[51.47857168221, -0.323490694],[51.47889818611, -0.32242745785],[51.47916561322, -0.32160099233],[51.47916561322, -0.32160099233],[51.47949237417, -0.32059112176],[51.47963753562, -0.32005294841],[51.47967183645, -0.31993647906],[51.47974002528, -0.31967475268],[51.47993986637, -0.31905984828],[51.47993986637, -0.31905984828],[51.4804031796, -0.3176341896],[51.48080173702, -0.31658261642],[51.48101031638, -0.31607021305],[51.48101031638, -0.31607021305],[51.48112311779, -0.31579309689],[51.48141877124, -0.31509092446],[51.48149697089, -0.31490082022],[51.48162744087, -0.31459357447],[51.4818269138, -0.3140821572],[51.48203269489, -0.31355831884],[51.48203269489, -0.31355831884],[51.48221727937, -0.31308842961],[51.48237160052, -0.31256426357],[51.48238729718, -0.31240526221],[51.48240009309, -0.31204473976],[51.48242692525, -0.31141006047],[51.48247276584, -0.31084668819],[51.48270111974, -0.30984450588],[51.4828305387, -0.30946526548],[51.48300157313, -0.30885404847],[51.48308605098, -0.30847646555],[51.48332154573, -0.30729081354],[51.48332154573, -0.30729081354],[51.48336269968, -0.30708360706],[51.48346935342, -0.30637394233],[51.48360904117, -0.30546141634],[51.48393181515, -0.30424783529],[51.48393181515, -0.30424783529],[51.48398430855, -0.30405046198],[51.48407085293, -0.30381681058],[51.48418394299, -0.30355336803],[51.4845405596, -0.30271918035],[51.48492434118, -0.30189837321],[51.4850786116, -0.30137413931],[51.48516410782, -0.3010685016],[51.48522284922, -0.30077826018],[51.48568835207, -0.2993926655],[51.48602089972, -0.29876095743],[51.48611869517, -0.2984666894],[51.48611869517, -0.2984666894],[51.48617599145, -0.29829428237],[51.48632167588, -0.29779914788],[51.4863697496, -0.29739406584],[51.48638667959, -0.29732141881],[51.48660906563, -0.2965353538],[51.48672945331, -0.29615637905],[51.4869080458, -0.29556748428],[51.4869080458, -0.29556748428],[51.48717566958, -0.29468498874],[51.4872699262, -0.29436459369],[51.48751674078, -0.29340474295],[51.48765278808, -0.2928667268],[51.48771297605, -0.29267723062],[51.48805968744, -0.29178564676],[51.48842379284, -0.29041875942],[51.48842379284, -0.29041875942],[51.48848598405, -0.29018527932],[51.48851962502, -0.2900255772],[51.48861949673, -0.28947448871],[51.48864435925, -0.28932951814],[51.488784333, -0.28844563189],[51.48888755979, -0.2881248764],[51.48905911196, -0.28755668944],[51.48929546606, -0.28711570741],[51.48933715561, -0.2870490605],[51.48933715561, -0.2870490605],[51.48947999688, -0.28682070622],[51.48957612474, -0.28662984701],[51.48961123323, -0.28657091359],[51.48968959612, -0.2863951237],[51.48980411895, -0.2862323817],[51.49009186725, -0.28561660416],[51.49016187266, -0.28548433776],[51.49026656473, -0.28526434245],[51.49071108466, -0.28429164022],[51.49071108466, -0.28429164022],[51.49116404786, -0.28330042435],[51.49135270775, -0.2826739281],[51.49153266728, -0.28268157073],[51.49162190915, -0.28263500243],[51.49170195273, -0.28257437461],[51.49178157459, -0.28248495241],[51.49184237806, -0.28233861702],[51.49188913219, -0.2818470882],[51.49187866823, -0.28174664629],[51.49180065085, -0.28133183399],[51.49185955372, -0.28105592311],[51.49195145067, -0.28057709936],[51.49200655137, -0.28004203808],[51.49210923691, -0.27907303044],[51.49213990434, -0.27871174734],[51.49217078201, -0.27836486095],[51.49221209707, -0.27794497883],[51.49221209707, -0.27794497883],[51.49223337999, -0.27772867563],[51.49233932118, -0.2763705946],[51.49239877902, -0.275766214],[51.49239877902, -0.275766214],[51.49243320055, -0.27541630875],[51.49250307544, -0.27466459877],[51.49257811835, -0.27365339623],[51.49262292789, -0.27303227592],[51.49281741517, -0.27158439074],[51.49285039388, -0.27138146829],[51.49288927685, -0.27081196001],[51.49288927685, -0.27081196001],[51.49293913599, -0.27008162581],[51.49294302589, -0.26973574897],[51.49291995266, -0.26939089314],[51.49289730342, -0.26907483236],[51.49268332138, -0.26676368051],[51.49262970516, -0.26557007351],[51.49257967723, -0.2648892199],[51.49257967723, -0.2648892199],[51.49256215017, -0.26465069901],[51.49253373446, -0.26394591932],[51.49245976884, -0.26259463485],[51.49245784915, -0.2624650605],[51.49244867533, -0.26184598325],[51.49244376706, -0.26151484904],[51.49244376706, -0.26151484904],[51.49243949823, -0.26122690633],[51.49244378904, -0.26090982741],[51.49245772438, -0.26003057609],[51.49247206748, -0.25978514044],[51.49250075213, -0.2592942687],[51.49252558682, -0.25854424784],[51.49254014061, -0.25831320857],[51.49255335695, -0.258081421],[51.49255335695, -0.258081421],[51.49260434335, -0.25718714724],[51.49261140499, -0.25705723009],[51.49265933384, -0.25604702882],[51.49270404994, -0.2554258924],[51.49274383456, -0.25447361971],[51.49278105551, -0.25395360451],[51.49278105551, -0.25395360451],[51.49284156966, -0.25258277979],[51.49285182034, -0.2520637934],[51.49286099545, -0.25147282087],[51.49294632862, -0.25056201359],[51.4929781968, -0.25028709017],[51.49304236096, -0.24976603672],[51.49310624109, -0.24927125674],[51.49310624109, -0.24927125674],[51.49317132725, -0.24876711738],[51.49321217847, -0.248491847],[51.49326842274, -0.24804311957],[51.49332999501, -0.24734929217],[51.49333683054, -0.24720497438],[51.49335582219, -0.24674964397],[51.49335582219, -0.24674964397],[51.4933765482, -0.24625268296],[51.49340259157, -0.24558902656],[51.49343078572, -0.2450693427],[51.49344229608, -0.24463673267],[51.49349098008, -0.24368409191],[51.49353217917, -0.24283257626],[51.49353771467, -0.24260187327],[51.49355928213, -0.24224090282],[51.49355604504, -0.24202494273],[51.49356257862, -0.24126119228],[51.49355890785, -0.24101643763],[51.49353169517, -0.24026828273],[51.49353169517, -0.24026828273],[51.49349768155, -0.23933333615],[51.49348350624, -0.23898814736],[51.49346142383, -0.23871529162],[51.49339733599, -0.23804069864],[51.49332793545, -0.23761120722],[51.49322386253, -0.23714848127],[51.49322386253, -0.23714848127],[51.49316411615, -0.23688284326],[51.49309730929, -0.2366261217],[51.49304804327, -0.23633991294],[51.49294842621, -0.23569551183],[51.4929243376, -0.2352406338],[51.4929243376, -0.2352406338],[51.49292330323, -0.23522110183],[51.49290186215, -0.2349914427],[51.49282919933, -0.23434600505],[51.49322333561, -0.23424434337],[51.49371611418, -0.23412446236],[51.4938862206, -0.23407467163],[51.49406574779, -0.23405332807],[51.49444147566, -0.23392356043],[51.49446419537, -0.23304391988],[51.49447635226, -0.23261636543],[51.49447635226, -0.23261636543],[51.49448182757, -0.23242378229],[51.49447727018, -0.23212143366],[51.49449402903, -0.23144370544],[51.49447613842, -0.23085375392],[51.49447860901, -0.23042147972],[51.49447404646, -0.23011913145],[51.49447404646, -0.23011913145],[51.49446970044, -0.22983118078],[51.49442310102, -0.22912709509],[51.49439033907, -0.22814876168],[51.49439721735, -0.22741379251],[51.49380064483, -0.2266158063],[51.49361282209, -0.22613708873],[51.49361282209, -0.22613708873],[51.49356682039, -0.22601984219],[51.49310749593, -0.22478439212],[51.49302247048, -0.22451399052],[51.49305580336, -0.22433982929],[51.49307884074, -0.22407963476],[51.49310868408, -0.22367512011],[51.49292654222, -0.2235237399],[51.49289669938, -0.22392825301],[51.49283025256, -0.22429097155],[51.49263842032, -0.22468737086],[51.4916948664, -0.22354280825],[51.49187814394, -0.22317555527],[51.49254577137, -0.22395768944],[51.49254577137, -0.22395768944],[51.49283025256, -0.22429097155],[51.49289669938, -0.22392825301],[51.49292654222, -0.2235237399],[51.49307779709, -0.22341702133],[51.49303377754, -0.22288572883],[51.49305288382, -0.22236638725],[51.49307005802, -0.22112684423],[51.49319659439, -0.21998387896],[51.4932033962, -0.21983955834],[51.49323366205, -0.2194638343],[51.49324595244, -0.21908881028],[51.4932496023, -0.21903172639],[51.4932496023, -0.21903172639],[51.4934130545, -0.21647487756],[51.49356715802, -0.21596466389],[51.4936210824, -0.21578876975],[51.4936210824, -0.21578876975],[51.49377277194, -0.21529397184],[51.49386637118, -0.21494457742],[51.49410551597, -0.21411410145],[51.49426793821, -0.21356032892],[51.49441326111, -0.21306484495],[51.49451671837, -0.21277267933],[51.49470204183, -0.21230745853],[51.49470204183, -0.21230745853],[51.49481985472, -0.2120117063],[51.49489744572, -0.2117925785],[51.49505416355, -0.2114551037],[51.49561000721, -0.21016558868],[51.49582369513, -0.20943689778],[51.49591419828, -0.20888590647],[51.4959689705, -0.20835072043],[51.4960086263, -0.20800341014],[51.49606647525, -0.20766979207],[51.49615983134, -0.20730596705],[51.49625230572, -0.2068845489],[51.49664152944, -0.2058752137],[51.49681422114, -0.20540741736],[51.4969127914, -0.20514215643],[51.4969127914, -0.20514215643],[51.49715105266, -0.20450096369],[51.49729743909, -0.20407741145],[51.4974038288, -0.20376137524],[51.4974038288, -0.20376137524],[51.4975038661, -0.20346420553],[51.49782314955, -0.20258722794],[51.49790072261, -0.20236807005],[51.498012919, -0.20206110629],[51.49822832229, -0.20144752806],[51.4983236464, -0.20121326016],[51.49848212303, -0.2007539867],[51.49848212303, -0.2007539867],[51.49853027906, -0.20061442637],[51.49863348374, -0.20030780815],[51.49880983497, -0.19949404872],[51.49891148898, -0.19908663532],[51.49903943913, -0.19863496097],[51.49909969419, -0.19845969565],[51.49927191323, -0.19796304902],[51.49943580703, -0.19750994979],[51.49951447703, -0.19736277003],[51.49960014175, -0.19708564511],[51.49977247803, -0.19659149835],[51.49977247803, -0.19659149835],[51.49996187539, -0.19604842041],[51.50021230837, -0.19537577199],[51.50039327946, -0.19486434765],[51.50054795236, -0.19439718239],[51.50063147985, -0.19416718771],[51.50063147985, -0.19416718771],[51.50089301862, -0.19344702169],[51.50097933941, -0.19321307912],[51.50124861741, -0.19259728681],[51.50136977469, -0.19228992137],[51.5016388257, -0.19165971894],[51.50188291116, -0.19116017279],[51.50199574398, -0.19089635402],[51.5021189959, -0.19014223454],[51.50219254462, -0.18966384158],[51.50234452831, -0.18902384436],[51.50237647355, -0.18876322465],[51.50237091341, -0.18840323221],[51.50235551997, -0.18825436033],[51.50235551997, -0.18825436033],[51.5022863365, -0.1875853023],[51.50225425702, -0.18725517997],[51.50222195401, -0.18691065849],[51.50212949332, -0.18616508913],[51.50207000352, -0.18580724055],[51.50195933913, -0.18504799062],[51.5018632176, -0.18456367735],[51.5018632176, -0.18456367735],[51.50180328927, -0.18426173149],[51.50174624636, -0.18406228217],[51.50167776326, -0.18370479679],[51.50150624696, -0.18250132279],[51.50149547477, -0.18238648535],[51.50145104555, -0.18184074006],[51.50144568752, -0.18149515564],[51.5014483204, -0.18130343707],[51.5014483204, -0.18130343707],[51.50145835521, -0.18057252394],[51.50146421456, -0.18037057516],[51.5014720844, -0.18029822046],[51.50147119071, -0.18024062308],[51.50153235954, -0.17954658966],[51.50157380261, -0.17816174314],[51.50156354629, -0.17692304002],[51.50160617336, -0.1763667839],[51.50160617336, -0.1763667839],[51.5017429474, -0.17458172945],[51.50180049507, -0.17365729478],[51.50180746376, -0.1735273409],[51.5019000637, -0.17196753186],[51.50192526656, -0.17103788626],[51.50192526656, -0.17103788626],[51.50192860897, -0.17091457589],[51.50190884056, -0.1702237641],[51.50185379079, -0.16900125621],[51.50185199227, -0.1688860612],[51.50183693457, -0.16849763843],[51.50182637358, -0.16839720318],[51.50181962633, -0.16796522235],[51.50182186435, -0.16753288121],[51.50182091398, -0.16712782869],[51.50182091398, -0.16712782869],[51.50182027482, -0.16685575109],[51.5017189044, -0.165548659],[51.50167349575, -0.16494533227],[51.50167393338, -0.16316910258],[51.50167393338, -0.16316910258],[51.50167404841, -0.16268320064],[51.50166592629, -0.16216482706],[51.50167152822, -0.16194847655],[51.50172694399, -0.1608944365],[51.50186328072, -0.16041347039],[51.5020534849, -0.15935399288],[51.50223717984, -0.15845326262],[51.50234302614, -0.15660469962],[51.50235760458, -0.15638798279],[51.50245933388, -0.15599484493],[51.50268166805, -0.15526543629],[51.5028538517, -0.15420664572],[51.50292061999, -0.15348398613],[51.50292061999, -0.15348398613],[51.50297678308, -0.15287607161],[51.50299807311, -0.15251499127],[51.50303892369, -0.15225398086],[51.50306384215, -0.15212329372],[51.50311435937, -0.15190511792],[51.50313927744, -0.15177443038],[51.50325601381, -0.1511933527],[51.50327979599, -0.15099066598],[51.50330289665, -0.15074477999],[51.50330279988, -0.15016842877],[51.50376092273, -0.14899715453],[51.50383031675, -0.14883584301],[51.50403040989, -0.14835058751],[51.50403040989, -0.14835058751],[51.50409014443, -0.14820572062],[51.5042284752, -0.14785429249],[51.50442925725, -0.14747151096],[51.50491818178, -0.14654388977],[51.50499655908, -0.14638220579],[51.50504035482, -0.14630838133],[51.50551959994, -0.14533789922],[51.50566781968, -0.14504368807],[51.50583401214, -0.14474874497],[51.50589372996, -0.14454458344],[51.50615604076, -0.14407281429],[51.50642596865, -0.1435142708],[51.50665255626, -0.14305835242],[51.50672216991, -0.14291142246],[51.50694875511, -0.14245549816],[51.50694875511, -0.14245549816],[51.50714098851, -0.14210183746],[51.50752431093, -0.14132250244],[51.50774837857, -0.14070815122],[51.507791714, -0.14060551486],[51.50803397962, -0.14000482571],[51.50816329846, -0.13965370876],[51.50819764623, -0.13955143656],[51.50826898363, -0.13933902458],[51.50826898363, -0.13933902458],[51.50840373098, -0.13893780016],[51.50843762106, -0.13880672447],[51.50861719896, -0.13822298313],[51.50873661104, -0.13781461798],[51.50879654522, -0.13762483593],[51.50897680338, -0.13708428955],[51.50906232377, -0.1368069974],[51.50908768233, -0.13670508774],[51.50925572211, -0.13619348546],[51.50925572211, -0.13619348546],[51.50937074103, -0.1358433007],[51.5094140721, -0.13574065615],[51.50945648737, -0.13558040539],[51.50967245365, -0.1350239738],[51.50974045379, -0.13477621091],[51.50984943911, -0.13484381454],[51.50995636316, -0.1347818036],[51.51011422956, -0.13453036792],[51.51002395632, -0.13394320319],[51.5100961279, -0.13339263412],[51.50993877003, -0.13311084572],[51.50974661115, -0.1329025368],[51.50968232884, -0.13281869933],[51.50965733006, -0.13279420354],[51.50965733006, -0.13279420354],[51.50952703333, -0.13266652896],[51.50924363106, -0.13237549018],[51.50883395601, -0.13206079821],[51.50846875468, -0.13171547141],[51.50808626736, -0.13141408857],[51.50769433368, -0.13108427662],[51.5076344804, -0.13015005748],[51.50761421105, -0.13000678455],[51.50757229389, -0.12963383392],[51.50756518671, -0.12956509332],[51.50756518671, -0.12956509332],[51.50750849702, -0.12901680599],[51.50748730727, -0.12881593069],[51.50750252335, -0.12864238436],[51.5075039263, -0.12816678878],[51.50751592321, -0.12779163061],[51.50753274706, -0.12771888968],[51.50754058422, -0.12764651712],[51.50755671824, -0.12753057359],[51.50772125611, -0.12713474931],[51.50784315945, -0.12688477438],[51.50801737185, -0.1265317796],[51.50804079584, -0.12648389583],[51.50804079584, -0.12648389583],[51.5081828266, -0.12619355187],[51.50841833239, -0.12573716274],[51.5086031391, -0.12548459834],[51.50869876951, -0.12527892445],[51.50881214259, -0.12505811062],[51.50904741353, -0.12458730809],[51.50932577286, -0.12399944414],[51.50964837099, -0.12336652231],[51.50983155909, -0.1230131309],[51.51000575947, -0.12266010608],[51.51008387264, -0.12248396212],[51.51022166374, -0.12210360821],[51.51034807208, -0.1217743316],[51.51034807208, -0.1217743316],[51.51046337182, -0.12147398766],[51.51061014619, -0.12109325785],[51.51078203294, -0.12059620178],[51.51097212159, -0.12011280398],[51.51110114912, -0.11974720755],[51.51128247854, -0.11927857494],[51.51167326963, -0.11897424871],[51.51203296447, -0.11897384386],[51.51235301697, -0.11874448319],[51.51263735364, -0.11853100272]]",
            "stopPoints": [
             {
              "$type": "Tfl.Api.Presentation.Entities.Identifier, Tfl.Api.Presentation.Entities",
              "id": "490G00012176",
              "name": "Nene Road",
              "routeType": "Unknown",
              "status": "Unknown",
              "type": "StopPoint",
              "uri": "/StopPoint/490G00012176"
             },
             {
              "$type": "Tfl.Api.Presentation.Entities.Identifier, Tfl.Api.Presentation.Entities",
              "id": "490G00004139",
              "name": "Bolton's Lane",
              "routeType": "Unknown",
              "status": "Unknown",
              "type": "StopPoint",
              "uri": "/StopPoint/490G00004139"
             },
             {
              "$type": "Tfl.Api.Presentation.Entities.Identifier, Tfl.Api.Presentation.Entities",
              "id": "490G00010251",
              "name": "New Road",
              "routeType": "Unknown",
              "status": "Unknown",
              "type": "StopPoint",
              "uri": "/StopPoint/490G00010251"
             },
             {
              "$type": "Tfl.Api.Presentation.Entities.Identifier, Tfl.Api.Presentation.Entities",
              "id": "490G00007811",
              "name": "Harlington Corner",
              "routeType": "Unknown",
              "status": "Unknown",
              "type": "StopPoint",
              "uri": "/StopPoint/490G00007811"
             },
             {
              "$type": "Tfl.Api.Presentation.Entities.Identifier, Tfl.Api.Presentation.Entities",
              "id": "490G00015397",
              "name": "Nobel Drive",
              "routeType": "Unknown",
              "status": "Unknown",
              "type": "StopPoint",
              "uri": "/StopPoint/490G00015397"
             },
             {
              "$type": "Tfl.Api.Presentation.Entities.Identifier, Tfl.Api.Presentation.Entities",
              "id": "490G00010677",
              "name": "Oxford Avenue",
              "routeType": "Unknown",
              "status": "Unknown",
              "type": "StopPoint",
              "uri": "/StopPoint/490G00010677"
             },
             {
              "$type": "Tfl.Api.Presentation.Entities.Identifier, Tfl.Api.Presentation.Entities",
              "id": "490G00013596",
              "name": "Craneswater",
              "routeType": "Unknown",
              "status": "Unknown",
              "type": "StopPoint",
              "uri": "/StopPoint/490G00013596"
             },
             {
              "$type": "Tfl.Api.Presentation.Entities.Identifier, Tfl.Api.Presentation.Entities",
              "id": "490G00005704",
              "name": "Waye Avenue",
              "routeType": "Unknown",
              "status": "Unknown",
              "type": "StopPoint",
              "uri": "/StopPoint/490G00005704"
             },
             {
              "$type": "Tfl.Api.Presentation.Entities.Identifier, Tfl.Api.Presentation.Entities",
              "id": "490G00013235",
              "name": "The Avenue",
              "routeType": "Unknown",
              "status": "Unknown",
              "type": "StopPoint",
              "uri": "/StopPoint/490G00013235"
             },
             {
              "$type": "Tfl.Api.Presentation.Entities.Identifier, Tfl.Api.Presentation.Entities",
              "id": "490G00013495",
              "name": "The Parkway",
              "routeType": "Unknown",
              "status": "Unknown",
              "type": "StopPoint",
              "uri": "/StopPoint/490G00013495"
             },
             {
              "$type": "Tfl.Api.Presentation.Entities.Identifier, Tfl.Api.Presentation.Entities",
              "id": "490G00011470",
              "name": "Rectory Road",
              "routeType": "Unknown",
              "status": "Unknown",
              "type": "StopPoint",
              "uri": "/StopPoint/490G00011470"
             },
             {
              "$type": "Tfl.Api.Presentation.Entities.Identifier, Tfl.Api.Presentation.Entities",
              "id": "490G00015462",
              "name": "Henlys Roundabout",
              "routeType": "Unknown",
              "status": "Unknown",
              "type": "StopPoint",
              "uri": "/StopPoint/490G00015462"
             },
             {
              "$type": "Tfl.Api.Presentation.Entities.Identifier, Tfl.Api.Presentation.Entities",
              "id": "490G000040",
              "name": "Great West Road / Renfrew Road",
              "routeType": "Unknown",
              "status": "Unknown",
              "type": "StopPoint",
              "uri": "/StopPoint/490G000040"
             },
             {
              "$type": "Tfl.Api.Presentation.Entities.Identifier, Tfl.Api.Presentation.Entities",
              "id": "490G00118B",
              "name": "Hounslow West Station",
              "routeType": "Unknown",
              "status": "Unknown",
              "type": "StopPoint",
              "uri": "/StopPoint/490G00118B"
             },
             {
              "$type": "Tfl.Api.Presentation.Entities.Identifier, Tfl.Api.Presentation.Entities",
              "id": "490G00012458",
              "name": "St Paul's Church",
              "routeType": "Unknown",
              "status": "Unknown",
              "type": "StopPoint",
              "uri": "/StopPoint/490G00012458"
             },
             {
              "$type": "Tfl.Api.Presentation.Entities.Identifier, Tfl.Api.Presentation.Entities",
              "id": "490G00006406",
              "name": "Wellington Road North",
              "routeType": "Unknown",
              "status": "Unknown",
              "type": "StopPoint",
              "uri": "/StopPoint/490G00006406"
             },
             {
              "$type": "Tfl.Api.Presentation.Entities.Identifier, Tfl.Api.Presentation.Entities",
              "id": "490G00012454",
              "name": "St Michael & St Martin Church",
              "routeType": "Unknown",
              "status": "Unknown",
              "type": "StopPoint",
              "uri": "/StopPoint/490G00012454"
             },
             {
              "$type": "Tfl.Api.Presentation.Entities.Identifier, Tfl.Api.Presentation.Entities",
              "id": "490G00013259",
              "name": "The Bell",
              "routeType": "Unknown",
              "status": "Unknown",
              "type": "StopPoint",
              "uri": "/StopPoint/490G00013259"
             },
             {
              "$type": "Tfl.Api.Presentation.Entities.Identifier, Tfl.Api.Presentation.Entities",
              "id": "490G00013777",
              "name": "Treaty Centre",
              "routeType": "Unknown",
              "status": "Unknown",
              "type": "StopPoint",
              "uri": "/StopPoint/490G00013777"
             },
             {
              "$type": "Tfl.Api.Presentation.Entities.Identifier, Tfl.Api.Presentation.Entities",
              "id": "490G00008399",
              "name": "Hounslow High Street",
              "routeType": "Unknown",
              "status": "Unknown",
              "type": "StopPoint",
              "uri": "/StopPoint/490G00008399"
             },
             {
              "$type": "Tfl.Api.Presentation.Entities.Identifier, Tfl.Api.Presentation.Entities",
              "id": "490G000601",
              "name": "Hounslow Bus Station",
              "routeType": "Unknown",
              "status": "Unknown",
              "type": "StopPoint",
              "uri": "/StopPoint/490G000601"
             },
             {
              "$type": "Tfl.Api.Presentation.Entities.Identifier, Tfl.Api.Presentation.Entities",
              "id": "490G00004327",
              "name": "Bridge Road",
              "routeType": "Unknown",
              "status": "Unknown",
              "type": "StopPoint",
              "uri": "/StopPoint/490G00004327"
             },
             {
              "$type": "Tfl.Api.Presentation.Entities.Identifier, Tfl.Api.Presentation.Entities",
              "id": "490G00012599",
              "name": "Star Road",
              "routeType": "Unknown",
              "status": "Unknown",
              "type": "StopPoint",
              "uri": "/StopPoint/490G00012599"
             },
             {
              "$type": "Tfl.Api.Presentation.Entities.Identifier, Tfl.Api.Presentation.Entities",
              "id": "490G00013620",
              "name": "Thornbury Road",
              "routeType": "Unknown",
              "status": "Unknown",
              "type": "StopPoint",
              "uri": "/StopPoint/490G00013620"
             },
             {
              "$type": "Tfl.Api.Presentation.Entities.Identifier, Tfl.Api.Presentation.Entities",
              "id": "490G00008510",
              "name": "West Thames College",
              "routeType": "Unknown",
              "status": "Unknown",
              "type": "StopPoint",
              "uri": "/StopPoint/490G00008510"
             },
             {
              "$type": "Tfl.Api.Presentation.Entities.Identifier, Tfl.Api.Presentation.Entities",
              "id": "490G01158B",
              "name": "Isleworth Station",
              "routeType": "Unknown",
              "status": "Unknown",
              "type": "StopPoint",
              "uri": "/StopPoint/490G01158B"
             },
             {
              "$type": "Tfl.Api.Presentation.Entities.Identifier, Tfl.Api.Presentation.Entities",
              "id": "490G00009185",
              "name": "Linkfield Road",
              "routeType": "Unknown",
              "status": "Unknown",
              "type": "StopPoint",
              "uri": "/StopPoint/490G00009185"
             },
             {
              "$type": "Tfl.Api.Presentation.Entities.Identifier, Tfl.Api.Presentation.Entities",
              "id": "490G00014874",
              "name": "Wood Lane",
              "routeType": "Unknown",
              "status": "Unknown",
              "type": "StopPoint",
              "uri": "/StopPoint/490G00014874"
             },
             {
              "$type": "Tfl.Api.Presentation.Entities.Identifier, Tfl.Api.Presentation.Entities",
              "id": "490G00007873",
              "name": "Turnpike Way",
              "routeType": "Unknown",
              "status": "Unknown",
              "type": "StopPoint",
              "uri": "/StopPoint/490G00007873"
             },
             {
              "$type": "Tfl.Api.Presentation.Entities.Identifier, Tfl.Api.Presentation.Entities",
              "id": "490G00004635",
              "name": "The Green School",
              "routeType": "Unknown",
              "status": "Unknown",
              "type": "StopPoint",
              "uri": "/StopPoint/490G00004635"
             },
             {
              "$type": "Tfl.Api.Presentation.Entities.Identifier, Tfl.Api.Presentation.Entities",
              "id": "490G00015029",
              "name": "Busch Corner",
              "routeType": "Unknown",
              "status": "Unknown",
              "type": "StopPoint",
              "uri": "/StopPoint/490G00015029"
             },
             {
              "$type": "Tfl.Api.Presentation.Entities.Identifier, Tfl.Api.Presentation.Entities",
              "id": "490G00013141",
              "name": "Syon Lane",
              "routeType": "Unknown",
              "status": "Unknown",
              "type": "StopPoint",
              "uri": "/StopPoint/490G00013141"
             },
             {
              "$type": "Tfl.Api.Presentation.Entities.Identifier, Tfl.Api.Presentation.Entities",
              "id": "490G00003804",
              "name": "Beech Avenue",
              "routeType": "Unknown",
              "status": "Unknown",
              "type": "StopPoint",
              "uri": "/StopPoint/490G00003804"
             },
             {
              "$type": "Tfl.Api.Presentation.Entities.Identifier, Tfl.Api.Presentation.Entities",
              "id": "490G00004296",
              "name": "Brent Lea",
              "routeType": "Unknown",
              "status": "Unknown",
              "type": "StopPoint",
              "uri": "/StopPoint/490G00004296"
             },
             {
              "$type": "Tfl.Api.Presentation.Entities.Identifier, Tfl.Api.Presentation.Entities",
              "id": "490G00004292",
              "name": "Market Place",
              "routeType": "Unknown",
              "status": "Unknown",
              "type": "StopPoint",
              "uri": "/StopPoint/490G00004292"
             },
             {
              "$type": "Tfl.Api.Presentation.Entities.Identifier, Tfl.Api.Presentation.Entities",
              "id": "490G00004289",
              "name": "Brentford County Court",
              "routeType": "Unknown",
              "status": "Unknown",
              "type": "StopPoint",
              "uri": "/StopPoint/490G00004289"
             },
             {
              "$type": "Tfl.Api.Presentation.Entities.Identifier, Tfl.Api.Presentation.Entities",
              "id": "490G00006297",
              "name": "Watermans Centre",
              "routeType": "Unknown",
              "status": "Unknown",
              "type": "StopPoint",
              "uri": "/StopPoint/490G00006297"
             },
             {
              "$type": "Tfl.Api.Presentation.Entities.Identifier, Tfl.Api.Presentation.Entities",
              "id": "490G00004293",
              "name": "The Musical Museum",
              "routeType": "Unknown",
              "status": "Unknown",
              "type": "StopPoint",
              "uri": "/StopPoint/490G00004293"
             },
             {
              "$type": "Tfl.Api.Presentation.Entities.Identifier, Tfl.Api.Presentation.Entities",
              "id": "490G00008690",
              "name": "London Museum Of Water and Steam",
              "routeType": "Unknown",
              "status": "Unknown",
              "type": "StopPoint",
              "uri": "/StopPoint/490G00008690"
             },
             {
              "$type": "Tfl.Api.Presentation.Entities.Identifier, Tfl.Api.Presentation.Entities",
              "id": "490G01167S",
              "name": "Kew Bridge Station",
              "routeType": "Unknown",
              "status": "Unknown",
              "type": "StopPoint",
              "uri": "/StopPoint/490G01167S"
             },
             {
              "$type": "Tfl.Api.Presentation.Entities.Identifier, Tfl.Api.Presentation.Entities",
              "id": "490G00004290",
              "name": "Brentford Fountain Leisure Centre",
              "routeType": "Unknown",
              "status": "Unknown",
              "type": "StopPoint",
              "uri": "/StopPoint/490G00004290"
             },
             {
              "$type": "Tfl.Api.Presentation.Entities.Identifier, Tfl.Api.Presentation.Entities",
              "id": "490G000750",
              "name": "Thorney Hedge Road",
              "routeType": "Unknown",
              "status": "Unknown",
              "type": "StopPoint",
              "uri": "/StopPoint/490G000750"
             },
             {
              "$type": "Tfl.Api.Presentation.Entities.Identifier, Tfl.Api.Presentation.Entities",
              "id": "490G00094B",
              "name": "Gunnersbury Station",
              "routeType": "Unknown",
              "status": "Unknown",
              "type": "StopPoint",
              "uri": "/StopPoint/490G00094B"
             },
             {
              "$type": "Tfl.Api.Presentation.Entities.Identifier, Tfl.Api.Presentation.Entities",
              "id": "490G00005211",
              "name": "Chiswick Road",
              "routeType": "Unknown",
              "status": "Unknown",
              "type": "StopPoint",
              "uri": "/StopPoint/490G00005211"
             },
             {
              "$type": "Tfl.Api.Presentation.Entities.Identifier, Tfl.Api.Presentation.Entities",
              "id": "490G000807",
              "name": "Turnham Green Church",
              "routeType": "Unknown",
              "status": "Unknown",
              "type": "StopPoint",
              "uri": "/StopPoint/490G000807"
             },
             {
              "$type": "Tfl.Api.Presentation.Entities.Identifier, Tfl.Api.Presentation.Entities",
              "id": "490G00005423",
              "name": "Clifton Gardens",
              "routeType": "Unknown",
              "status": "Unknown",
              "type": "StopPoint",
              "uri": "/StopPoint/490G00005423"
             },
             {
              "$type": "Tfl.Api.Presentation.Entities.Identifier, Tfl.Api.Presentation.Entities",
              "id": "490G00005210",
              "name": "Chiswick Police Station",
              "routeType": "Unknown",
              "status": "Unknown",
              "type": "StopPoint",
              "uri": "/StopPoint/490G00005210"
             },
             {
              "$type": "Tfl.Api.Presentation.Entities.Identifier, Tfl.Api.Presentation.Entities",
              "id": "490G00013850",
              "name": "Chiswick Lane",
              "routeType": "Unknown",
              "status": "Unknown",
              "type": "StopPoint",
              "uri": "/StopPoint/490G00013850"
             },
             {
              "$type": "Tfl.Api.Presentation.Entities.Identifier, Tfl.Api.Presentation.Entities",
              "id": "490G00012521",
              "name": "Stamford Brook Bus Garage",
              "routeType": "Unknown",
              "status": "Unknown",
              "type": "StopPoint",
              "uri": "/StopPoint/490G00012521"
             },
             {
              "$type": "Tfl.Api.Presentation.Entities.Identifier, Tfl.Api.Presentation.Entities",
              "id": "490G000535",
              "name": "Goldhawk Road / Young's Corner",
              "routeType": "Unknown",
              "status": "Unknown",
              "type": "StopPoint",
              "uri": "/StopPoint/490G000535"
             },
             {
              "$type": "Tfl.Api.Presentation.Entities.Identifier, Tfl.Api.Presentation.Entities",
              "id": "490G00012533",
              "name": "Ravenscourt Park",
              "routeType": "Unknown",
              "status": "Unknown",
              "type": "StopPoint",
              "uri": "/StopPoint/490G00012533"
             },
             {
              "$type": "Tfl.Api.Presentation.Entities.Identifier, Tfl.Api.Presentation.Entities",
              "id": "490G00188A",
              "name": "Ravenscourt Park Station",
              "routeType": "Unknown",
              "status": "Unknown",
              "type": "StopPoint",
              "uri": "/StopPoint/490G00188A"
             },
             {
              "$type": "Tfl.Api.Presentation.Entities.Identifier, Tfl.Api.Presentation.Entities",
              "id": "490G00005937",
              "name": "Dalling Road",
              "routeType": "Unknown",
              "status": "Unknown",
              "type": "StopPoint",
              "uri": "/StopPoint/490G00005937"
             },
             {
              "$type": "Tfl.Api.Presentation.Entities.Identifier, Tfl.Api.Presentation.Entities",
              "id": "490G00015588",
              "name": "Lamington Street",
              "routeType": "Unknown",
              "status": "Unknown",
              "type": "StopPoint",
              "uri": "/StopPoint/490G00015588"
             },
             {
              "$type": "Tfl.Api.Presentation.Entities.Identifier, Tfl.Api.Presentation.Entities",
              "id": "490G00007239",
              "name": "Iffley Road",
              "routeType": "Unknown",
              "status": "Unknown",
              "type": "StopPoint",
              "uri": "/StopPoint/490G00007239"
             },
             {
              "$type": "Tfl.Api.Presentation.Entities.Identifier, Tfl.Api.Presentation.Entities",
              "id": "490G00097T",
              "name": "Hammersmith Stn / H&C and Circle Lines",
              "routeType": "Unknown",
              "status": "Unknown",
              "type": "StopPoint",
              "uri": "/StopPoint/490G00097T"
             },
             {
              "$type": "Tfl.Api.Presentation.Entities.Identifier, Tfl.Api.Presentation.Entities",
              "id": "490G000565",
              "name": "Hammersmith Bus Station",
              "routeType": "Unknown",
              "status": "Unknown",
              "type": "StopPoint",
              "uri": "/StopPoint/490G000565"
             },
             {
              "$type": "Tfl.Api.Presentation.Entities.Identifier, Tfl.Api.Presentation.Entities",
              "id": "490G00008997",
              "name": "Latymer Court",
              "routeType": "Unknown",
              "status": "Unknown",
              "type": "StopPoint",
              "uri": "/StopPoint/490G00008997"
             },
             {
              "$type": "Tfl.Api.Presentation.Entities.Identifier, Tfl.Api.Presentation.Entities",
              "id": "490G00004455",
              "name": "Brook Green",
              "routeType": "Unknown",
              "status": "Unknown",
              "type": "StopPoint",
              "uri": "/StopPoint/490G00004455"
             },
             {
              "$type": "Tfl.Api.Presentation.Entities.Identifier, Tfl.Api.Presentation.Entities",
              "id": "490G00010357",
              "name": "North End Road",
              "routeType": "Unknown",
              "status": "Unknown",
              "type": "StopPoint",
              "uri": "/StopPoint/490G00010357"
             },
             {
              "$type": "Tfl.Api.Presentation.Entities.Identifier, Tfl.Api.Presentation.Entities",
              "id": "490G00008287",
              "name": "Holland Road",
              "routeType": "Unknown",
              "status": "Unknown",
              "type": "StopPoint",
              "uri": "/StopPoint/490G00008287"
             },
             {
              "$type": "Tfl.Api.Presentation.Entities.Identifier, Tfl.Api.Presentation.Entities",
              "id": "490G00003106",
              "name": "Warwick Gardens",
              "routeType": "Unknown",
              "status": "Unknown",
              "type": "StopPoint",
              "uri": "/StopPoint/490G00003106"
             },
             {
              "$type": "Tfl.Api.Presentation.Entities.Identifier, Tfl.Api.Presentation.Entities",
              "id": "490G00005528",
              "name": "The Design Museum",
              "routeType": "Unknown",
              "status": "Unknown",
              "type": "StopPoint",
              "uri": "/StopPoint/490G00005528"
             },
             {
              "$type": "Tfl.Api.Presentation.Entities.Identifier, Tfl.Api.Presentation.Entities",
              "id": "490G00010984",
              "name": "Phillimore Gardens",
              "routeType": "Unknown",
              "status": "Unknown",
              "type": "StopPoint",
              "uri": "/StopPoint/490G00010984"
             },
             {
              "$type": "Tfl.Api.Presentation.Entities.Identifier, Tfl.Api.Presentation.Entities",
              "id": "490G00110R",
              "name": "High Street Kensington Station",
              "routeType": "Unknown",
              "status": "Unknown",
              "type": "StopPoint",
              "uri": "/StopPoint/490G00110R"
             },
             {
              "$type": "Tfl.Api.Presentation.Entities.Identifier, Tfl.Api.Presentation.Entities",
              "id": "490G00011761",
              "name": "Kensington Palace",
              "routeType": "Unknown",
              "status": "Unknown",
              "type": "StopPoint",
              "uri": "/StopPoint/490G00011761"
             },
             {
              "$type": "Tfl.Api.Presentation.Entities.Identifier, Tfl.Api.Presentation.Entities",
              "id": "490G00010728",
              "name": "Palace Gate",
              "routeType": "Unknown",
              "status": "Unknown",
              "type": "StopPoint",
              "uri": "/StopPoint/490G00010728"
             },
             {
              "$type": "Tfl.Api.Presentation.Entities.Identifier, Tfl.Api.Presentation.Entities",
              "id": "490G00019923",
              "name": "Queen's Gate",
              "routeType": "Unknown",
              "status": "Unknown",
              "type": "StopPoint",
              "uri": "/StopPoint/490G00019923"
             },
             {
              "$type": "Tfl.Api.Presentation.Entities.Identifier, Tfl.Api.Presentation.Entities",
              "id": "490G00011750",
              "name": "Royal Albert Hall",
              "routeType": "Unknown",
              "status": "Unknown",
              "type": "StopPoint",
              "uri": "/StopPoint/490G00011750"
             },
             {
              "$type": "Tfl.Api.Presentation.Entities.Identifier, Tfl.Api.Presentation.Entities",
              "id": "490G00011198",
              "name": "Prince Of Wales Gate",
              "routeType": "Unknown",
              "status": "Unknown",
              "type": "StopPoint",
              "uri": "/StopPoint/490G00011198"
             },
             {
              "$type": "Tfl.Api.Presentation.Entities.Identifier, Tfl.Api.Presentation.Entities",
              "id": "490G00011822",
              "name": "Rutland Gardens",
              "routeType": "Unknown",
              "status": "Unknown",
              "type": "StopPoint",
              "uri": "/StopPoint/490G00011822"
             },
             {
              "$type": "Tfl.Api.Presentation.Entities.Identifier, Tfl.Api.Presentation.Entities",
              "id": "490G000575",
              "name": "Knightsbridge Station  / Harrods",
              "routeType": "Unknown",
              "status": "Unknown",
              "type": "StopPoint",
              "uri": "/StopPoint/490G000575"
             },
             {
              "$type": "Tfl.Api.Presentation.Entities.Identifier, Tfl.Api.Presentation.Entities",
              "id": "490G00119A",
              "name": "Hyde Park Corner Station",
              "routeType": "Unknown",
              "status": "Unknown",
              "type": "StopPoint",
              "uri": "/StopPoint/490G00119A"
             },
             {
              "$type": "Tfl.Api.Presentation.Entities.Identifier, Tfl.Api.Presentation.Entities",
              "id": "490G00010574",
              "name": "Old Park Lane / Hard Rock Cafe",
              "routeType": "Unknown",
              "status": "Unknown",
              "type": "StopPoint",
              "uri": "/StopPoint/490G00010574"
             },
             {
              "$type": "Tfl.Api.Presentation.Entities.Identifier, Tfl.Api.Presentation.Entities",
              "id": "490G00093PE",
              "name": "Green Park Station",
              "routeType": "Unknown",
              "status": "Unknown",
              "type": "StopPoint",
              "uri": "/StopPoint/490G00093PE"
             },
             {
              "$type": "Tfl.Api.Presentation.Entities.Identifier, Tfl.Api.Presentation.Entities",
              "id": "490G00010526",
              "name": "Old Bond Street / Royal Academy",
              "routeType": "Unknown",
              "status": "Unknown",
              "type": "StopPoint",
              "uri": "/StopPoint/490G00010526"
             },
             {
              "$type": "Tfl.Api.Presentation.Entities.Identifier, Tfl.Api.Presentation.Entities",
              "id": "490G00179B",
              "name": "Piccadilly Circus",
              "routeType": "Unknown",
              "status": "Unknown",
              "type": "StopPoint",
              "uri": "/StopPoint/490G00179B"
             },
             {
              "$type": "Tfl.Api.Presentation.Entities.Identifier, Tfl.Api.Presentation.Entities",
              "id": "490G00020307",
              "name": "Haymarket / Jermyn Street",
              "routeType": "Unknown",
              "status": "Unknown",
              "type": "StopPoint",
              "uri": "/StopPoint/490G00020307"
             },
             {
              "$type": "Tfl.Api.Presentation.Entities.Identifier, Tfl.Api.Presentation.Entities",
              "id": "490G000804",
              "name": "Trafalgar Square",
              "routeType": "Unknown",
              "status": "Unknown",
              "type": "StopPoint",
              "uri": "/StopPoint/490G000804"
             },
             {
              "$type": "Tfl.Api.Presentation.Entities.Identifier, Tfl.Api.Presentation.Entities",
              "id": "490G00045",
              "name": "Charing Cross Stn / Trafalgar Square",
              "routeType": "Unknown",
              "status": "Unknown",
              "type": "StopPoint",
              "uri": "/StopPoint/490G00045"
             },
             {
              "$type": "Tfl.Api.Presentation.Entities.Identifier, Tfl.Api.Presentation.Entities",
              "id": "490G00012247",
              "name": "Southampton Street / Covent Garden",
              "routeType": "Unknown",
              "status": "Unknown",
              "type": "StopPoint",
              "uri": "/StopPoint/490G00012247"
             },
             {
              "$type": "Tfl.Api.Presentation.Entities.Identifier, Tfl.Api.Presentation.Entities",
              "id": "490G00019703",
              "name": "Aldwych / Drury Lane",
              "routeType": "Unknown",
              "status": "Unknown",
              "type": "StopPoint",
              "uri": "/StopPoint/490G00019703"
             }
            ]
           },
           "plannedWorks": [],
           "routeOptions": [
            {
             "$type": "Tfl.Api.Presentation.Entities.JourneyPlanner.RouteOption, Tfl.Api.Presentation.Entities",
             "directions": [
              "Aldwych"
             ],
             "lineIdentifier": {
              "$type": "Tfl.Api.Presentation.Entities.Identifier, Tfl.Api.Presentation.Entities",
              "crowding": {
               "$type": "Tfl.Api.Presentation.Entities.Crowding, Tfl.Api.Presentation.Entities"
              },
              "id": "n9",
              "name": "N9",
              "routeType": "Unknown",
              "status": "Unknown",
              "type": "Line",
              "uri": "/Line/n9"
             },
             "name": "N9"
            }
           ]
          },
          {
           "$type": "Tfl.Api.Presentation.Entities.JourneyPlanner.Leg, Tfl.Api.Presentation.Entities",
           "arrivalPoint": {
            "$type": "Tfl.Api.Presentation.Entities.StopPoint, Tfl.Api.Presentation.Entities",
            "additionalProperties": [],
            "commonName": "Druid Street",
            "icsCode": "1006200",
            "lat": 51.50210442873,
            "lon": -0.07788594659999999,
            "naptanId": "490G00006200",
            "placeType": "StopPoint",
            "platformName": "",
            "stopLetter": "E"
           },
           "arrivalTime": "2022-02-11T06:23:00",
           "departurePoint": {
            "$type": "Tfl.Api.Presentation.Entities.StopPoint, Tfl.Api.Presentation.Entities",
            "additionalProperties": [],
            "commonName": "Aldwych / Drury Lane",
            "icsCode": "1019703",
            "lat": 51.51226407505,
            "lon": -0.11880579444,
            "naptanId": "490G00019703",
            "placeType": "StopPoint",
            "platformName": "S",
            "stopLetter": "S"
           },
           "departureTime": "2022-02-11T06:06:00",
           "disruptions": [],
           "duration": 17,
           "hasFixedLocations": true,
           "instruction": {
            "$type": "Tfl.Api.Presentation.Entities.Instruction, Tfl.Api.Presentation.Entities",
            "detailed": "188 bus towards North Greenwich",
            "steps": [],
            "summary": "188 bus to Druid Street"
           },
           "isDisrupted": false,
           "mode": {
            "$type": "Tfl.Api.Presentation.Entities.Identifier, Tfl.Api.Presentation.Entities",
            "id": "bus",
            "name": "bus",
            "routeType": "Unknown",
            "status": "Unknown",
            "type": "Mode"
           },
           "obstacles": [],
           "path": {
            "$type": "Tfl.Api.Presentation.Entities.JourneyPlanner.Path, Tfl.Api.Presentation.Entities",
            "elevation": [],
            "lineString": "[[51.5122646396, -0.11880781782],[51.51203296447, -0.11897384386],[51.51167326963, -0.11897424871],[51.51128247854, -0.11927857494],[51.51123454316, -0.1190932004],[51.51001301237, -0.11806268224],[51.50991277328, -0.11798034684],[51.50979432984, -0.11788435105],[51.50906430735, -0.11722272021],[51.50895623706, -0.11721276479],[51.50863731351, -0.1169521108],[51.50736898084, -0.11580835534],[51.50726874023, -0.11572602954],[51.50711342314, -0.11557392571],[51.50697654184, -0.1154498824],[51.50691271014, -0.11539487587],[51.50673941947, -0.11524351601],[51.50662996046, -0.11514716298],[51.50646225497, -0.11499410368],[51.50646225497, -0.11499410368],[51.50619189215, -0.11474735512],[51.50610985548, -0.11467869211],[51.50581834927, -0.11444575909],[51.50530792288, -0.11402013334],[51.50517794225, -0.11376612863],[51.50517724745, -0.11372292871],[51.50510947733, -0.11342312755],[51.50504332815, -0.11322412679],[51.50469192496, -0.11318100478],[51.50440111097, -0.11299128755],[51.50434255734, -0.11270552099],[51.50418283301, -0.11227984367],[51.50407244447, -0.11212590459],[51.50376133741, -0.11179294438],[51.50371547719, -0.11173720379],[51.50348894007, -0.11146426752],[51.50348894007, -0.11146426752],[51.5034495338, -0.11141679045],[51.50275240669, -0.11056667715],[51.50251434797, -0.11030275844],[51.50218433454, -0.1099129695],[51.50186377063, -0.10955161206],[51.50166235235, -0.10932941243],[51.50145148278, -0.10907878919],[51.50127989499, -0.10888453212],[51.50127989499, -0.10888453212],[51.50087441603, -0.10842549057],[51.50060846387, -0.10810511624],[51.50035149741, -0.10778437341],[51.50001248931, -0.10739499324],[51.49913867398, -0.10631834093],[51.49913867398, -0.10631834093],[51.4988472548, -0.10595928696],[51.49875343594, -0.10571824853],[51.49866744015, -0.10540484919],[51.49876187234, -0.10512719007],[51.49889914245, -0.10471808461],[51.49879633452, -0.10447742139],[51.49861613825, -0.10445608274],[51.49831655688, -0.10428121628],[51.49777424623, -0.10355454297],[51.49771939567, -0.10349919093],[51.49696689598, -0.10256515968],[51.49629643313, -0.10169978405],[51.49607343237, -0.10138454673],[51.49607343237, -0.10138454673],[51.4956430045, -0.10077609922],[51.49563600882, -0.10034419346],[51.49555046544, -0.1000596195],[51.4953598824, -0.09995229256],[51.49524072488, -0.09981318332],[51.49509799455, -0.09932930198],[51.49505794409, -0.09907822846],[51.49505794409, -0.09907822846],[51.49496786667, -0.09851355335],[51.4949383392, -0.09835631245],[51.49490904499, -0.09821346836],[51.49472358887, -0.09731359235],[51.49466569862, -0.09707109668],[51.49437226571, -0.09561388855],[51.49431343668, -0.09531381138],[51.49419205279, -0.09444845027],[51.49419205279, -0.09444845027],[51.49415070683, -0.09415370102],[51.49417410648, -0.09282736352],[51.49418443799, -0.09180409857],[51.49422070159, -0.09126955766],[51.49422984721, -0.09017431004],[51.49423344065, -0.08984281888],[51.49427016441, -0.08933706875],[51.49431107981, -0.08768220367],[51.49431107981, -0.08768220367],[51.49432435512, -0.08714506634],[51.49440247588, -0.08642148656],[51.494437482, -0.08636239573],[51.4946872232, -0.08623668617],[51.49486225298, -0.08594122858],[51.4948492716, -0.08569686475],[51.49476891848, -0.08518160416],[51.49478289486, -0.08493611116],[51.4948141382, -0.08464667525],[51.49500643125, -0.08430726775],[51.49506792522, -0.08421825112],[51.49535695061, -0.08374512485],[51.49553244453, -0.08347844684],[51.49559684402, -0.0833934036],[51.49559684402, -0.0833934036],[51.49581412775, -0.08310646548],[51.49589359364, -0.08301669159],[51.49597305944, -0.08292691738],[51.49632592606, -0.08250872119],[51.49642265805, -0.08237500006],[51.49669252539, -0.08183061743],[51.49696097674, -0.0811998457],[51.49697109587, -0.08117768907],[51.49697109587, -0.08117768907],[51.49710856293, -0.0808766923],[51.49738599543, -0.0802455317],[51.49748178191, -0.08005421361],[51.49769368424, -0.07981479292],[51.49796943401, -0.07963031549],[51.4984958598, -0.07937766791],[51.49895846037, -0.0791627954],[51.49895846037, -0.0791627954],[51.49945080239, -0.0789341032],[51.50005739634, -0.0786348433],[51.50014678859, -0.07860226758],[51.50028962744, -0.07853862765],[51.50072713014, -0.07834732739],[51.50129801268, -0.07806396171],[51.50155767436, -0.07799540315],[51.50207059134, -0.07772261038]]",
            "stopPoints": [
             {
              "$type": "Tfl.Api.Presentation.Entities.Identifier, Tfl.Api.Presentation.Entities",
              "id": "490G000819",
              "name": "Waterloo Bridge / South Bank",
              "routeType": "Unknown",
              "status": "Unknown",
              "type": "StopPoint",
              "uri": "/StopPoint/490G000819"
             },
             {
              "$type": "Tfl.Api.Presentation.Entities.Identifier, Tfl.Api.Presentation.Entities",
              "id": "490G000401",
              "name": "Waterloo Station   / Waterloo Road",
              "routeType": "Unknown",
              "status": "Unknown",
              "type": "StopPoint",
              "uri": "/StopPoint/490G000401"
             },
             {
              "$type": "Tfl.Api.Presentation.Entities.Identifier, Tfl.Api.Presentation.Entities",
              "id": "490G00013485",
              "name": "The Old Vic",
              "routeType": "Unknown",
              "status": "Unknown",
              "type": "StopPoint",
              "uri": "/StopPoint/490G00013485"
             },
             {
              "$type": "Tfl.Api.Presentation.Entities.Identifier, Tfl.Api.Presentation.Entities",
              "id": "490G00012693",
              "name": "St George's Circus",
              "routeType": "Unknown",
              "status": "Unknown",
              "type": "StopPoint",
              "uri": "/StopPoint/490G00012693"
             },
             {
              "$type": "Tfl.Api.Presentation.Entities.Identifier, Tfl.Api.Presentation.Entities",
              "id": "490G000642",
              "name": "Elephant & Castle / London Road",
              "routeType": "Unknown",
              "status": "Unknown",
              "type": "StopPoint",
              "uri": "/StopPoint/490G000642"
             },
             {
              "$type": "Tfl.Api.Presentation.Entities.Identifier, Tfl.Api.Presentation.Entities",
              "id": "490G000645",
              "name": "Elephant & Castle / New Kent Road",
              "routeType": "Unknown",
              "status": "Unknown",
              "type": "StopPoint",
              "uri": "/StopPoint/490G000645"
             },
             {
              "$type": "Tfl.Api.Presentation.Entities.Identifier, Tfl.Api.Presentation.Entities",
              "id": "490G00011632",
              "name": "Rodney Place",
              "routeType": "Unknown",
              "status": "Unknown",
              "type": "StopPoint",
              "uri": "/StopPoint/490G00011632"
             },
             {
              "$type": "Tfl.Api.Presentation.Entities.Identifier, Tfl.Api.Presentation.Entities",
              "id": "490G00003658",
              "name": "Bricklayer's Arms / New Kent Road",
              "routeType": "Unknown",
              "status": "Unknown",
              "type": "StopPoint",
              "uri": "/StopPoint/490G00003658"
             },
             {
              "$type": "Tfl.Api.Presentation.Entities.Identifier, Tfl.Api.Presentation.Entities",
              "id": "490G00019012",
              "name": "Bricklayer's Arms / Tower Bridge Road",
              "routeType": "Unknown",
              "status": "Unknown",
              "type": "StopPoint",
              "uri": "/StopPoint/490G00019012"
             },
             {
              "$type": "Tfl.Api.Presentation.Entities.Identifier, Tfl.Api.Presentation.Entities",
              "id": "490G00007362",
              "name": "Grange Road / Caledonian Market",
              "routeType": "Unknown",
              "status": "Unknown",
              "type": "StopPoint",
              "uri": "/StopPoint/490G00007362"
             },
             {
              "$type": "Tfl.Api.Presentation.Entities.Identifier, Tfl.Api.Presentation.Entities",
              "id": "490G00003035",
              "name": "Abbey Street",
              "routeType": "Unknown",
              "status": "Unknown",
              "type": "StopPoint",
              "uri": "/StopPoint/490G00003035"
             },
             {
              "$type": "Tfl.Api.Presentation.Entities.Identifier, Tfl.Api.Presentation.Entities",
              "id": "490G00006200",
              "name": "Druid Street",
              "routeType": "Unknown",
              "status": "Unknown",
              "type": "StopPoint",
              "uri": "/StopPoint/490G00006200"
             }
            ]
           },
           "plannedWorks": [],
           "routeOptions": [
            {
             "$type": "Tfl.Api.Presentation.Entities.JourneyPlanner.RouteOption, Tfl.Api.Presentation.Entities",
             "directions": [
              "North Greenwich"
             ],
             "lineIdentifier": {
              "$type": "Tfl.Api.Presentation.Entities.Identifier, Tfl.Api.Presentation.Entities",
              "crowding": {
               "$type": "Tfl.Api.Presentation.Entities.Crowding, Tfl.Api.Presentation.Entities"
              },
              "id": "188",
              "name": "188",
              "routeType": "Unknown",
              "status": "Unknown",
              "type": "Line",
              "uri": "/Line/188"
             },
             "name": "188"
            }
           ]
          },
          {
           "$type": "Tfl.Api.Presentation.Entities.JourneyPlanner.Leg, Tfl.Api.Presentation.Entities",
           "arrivalPoint": {
            "$type": "Tfl.Api.Presentation.Entities.Place, Tfl.Api.Presentation.Entities",
            "commonName": "1 Tower Bridge, Tower Hamlets",
            "lat": 51.505498499990004,
            "lon": -0.07537992570999999,
            "placeType": "StopPoint"
           },
           "arrivalTime": "2022-02-11T06:30:00",
           "departurePoint": {
            "$type": "Tfl.Api.Presentation.Entities.StopPoint, Tfl.Api.Presentation.Entities",
            "additionalProperties": [],
            "commonName": "Druid Street",
            "icsCode": "1006200",
            "lat": 51.50210442873,
            "lon": -0.07788594659999999,
            "naptanId": "490G00006200",
            "placeType": "StopPoint",
            "platformName": "",
            "stopLetter": "E"
           },
           "departureTime": "2022-02-11T06:23:00",
           "disruptions": [],
           "distance": 415,
           "duration": 7,
           "hasFixedLocations": false,
           "instruction": {
            "$type": "Tfl.Api.Presentation.Entities.Instruction, Tfl.Api.Presentation.Entities",
            "detailed": "Walk to 1 Tower Bridge, Tower Hamlets",
            "steps": [
             {
              "$type": "Tfl.Api.Presentation.Entities.InstructionStep, Tfl.Api.Presentation.Entities",
              "cumulativeDistance": 268,
              "cumulativeTravelTime": 242,
              "description": "Tower Bridge Road for 268 metres",
              "descriptionHeading": "Continue along ",
              "distance": 268,
              "latitude": 51.5020746375,
              "longitude": -0.07771429663,
              "pathAttribute": {
               "$type": "Tfl.Api.Presentation.Entities.PathAttribute, Tfl.Api.Presentation.Entities"
              },
              "skyDirection": 377,
              "skyDirectionDescription": "North",
              "streetName": "Tower Bridge Road",
              "trackType": "None",
              "turnDirection": "STRAIGHT"
             },
             {
              "$type": "Tfl.Api.Presentation.Entities.InstructionStep, Tfl.Api.Presentation.Entities",
              "cumulativeDistance": 272,
              "cumulativeTravelTime": 247,
              "description": "for 4 metres",
              "descriptionHeading": "Continue along ",
              "distance": 4,
              "latitude": 51.50427090104,
              "longitude": -0.0761953462,
              "pathAttribute": {
               "$type": "Tfl.Api.Presentation.Entities.PathAttribute, Tfl.Api.Presentation.Entities"
              },
              "skyDirection": 387,
              "skyDirectionDescription": "North",
              "streetName": "",
              "trackType": "None",
              "turnDirection": "STRAIGHT"
             },
             {
              "$type": "Tfl.Api.Presentation.Entities.InstructionStep, Tfl.Api.Presentation.Entities",
              "cumulativeDistance": 415,
              "cumulativeTravelTime": 372,
              "description": "on to Tower Bridge, continue for 143 metres",
              "descriptionHeading": "Continue along ",
              "distance": 143,
              "latitude": 51.50430637416,
              "longitude": -0.07616503346999999,
              "pathAttribute": {
               "$type": "Tfl.Api.Presentation.Entities.PathAttribute, Tfl.Api.Presentation.Entities"
              },
              "skyDirection": 381,
              "skyDirectionDescription": "North",
              "streetName": "Tower Bridge",
              "trackType": "None",
              "turnDirection": "STRAIGHT"
             }
            ],
            "summary": "Walk to 1 Tower Bridge, Tower Hamlets"
           },
           "isDisrupted": false,
           "mode": {
            "$type": "Tfl.Api.Presentation.Entities.Identifier, Tfl.Api.Presentation.Entities",
            "id": "walking",
            "name": "walking",
            "routeType": "Unknown",
            "status": "Unknown",
            "type": "Mode"
           },
           "obstacles": [],
           "path": {
            "$type": "Tfl.Api.Presentation.Entities.JourneyPlanner.Path, Tfl.Api.Presentation.Entities",
            "elevation": [],
            "lineString": "[[51.5020746375, -0.07771429663],[51.50214605663, -0.07768247391],[51.5024125801, -0.07748394441],[51.5026611304, -0.07728616906],[51.50277653706, -0.07719485829],[51.50289241583, -0.07713234495],[51.50317691104, -0.07693305225],[51.50346140588, -0.07673375702],[51.50419096839, -0.07625634998],[51.50427090104, -0.0761953462],[51.50430637416, -0.07616503347],[51.50495576545, -0.07573421435],[51.50548951361, -0.07538030437],[51.50549849999, -0.07537992571]]",
            "stopPoints": []
           },
           "plannedWorks": [],
           "routeOptions": [
            {
             "$type": "Tfl.Api.Presentation.Entities.JourneyPlanner.RouteOption, Tfl.Api.Presentation.Entities",
             "directions": [
              ""
             ],
             "name": ""
            }
           ]
          }
         ],
         "startDateTime": "2022-02-11T04:30:00"
        },
        {
         "$type": "Tfl.Api.Presentation.Entities.JourneyPlanner.Journey, Tfl.Api.Presentation.Entities",
         "arrivalDateTime": "2022-02-11T06:46:00",
         "duration": 126,
         "legs": [
          {
           "$type": "Tfl.Api.Presentation.Entities.JourneyPlanner.Leg, Tfl.Api.Presentation.Entities",
           "arrivalPoint": {
            "$type": "Tfl.Api.Presentation.Entities.StopPoint, Tfl.Api.Presentation.Entities",
            "additionalProperties": [],
            "commonName": "Heathrow Central Bus Stn (Rail-Air)",
            "icsCode": "1008016",
            "lat": 51.471368674889995,
            "lon": -0.45370035391,
            "naptanId": "910GHTRWCBS",
            "placeType": "StopPoint",
            "platformName": "20"
           },
           "arrivalTime": "2022-02-11T04:45:00",
           "departurePoint": {
            "$type": "Tfl.Api.Presentation.Entities.StopPoint, Tfl.Api.Presentation.Entities",
            "additionalProperties": [],
            "commonName": "Cosmopolitan Way, Heathrow Airport",
            "icsCode": "99999997",
            "lat": 51.469775979350004,
            "lon": -0.45430131310000005,
            "placeType": "StopPoint",
            "platformName": ""
           },
           "departureTime": "2022-02-11T04:40:00",
           "disruptions": [],
           "distance": 297,
           "duration": 5,
           "hasFixedLocations": true,
           "instruction": {
            "$type": "Tfl.Api.Presentation.Entities.Instruction, Tfl.Api.Presentation.Entities",
            "detailed": "Walk to Heathrow Central Bus Station",
            "steps": [
             {
              "$type": "Tfl.Api.Presentation.Entities.InstructionStep, Tfl.Api.Presentation.Entities",
              "cumulativeDistance": 117,
              "cumulativeTravelTime": 107,
              "description": "Cosmopolitan Way for 117 metres",
              "descriptionHeading": "Continue along ",
              "distance": 117,
              "latitude": 51.46977635875,
              "longitude": -0.45433009588,
              "pathAttribute": {
               "$type": "Tfl.Api.Presentation.Entities.PathAttribute, Tfl.Api.Presentation.Entities"
              },
              "skyDirection": 262,
              "skyDirectionDescription": "West",
              "streetName": "Cosmopolitan Way",
              "trackType": "None",
              "turnDirection": "STRAIGHT"
             },
             {
              "$type": "Tfl.Api.Presentation.Entities.InstructionStep, Tfl.Api.Presentation.Entities",
              "cumulativeDistance": 161,
              "cumulativeTravelTime": 147,
              "description": "on to Camborne Way, continue for 44 metres",
              "descriptionHeading": "Turn right",
              "distance": 44,
              "latitude": 51.47042260114,
              "longitude": -0.45560407814,
              "pathAttribute": {
               "$type": "Tfl.Api.Presentation.Entities.PathAttribute, Tfl.Api.Presentation.Entities"
              },
              "skyDirection": 423,
              "skyDirectionDescription": "North",
              "streetName": "Camborne Way",
              "trackType": "None",
              "turnDirection": "RIGHT"
             },
             {
              "$type": "Tfl.Api.Presentation.Entities.InstructionStep, Tfl.Api.Presentation.Entities",
              "cumulativeDistance": 235,
              "cumulativeTravelTime": 214,
              "description": "on to Camborne Road, continue for 74 metres",
              "descriptionHeading": "Take a slight right",
              "distance": 74,
              "latitude": 51.47073377748,
              "longitude": -0.45533440541000003,
              "pathAttribute": {
               "$type": "Tfl.Api.Presentation.Entities.PathAttribute, Tfl.Api.Presentation.Entities"
              },
              "skyDirection": 418,
              "skyDirectionDescription": "North",
              "streetName": "Camborne Road",
              "trackType": "None",
              "turnDirection": "SLIGHT_RIGHT"
             },
             {
              "$type": "Tfl.Api.Presentation.Entities.InstructionStep, Tfl.Api.Presentation.Entities",
              "cumulativeDistance": 297,
              "cumulativeTravelTime": 269,
              "description": "on to Inner Ring West, continue for 62 metres",
              "descriptionHeading": "Turn left",
              "distance": 62,
              "latitude": 51.470945588140005,
              "longitude": -0.45434817678,
              "pathAttribute": {
               "$type": "Tfl.Api.Presentation.Entities.PathAttribute, Tfl.Api.Presentation.Entities"
              },
              "skyDirection": 358,
              "skyDirectionDescription": "North",
              "streetName": "Inner Ring West",
              "trackType": "None",
              "turnDirection": "LEFT"
             }
            ],
            "summary": "Walk to Heathrow Central Bus Station"
           },
           "isDisrupted": false,
           "mode": {
            "$type": "Tfl.Api.Presentation.Entities.Identifier, Tfl.Api.Presentation.Entities",
            "id": "walking",
            "name": "walking",
            "routeType": "Unknown",
            "status": "Unknown",
            "type": "Mode"
           },
           "obstacles": [],
           "path": {
            "$type": "Tfl.Api.Presentation.Entities.JourneyPlanner.Path, Tfl.Api.Presentation.Entities",
            "elevation": [],
            "lineString": "[[51.46977597935, -0.4543013131],[51.46977635875, -0.45433009588],[51.46977806594, -0.45445961842],[51.46985167889, -0.45458671153],[51.47012929044, -0.45518204429],[51.47042260114, -0.45560407814],[51.47048286506, -0.45540047102],[51.47073377748, -0.45533440541],[51.47091608387, -0.45483871127],[51.47094558814, -0.45434817678],[51.47123340134, -0.45435284892],[51.47149216305, -0.45420012106]]",
            "stopPoints": []
           },
           "plannedWorks": [],
           "routeOptions": [
            {
             "$type": "Tfl.Api.Presentation.Entities.JourneyPlanner.RouteOption, Tfl.Api.Presentation.Entities",
             "directions": [
              ""
             ],
             "name": ""
            }
           ]
          },
          {
           "$type": "Tfl.Api.Presentation.Entities.JourneyPlanner.Leg, Tfl.Api.Presentation.Entities",
           "arrivalPoint": {
            "$type": "Tfl.Api.Presentation.Entities.StopPoint, Tfl.Api.Presentation.Entities",
            "additionalProperties": [],
            "commonName": "Nene Road",
            "icsCode": "1012176",
            "lat": 51.48132284642,
            "lon": -0.44823681623,
            "naptanId": "490G00012176",
            "placeType": "StopPoint",
            "platformName": "BJ",
            "stopLetter": "BJ"
           },
           "arrivalTime": "2022-02-11T04:48:00",
           "departurePoint": {
            "$type": "Tfl.Api.Presentation.Entities.StopPoint, Tfl.Api.Presentation.Entities",
            "additionalProperties": [],
            "commonName": "Heathrow Central Bus Stn (Rail-Air)",
            "icsCode": "1008016",
            "lat": 51.471368674889995,
            "lon": -0.45370035391,
            "naptanId": "910GHTRWCBS",
            "placeType": "StopPoint",
            "platformName": "20"
           },
           "departureTime": "2022-02-11T04:45:00",
           "disruptions": [],
           "duration": 3,
           "hasFixedLocations": true,
           "instruction": {
            "$type": "Tfl.Api.Presentation.Entities.Instruction, Tfl.Api.Presentation.Entities",
            "detailed": "555 bus towards Heathrow Airport",
            "steps": [],
            "summary": "555 bus to Nene Road"
           },
           "isDisrupted": false,
           "mode": {
            "$type": "Tfl.Api.Presentation.Entities.Identifier, Tfl.Api.Presentation.Entities",
            "id": "bus",
            "name": "bus",
            "routeType": "Unknown",
            "status": "Unknown",
            "type": "Mode"
           },
           "obstacles": [],
           "path": {
            "$type": "Tfl.Api.Presentation.Entities.JourneyPlanner.Path, Tfl.Api.Presentation.Entities",
            "elevation": [],
            "lineString": "[[51.47148533074, -0.4542029257],[51.47164382467, -0.45410860501],[51.47176814204, -0.45398921576],[51.4718389094, -0.45390043298],[51.47213077657, -0.45353060308],[51.47256683384, -0.45318468913],[51.47283610095, -0.45314678483],[51.47322221498, -0.45310492796],[51.47408413526, -0.45300377882],[51.47417420737, -0.45301513121],[51.47983083553, -0.45305417444],[51.48027239733, -0.45312564199],[51.48032689622, -0.45316700162],[51.48049096238, -0.45333426536],[51.48090783727, -0.45357938727],[51.48107899301, -0.45360240117],[51.4813390818, -0.45355040017],[51.48179653161, -0.4534629197],[51.48194724295, -0.45329940378],[51.48204769582, -0.45273434041],[51.4819630031, -0.45244917367],[51.48188995765, -0.45236523637],[51.48162935737, -0.45169718516],[51.4815074304, -0.45063560289],[51.48142753568, -0.45003344818],[51.48137113303, -0.44984814123],[51.48135277608, -0.4498199607],[51.4812593432, -0.44824648928]]",
            "stopPoints": [
             {
              "$type": "Tfl.Api.Presentation.Entities.Identifier, Tfl.Api.Presentation.Entities",
              "id": "490G00012176",
              "name": "Nene Road",
              "routeType": "Unknown",
              "status": "Unknown",
              "type": "StopPoint",
              "uri": "/StopPoint/490G00012176"
             }
            ]
           },
           "plannedWorks": [],
           "routeOptions": [
            {
             "$type": "Tfl.Api.Presentation.Entities.JourneyPlanner.RouteOption, Tfl.Api.Presentation.Entities",
             "directions": [
              "Heathrow Airport"
             ],
             "name": "555"
            }
           ]
          },
          {
           "$type": "Tfl.Api.Presentation.Entities.JourneyPlanner.Leg, Tfl.Api.Presentation.Entities",
           "arrivalPoint": {
            "$type": "Tfl.Api.Presentation.Entities.StopPoint, Tfl.Api.Presentation.Entities",
            "additionalProperties": [],
            "commonName": "Hounslow Bus Station",
            "icsCode": "1008392",
            "lat": 51.470926159280005,
            "lon": -0.3544538357,
            "naptanId": "490G000601",
            "placeType": "StopPoint",
            "platformName": "Z1",
            "stopLetter": "Z1"
           },
           "arrivalTime": "2022-02-11T05:11:00",
           "departurePoint": {
            "$type": "Tfl.Api.Presentation.Entities.StopPoint, Tfl.Api.Presentation.Entities",
            "additionalProperties": [],
            "commonName": "Nene Road",
            "icsCode": "1012176",
            "lat": 51.48132284642,
            "lon": -0.44823681623,
            "naptanId": "490G00012176",
            "placeType": "StopPoint",
            "platformName": "BJ",
            "stopLetter": "BJ"
           },
           "departureTime": "2022-02-11T04:54:00",
           "disruptions": [],
           "duration": 17,
           "hasFixedLocations": true,
           "instruction": {
            "$type": "Tfl.Api.Presentation.Entities.Instruction, Tfl.Api.Presentation.Entities",
            "detailed": "222 bus towards Hounslow Bus Station",
            "steps": [],
            "summary": "222 bus to Hounslow Bus Station"
           },
           "isDisrupted": false,
           "mode": {
            "$type": "Tfl.Api.Presentation.Entities.Identifier, Tfl.Api.Presentation.Entities",
            "id": "bus",
            "name": "bus",
            "routeType": "Unknown",
            "status": "Unknown",
            "type": "Mode"
           },
           "obstacles": [],
           "path": {
            "$type": "Tfl.Api.Presentation.Entities.JourneyPlanner.Path, Tfl.Api.Presentation.Entities",
            "elevation": [],
            "lineString": "[[51.4812593432, -0.44824648928],[51.48124865507, -0.44806651712],[51.48118141416, -0.44638383501],[51.48115790672, -0.44596699318],[51.48110660893, -0.44485074433],[51.48110660893, -0.44485074433],[51.48105679557, -0.44376702021],[51.48103806298, -0.44303318812],[51.48101148482, -0.44238603203],[51.48094665055, -0.44089050135],[51.48091833743, -0.44011379483],[51.48089063509, -0.43919645045],[51.48089063509, -0.43919645045],[51.48085402792, -0.43798459424],[51.48083621828, -0.43732274234],[51.48077896367, -0.43572615539],[51.48076859265, -0.43494884035],[51.48075211113, -0.43438775421],[51.48074139338, -0.43425850962],[51.48074004802, -0.43415774669],[51.48072740776, -0.4338845552],[51.48069032907, -0.43309839139],[51.48069032907, -0.43309839139],[51.48065213014, -0.43228859374],[51.48063170332, -0.42874658466],[51.4807350556, -0.42651532735],[51.4807350556, -0.42651532735],[51.48074327993, -0.4263377336],[51.48078145873, -0.42583237365],[51.4809098962, -0.42401338102],[51.48093105628, -0.42358061078],[51.48099590984, -0.42261420937],[51.48099590984, -0.42261420937],[51.48104341969, -0.42190617429],[51.48126090105, -0.4200264766],[51.48127716756, -0.41973193202],[51.48127716756, -0.41973193202],[51.48136208978, -0.41819398861],[51.48134882974, -0.4178776143],[51.48121586028, -0.41668689413],[51.48051086688, -0.41375905236],[51.48027370119, -0.41284560526],[51.48005720113, -0.41204923993],[51.48005720113, -0.41204923993],[51.48003711323, -0.41197535075],[51.47975323824, -0.41093393623],[51.4797155306, -0.41080563771],[51.4796399198, -0.41053464712],[51.47948868509, -0.40999430559],[51.47948868509, -0.40999430559],[51.47917686339, -0.40888024733],[51.4790260231, -0.40836706795],[51.47893106288, -0.40799595373],[51.47879917213, -0.40755412356],[51.47871397939, -0.40724027535],[51.47852561539, -0.40661320888],[51.47829953507, -0.40585785727],[51.47815119939, -0.40534555443],[51.47815119939, -0.40534555443],[51.47796929568, -0.40471733364],[51.47792942717, -0.40443071562],[51.47794681565, -0.40438690751],[51.47798120085, -0.40427050394],[51.47788603189, -0.40388501336],[51.47778559649, -0.40377331589],[51.47762809778, -0.40343320534],[51.4769693816, -0.40118133713],[51.4769693816, -0.40118133713],[51.47683584143, -0.40072484635],[51.47649381445, -0.39938320797],[51.47601886104, -0.39752785119],[51.47587210777, -0.39698325082],[51.47587210777, -0.39698325082],[51.4757536223, -0.39654356138],[51.47570061199, -0.39595503005],[51.47575001122, -0.3956221025],[51.47572166884, -0.3955222985],[51.47569450799, -0.39550885171],[51.47551238525, -0.39534244527],[51.47535092223, -0.39471452635],[51.47526589255, -0.39441511906],[51.47509721084, -0.3939170564],[51.47497228372, -0.39333106303],[51.47485752523, -0.39283111243],[51.47467649426, -0.39208870357],[51.47444670529, -0.3912285812],[51.47444670529, -0.3912285812],[51.47430681304, -0.3907049667],[51.47408882888, -0.38989187964],[51.47392812772, -0.38932156904],[51.47352226457, -0.38792475294],[51.47348433416, -0.38778209924],[51.47316587878, -0.38685739222],[51.47295923305, -0.38621673013],[51.47303735141, -0.38601238855],[51.47292604584, -0.38566947249],[51.47292604584, -0.38566947249],[51.47274624244, -0.38511553473],[51.4726301921, -0.38517722767],[51.47252716247, -0.38487849118],[51.47228316618, -0.38413837542],[51.47221767242, -0.38395350652],[51.47214259535, -0.38372578083],[51.47193692493, -0.3831571054],[51.4715064086, -0.38193405731],[51.47136602876, -0.38153586801],[51.47121646098, -0.38112360797],[51.47116973318, -0.38099567673],[51.47114506465, -0.38092250924],[51.47114506465, -0.38092250924],[51.47096345338, -0.38038385211],[51.47051433592, -0.37911832032],[51.47037394664, -0.37872014846],[51.47007339654, -0.37779493103],[51.46986710026, -0.37718313579],[51.4697046736, -0.37659103413],[51.4697046736, -0.37659103413],[51.46932728898, -0.375215394],[51.46918309671, -0.37454382229],[51.4691541381, -0.37440087408],[51.46896595997, -0.37312604754],[51.46896595997, -0.37312604754],[51.46879683322, -0.37198037478],[51.46873391321, -0.37133472215],[51.46867398882, -0.37090492831],[51.46846562336, -0.36885350391],[51.46791796402, -0.3689162253],[51.46733853655, -0.36863454575],[51.46742240824, -0.36819963875],[51.46751566678, -0.36779318963],[51.46764387352, -0.36731350516],[51.46771136785, -0.36699435577],[51.46761808208, -0.36675293267],[51.4673640167, -0.36658923788],[51.46728266775, -0.36655331002],[51.46728266775, -0.36655331002],[51.46709257679, -0.36646935663],[51.46678358141, -0.36623564201],[51.46671846082, -0.36607960107],[51.46683105275, -0.3651253766],[51.46688955331, -0.3648065511],[51.46708282464, -0.36383503696],[51.46720880565, -0.3631970569],[51.46723727942, -0.36304499648],[51.46723727942, -0.36304499648],[51.46730922624, -0.36266076841],[51.46762971668, -0.36178546044],[51.46772677337, -0.36165240875],[51.4681503465, -0.36107573758],[51.4687927059, -0.35942578824],[51.468870576, -0.35920703031],[51.46926951262, -0.35815607859],[51.46938721893, -0.3579267322],[51.46938721893, -0.3579267322],[51.46964591155, -0.35742267192],[51.46992908616, -0.35709574649],[51.47002593569, -0.35694828738],[51.47052998694, -0.35505841518],[51.47059865903, -0.35482557394],[51.47078669688, -0.35412769296],[51.47105037273, -0.3543341798],[51.47098152387, -0.35450955847]]",
            "stopPoints": [
             {
              "$type": "Tfl.Api.Presentation.Entities.Identifier, Tfl.Api.Presentation.Entities",
              "id": "490G00004139",
              "name": "Bolton's Lane",
              "routeType": "Unknown",
              "status": "Unknown",
              "type": "StopPoint",
              "uri": "/StopPoint/490G00004139"
             },
             {
              "$type": "Tfl.Api.Presentation.Entities.Identifier, Tfl.Api.Presentation.Entities",
              "id": "490G00010251",
              "name": "New Road",
              "routeType": "Unknown",
              "status": "Unknown",
              "type": "StopPoint",
              "uri": "/StopPoint/490G00010251"
             },
             {
              "$type": "Tfl.Api.Presentation.Entities.Identifier, Tfl.Api.Presentation.Entities",
              "id": "490G00007811",
              "name": "Harlington Corner",
              "routeType": "Unknown",
              "status": "Unknown",
              "type": "StopPoint",
              "uri": "/StopPoint/490G00007811"
             },
             {
              "$type": "Tfl.Api.Presentation.Entities.Identifier, Tfl.Api.Presentation.Entities",
              "id": "490G00015397",
              "name": "Nobel Drive",
              "routeType": "Unknown",
              "status": "Unknown",
              "type": "StopPoint",
              "uri": "/StopPoint/490G00015397"
             },
             {
              "$type": "Tfl.Api.Presentation.Entities.Identifier, Tfl.Api.Presentation.Entities",
              "id": "490G00010677",
              "name": "Oxford Avenue",
              "routeType": "Unknown",
              "status": "Unknown",
              "type": "StopPoint",
              "uri": "/StopPoint/490G00010677"
             },
             {
              "$type": "Tfl.Api.Presentation.Entities.Identifier, Tfl.Api.Presentation.Entities",
              "id": "490G00013596",
              "name": "Craneswater",
              "routeType": "Unknown",
              "status": "Unknown",
              "type": "StopPoint",
              "uri": "/StopPoint/490G00013596"
             },
             {
              "$type": "Tfl.Api.Presentation.Entities.Identifier, Tfl.Api.Presentation.Entities",
              "id": "490G00005704",
              "name": "Waye Avenue",
              "routeType": "Unknown",
              "status": "Unknown",
              "type": "StopPoint",
              "uri": "/StopPoint/490G00005704"
             },
             {
              "$type": "Tfl.Api.Presentation.Entities.Identifier, Tfl.Api.Presentation.Entities",
              "id": "490G00013235",
              "name": "The Avenue",
              "routeType": "Unknown",
              "status": "Unknown",
              "type": "StopPoint",
              "uri": "/StopPoint/490G00013235"
             },
             {
              "$type": "Tfl.Api.Presentation.Entities.Identifier, Tfl.Api.Presentation.Entities",
              "id": "490G00013495",
              "name": "The Parkway",
              "routeType": "Unknown",
              "status": "Unknown",
              "type": "StopPoint",
              "uri": "/StopPoint/490G00013495"
             },
             {
              "$type": "Tfl.Api.Presentation.Entities.Identifier, Tfl.Api.Presentation.Entities",
              "id": "490G00011470",
              "name": "Rectory Road",
              "routeType": "Unknown",
              "status": "Unknown",
              "type": "StopPoint",
              "uri": "/StopPoint/490G00011470"
             },
             {
              "$type": "Tfl.Api.Presentation.Entities.Identifier, Tfl.Api.Presentation.Entities",
              "id": "490G00015462",
              "name": "Henlys Roundabout",
              "routeType": "Unknown",
              "status": "Unknown",
              "type": "StopPoint",
              "uri": "/StopPoint/490G00015462"
             },
             {
              "$type": "Tfl.Api.Presentation.Entities.Identifier, Tfl.Api.Presentation.Entities",
              "id": "490G000040",
              "name": "Great West Road / Renfrew Road",
              "routeType": "Unknown",
              "status": "Unknown",
              "type": "StopPoint",
              "uri": "/StopPoint/490G000040"
             },
             {
              "$type": "Tfl.Api.Presentation.Entities.Identifier, Tfl.Api.Presentation.Entities",
              "id": "490G00118B",
              "name": "Hounslow West Station",
              "routeType": "Unknown",
              "status": "Unknown",
              "type": "StopPoint",
              "uri": "/StopPoint/490G00118B"
             },
             {
              "$type": "Tfl.Api.Presentation.Entities.Identifier, Tfl.Api.Presentation.Entities",
              "id": "490G00012458",
              "name": "St Paul's Church",
              "routeType": "Unknown",
              "status": "Unknown",
              "type": "StopPoint",
              "uri": "/StopPoint/490G00012458"
             },
             {
              "$type": "Tfl.Api.Presentation.Entities.Identifier, Tfl.Api.Presentation.Entities",
              "id": "490G00006406",
              "name": "Wellington Road North",
              "routeType": "Unknown",
              "status": "Unknown",
              "type": "StopPoint",
              "uri": "/StopPoint/490G00006406"
             },
             {
              "$type": "Tfl.Api.Presentation.Entities.Identifier, Tfl.Api.Presentation.Entities",
              "id": "490G00012454",
              "name": "St Michael & St Martin Church",
              "routeType": "Unknown",
              "status": "Unknown",
              "type": "StopPoint",
              "uri": "/StopPoint/490G00012454"
             },
             {
              "$type": "Tfl.Api.Presentation.Entities.Identifier, Tfl.Api.Presentation.Entities",
              "id": "490G00013259",
              "name": "The Bell",
              "routeType": "Unknown",
              "status": "Unknown",
              "type": "StopPoint",
              "uri": "/StopPoint/490G00013259"
             },
             {
              "$type": "Tfl.Api.Presentation.Entities.Identifier, Tfl.Api.Presentation.Entities",
              "id": "490G00013777",
              "name": "Treaty Centre",
              "routeType": "Unknown",
              "status": "Unknown",
              "type": "StopPoint",
              "uri": "/StopPoint/490G00013777"
             },
             {
              "$type": "Tfl.Api.Presentation.Entities.Identifier, Tfl.Api.Presentation.Entities",
              "id": "490G00008399",
              "name": "Hounslow High Street",
              "routeType": "Unknown",
              "status": "Unknown",
              "type": "StopPoint",
              "uri": "/StopPoint/490G00008399"
             },
             {
              "$type": "Tfl.Api.Presentation.Entities.Identifier, Tfl.Api.Presentation.Entities",
              "id": "490G000601",
              "name": "Hounslow Bus Station",
              "routeType": "Unknown",
              "status": "Unknown",
              "type": "StopPoint",
              "uri": "/StopPoint/490G000601"
             }
            ]
           },
           "plannedWorks": [],
           "routeOptions": [
            {
             "$type": "Tfl.Api.Presentation.Entities.JourneyPlanner.RouteOption, Tfl.Api.Presentation.Entities",
             "directions": [
              "Hounslow Bus Station"
             ],
             "lineIdentifier": {
              "$type": "Tfl.Api.Presentation.Entities.Identifier, Tfl.Api.Presentation.Entities",
              "crowding": {
               "$type": "Tfl.Api.Presentation.Entities.Crowding, Tfl.Api.Presentation.Entities"
              },
              "id": "222",
              "name": "222",
              "routeType": "Unknown",
              "status": "Unknown",
              "type": "Line",
              "uri": "/Line/222"
             },
             "name": "222"
            }
           ]
          },
          {
           "$type": "Tfl.Api.Presentation.Entities.JourneyPlanner.Leg, Tfl.Api.Presentation.Entities",
           "arrivalPoint": {
            "$type": "Tfl.Api.Presentation.Entities.StopPoint, Tfl.Api.Presentation.Entities",
            "additionalProperties": [],
            "commonName": "Shepherd's Bush Station",
            "icsCode": "1000203",
            "lat": 51.50540750874,
            "lon": -0.21815358642000002,
            "naptanId": "490G00203A",
            "placeType": "StopPoint",
            "platformName": "B",
            "stopLetter": "B"
           },
           "arrivalTime": "2022-02-11T05:43:00",
           "departurePoint": {
            "$type": "Tfl.Api.Presentation.Entities.StopPoint, Tfl.Api.Presentation.Entities",
            "additionalProperties": [],
            "commonName": "Hounslow Bus Station",
            "icsCode": "1008392",
            "lat": 51.47101330861,
            "lon": -0.35361559600000003,
            "naptanId": "490G000601",
            "placeType": "StopPoint",
            "platformName": "",
            "stopLetter": "F"
           },
           "departureTime": "2022-02-11T05:14:00",
           "disruptions": [],
           "duration": 29,
           "hasFixedLocations": true,
           "instruction": {
            "$type": "Tfl.Api.Presentation.Entities.Instruction, Tfl.Api.Presentation.Entities",
            "detailed": "237 bus towards White City",
            "steps": [],
            "summary": "237 bus to Shepherd's Bush (Central Line)"
           },
           "isDisrupted": false,
           "mode": {
            "$type": "Tfl.Api.Presentation.Entities.Identifier, Tfl.Api.Presentation.Entities",
            "id": "bus",
            "name": "bus",
            "routeType": "Unknown",
            "status": "Unknown",
            "type": "Mode"
           },
           "obstacles": [],
           "path": {
            "$type": "Tfl.Api.Presentation.Entities.JourneyPlanner.Path, Tfl.Api.Presentation.Entities",
            "elevation": [],
            "lineString": "[[51.47094062382, -0.35356465205],[51.47106894789, -0.35309525195],[51.4710657137, -0.35286499454],[51.47116729962, -0.35241498571],[51.4713528953, -0.35154439239],[51.47148880822, -0.35097795212],[51.47176204336, -0.34994580061],[51.47194828574, -0.34933718931],[51.47194828574, -0.34933718931],[51.47237241418, -0.34795114569],[51.47243289532, -0.34777617529],[51.47287686931, -0.34673781069],[51.47289963995, -0.34668491049],[51.47289963995, -0.34668491049],[51.47328610106, -0.34578707689],[51.47339989627, -0.34556697407],[51.47360133458, -0.34518530817],[51.4738035842, -0.34486120646],[51.47397961837, -0.34457845069],[51.47397961837, -0.34457845069],[51.47465649554, -0.34349118249],[51.47470838879, -0.34334530746],[51.47486060964, -0.34266301285],[51.47490721203, -0.34214293854],[51.47490721203, -0.34214293854],[51.47498836783, -0.34088722939],[51.47500206663, -0.34058434024],[51.47505173848, -0.339646561],[51.47511917435, -0.33869373461],[51.47516903505, -0.33777034352],[51.47519408895, -0.33730630818],[51.47519408895, -0.33730630818],[51.47521888846, -0.33684695059],[51.47523441421, -0.33667358946],[51.47524626434, -0.33624116713],[51.47526587502, -0.33572206383],[51.47534555457, -0.33493649595],[51.47534555457, -0.33493649595],[51.4754315233, -0.33408886107],[51.47549055198, -0.33381311463],[51.4755412059, -0.33358087207],[51.4759237133, -0.33231020098],[51.4759237133, -0.33231020098],[51.47596195965, -0.33218314475],[51.47608266915, -0.33181874265],[51.47680567179, -0.32954593374],[51.47701990483, -0.3288036932],[51.47713389394, -0.32839851153],[51.47713389394, -0.32839851153],[51.47720819612, -0.32813439585],[51.47743957422, -0.32733391317],[51.47760274241, -0.32679512707],[51.47768810047, -0.32647519271],[51.47783370029, -0.32596584483],[51.47785922492, -0.3258641065],[51.4779703102, -0.3254568229],[51.47803561824, -0.32522689602],[51.47803561824, -0.32522689602],[51.47809017611, -0.32503481502],[51.47822760451, -0.32458336006],[51.47827926824, -0.32442305948],[51.47839974751, -0.32404422566],[51.47857168221, -0.323490694],[51.47889818611, -0.32242745785],[51.47916561322, -0.32160099233],[51.47916561322, -0.32160099233],[51.47949237417, -0.32059112176],[51.47963753562, -0.32005294841],[51.47967183645, -0.31993647906],[51.47974002528, -0.31967475268],[51.47993986637, -0.31905984828],[51.47993986637, -0.31905984828],[51.4804031796, -0.3176341896],[51.48080173702, -0.31658261642],[51.48101031638, -0.31607021305],[51.48101031638, -0.31607021305],[51.48112311779, -0.31579309689],[51.48141877124, -0.31509092446],[51.48149697089, -0.31490082022],[51.48162744087, -0.31459357447],[51.4818269138, -0.3140821572],[51.48203269489, -0.31355831884],[51.48203269489, -0.31355831884],[51.48221727937, -0.31308842961],[51.48237160052, -0.31256426357],[51.48238729718, -0.31240526221],[51.48240009309, -0.31204473976],[51.48242692525, -0.31141006047],[51.48247276584, -0.31084668819],[51.48270111974, -0.30984450588],[51.4828305387, -0.30946526548],[51.48300157313, -0.30885404847],[51.48308605098, -0.30847646555],[51.48332154573, -0.30729081354],[51.48332154573, -0.30729081354],[51.48336269968, -0.30708360706],[51.48346935342, -0.30637394233],[51.48360904117, -0.30546141634],[51.48393181515, -0.30424783529],[51.48393181515, -0.30424783529],[51.48398430855, -0.30405046198],[51.48407085293, -0.30381681058],[51.48418394299, -0.30355336803],[51.4845405596, -0.30271918035],[51.48492434118, -0.30189837321],[51.4850786116, -0.30137413931],[51.48516410782, -0.3010685016],[51.48522284922, -0.30077826018],[51.48568835207, -0.2993926655],[51.48602089972, -0.29876095743],[51.48611869517, -0.2984666894],[51.48611869517, -0.2984666894],[51.48617599145, -0.29829428237],[51.48632167588, -0.29779914788],[51.4863697496, -0.29739406584],[51.48638667959, -0.29732141881],[51.48660906563, -0.2965353538],[51.48672945331, -0.29615637905],[51.4869080458, -0.29556748428],[51.4869080458, -0.29556748428],[51.48717566958, -0.29468498874],[51.4872699262, -0.29436459369],[51.48751674078, -0.29340474295],[51.48765278808, -0.2928667268],[51.48771297605, -0.29267723062],[51.48805968744, -0.29178564676],[51.48842379284, -0.29041875942],[51.48842379284, -0.29041875942],[51.48848598405, -0.29018527932],[51.48851962502, -0.2900255772],[51.48861949673, -0.28947448871],[51.48864435925, -0.28932951814],[51.488784333, -0.28844563189],[51.48888755979, -0.2881248764],[51.48905911196, -0.28755668944],[51.48929546606, -0.28711570741],[51.48933715561, -0.2870490605],[51.48933715561, -0.2870490605],[51.48947999688, -0.28682070622],[51.48957612474, -0.28662984701],[51.48961123323, -0.28657091359],[51.48968959612, -0.2863951237],[51.48980411895, -0.2862323817],[51.49009186725, -0.28561660416],[51.49016187266, -0.28548433776],[51.49026656473, -0.28526434245],[51.49071108466, -0.28429164022],[51.49071108466, -0.28429164022],[51.49116404786, -0.28330042435],[51.49135270775, -0.2826739281],[51.49153266728, -0.28268157073],[51.49162190915, -0.28263500243],[51.49170195273, -0.28257437461],[51.49178157459, -0.28248495241],[51.49184237806, -0.28233861702],[51.49188913219, -0.2818470882],[51.49187866823, -0.28174664629],[51.49180065085, -0.28133183399],[51.49185955372, -0.28105592311],[51.49195145067, -0.28057709936],[51.49200655137, -0.28004203808],[51.49210923691, -0.27907303044],[51.49213990434, -0.27871174734],[51.49217078201, -0.27836486095],[51.49221209707, -0.27794497883],[51.49221209707, -0.27794497883],[51.49223337999, -0.27772867563],[51.49233932118, -0.2763705946],[51.49239877902, -0.275766214],[51.49239877902, -0.275766214],[51.49243320055, -0.27541630875],[51.49250307544, -0.27466459877],[51.49257811835, -0.27365339623],[51.49262292789, -0.27303227592],[51.49281741517, -0.27158439074],[51.49285039388, -0.27138146829],[51.49288927685, -0.27081196001],[51.49288927685, -0.27081196001],[51.49293913599, -0.27008162581],[51.49294302589, -0.26973574897],[51.49291995266, -0.26939089314],[51.49289730342, -0.26907483236],[51.49268332138, -0.26676368051],[51.49262970516, -0.26557007351],[51.49257967723, -0.2648892199],[51.49257967723, -0.2648892199],[51.49256215017, -0.26465069901],[51.49253373446, -0.26394591932],[51.49245976884, -0.26259463485],[51.49245784915, -0.2624650605],[51.49244867533, -0.26184598325],[51.49244376706, -0.26151484904],[51.49244376706, -0.26151484904],[51.49243949823, -0.26122690633],[51.49244378904, -0.26090982741],[51.49245772438, -0.26003057609],[51.49247206748, -0.25978514044],[51.49250075213, -0.2592942687],[51.49252558682, -0.25854424784],[51.49254014061, -0.25831320857],[51.49255335695, -0.258081421],[51.49255335695, -0.258081421],[51.49260434335, -0.25718714724],[51.49261140499, -0.25705723009],[51.49265933384, -0.25604702882],[51.49270404994, -0.2554258924],[51.49274383456, -0.25447361971],[51.49278105551, -0.25395360451],[51.49278105551, -0.25395360451],[51.49284156966, -0.25258277979],[51.49285182034, -0.2520637934],[51.49286099545, -0.25147282087],[51.49294632862, -0.25056201359],[51.4929781968, -0.25028709017],[51.49304236096, -0.24976603672],[51.49310624109, -0.24927125674],[51.49310624109, -0.24927125674],[51.49317132725, -0.24876711738],[51.49321217847, -0.248491847],[51.49326842274, -0.24804311957],[51.49332999501, -0.24734929217],[51.49333683054, -0.24720497438],[51.49336482904, -0.24653368714],[51.49336482904, -0.24653368714],[51.4933765482, -0.24625268296],[51.49340259157, -0.24558902656],[51.49343078572, -0.2450693427],[51.49361074623, -0.24507683731],[51.49473156716, -0.24486092097],[51.49488391946, -0.24482625709],[51.49519306002, -0.24475440292],[51.49519306002, -0.24475440292],[51.4954036715, -0.24470544946],[51.49552841547, -0.24462862629],[51.4957603598, -0.24450446533],[51.49663477359, -0.24419290563],[51.49663477359, -0.24419290563],[51.4971199544, -0.24402002687],[51.49798805154, -0.2437417446],[51.49821861848, -0.2436702259],[51.49821861848, -0.2436702259],[51.49867726567, -0.24352795757],[51.49869567144, -0.2435560645],[51.49875793515, -0.24351044903],[51.4987204766, -0.24341103823],[51.49878547232, -0.24294750614],[51.4988361597, -0.24272944729],[51.49908959047, -0.2416391459],[51.49941274848, -0.24040207212],[51.49951627406, -0.2401099345],[51.49953149834, -0.24006697298],[51.49953149834, -0.24006697298],[51.49980096556, -0.2393065493],[51.49985294324, -0.23917487749],[51.49987925632, -0.23913064044],[51.49987752671, -0.23901544598],[51.49989756882, -0.23855362877],[51.49991316423, -0.23839454332],[51.49995269264, -0.23803282755],[51.49996936905, -0.23794573838],[51.5000538321, -0.23758228835],[51.50009949215, -0.23732003703],[51.50009949215, -0.23732003703],[51.50020283204, -0.23672648348],[51.50026097926, -0.23640726844],[51.50030992184, -0.23607400018],[51.50039925022, -0.23543660759],[51.50053946393, -0.23459553637],[51.5007627247, -0.23389532851],[51.50083519985, -0.233929132],[51.50083519985, -0.233929132],[51.5007627247, -0.23389532851],[51.50085746351, -0.23361791489],[51.50094386517, -0.23338404647],[51.50115856538, -0.2327129736],[51.50122655681, -0.23245099801],[51.5013960986, -0.23176725622],[51.50149491498, -0.23131736253],[51.50149491498, -0.23131736253],[51.50158122154, -0.23092441585],[51.50163101734, -0.23064873161],[51.50168081249, -0.23037304678],[51.50173060698, -0.23009736136],[51.50187317338, -0.22941464854],[51.50198130941, -0.22883412459],[51.50203110025, -0.22855843576],[51.50218989119, -0.227759817],[51.50223221569, -0.22758527421],[51.50229275629, -0.22722331132],[51.50229275629, -0.22722331132],[51.50235592218, -0.22684564404],[51.50242302937, -0.22652605308],[51.50243947939, -0.22642455517],[51.5025057142, -0.22604736289],[51.50268992391, -0.22514687943],[51.50274912904, -0.22489963348],[51.50298044604, -0.22414139547],[51.50302419667, -0.22406077385],[51.50302419667, -0.22406077385],[51.50316416044, -0.22380285343],[51.50333382556, -0.22372421265],[51.50342413309, -0.22374951867],[51.50370600547, -0.22395469144],[51.50444115882, -0.22440160882],[51.50476752979, -0.22457624207],[51.50503605387, -0.22449375865],[51.50509765576, -0.22440490832],[51.50496027857, -0.22364655707],[51.50490177511, -0.22334623785],[51.50480383123, -0.2228169061],[51.50462634729, -0.22178635119],[51.50453783797, -0.22107932578],[51.50453783797, -0.22107932578],[51.50452402805, -0.22096901348],[51.50446136648, -0.22039508916],[51.50441886203, -0.21996447189],[51.50436321494, -0.21926059496],[51.5043494172, -0.21894413294],[51.50438735393, -0.21848156261],[51.50442550763, -0.21803339214],[51.50506337326, -0.21799409896],[51.50540891113, -0.21800232405]]",
            "stopPoints": [
             {
              "$type": "Tfl.Api.Presentation.Entities.Identifier, Tfl.Api.Presentation.Entities",
              "id": "490G00004327",
              "name": "Bridge Road",
              "routeType": "Unknown",
              "status": "Unknown",
              "type": "StopPoint",
              "uri": "/StopPoint/490G00004327"
             },
             {
              "$type": "Tfl.Api.Presentation.Entities.Identifier, Tfl.Api.Presentation.Entities",
              "id": "490G00012599",
              "name": "Star Road",
              "routeType": "Unknown",
              "status": "Unknown",
              "type": "StopPoint",
              "uri": "/StopPoint/490G00012599"
             },
             {
              "$type": "Tfl.Api.Presentation.Entities.Identifier, Tfl.Api.Presentation.Entities",
              "id": "490G00013620",
              "name": "Thornbury Road",
              "routeType": "Unknown",
              "status": "Unknown",
              "type": "StopPoint",
              "uri": "/StopPoint/490G00013620"
             },
             {
              "$type": "Tfl.Api.Presentation.Entities.Identifier, Tfl.Api.Presentation.Entities",
              "id": "490G00008510",
              "name": "West Thames College",
              "routeType": "Unknown",
              "status": "Unknown",
              "type": "StopPoint",
              "uri": "/StopPoint/490G00008510"
             },
             {
              "$type": "Tfl.Api.Presentation.Entities.Identifier, Tfl.Api.Presentation.Entities",
              "id": "490G01158B",
              "name": "Isleworth Station",
              "routeType": "Unknown",
              "status": "Unknown",
              "type": "StopPoint",
              "uri": "/StopPoint/490G01158B"
             },
             {
              "$type": "Tfl.Api.Presentation.Entities.Identifier, Tfl.Api.Presentation.Entities",
              "id": "490G00009185",
              "name": "Linkfield Road",
              "routeType": "Unknown",
              "status": "Unknown",
              "type": "StopPoint",
              "uri": "/StopPoint/490G00009185"
             },
             {
              "$type": "Tfl.Api.Presentation.Entities.Identifier, Tfl.Api.Presentation.Entities",
              "id": "490G00014874",
              "name": "Wood Lane",
              "routeType": "Unknown",
              "status": "Unknown",
              "type": "StopPoint",
              "uri": "/StopPoint/490G00014874"
             },
             {
              "$type": "Tfl.Api.Presentation.Entities.Identifier, Tfl.Api.Presentation.Entities",
              "id": "490G00007873",
              "name": "Turnpike Way",
              "routeType": "Unknown",
              "status": "Unknown",
              "type": "StopPoint",
              "uri": "/StopPoint/490G00007873"
             },
             {
              "$type": "Tfl.Api.Presentation.Entities.Identifier, Tfl.Api.Presentation.Entities",
              "id": "490G00004635",
              "name": "The Green School",
              "routeType": "Unknown",
              "status": "Unknown",
              "type": "StopPoint",
              "uri": "/StopPoint/490G00004635"
             },
             {
              "$type": "Tfl.Api.Presentation.Entities.Identifier, Tfl.Api.Presentation.Entities",
              "id": "490G00015029",
              "name": "Busch Corner",
              "routeType": "Unknown",
              "status": "Unknown",
              "type": "StopPoint",
              "uri": "/StopPoint/490G00015029"
             },
             {
              "$type": "Tfl.Api.Presentation.Entities.Identifier, Tfl.Api.Presentation.Entities",
              "id": "490G00013141",
              "name": "Syon Lane",
              "routeType": "Unknown",
              "status": "Unknown",
              "type": "StopPoint",
              "uri": "/StopPoint/490G00013141"
             },
             {
              "$type": "Tfl.Api.Presentation.Entities.Identifier, Tfl.Api.Presentation.Entities",
              "id": "490G00003804",
              "name": "Beech Avenue",
              "routeType": "Unknown",
              "status": "Unknown",
              "type": "StopPoint",
              "uri": "/StopPoint/490G00003804"
             },
             {
              "$type": "Tfl.Api.Presentation.Entities.Identifier, Tfl.Api.Presentation.Entities",
              "id": "490G00004296",
              "name": "Brent Lea",
              "routeType": "Unknown",
              "status": "Unknown",
              "type": "StopPoint",
              "uri": "/StopPoint/490G00004296"
             },
             {
              "$type": "Tfl.Api.Presentation.Entities.Identifier, Tfl.Api.Presentation.Entities",
              "id": "490G00004292",
              "name": "Market Place",
              "routeType": "Unknown",
              "status": "Unknown",
              "type": "StopPoint",
              "uri": "/StopPoint/490G00004292"
             },
             {
              "$type": "Tfl.Api.Presentation.Entities.Identifier, Tfl.Api.Presentation.Entities",
              "id": "490G00004289",
              "name": "Brentford County Court",
              "routeType": "Unknown",
              "status": "Unknown",
              "type": "StopPoint",
              "uri": "/StopPoint/490G00004289"
             },
             {
              "$type": "Tfl.Api.Presentation.Entities.Identifier, Tfl.Api.Presentation.Entities",
              "id": "490G00006297",
              "name": "Watermans Centre",
              "routeType": "Unknown",
              "status": "Unknown",
              "type": "StopPoint",
              "uri": "/StopPoint/490G00006297"
             },
             {
              "$type": "Tfl.Api.Presentation.Entities.Identifier, Tfl.Api.Presentation.Entities",
              "id": "490G00004293",
              "name": "The Musical Museum",
              "routeType": "Unknown",
              "status": "Unknown",
              "type": "StopPoint",
              "uri": "/StopPoint/490G00004293"
             },
             {
              "$type": "Tfl.Api.Presentation.Entities.Identifier, Tfl.Api.Presentation.Entities",
              "id": "490G00008690",
              "name": "London Museum Of Water and Steam",
              "routeType": "Unknown",
              "status": "Unknown",
              "type": "StopPoint",
              "uri": "/StopPoint/490G00008690"
             },
             {
              "$type": "Tfl.Api.Presentation.Entities.Identifier, Tfl.Api.Presentation.Entities",
              "id": "490G01167S",
              "name": "Kew Bridge Station",
              "routeType": "Unknown",
              "status": "Unknown",
              "type": "StopPoint",
              "uri": "/StopPoint/490G01167S"
             },
             {
              "$type": "Tfl.Api.Presentation.Entities.Identifier, Tfl.Api.Presentation.Entities",
              "id": "490G00004290",
              "name": "Brentford Fountain Leisure Centre",
              "routeType": "Unknown",
              "status": "Unknown",
              "type": "StopPoint",
              "uri": "/StopPoint/490G00004290"
             },
             {
              "$type": "Tfl.Api.Presentation.Entities.Identifier, Tfl.Api.Presentation.Entities",
              "id": "490G000750",
              "name": "Thorney Hedge Road",
              "routeType": "Unknown",
              "status": "Unknown",
              "type": "StopPoint",
              "uri": "/StopPoint/490G000750"
             },
             {
              "$type": "Tfl.Api.Presentation.Entities.Identifier, Tfl.Api.Presentation.Entities",
              "id": "490G00094B",
              "name": "Gunnersbury Station",
              "routeType": "Unknown",
              "status": "Unknown",
              "type": "StopPoint",
              "uri": "/StopPoint/490G00094B"
             },
             {
              "$type": "Tfl.Api.Presentation.Entities.Identifier, Tfl.Api.Presentation.Entities",
              "id": "490G00005211",
              "name": "Chiswick Road",
              "routeType": "Unknown",
              "status": "Unknown",
              "type": "StopPoint",
              "uri": "/StopPoint/490G00005211"
             },
             {
              "$type": "Tfl.Api.Presentation.Entities.Identifier, Tfl.Api.Presentation.Entities",
              "id": "490G000807",
              "name": "Turnham Green Church",
              "routeType": "Unknown",
              "status": "Unknown",
              "type": "StopPoint",
              "uri": "/StopPoint/490G000807"
             },
             {
              "$type": "Tfl.Api.Presentation.Entities.Identifier, Tfl.Api.Presentation.Entities",
              "id": "490G00005423",
              "name": "Clifton Gardens",
              "routeType": "Unknown",
              "status": "Unknown",
              "type": "StopPoint",
              "uri": "/StopPoint/490G00005423"
             },
             {
              "$type": "Tfl.Api.Presentation.Entities.Identifier, Tfl.Api.Presentation.Entities",
              "id": "490G00005210",
              "name": "Chiswick Police Station",
              "routeType": "Unknown",
              "status": "Unknown",
              "type": "StopPoint",
              "uri": "/StopPoint/490G00005210"
             },
             {
              "$type": "Tfl.Api.Presentation.Entities.Identifier, Tfl.Api.Presentation.Entities",
              "id": "490G00013850",
              "name": "Chiswick Lane",
              "routeType": "Unknown",
              "status": "Unknown",
              "type": "StopPoint",
              "uri": "/StopPoint/490G00013850"
             },
             {
              "$type": "Tfl.Api.Presentation.Entities.Identifier, Tfl.Api.Presentation.Entities",
              "id": "490G00012521",
              "name": "Stamford Brook Bus Garage",
              "routeType": "Unknown",
              "status": "Unknown",
              "type": "StopPoint",
              "uri": "/StopPoint/490G00012521"
             },
             {
              "$type": "Tfl.Api.Presentation.Entities.Identifier, Tfl.Api.Presentation.Entities",
              "id": "490G000535",
              "name": "Goldhawk Road / Young's Corner",
              "routeType": "Unknown",
              "status": "Unknown",
              "type": "StopPoint",
              "uri": "/StopPoint/490G000535"
             },
             {
              "$type": "Tfl.Api.Presentation.Entities.Identifier, Tfl.Api.Presentation.Entities",
              "id": "490G00218N",
              "name": "Stamford Brook Station",
              "routeType": "Unknown",
              "status": "Unknown",
              "type": "StopPoint",
              "uri": "/StopPoint/490G00218N"
             },
             {
              "$type": "Tfl.Api.Presentation.Entities.Identifier, Tfl.Api.Presentation.Entities",
              "id": "490G00011296",
              "name": "Ravenscourt Gardens",
              "routeType": "Unknown",
              "status": "Unknown",
              "type": "StopPoint",
              "uri": "/StopPoint/490G00011296"
             },
             {
              "$type": "Tfl.Api.Presentation.Entities.Identifier, Tfl.Api.Presentation.Entities",
              "id": "490G00012522",
              "name": "Stamford Brook Road",
              "routeType": "Unknown",
              "status": "Unknown",
              "type": "StopPoint",
              "uri": "/StopPoint/490G00012522"
             },
             {
              "$type": "Tfl.Api.Presentation.Entities.Identifier, Tfl.Api.Presentation.Entities",
              "id": "490G00015455",
              "name": "Askew Road",
              "routeType": "Unknown",
              "status": "Unknown",
              "type": "StopPoint",
              "uri": "/StopPoint/490G00015455"
             },
             {
              "$type": "Tfl.Api.Presentation.Entities.Identifier, Tfl.Api.Presentation.Entities",
              "id": "490G00010710",
              "name": "Paddenswick Road",
              "routeType": "Unknown",
              "status": "Unknown",
              "type": "StopPoint",
              "uri": "/StopPoint/490G00010710"
             },
             {
              "$type": "Tfl.Api.Presentation.Entities.Identifier, Tfl.Api.Presentation.Entities",
              "id": "490G00004871",
              "name": "Cathnor Road",
              "routeType": "Unknown",
              "status": "Unknown",
              "type": "StopPoint",
              "uri": "/StopPoint/490G00004871"
             },
             {
              "$type": "Tfl.Api.Presentation.Entities.Identifier, Tfl.Api.Presentation.Entities",
              "id": "490G00012946",
              "name": "St Stephen's Avenue",
              "routeType": "Unknown",
              "status": "Unknown",
              "type": "StopPoint",
              "uri": "/StopPoint/490G00012946"
             },
             {
              "$type": "Tfl.Api.Presentation.Entities.Identifier, Tfl.Api.Presentation.Entities",
              "id": "490G00088Y",
              "name": "Goldhawk Road Station",
              "routeType": "Unknown",
              "status": "Unknown",
              "type": "StopPoint",
              "uri": "/StopPoint/490G00088Y"
             },
             {
              "$type": "Tfl.Api.Presentation.Entities.Identifier, Tfl.Api.Presentation.Entities",
              "id": "490G00010913",
              "name": "Shepherd's Bush Road",
              "routeType": "Unknown",
              "status": "Unknown",
              "type": "StopPoint",
              "uri": "/StopPoint/490G00010913"
             },
             {
              "$type": "Tfl.Api.Presentation.Entities.Identifier, Tfl.Api.Presentation.Entities",
              "id": "490G000856",
              "name": "Shepherd's Bush Green",
              "routeType": "Unknown",
              "status": "Unknown",
              "type": "StopPoint",
              "uri": "/StopPoint/490G000856"
             },
             {
              "$type": "Tfl.Api.Presentation.Entities.Identifier, Tfl.Api.Presentation.Entities",
              "id": "490G00203A",
              "name": "Shepherd's Bush Station",
              "routeType": "Unknown",
              "status": "Unknown",
              "type": "StopPoint",
              "uri": "/StopPoint/490G00203A"
             }
            ]
           },
           "plannedWorks": [],
           "routeOptions": [
            {
             "$type": "Tfl.Api.Presentation.Entities.JourneyPlanner.RouteOption, Tfl.Api.Presentation.Entities",
             "directions": [
              "White City"
             ],
             "lineIdentifier": {
              "$type": "Tfl.Api.Presentation.Entities.Identifier, Tfl.Api.Presentation.Entities",
              "crowding": {
               "$type": "Tfl.Api.Presentation.Entities.Crowding, Tfl.Api.Presentation.Entities"
              },
              "id": "237",
              "name": "237",
              "routeType": "Unknown",
              "status": "Unknown",
              "type": "Line",
              "uri": "/Line/237"
             },
             "name": "237"
            }
           ]
          },
          {
           "$type": "Tfl.Api.Presentation.Entities.JourneyPlanner.Leg, Tfl.Api.Presentation.Entities",
           "arrivalPoint": {
            "$type": "Tfl.Api.Presentation.Entities.StopPoint, Tfl.Api.Presentation.Entities",
            "additionalProperties": [],
            "commonName": "Elephant & Castle / London Road",
            "icsCode": "1009281",
            "lat": 51.49663406153,
            "lon": -0.1020027074,
            "naptanId": "490G000642",
            "placeType": "StopPoint",
            "platformName": "D",
            "stopLetter": "D"
           },
           "arrivalTime": "2022-02-11T06:19:00",
           "departurePoint": {
            "$type": "Tfl.Api.Presentation.Entities.StopPoint, Tfl.Api.Presentation.Entities",
            "additionalProperties": [],
            "commonName": "Shepherd's Bush Station",
            "icsCode": "1000203",
            "lat": 51.50452056142,
            "lon": -0.22014782765,
            "naptanId": "490G00203A",
            "placeType": "StopPoint",
            "platformName": "X",
            "stopLetter": "X"
           },
           "departureTime": "2022-02-11T05:51:00",
           "disruptions": [],
           "duration": 28,
           "hasFixedLocations": true,
           "instruction": {
            "$type": "Tfl.Api.Presentation.Entities.Instruction, Tfl.Api.Presentation.Entities",
            "detailed": "148 bus towards Camberwell Green",
            "steps": [],
            "summary": "148 bus to Elephant & Castle / London Rd"
           },
           "isDisrupted": false,
           "mode": {
            "$type": "Tfl.Api.Presentation.Entities.Identifier, Tfl.Api.Presentation.Entities",
            "id": "bus",
            "name": "bus",
            "routeType": "Unknown",
            "status": "Unknown",
            "type": "Mode"
           },
           "obstacles": [],
           "path": {
            "$type": "Tfl.Api.Presentation.Entities.JourneyPlanner.Path, Tfl.Api.Presentation.Entities",
            "elevation": [],
            "lineString": "[[51.5044390008, -0.22016849787],[51.50441886203, -0.21996447189],[51.50436321494, -0.21926059496],[51.5043494172, -0.21894413294],[51.50438735393, -0.21848156261],[51.50442550763, -0.21803339214],[51.5044415126, -0.21790308572],[51.50458926019, -0.2175659108],[51.50464121304, -0.21743420092],[51.50484660312, -0.21733973029],[51.50496234099, -0.21726316705],[51.5050579155, -0.21704329725],[51.50508904722, -0.21672507697],[51.50503118309, -0.21646796848],[51.50491676745, -0.21604015778],[51.50488608219, -0.21579639875],[51.50485408178, -0.2154662359],[51.50490427915, -0.21521931727],[51.50494636558, -0.21503035217],[51.50517886496, -0.21407639623],[51.50517886496, -0.21407639623],[51.50520874202, -0.21395380618],[51.50540951546, -0.21296611443],[51.50545093988, -0.21273394267],[51.50563438749, -0.21179014696],[51.50570101396, -0.21144170998],[51.50591908094, -0.21041008984],[51.50601821828, -0.20992230818],[51.50601821828, -0.20992230818],[51.50601945362, -0.20991622989],[51.50612114332, -0.20950877407],[51.50623137885, -0.20907216195],[51.50637558127, -0.20850452784],[51.50650400714, -0.20808160694],[51.50660569038, -0.20767414285],[51.50684412002, -0.20680019303],[51.50710884329, -0.20588197121],[51.50723637813, -0.20540143087],[51.50741495471, -0.20471253538],[51.50741495471, -0.20471253538],[51.50750809302, -0.204353227],[51.50764328524, -0.20378591602],[51.50773728992, -0.20346519506],[51.50785693094, -0.20305700285],[51.50791675091, -0.20285290596],[51.50813171524, -0.20221039389],[51.50833592228, -0.20145301628],[51.50842225872, -0.20121904996],[51.50854100808, -0.20075323895],[51.50861607188, -0.19978478058],[51.5086311721, -0.19959684925],[51.50865282687, -0.19925014411],[51.50870431653, -0.19908959852],[51.50879073791, -0.198364007],[51.50879073791, -0.198364007],[51.50887158509, -0.19768517946],[51.50892085922, -0.19738061306],[51.50897057531, -0.19710484971],[51.50896703301, -0.19687442022],[51.50904016558, -0.19636716168],[51.50919651903, -0.19542429427],[51.50938115596, -0.19456676644],[51.50948212641, -0.19411604165],[51.5096297369, -0.19338563595],[51.5096297369, -0.19338563595],[51.50969937356, -0.19304105061],[51.50978369571, -0.19267744315],[51.5098831049, -0.19212589571],[51.50996387134, -0.19153185133],[51.50999448909, -0.19118477688],[51.51006093088, -0.19024543428],[51.51008144649, -0.18982670384],[51.5101044061, -0.18956639661],[51.51012174937, -0.18926637424],[51.51012174937, -0.18926637424],[51.51013279441, -0.18907529844],[51.51021207553, -0.18780398747],[51.51021051781, -0.18770317234],[51.51027893543, -0.1868934405],[51.51030092174, -0.18663430924],[51.51030092174, -0.18663430924],[51.51031696753, -0.18644518874],[51.51036918482, -0.18575138498],[51.51042295799, -0.18515839519],[51.51043669738, -0.1848840389],[51.51050761509, -0.18365627743],[51.5105233585, -0.1835115403],[51.51058432216, -0.18280297064],[51.51062953986, -0.18223913717],[51.5106600067, -0.18204956312],[51.5106600067, -0.18204956312],[51.5108509736, -0.18086125877],[51.510957973, -0.18022290194],[51.51099977895, -0.18001947848],[51.51104091401, -0.17977284757],[51.51110876545, -0.17932356716],[51.51110876545, -0.17932356716],[51.51127738428, -0.17820699703],[51.51138392153, -0.17753982346],[51.51150551827, -0.17668469704],[51.51157069575, -0.17624975147],[51.51160238796, -0.17597466822],[51.5116509332, -0.17562685397],[51.51169899034, -0.17522986918],[51.51169899034, -0.17522986918],[51.51173858546, -0.17490277742],[51.51179230345, -0.17430975842],[51.51183792859, -0.17377470775],[51.51201320559, -0.1723265395],[51.51209103436, -0.17149072574],[51.51209103436, -0.17149072574],[51.51225968448, -0.16967933922],[51.51235291375, -0.16873884187],[51.51236841375, -0.1685796915],[51.51246140915, -0.16762478717],[51.51252330372, -0.16701761949],[51.51252330372, -0.16701761949],[51.51257056934, -0.16655393565],[51.51296266738, -0.16287756949],[51.51297748253, -0.16267520671],[51.51303172035, -0.16220952081],[51.51303172035, -0.16220952081],[51.51305674464, -0.16199465652],[51.51310791339, -0.16124317534],[51.51314584693, -0.16079487688],[51.51323024374, -0.15986910994],[51.51326189731, -0.15959400627],[51.51333373717, -0.15901462968],[51.51335730632, -0.15879749889],[51.51329705417, -0.15839639179],[51.51323301586, -0.15832691445],[51.51295171126, -0.15816531682],[51.51273376639, -0.15802998903],[51.51229644704, -0.15779283403],[51.51229644704, -0.15779283403],[51.51218958222, -0.15773488276],[51.51150025107, -0.15735917105],[51.51115581135, -0.15718572158],[51.51100167813, -0.15710547356],[51.51084754485, -0.15702522608],[51.51046625216, -0.15679562433],[51.51013729522, -0.1564630366],[51.50999955038, -0.15628125426],[51.50973236735, -0.1558741247],[51.50894206259, -0.15479641646],[51.50846636552, -0.154282447],[51.50837988679, -0.15418510683],[51.50837988679, -0.15418510683],[51.50797201261, -0.15372601118],[51.50684577532, -0.15244581804],[51.50671814557, -0.15233570114],[51.50662646282, -0.1522241306],[51.50654376675, -0.15211219691],[51.50643388333, -0.15198695377],[51.50606828523, -0.15161268263],[51.50571189973, -0.15125245415],[51.50552989425, -0.15111572507],[51.50516792618, -0.15097187259],[51.50513652526, -0.15097035051],[51.50513652526, -0.15097035051],[51.50500593728, -0.15096402059],[51.50462018721, -0.15102286375],[51.50446809315, -0.15107224806],[51.50435194616, -0.15112017702],[51.50425354568, -0.15115297825],[51.50352175778, -0.15093764502],[51.50330289665, -0.15074477999],[51.50330279988, -0.15016842877],[51.50327379538, -0.15003992349],[51.5030996395, -0.14983084427],[51.50291967698, -0.14982372446],[51.50282127686, -0.14985652738],[51.5025007061, -0.1500568231],[51.50235224623, -0.15033659825],[51.50221436187, -0.15071680317],[51.5021881287, -0.15078210447],[51.5021881287, -0.15078210447],[51.50206726247, -0.15108297023],[51.50202437159, -0.15121438245],[51.50192619801, -0.15126158094],[51.50161996663, -0.1512307489],[51.5015280559, -0.15110479366],[51.5006702586, -0.14974192945],[51.499980345, -0.14876132298],[51.49976955794, -0.14851052457],[51.49924984394, -0.14794528858],[51.49924984394, -0.14794528858],[51.49915653157, -0.14784380461],[51.49878216142, -0.14748438775],[51.49833589611, -0.14712789241],[51.4982605896, -0.14691483705],[51.49824011339, -0.1467571874],[51.49826592865, -0.14554592731],[51.49822439353, -0.14462554691],[51.49816432211, -0.14423899016],[51.49807797284, -0.1438967237],[51.49800015347, -0.14352529749],[51.49794838128, -0.14309518511],[51.49772846076, -0.1422685095],[51.49771638543, -0.14225755953],[51.49771638543, -0.14225755953],[51.497409135, -0.14197894565],[51.49686764962, -0.141856897],[51.49680451433, -0.14184505776],[51.49664421074, -0.14137615286],[51.49678192125, -0.14041969964],[51.49680733749, -0.14024918747],[51.49680733749, -0.14024918747],[51.49695260121, -0.13927460834],[51.49725333916, -0.13725978878],[51.49730245656, -0.13695523908],[51.49735148958, -0.13660739912],[51.49735148958, -0.13660739912],[51.49748832926, -0.13563661649],[51.49752061361, -0.1354047858],[51.49763818521, -0.13488133132],[51.49768911017, -0.134668412],[51.49768911017, -0.134668412],[51.49785740986, -0.13396472907],[51.49838336717, -0.13254573352],[51.49861591795, -0.13190230099],[51.49896883022, -0.13093201299],[51.49896883022, -0.13093201299],[51.49940849874, -0.12972314723],[51.49952096231, -0.12944479645],[51.49977215824, -0.12884379142],[51.49986733564, -0.12860936781],[51.49999593142, -0.12821508748],[51.50013282292, -0.12777724119],[51.50033606793, -0.12755279206],[51.50076696772, -0.12750631438],[51.50093748431, -0.12748491695],[51.50108588901, -0.12720507773],[51.50103913346, -0.12652980875],[51.50102646629, -0.12629979696],[51.50102347553, -0.12611261298],[51.50098662095, -0.12549457244],[51.50097498441, -0.12525450222],[51.50097498441, -0.12525450222],[51.50093294794, -0.12438734513],[51.50091866436, -0.12405654356],[51.50092396562, -0.12382579505],[51.50092166203, -0.12368180789],[51.50091958864, -0.12355221947],[51.50084630493, -0.12178302663],[51.50080087769, -0.12007032528],[51.50079741533, -0.1198543456],[51.50077457529, -0.11899079735],[51.50083078348, -0.11857064643],[51.50081475486, -0.11802435092],[51.50081475486, -0.11802435092],[51.50081093815, -0.11789428063],[51.50074294776, -0.11758010289],[51.50053001507, -0.11719985919],[51.5004276948, -0.11698795571],[51.50037007595, -0.11675980243],[51.50046499764, -0.11651095266],[51.5006458528, -0.11601362065],[51.50069792186, -0.11589620836],[51.50061357245, -0.11568356575],[51.50055757066, -0.11555620298],[51.50048220724, -0.11534319092],[51.50035153534, -0.11504601346],[51.50009926972, -0.11477454508],[51.50009926972, -0.11477454508],[51.50006785917, -0.11474074378],[51.49982911519, -0.11443362333],[51.49970904834, -0.11423686954],[51.49958828652, -0.11399692214],[51.49888052003, -0.11248453206],[51.49873969558, -0.11211575495],[51.49867354442, -0.11191678365],[51.49856843268, -0.11153212627],[51.49848688696, -0.11116744999],[51.49848688696, -0.11116744999],[51.49829709487, -0.1103187154],[51.49830376135, -0.11017436591],[51.49837419788, -0.10952311942],[51.4983679306, -0.10913437903],[51.4983969117, -0.10870095737],[51.49842774915, -0.10838271761],[51.49844590368, -0.1081410691],[51.49844590368, -0.1081410691],[51.49850917846, -0.10729878778],[51.49851560882, -0.10714003946],[51.49856991502, -0.10660471326],[51.49859842171, -0.10614249264],[51.4985970266, -0.10605610562],[51.49861313945, -0.10594017782],[51.49866744015, -0.10540484919],[51.49876187234, -0.10512719007],[51.49889914245, -0.10471808461],[51.49879633452, -0.10447742139],[51.49861613825, -0.10445608274],[51.49831655688, -0.10428121628],[51.49777424623, -0.10355454297],[51.49771939567, -0.10349919093],[51.49696689598, -0.10256515968],[51.49659354841, -0.10208327073]]",
            "stopPoints": [
             {
              "$type": "Tfl.Api.Presentation.Entities.Identifier, Tfl.Api.Presentation.Entities",
              "id": "490G00008651",
              "name": "Royal Crescent",
              "routeType": "Unknown",
              "status": "Unknown",
              "type": "StopPoint",
              "uri": "/StopPoint/490G00008651"
             },
             {
              "$type": "Tfl.Api.Presentation.Entities.Identifier, Tfl.Api.Presentation.Entities",
              "id": "490G00010305",
              "name": "Norland Square",
              "routeType": "Unknown",
              "status": "Unknown",
              "type": "StopPoint",
              "uri": "/StopPoint/490G00010305"
             },
             {
              "$type": "Tfl.Api.Presentation.Entities.Identifier, Tfl.Api.Presentation.Entities",
              "id": "490G00113G",
              "name": "Holland Park",
              "routeType": "Unknown",
              "status": "Unknown",
              "type": "StopPoint",
              "uri": "/StopPoint/490G00113G"
             },
             {
              "$type": "Tfl.Api.Presentation.Entities.Identifier, Tfl.Api.Presentation.Entities",
              "id": "490G00019162",
              "name": "Notting Hill Gate Stn  / Hillgate St",
              "routeType": "Unknown",
              "status": "Unknown",
              "type": "StopPoint",
              "uri": "/StopPoint/490G00019162"
             },
             {
              "$type": "Tfl.Api.Presentation.Entities.Identifier, Tfl.Api.Presentation.Entities",
              "id": "490G000897",
              "name": "Palace Gardens Terrace",
              "routeType": "Unknown",
              "status": "Unknown",
              "type": "StopPoint",
              "uri": "/StopPoint/490G000897"
             },
             {
              "$type": "Tfl.Api.Presentation.Entities.Identifier, Tfl.Api.Presentation.Entities",
              "id": "490G00010632",
              "name": "Orme Square",
              "routeType": "Unknown",
              "status": "Unknown",
              "type": "StopPoint",
              "uri": "/StopPoint/490G00010632"
             },
             {
              "$type": "Tfl.Api.Presentation.Entities.Identifier, Tfl.Api.Presentation.Entities",
              "id": "490G00187B",
              "name": "Queensway Station",
              "routeType": "Unknown",
              "status": "Unknown",
              "type": "StopPoint",
              "uri": "/StopPoint/490G00187B"
             },
             {
              "$type": "Tfl.Api.Presentation.Entities.Identifier, Tfl.Api.Presentation.Entities",
              "id": "490G00009081",
              "name": "Leinster Terrace",
              "routeType": "Unknown",
              "status": "Unknown",
              "type": "StopPoint",
              "uri": "/StopPoint/490G00009081"
             },
             {
              "$type": "Tfl.Api.Presentation.Entities.Identifier, Tfl.Api.Presentation.Entities",
              "id": "490G00003121",
              "name": "Lancaster Gate",
              "routeType": "Unknown",
              "status": "Unknown",
              "type": "StopPoint",
              "uri": "/StopPoint/490G00003121"
             },
             {
              "$type": "Tfl.Api.Presentation.Entities.Identifier, Tfl.Api.Presentation.Entities",
              "id": "490G00133B",
              "name": "Lancaster Gate Station",
              "routeType": "Unknown",
              "status": "Unknown",
              "type": "StopPoint",
              "uri": "/StopPoint/490G00133B"
             },
             {
              "$type": "Tfl.Api.Presentation.Entities.Identifier, Tfl.Api.Presentation.Entities",
              "id": "490G00014055",
              "name": "Victoria Gate",
              "routeType": "Unknown",
              "status": "Unknown",
              "type": "StopPoint",
              "uri": "/StopPoint/490G00014055"
             },
             {
              "$type": "Tfl.Api.Presentation.Entities.Identifier, Tfl.Api.Presentation.Entities",
              "id": "490G00008446",
              "name": "Hyde Park Street",
              "routeType": "Unknown",
              "status": "Unknown",
              "type": "StopPoint",
              "uri": "/StopPoint/490G00008446"
             },
             {
              "$type": "Tfl.Api.Presentation.Entities.Identifier, Tfl.Api.Presentation.Entities",
              "id": "490G00008447",
              "name": "Marble Arch / Bayswater Road",
              "routeType": "Unknown",
              "status": "Unknown",
              "type": "StopPoint",
              "uri": "/StopPoint/490G00008447"
             },
             {
              "$type": "Tfl.Api.Presentation.Entities.Identifier, Tfl.Api.Presentation.Entities",
              "id": "490G00000399",
              "name": "Marble Arch Station  / Park Lane",
              "routeType": "Unknown",
              "status": "Unknown",
              "type": "StopPoint",
              "uri": "/StopPoint/490G00000399"
             },
             {
              "$type": "Tfl.Api.Presentation.Entities.Identifier, Tfl.Api.Presentation.Entities",
              "id": "490G00006111",
              "name": "Dorchester Hotel",
              "routeType": "Unknown",
              "status": "Unknown",
              "type": "StopPoint",
              "uri": "/StopPoint/490G00006111"
             },
             {
              "$type": "Tfl.Api.Presentation.Entities.Identifier, Tfl.Api.Presentation.Entities",
              "id": "490G00009277",
              "name": "London Hilton Hotel",
              "routeType": "Unknown",
              "status": "Unknown",
              "type": "StopPoint",
              "uri": "/StopPoint/490G00009277"
             },
             {
              "$type": "Tfl.Api.Presentation.Entities.Identifier, Tfl.Api.Presentation.Entities",
              "id": "490G00119F",
              "name": "Hyde Park Corner",
              "routeType": "Unknown",
              "status": "Unknown",
              "type": "StopPoint",
              "uri": "/StopPoint/490G00119F"
             },
             {
              "$type": "Tfl.Api.Presentation.Entities.Identifier, Tfl.Api.Presentation.Entities",
              "id": "490G00014728",
              "name": "Wilton Street",
              "routeType": "Unknown",
              "status": "Unknown",
              "type": "StopPoint",
              "uri": "/StopPoint/490G00014728"
             },
             {
              "$type": "Tfl.Api.Presentation.Entities.Identifier, Tfl.Api.Presentation.Entities",
              "name": "Bressenden Place",
              "routeType": "Unknown",
              "status": "Unknown",
              "type": "StopPoint",
              "uri": "/StopPoint/"
             },
             {
              "$type": "Tfl.Api.Presentation.Entities.Identifier, Tfl.Api.Presentation.Entities",
              "id": "490G00014496",
              "name": "Westminster Cathedral",
              "routeType": "Unknown",
              "status": "Unknown",
              "type": "StopPoint",
              "uri": "/StopPoint/490G00014496"
             },
             {
              "$type": "Tfl.Api.Presentation.Entities.Identifier, Tfl.Api.Presentation.Entities",
              "id": "490G000394",
              "name": "Westminster City Hall",
              "routeType": "Unknown",
              "status": "Unknown",
              "type": "StopPoint",
              "uri": "/StopPoint/490G000394"
             },
             {
              "$type": "Tfl.Api.Presentation.Entities.Identifier, Tfl.Api.Presentation.Entities",
              "id": "490G00221V",
              "name": "St James's Park Station",
              "routeType": "Unknown",
              "status": "Unknown",
              "type": "StopPoint",
              "uri": "/StopPoint/490G00221V"
             },
             {
              "$type": "Tfl.Api.Presentation.Entities.Identifier, Tfl.Api.Presentation.Entities",
              "id": "490G000828",
              "name": "Westminster Abbey",
              "routeType": "Unknown",
              "status": "Unknown",
              "type": "StopPoint",
              "uri": "/StopPoint/490G000828"
             },
             {
              "$type": "Tfl.Api.Presentation.Entities.Identifier, Tfl.Api.Presentation.Entities",
              "id": "490G000829",
              "name": "Westminster Stn  / Westmr Pier",
              "routeType": "Unknown",
              "status": "Unknown",
              "type": "StopPoint",
              "uri": "/StopPoint/490G000829"
             },
             {
              "$type": "Tfl.Api.Presentation.Entities.Identifier, Tfl.Api.Presentation.Entities",
              "id": "490G00018956",
              "name": "St Thomas' Hospital / County Hall",
              "routeType": "Unknown",
              "status": "Unknown",
              "type": "StopPoint",
              "uri": "/StopPoint/490G00018956"
             },
             {
              "$type": "Tfl.Api.Presentation.Entities.Identifier, Tfl.Api.Presentation.Entities",
              "id": "490G00009420",
              "name": "Lower Marsh",
              "routeType": "Unknown",
              "status": "Unknown",
              "type": "StopPoint",
              "uri": "/StopPoint/490G00009420"
             },
             {
              "$type": "Tfl.Api.Presentation.Entities.Identifier, Tfl.Api.Presentation.Entities",
              "id": "490G00132G",
              "name": "Lambeth North Station",
              "routeType": "Unknown",
              "status": "Unknown",
              "type": "StopPoint",
              "uri": "/StopPoint/490G00132G"
             },
             {
              "$type": "Tfl.Api.Presentation.Entities.Identifier, Tfl.Api.Presentation.Entities",
              "id": "490G00012693",
              "name": "St George's Circus",
              "routeType": "Unknown",
              "status": "Unknown",
              "type": "StopPoint",
              "uri": "/StopPoint/490G00012693"
             },
             {
              "$type": "Tfl.Api.Presentation.Entities.Identifier, Tfl.Api.Presentation.Entities",
              "id": "490G000642",
              "name": "Elephant & Castle / London Road",
              "routeType": "Unknown",
              "status": "Unknown",
              "type": "StopPoint",
              "uri": "/StopPoint/490G000642"
             }
            ]
           },
           "plannedWorks": [],
           "routeOptions": [
            {
             "$type": "Tfl.Api.Presentation.Entities.JourneyPlanner.RouteOption, Tfl.Api.Presentation.Entities",
             "directions": [
              "Camberwell Green"
             ],
             "lineIdentifier": {
              "$type": "Tfl.Api.Presentation.Entities.Identifier, Tfl.Api.Presentation.Entities",
              "crowding": {
               "$type": "Tfl.Api.Presentation.Entities.Crowding, Tfl.Api.Presentation.Entities"
              },
              "id": "148",
              "name": "148",
              "routeType": "Unknown",
              "status": "Unknown",
              "type": "Line",
              "uri": "/Line/148"
             },
             "name": "148"
            }
           ]
          },
          {
           "$type": "Tfl.Api.Presentation.Entities.JourneyPlanner.Leg, Tfl.Api.Presentation.Entities",
           "arrivalPoint": {
            "$type": "Tfl.Api.Presentation.Entities.StopPoint, Tfl.Api.Presentation.Entities",
            "additionalProperties": [],
            "commonName": "Druid Street",
            "icsCode": "1006200",
            "lat": 51.50210442873,
            "lon": -0.07788594659999999,
            "naptanId": "490G00006200",
            "placeType": "StopPoint",
            "platformName": "",
            "stopLetter": "E"
           },
           "arrivalTime": "2022-02-11T06:39:00",
           "departurePoint": {
            "$type": "Tfl.Api.Presentation.Entities.StopPoint, Tfl.Api.Presentation.Entities",
            "additionalProperties": [],
            "commonName": "Elephant & Castle / London Road",
            "icsCode": "1009281",
            "lat": 51.49610165608,
            "lon": -0.10133330234,
            "naptanId": "490G000642",
            "placeType": "StopPoint",
            "platformName": "E",
            "stopLetter": "E"
           },
           "departureTime": "2022-02-11T06:30:00",
           "disruptions": [],
           "duration": 9,
           "hasFixedLocations": true,
           "instruction": {
            "$type": "Tfl.Api.Presentation.Entities.Instruction, Tfl.Api.Presentation.Entities",
            "detailed": "188 bus towards North Greenwich",
            "steps": [],
            "summary": "188 bus to Druid Street"
           },
           "isDisrupted": false,
           "mode": {
            "$type": "Tfl.Api.Presentation.Entities.Identifier, Tfl.Api.Presentation.Entities",
            "id": "bus",
            "name": "bus",
            "routeType": "Unknown",
            "status": "Unknown",
            "type": "Mode"
           },
           "obstacles": [],
           "path": {
            "$type": "Tfl.Api.Presentation.Entities.JourneyPlanner.Path, Tfl.Api.Presentation.Entities",
            "elevation": [],
            "lineString": "[[51.49607343237, -0.10138454673],[51.4956430045, -0.10077609922],[51.49563600882, -0.10034419346],[51.49555046544, -0.1000596195],[51.4953598824, -0.09995229256],[51.49524072488, -0.09981318332],[51.49509799455, -0.09932930198],[51.49505794409, -0.09907822846],[51.49505794409, -0.09907822846],[51.49496786667, -0.09851355335],[51.4949383392, -0.09835631245],[51.49490904499, -0.09821346836],[51.49472358887, -0.09731359235],[51.49466569862, -0.09707109668],[51.49437226571, -0.09561388855],[51.49431343668, -0.09531381138],[51.49419205279, -0.09444845027],[51.49419205279, -0.09444845027],[51.49415070683, -0.09415370102],[51.49417410648, -0.09282736352],[51.49418443799, -0.09180409857],[51.49422070159, -0.09126955766],[51.49422984721, -0.09017431004],[51.49423344065, -0.08984281888],[51.49427016441, -0.08933706875],[51.49431107981, -0.08768220367],[51.49431107981, -0.08768220367],[51.49432435512, -0.08714506634],[51.49440247588, -0.08642148656],[51.494437482, -0.08636239573],[51.4946872232, -0.08623668617],[51.49486225298, -0.08594122858],[51.4948492716, -0.08569686475],[51.49476891848, -0.08518160416],[51.49478289486, -0.08493611116],[51.4948141382, -0.08464667525],[51.49500643125, -0.08430726775],[51.49506792522, -0.08421825112],[51.49535695061, -0.08374512485],[51.49553244453, -0.08347844684],[51.49559684402, -0.0833934036],[51.49559684402, -0.0833934036],[51.49581412775, -0.08310646548],[51.49589359364, -0.08301669159],[51.49597305944, -0.08292691738],[51.49632592606, -0.08250872119],[51.49642265805, -0.08237500006],[51.49669252539, -0.08183061743],[51.49696097674, -0.0811998457],[51.49697109587, -0.08117768907],[51.49697109587, -0.08117768907],[51.49710856293, -0.0808766923],[51.49738599543, -0.0802455317],[51.49748178191, -0.08005421361],[51.49769368424, -0.07981479292],[51.49796943401, -0.07963031549],[51.4984958598, -0.07937766791],[51.49895846037, -0.0791627954],[51.49895846037, -0.0791627954],[51.49945080239, -0.0789341032],[51.50005739634, -0.0786348433],[51.50014678859, -0.07860226758],[51.50028962744, -0.07853862765],[51.50072713014, -0.07834732739],[51.50129801268, -0.07806396171],[51.50155767436, -0.07799540315],[51.50207059134, -0.07772261038]]",
            "stopPoints": [
             {
              "$type": "Tfl.Api.Presentation.Entities.Identifier, Tfl.Api.Presentation.Entities",
              "id": "490G000645",
              "name": "Elephant & Castle / New Kent Road",
              "routeType": "Unknown",
              "status": "Unknown",
              "type": "StopPoint",
              "uri": "/StopPoint/490G000645"
             },
             {
              "$type": "Tfl.Api.Presentation.Entities.Identifier, Tfl.Api.Presentation.Entities",
              "id": "490G00011632",
              "name": "Rodney Place",
              "routeType": "Unknown",
              "status": "Unknown",
              "type": "StopPoint",
              "uri": "/StopPoint/490G00011632"
             },
             {
              "$type": "Tfl.Api.Presentation.Entities.Identifier, Tfl.Api.Presentation.Entities",
              "id": "490G00003658",
              "name": "Bricklayer's Arms / New Kent Road",
              "routeType": "Unknown",
              "status": "Unknown",
              "type": "StopPoint",
              "uri": "/StopPoint/490G00003658"
             },
             {
              "$type": "Tfl.Api.Presentation.Entities.Identifier, Tfl.Api.Presentation.Entities",
              "id": "490G00019012",
              "name": "Bricklayer's Arms / Tower Bridge Road",
              "routeType": "Unknown",
              "status": "Unknown",
              "type": "StopPoint",
              "uri": "/StopPoint/490G00019012"
             },
             {
              "$type": "Tfl.Api.Presentation.Entities.Identifier, Tfl.Api.Presentation.Entities",
              "id": "490G00007362",
              "name": "Grange Road / Caledonian Market",
              "routeType": "Unknown",
              "status": "Unknown",
              "type": "StopPoint",
              "uri": "/StopPoint/490G00007362"
             },
             {
              "$type": "Tfl.Api.Presentation.Entities.Identifier, Tfl.Api.Presentation.Entities",
              "id": "490G00003035",
              "name": "Abbey Street",
              "routeType": "Unknown",
              "status": "Unknown",
              "type": "StopPoint",
              "uri": "/StopPoint/490G00003035"
             },
             {
              "$type": "Tfl.Api.Presentation.Entities.Identifier, Tfl.Api.Presentation.Entities",
              "id": "490G00006200",
              "name": "Druid Street",
              "routeType": "Unknown",
              "status": "Unknown",
              "type": "StopPoint",
              "uri": "/StopPoint/490G00006200"
             }
            ]
           },
           "plannedWorks": [],
           "routeOptions": [
            {
             "$type": "Tfl.Api.Presentation.Entities.JourneyPlanner.RouteOption, Tfl.Api.Presentation.Entities",
             "directions": [
              "North Greenwich"
             ],
             "lineIdentifier": {
              "$type": "Tfl.Api.Presentation.Entities.Identifier, Tfl.Api.Presentation.Entities",
              "crowding": {
               "$type": "Tfl.Api.Presentation.Entities.Crowding, Tfl.Api.Presentation.Entities"
              },
              "id": "188",
              "name": "188",
              "routeType": "Unknown",
              "status": "Unknown",
              "type": "Line",
              "uri": "/Line/188"
             },
             "name": "188"
            }
           ]
          },
          {
           "$type": "Tfl.Api.Presentation.Entities.JourneyPlanner.Leg, Tfl.Api.Presentation.Entities",
           "arrivalPoint": {
            "$type": "Tfl.Api.Presentation.Entities.Place, Tfl.Api.Presentation.Entities",
            "commonName": "1 Tower Bridge, Tower Hamlets",
            "lat": 51.505498499990004,
            "lon": -0.07537992570999999,
            "placeType": "StopPoint"
           },
           "arrivalTime": "2022-02-11T06:46:00",
           "departurePoint": {
            "$type": "Tfl.Api.Presentation.Entities.StopPoint, Tfl.Api.Presentation.Entities",
            "additionalProperties": [],
            "commonName": "Druid Street",
            "icsCode": "1006200",
            "lat": 51.50210442873,
            "lon": -0.07788594659999999,
            "naptanId": "490G00006200",
            "placeType": "StopPoint",
            "platformName": "",
            "stopLetter": "E"
           },
           "departureTime": "2022-02-11T06:39:00",
           "disruptions": [],
           "distance": 415,
           "duration": 7,
           "hasFixedLocations": false,
           "instruction": {
            "$type": "Tfl.Api.Presentation.Entities.Instruction, Tfl.Api.Presentation.Entities",
            "detailed": "Walk to 1 Tower Bridge, Tower Hamlets",
            "steps": [
             {
              "$type": "Tfl.Api.Presentation.Entities.InstructionStep, Tfl.Api.Presentation.Entities",
              "cumulativeDistance": 268,
              "cumulativeTravelTime": 242,
              "description": "Tower Bridge Road for 268 metres",
              "descriptionHeading": "Continue along ",
              "distance": 268,
              "latitude": 51.5020746375,
              "longitude": -0.07771429663,
              "pathAttribute": {
               "$type": "Tfl.Api.Presentation.Entities.PathAttribute, Tfl.Api.Presentation.Entities"
              },
              "skyDirection": 377,
              "skyDirectionDescription": "North",
              "streetName": "Tower Bridge Road",
              "trackType": "None",
              "turnDirection": "STRAIGHT"
             },
             {
              "$type": "Tfl.Api.Presentation.Entities.InstructionStep, Tfl.Api.Presentation.Entities",
              "cumulativeDistance": 272,
              "cumulativeTravelTime": 247,
              "description": "for 4 metres",
              "descriptionHeading": "Continue along ",
              "distance": 4,
              "latitude": 51.50427090104,
              "longitude": -0.0761953462,
              "pathAttribute": {
               "$type": "Tfl.Api.Presentation.Entities.PathAttribute, Tfl.Api.Presentation.Entities"
              },
              "skyDirection": 387,
              "skyDirectionDescription": "North",
              "streetName": "",
              "trackType": "None",
              "turnDirection": "STRAIGHT"
             },
             {
              "$type": "Tfl.Api.Presentation.Entities.InstructionStep, Tfl.Api.Presentation.Entities",
              "cumulativeDistance": 415,
              "cumulativeTravelTime": 372,
              "description": "on to Tower Bridge, continue for 143 metres",
              "descriptionHeading": "Continue along ",
              "distance": 143,
              "latitude": 51.50430637416,
              "longitude": -0.07616503346999999,
              "pathAttribute": {
               "$type": "Tfl.Api.Presentation.Entities.PathAttribute, Tfl.Api.Presentation.Entities"
              },
              "skyDirection": 381,
              "skyDirectionDescription": "North",
              "streetName": "Tower Bridge",
              "trackType": "None",
              "turnDirection": "STRAIGHT"
             }
            ],
            "summary": "Walk to 1 Tower Bridge, Tower Hamlets"
           },
           "isDisrupted": false,
           "mode": {
            "$type": "Tfl.Api.Presentation.Entities.Identifier, Tfl.Api.Presentation.Entities",
            "id": "walking",
            "name": "walking",
            "routeType": "Unknown",
            "status": "Unknown",
            "type": "Mode"
           },
           "obstacles": [],
           "path": {
            "$type": "Tfl.Api.Presentation.Entities.JourneyPlanner.Path, Tfl.Api.Presentation.Entities",
            "elevation": [],
            "lineString": "[[51.5020746375, -0.07771429663],[51.50214605663, -0.07768247391],[51.5024125801, -0.07748394441],[51.5026611304, -0.07728616906],[51.50277653706, -0.07719485829],[51.50289241583, -0.07713234495],[51.50317691104, -0.07693305225],[51.50346140588, -0.07673375702],[51.50419096839, -0.07625634998],[51.50427090104, -0.0761953462],[51.50430637416, -0.07616503347],[51.50495576545, -0.07573421435],[51.50548951361, -0.07538030437],[51.50549849999, -0.07537992571]]",
            "stopPoints": []
           },
           "plannedWorks": [],
           "routeOptions": [
            {
             "$type": "Tfl.Api.Presentation.Entities.JourneyPlanner.RouteOption, Tfl.Api.Presentation.Entities",
             "directions": [
              ""
             ],
             "name": ""
            }
           ]
          }
         ],
         "startDateTime": "2022-02-11T04:40:00"
        }
       ],
       "lines": [
        {
         "$type": "Tfl.Api.Presentation.Entities.Line, Tfl.Api.Presentation.Entities",
         "created": "2022-02-08T17:26:20.863Z",
         "crowding": {
          "$type": "Tfl.Api.Presentation.Entities.Crowding, Tfl.Api.Presentation.Entities"
         },
         "disruptions": [],
         "id": "111",
         "lineStatuses": [
          {
           "$type": "Tfl.Api.Presentation.Entities.LineStatus, Tfl.Api.Presentation.Entities",
           "created": "0001-01-01T00:00:00",
           "id": 0,
           "statusSeverity": 10,
           "statusSeverityDescription": "Good Service",
           "validityPeriods": []
          }
         ],
         "modeName": "bus",
         "modified": "2022-02-08T17:26:20.863Z",
         "name": "111",
         "routeSections": [],
         "serviceTypes": [
          {
           "$type": "Tfl.Api.Presentation.Entities.LineServiceTypeInfo, Tfl.Api.Presentation.Entities",
           "name": "Regular",
           "uri": "/Line/Route?ids=111&serviceTypes=Regular"
          }
         ]
        },
        {
         "$type": "Tfl.Api.Presentation.Entities.Line, Tfl.Api.Presentation.Entities",
         "created": "2022-02-08T17:26:20.863Z",
         "crowding": {
          "$type": "Tfl.Api.Presentation.Entities.Crowding, Tfl.Api.Presentation.Entities"
         },
         "disruptions": [],
         "id": "148",
         "lineStatuses": [
          {
           "$type": "Tfl.Api.Presentation.Entities.LineStatus, Tfl.Api.Presentation.Entities",
           "created": "0001-01-01T00:00:00",
           "id": 0,
           "statusSeverity": 10,
           "statusSeverityDescription": "Good Service",
           "validityPeriods": []
          }
         ],
         "modeName": "bus",
         "modified": "2022-02-08T17:26:20.863Z",
         "name": "148",
         "routeSections": [],
         "serviceTypes": [
          {
           "$type": "Tfl.Api.Presentation.Entities.LineServiceTypeInfo, Tfl.Api.Presentation.Entities",
           "name": "Regular",
           "uri": "/Line/Route?ids=148&serviceTypes=Regular"
          }
         ]
        },
        {
         "$type": "Tfl.Api.Presentation.Entities.Line, Tfl.Api.Presentation.Entities",
         "created": "2022-02-08T17:26:20.863Z",
         "crowding": {
          "$type": "Tfl.Api.Presentation.Entities.Crowding, Tfl.Api.Presentation.Entities"
         },
         "disruptions": [],
         "id": "188",
         "lineStatuses": [
          {
           "$type": "Tfl.Api.Presentation.Entities.LineStatus, Tfl.Api.Presentation.Entities",
           "created": "0001-01-01T00:00:00",
           "id": 0,
           "statusSeverity": 10,
           "statusSeverityDescription": "Good Service",
           "validityPeriods": []
          }
         ],
         "modeName": "bus",
         "modified": "2022-02-08T17:26:20.863Z",
         "name": "188",
         "routeSections": [],
         "serviceTypes": [
          {
           "$type": "Tfl.Api.Presentation.Entities.LineServiceTypeInfo, Tfl.Api.Presentation.Entities",
           "name": "Regular",
           "uri": "/Line/Route?ids=188&serviceTypes=Regular"
          }
         ]
        },
        {
         "$type": "Tfl.Api.Presentation.Entities.Line, Tfl.Api.Presentation.Entities",
         "created": "2022-02-08T17:26:20.863Z",
         "crowding": {
          "$type": "Tfl.Api.Presentation.Entities.Crowding, Tfl.Api.Presentation.Entities"
         },
         "disruptions": [],
         "id": "222",
         "lineStatuses": [
          {
           "$type": "Tfl.Api.Presentation.Entities.LineStatus, Tfl.Api.Presentation.Entities",
           "created": "0001-01-01T00:00:00",
           "id": 0,
           "statusSeverity": 10,
           "statusSeverityDescription": "Good Service",
           "validityPeriods": []
          }
         ],
         "modeName": "bus",
         "modified": "2022-02-08T17:26:20.863Z",
         "name": "222",
         "routeSections": [],
         "serviceTypes": [
          {
           "$type": "Tfl.Api.Presentation.Entities.LineServiceTypeInfo, Tfl.Api.Presentation.Entities",
           "name": "Regular",
           "uri": "/Line/Route?ids=222&serviceTypes=Regular"
          }
         ]
        },
        {
         "$type": "Tfl.Api.Presentation.Entities.Line, Tfl.Api.Presentation.Entities",
         "created": "2022-02-08T17:26:20.88Z",
         "crowding": {
          "$type": "Tfl.Api.Presentation.Entities.Crowding, Tfl.Api.Presentation.Entities"
         },
         "disruptions": [],
         "id": "237",
         "lineStatuses": [
          {
           "$type": "Tfl.Api.Presentation.Entities.LineStatus, Tfl.Api.Presentation.Entities",
           "created": "0001-01-01T00:00:00",
           "id": 0,
           "statusSeverity": 10,
           "statusSeverityDescription": "Good Service",
           "validityPeriods": []
          }
         ],
         "modeName": "bus",
         "modified": "2022-02-08T17:26:20.88Z",
         "name": "237",
         "routeSections": [],
         "serviceTypes": [
          {
           "$type": "Tfl.Api.Presentation.Entities.LineServiceTypeInfo, Tfl.Api.Presentation.Entities",
           "name": "Regular",
           "uri": "/Line/Route?ids=237&serviceTypes=Regular"
          }
         ]
        },
        {
         "$type": "Tfl.Api.Presentation.Entities.Line, Tfl.Api.Presentation.Entities",
         "created": "2022-02-08T17:26:20.863Z",
         "crowding": {
          "$type": "Tfl.Api.Presentation.Entities.Crowding, Tfl.Api.Presentation.Entities"
         },
         "disruptions": [],
         "id": "343",
         "lineStatuses": [
          {
           "$type": "Tfl.Api.Presentation.Entities.LineStatus, Tfl.Api.Presentation.Entities",
           "created": "0001-01-01T00:00:00",
           "id": 0,
           "statusSeverity": 10,
           "statusSeverityDescription": "Good Service",
           "validityPeriods": []
          }
         ],
         "modeName": "bus",
         "modified": "2022-02-08T17:26:20.863Z",
         "name": "343",
         "routeSections": [],
         "serviceTypes": [
          {
           "$type": "Tfl.Api.Presentation.Entities.LineServiceTypeInfo, Tfl.Api.Presentation.Entities",
           "name": "Regular",
           "uri": "/Line/Route?ids=343&serviceTypes=Regular"
          }
         ]
        },
        {
         "$type": "Tfl.Api.Presentation.Entities.Line, Tfl.Api.Presentation.Entities",
         "created": "2022-02-08T17:26:20.863Z",
         "crowding": {
          "$type": "Tfl.Api.Presentation.Entities.Crowding, Tfl.Api.Presentation.Entities"
         },
         "disruptions": [],
         "id": "e8",
         "lineStatuses": [
          {
           "$type": "Tfl.Api.Presentation.Entities.LineStatus, Tfl.Api.Presentation.Entities",
           "created": "0001-01-01T00:00:00",
           "id": 0,
           "statusSeverity": 10,
           "statusSeverityDescription": "Good Service",
           "validityPeriods": []
          }
         ],
         "modeName": "bus",
         "modified": "2022-02-08T17:26:20.863Z",
         "name": "E8",
         "routeSections": [],
         "serviceTypes": [
          {
           "$type": "Tfl.Api.Presentation.Entities.LineServiceTypeInfo, Tfl.Api.Presentation.Entities",
           "name": "Regular",
           "uri": "/Line/Route?ids=E8&serviceTypes=Regular"
          }
         ]
        },
        {
         "$type": "Tfl.Api.Presentation.Entities.Line, Tfl.Api.Presentation.Entities",
         "created": "2022-02-08T17:26:20.88Z",
         "crowding": {
          "$type": "Tfl.Api.Presentation.Entities.Crowding, Tfl.Api.Presentation.Entities"
         },
         "disruptions": [],
         "id": "n9",
         "lineStatuses": [
          {
           "$type": "Tfl.Api.Presentation.Entities.LineStatus, Tfl.Api.Presentation.Entities",
           "created": "0001-01-01T00:00:00",
           "id": 0,
           "statusSeverity": 10,
           "statusSeverityDescription": "Good Service",
           "validityPeriods": []
          }
         ],
         "modeName": "bus",
         "modified": "2022-02-08T17:26:20.88Z",
         "name": "N9",
         "routeSections": [],
         "serviceTypes": [
          {
           "$type": "Tfl.Api.Presentation.Entities.LineServiceTypeInfo, Tfl.Api.Presentation.Entities",
           "name": "Regular",
           "uri": "/Line/Route?ids=N9&serviceTypes=Regular"
          }
         ]
        }
       ],
       "recommendedMaxAgeMinutes": 2,
       "searchCriteria": {
        "$type": "Tfl.Api.Presentation.Entities.JourneyPlanner.SearchCriteria, Tfl.Api.Presentation.Entities",
        "dateTime": "2022-02-11T04:27:00",
        "dateTimeType": "Departing",
        "timeAdjustments": {
         "$type": "Tfl.Api.Presentation.Entities.JourneyPlanner.TimeAdjustments, Tfl.Api.Presentation.Entities",
         "earlier": {
          "$type": "Tfl.Api.Presentation.Entities.JourneyPlanner.TimeAdjustment, Tfl.Api.Presentation.Entities",
          "date": "20220211",
          "time": "0411",
          "timeIs": "departing",
          "uri": "/journey/journeyresults/51.4700,%20-0.4543/to/51.5055,%20-0.0754?mode=bus&time=0411&date=20220211&timeIs=departing"
         },
         "earliest": {
          "$type": "Tfl.Api.Presentation.Entities.JourneyPlanner.TimeAdjustment, Tfl.Api.Presentation.Entities",
          "date": "20220211",
          "time": "0300",
          "timeIs": "departing",
          "uri": "/journey/journeyresults/51.4700,%20-0.4543/to/51.5055,%20-0.0754?mode=bus&time=0300&date=20220211&timeIs=departing"
         },
         "later": {
          "$type": "Tfl.Api.Presentation.Entities.JourneyPlanner.TimeAdjustment, Tfl.Api.Presentation.Entities",
          "date": "20220211",
          "time": "0440",
          "timeIs": "departing",
          "uri": "/journey/journeyresults/51.4700,%20-0.4543/to/51.5055,%20-0.0754?mode=bus&time=0440&date=20220211&timeIs=departing"
         },
         "latest": {
          "$type": "Tfl.Api.Presentation.Entities.JourneyPlanner.TimeAdjustment, Tfl.Api.Presentation.Entities",
          "date": "20220212",
          "time": "0300",
          "timeIs": "departing",
          "uri": "/journey/journeyresults/51.4700,%20-0.4543/to/51.5055,%20-0.0754?mode=bus&time=0300&date=20220212&timeIs=departing"
         }
        }
       },
       "stopMessages": []
      },
      "text/plain": [
       "<IPython.core.display.JSON object>"
      ]
     },
     "execution_count": 76,
     "metadata": {
      "application/json": {
       "expanded": false,
       "root": "root"
      }
     },
     "output_type": "execute_result"
    }
   ],
   "source": [
    "JSON(bus_journey)"
   ]
  },
  {
   "cell_type": "code",
   "execution_count": 77,
   "metadata": {},
   "outputs": [
    {
     "data": {
      "application/json": {
       "$type": "Tfl.Api.Presentation.Entities.JourneyPlanner.ItineraryResult, Tfl.Api.Presentation.Entities",
       "journeyVector": {
        "$type": "Tfl.Api.Presentation.Entities.JourneyPlanner.JourneyVector, Tfl.Api.Presentation.Entities",
        "from": "-0.4543:51.4700:WGS84[DD.dddd]",
        "to": "-0.0754:51.5055:WGS84[DD.dddd]",
        "uri": "/journey/journeyresults/51.4700,%20-0.4543/to/51.5055,%20-0.0754?mode=tube",
        "via": ""
       },
       "journeys": [
        {
         "$type": "Tfl.Api.Presentation.Entities.JourneyPlanner.Journey, Tfl.Api.Presentation.Entities",
         "arrivalDateTime": "2022-02-11T05:30:00",
         "duration": 319,
         "fare": {
          "$type": "Tfl.Api.Presentation.Entities.JourneyPlanner.JourneyFare, Tfl.Api.Presentation.Entities",
          "caveats": [
           {
            "$type": "Tfl.Api.Presentation.Entities.JourneyPlanner.FareCaveat, Tfl.Api.Presentation.Entities",
            "text": "<p>Fares between two stations may vary depending on the direction of travel, time of day and day of the week.</p><p>We charge higher fares at the busiest times of the day (usually between 06:30 and 09:30, and between 16:00 and 19:00, Monday to Friday).</p><p>When you pay as you go, you must touch your contactless or Oyster card on a yellow reader at the start and end of your journey.</p><p>Some journeys are charged via Zone 1 regardless of the route taken.</p><p>If your journey avoids Zone 1 and you see a pink card reader when changing trains, touch your contactless or Oyster card on it to pay the right fare.</p>",
            "type": "allRailModes"
           },
           {
            "$type": "Tfl.Api.Presentation.Entities.JourneyPlanner.FareCaveat, Tfl.Api.Presentation.Entities",
            "text": "The price shown is a single adult pay as you go fare.",
            "type": "generic"
           }
          ],
          "fares": [
           {
            "$type": "Tfl.Api.Presentation.Entities.JourneyPlanner.Fare, Tfl.Api.Presentation.Entities",
            "chargeLevel": "Off Peak",
            "chargeProfileName": "Z1 PM Counterflow",
            "cost": 330,
            "highZone": 6,
            "isHopperFare": false,
            "lowZone": 1,
            "offPeak": 330,
            "peak": 530,
            "taps": [
             {
              "$type": "Tfl.Api.Presentation.Entities.JourneyPlanner.FareTap, Tfl.Api.Presentation.Entities",
              "atcoCode": "940GZZLUHRC",
              "tapDetails": {
               "$type": "Tfl.Api.Presentation.Entities.JourneyPlanner.FareTapDetails, Tfl.Api.Presentation.Entities",
               "hostDeviceType": "Gate",
               "modeType": "Rail",
               "nationalLocationCode": 780,
               "tapTimestamp": "2022-02-11T00:21:00+00:00",
               "validationType": "None"
              }
             },
             {
              "$type": "Tfl.Api.Presentation.Entities.JourneyPlanner.FareTap, Tfl.Api.Presentation.Entities",
              "atcoCode": "940GZZLUWCY",
              "tapDetails": {
               "$type": "Tfl.Api.Presentation.Entities.JourneyPlanner.FareTapDetails, Tfl.Api.Presentation.Entities",
               "hostDeviceType": "Gate",
               "modeType": "Rail",
               "nationalLocationCode": 764,
               "tapTimestamp": "2022-02-11T01:17:00+00:00",
               "validationType": "None"
              }
             },
             {
              "$type": "Tfl.Api.Presentation.Entities.JourneyPlanner.FareTap, Tfl.Api.Presentation.Entities",
              "atcoCode": "940GZZLUWLA",
              "tapDetails": {
               "$type": "Tfl.Api.Presentation.Entities.JourneyPlanner.FareTapDetails, Tfl.Api.Presentation.Entities",
               "hostDeviceType": "Gate",
               "modeType": "Rail",
               "nationalLocationCode": 599,
               "tapTimestamp": "2022-02-11T04:43:00+00:00",
               "validationType": "None"
              }
             },
             {
              "$type": "Tfl.Api.Presentation.Entities.JourneyPlanner.FareTap, Tfl.Api.Presentation.Entities",
              "atcoCode": "940GZZLUALD",
              "tapDetails": {
               "$type": "Tfl.Api.Presentation.Entities.JourneyPlanner.FareTapDetails, Tfl.Api.Presentation.Entities",
               "hostDeviceType": "Gate",
               "modeType": "Rail",
               "nationalLocationCode": 502,
               "tapTimestamp": "2022-02-11T05:11:00+00:00",
               "validationType": "None"
              }
             }
            ]
           }
          ],
          "totalCost": 330
         },
         "legs": [
          {
           "$type": "Tfl.Api.Presentation.Entities.JourneyPlanner.Leg, Tfl.Api.Presentation.Entities",
           "arrivalPoint": {
            "$type": "Tfl.Api.Presentation.Entities.StopPoint, Tfl.Api.Presentation.Entities",
            "additionalProperties": [],
            "commonName": "Heathrow Terminals 2 & 3 Underground Station",
            "icsCode": "1000105",
            "lat": 51.471637629,
            "lon": -0.45295694328,
            "naptanId": "940GZZLUHRC",
            "placeType": "StopPoint",
            "platformName": ""
           },
           "arrivalTime": "2022-02-11T00:21:00",
           "departurePoint": {
            "$type": "Tfl.Api.Presentation.Entities.StopPoint, Tfl.Api.Presentation.Entities",
            "additionalProperties": [],
            "commonName": "Cosmopolitan Way, Heathrow Airport Terminals 1-3",
            "icsCode": "99999997",
            "lat": 51.469775979350004,
            "lon": -0.45430131310000005,
            "placeType": "StopPoint",
            "platformName": ""
           },
           "departureTime": "2022-02-11T00:11:00",
           "disruptions": [],
           "distance": 218,
           "duration": 10,
           "hasFixedLocations": true,
           "instruction": {
            "$type": "Tfl.Api.Presentation.Entities.Instruction, Tfl.Api.Presentation.Entities",
            "detailed": "Walk to Heathrow Terminals 2 & 3 Underground Station",
            "steps": [
             {
              "$type": "Tfl.Api.Presentation.Entities.InstructionStep, Tfl.Api.Presentation.Entities",
              "cumulativeDistance": 117,
              "cumulativeTravelTime": 107,
              "description": "Cosmopolitan Way for 117 metres",
              "descriptionHeading": "Continue along ",
              "distance": 117,
              "latitude": 51.46977635875,
              "longitude": -0.45433009588,
              "pathAttribute": {
               "$type": "Tfl.Api.Presentation.Entities.PathAttribute, Tfl.Api.Presentation.Entities"
              },
              "skyDirection": 262,
              "skyDirectionDescription": "West",
              "streetName": "Cosmopolitan Way",
              "trackType": "None",
              "turnDirection": "STRAIGHT"
             },
             {
              "$type": "Tfl.Api.Presentation.Entities.InstructionStep, Tfl.Api.Presentation.Entities",
              "cumulativeDistance": 161,
              "cumulativeTravelTime": 147,
              "description": "on to Camborne Way, continue for 44 metres",
              "descriptionHeading": "Turn right",
              "distance": 44,
              "latitude": 51.47042260114,
              "longitude": -0.45560407814,
              "pathAttribute": {
               "$type": "Tfl.Api.Presentation.Entities.PathAttribute, Tfl.Api.Presentation.Entities"
              },
              "skyDirection": 423,
              "skyDirectionDescription": "North",
              "streetName": "Camborne Way",
              "trackType": "None",
              "turnDirection": "RIGHT"
             },
             {
              "$type": "Tfl.Api.Presentation.Entities.InstructionStep, Tfl.Api.Presentation.Entities",
              "cumulativeDistance": 201,
              "cumulativeTravelTime": 183,
              "description": "on to Camborne Road, continue for 40 metres",
              "descriptionHeading": "Take a slight right",
              "distance": 40,
              "latitude": 51.47073377748,
              "longitude": -0.45533440541000003,
              "pathAttribute": {
               "$type": "Tfl.Api.Presentation.Entities.PathAttribute, Tfl.Api.Presentation.Entities"
              },
              "skyDirection": 418,
              "skyDirectionDescription": "North",
              "streetName": "Camborne Road",
              "trackType": "None",
              "turnDirection": "SLIGHT_RIGHT"
             },
             {
              "$type": "Tfl.Api.Presentation.Entities.InstructionStep, Tfl.Api.Presentation.Entities",
              "cumulativeDistance": 218,
              "cumulativeTravelTime": 198,
              "description": "on to Camborne Crescent, continue for 17 metres",
              "descriptionHeading": "Continue along ",
              "distance": 17,
              "latitude": 51.47091608387,
              "longitude": -0.45483871127000003,
              "pathAttribute": {
               "$type": "Tfl.Api.Presentation.Entities.PathAttribute, Tfl.Api.Presentation.Entities"
              },
              "skyDirection": 400,
              "skyDirectionDescription": "North",
              "streetName": "Camborne Crescent",
              "trackType": "None",
              "turnDirection": "STRAIGHT"
             }
            ],
            "summary": "Walk to Heathrow Terminals 2 & 3 Underground Station"
           },
           "isDisrupted": false,
           "mode": {
            "$type": "Tfl.Api.Presentation.Entities.Identifier, Tfl.Api.Presentation.Entities",
            "id": "walking",
            "name": "walking",
            "routeType": "Unknown",
            "status": "Unknown",
            "type": "Mode"
           },
           "obstacles": [
            {
             "$type": "Tfl.Api.Presentation.Entities.JourneyPlanner.Obstacle, Tfl.Api.Presentation.Entities",
             "incline": "DOWN",
             "position": "IDEST",
             "stopId": 1000105,
             "type": "RAMP"
            },
            {
             "$type": "Tfl.Api.Presentation.Entities.JourneyPlanner.Obstacle, Tfl.Api.Presentation.Entities",
             "incline": "DOWN",
             "position": "IDEST",
             "stopId": 1000105,
             "type": "ESCALATOR"
            }
           ],
           "path": {
            "$type": "Tfl.Api.Presentation.Entities.JourneyPlanner.Path, Tfl.Api.Presentation.Entities",
            "elevation": [],
            "lineString": "[[51.46977597935, -0.4543013131],[51.46977635875, -0.45433009588],[51.46977806594, -0.45445961842],[51.46985167889, -0.45458671153],[51.47012929044, -0.45518204429],[51.47042260114, -0.45560407814],[51.47048286506, -0.45540047102],[51.47073377748, -0.45533440541],[51.47091608387, -0.45483871127],[51.47103084483, -0.45467645423],[51.47107692392, -0.45476128667],[51.4714450785, -0.45267548951],[51.471637629, -0.45295694328],[51.47133397351, -0.45296249441]]",
            "stopPoints": []
           },
           "plannedWorks": [],
           "routeOptions": [
            {
             "$type": "Tfl.Api.Presentation.Entities.JourneyPlanner.RouteOption, Tfl.Api.Presentation.Entities",
             "directions": [
              ""
             ],
             "name": ""
            }
           ]
          },
          {
           "$type": "Tfl.Api.Presentation.Entities.JourneyPlanner.Leg, Tfl.Api.Presentation.Entities",
           "arrivalPoint": {
            "$type": "Tfl.Api.Presentation.Entities.StopPoint, Tfl.Api.Presentation.Entities",
            "additionalProperties": [],
            "commonName": "Acton Town Underground Station",
            "icsCode": "1000002",
            "lat": 51.502776640040004,
            "lon": -0.27985270577,
            "naptanId": "940GZZLUACT",
            "placeType": "StopPoint",
            "platformName": ""
           },
           "arrivalTime": "2022-02-11T00:44:00",
           "departurePoint": {
            "$type": "Tfl.Api.Presentation.Entities.StopPoint, Tfl.Api.Presentation.Entities",
            "additionalProperties": [],
            "commonName": "Heathrow Terminals 2 & 3 Underground Station",
            "icsCode": "1000105",
            "lat": 51.471637629,
            "lon": -0.45295694328,
            "naptanId": "940GZZLUHRC",
            "placeType": "StopPoint",
            "platformName": ""
           },
           "departureTime": "2022-02-11T00:21:00",
           "disruptions": [],
           "duration": 23,
           "hasFixedLocations": true,
           "instruction": {
            "$type": "Tfl.Api.Presentation.Entities.Instruction, Tfl.Api.Presentation.Entities",
            "detailed": "Piccadilly line towards Acton Town",
            "steps": [],
            "summary": "Piccadilly line to Acton Town"
           },
           "isDisrupted": false,
           "mode": {
            "$type": "Tfl.Api.Presentation.Entities.Identifier, Tfl.Api.Presentation.Entities",
            "id": "tube",
            "name": "tube",
            "routeType": "Unknown",
            "status": "Unknown",
            "type": "Mode"
           },
           "obstacles": [
            {
             "$type": "Tfl.Api.Presentation.Entities.JourneyPlanner.Obstacle, Tfl.Api.Presentation.Entities",
             "incline": "UP",
             "position": "AFTER",
             "stopId": 1000002,
             "type": "STAIRS"
            },
            {
             "$type": "Tfl.Api.Presentation.Entities.JourneyPlanner.Obstacle, Tfl.Api.Presentation.Entities",
             "incline": "DOWN",
             "position": "AFTER",
             "stopId": 1000002,
             "type": "STAIRS"
            }
           ],
           "path": {
            "$type": "Tfl.Api.Presentation.Entities.JourneyPlanner.Path, Tfl.Api.Presentation.Entities",
            "elevation": [],
            "lineString": "[[51.47133414008, -0.45297143671],[51.47129625217, -0.45093833188],[51.47119705219, -0.45023617707],[51.46562304245, -0.42736179058],[51.46551394189, -0.42660252651],[51.46550583066, -0.42599815248],[51.46559697209, -0.42541915544],[51.46638638497, -0.42360158321],[51.46638638497, -0.42360158321],[51.46680937918, -0.42262761335],[51.46718153783, -0.42154940001],[51.46922027601, -0.41469773922],[51.46967581535, -0.41314138278],[51.47188053313, -0.40662874577],[51.47266595611, -0.40421118384],[51.4731883564, -0.40229229392],[51.47494220963, -0.39704719586],[51.47507814629, -0.39646644862],[51.47513338514, -0.39590292812],[51.47512038717, -0.39495301203],[51.47498856672, -0.39386327385],[51.47478680503, -0.39291999464],[51.47423550195, -0.39075067401],[51.47358430283, -0.38851292937],[51.47345075673, -0.38795607167],[51.47337113566, -0.38739731574],[51.47335965335, -0.38656257661],[51.4733866923, -0.3859136657],[51.47341926289, -0.385734712],[51.47341926289, -0.385734712],[51.47387990381, -0.38320360757],[51.47400981566, -0.38219106752],[51.47403106901, -0.38112477083],[51.47390051231, -0.38013584652],[51.47368006827, -0.37915011351],[51.47336774641, -0.3780236576],[51.47223737126, -0.37496802597],[51.47157888271, -0.37287484377],[51.47133340786, -0.37138614109],[51.47123772117, -0.37032406734],[51.47125106032, -0.36869657304],[51.47133422543, -0.36620170922],[51.47133422543, -0.36620170922],[51.4713462021, -0.36584229009],[51.471437203, -0.36462956768],[51.47170628789, -0.36264734459],[51.47193784297, -0.36119919215],[51.47212169283, -0.36019909501],[51.47247924827, -0.35876079367],[51.4728923255, -0.35743566677],[51.47309198812, -0.35692453078],[51.47355472319, -0.35612620222],[51.47355472319, -0.35612620222],[51.47425972115, -0.35490986263],[51.47481464229, -0.35408352575],[51.47528513595, -0.35364900059],[51.47574088603, -0.35344539471],[51.47624258518, -0.35331212994],[51.47762670379, -0.35326228544],[51.47850114607, -0.35341800242],[51.47920219297, -0.35339275658],[51.4798650653, -0.35321047201],[51.48028385213, -0.35293616543],[51.48149076439, -0.35181184571],[51.48149076439, -0.35181184571],[51.48165077802, -0.35166277698],[51.48209207177, -0.35107079292],[51.48236279739, -0.35049935335],[51.48257878341, -0.34987227464],[51.48300527151, -0.34822943966],[51.48345936458, -0.34599508165],[51.48368842655, -0.34502183634],[51.48392951692, -0.34426418194],[51.48425966623, -0.34344568222],[51.48476834345, -0.34253428178],[51.49278966746, -0.32986928129],[51.49298247444, -0.32951650763],[51.49354004044, -0.32825725451],[51.4938018695, -0.3277002646],[51.49405676184, -0.32728757871],[51.49505998532, -0.32575263528],[51.49573468815, -0.32481625777],[51.49573468815, -0.32481625777],[51.49669122554, -0.3234886738],[51.49709621533, -0.32288314316],[51.49733208505, -0.32239906485],[51.49831750614, -0.31962555272],[51.49858208852, -0.31863613968],[51.49971676663, -0.31353113831],[51.49971676663, -0.31353113831],[51.50036424411, -0.31061752396],[51.50108944725, -0.30739114955],[51.50108944725, -0.30739114955],[51.50118391718, -0.30697082307],[51.50132127291, -0.30651908558],[51.50231360067, -0.30424901532],[51.502829938, -0.30264491839],[51.50303125403, -0.30164325011],[51.50329277414, -0.29983245096],[51.50433859847, -0.29320863743],[51.50460043866, -0.29204613102],[51.50562103371, -0.28865058866],[51.50578964306, -0.28788057234],[51.50587715008, -0.28709918206],[51.50585659227, -0.28630743346],[51.50570999464, -0.28550600685],[51.50538968178, -0.28450937827],[51.50364425624, -0.28137618171],[51.50277167788, -0.27986003801]]",
            "stopPoints": [
             {
              "$type": "Tfl.Api.Presentation.Entities.Identifier, Tfl.Api.Presentation.Entities",
              "id": "940GZZLUHNX",
              "name": "Hatton Cross Underground Station",
              "routeType": "Unknown",
              "status": "Unknown",
              "type": "StopPoint",
              "uri": "/StopPoint/940GZZLUHNX"
             },
             {
              "$type": "Tfl.Api.Presentation.Entities.Identifier, Tfl.Api.Presentation.Entities",
              "id": "940GZZLUHWT",
              "name": "Hounslow West Underground Station",
              "routeType": "Unknown",
              "status": "Unknown",
              "type": "StopPoint",
              "uri": "/StopPoint/940GZZLUHWT"
             },
             {
              "$type": "Tfl.Api.Presentation.Entities.Identifier, Tfl.Api.Presentation.Entities",
              "id": "940GZZLUHWC",
              "name": "Hounslow Central Underground Station",
              "routeType": "Unknown",
              "status": "Unknown",
              "type": "StopPoint",
              "uri": "/StopPoint/940GZZLUHWC"
             },
             {
              "$type": "Tfl.Api.Presentation.Entities.Identifier, Tfl.Api.Presentation.Entities",
              "id": "940GZZLUHWE",
              "name": "Hounslow East Underground Station",
              "routeType": "Unknown",
              "status": "Unknown",
              "type": "StopPoint",
              "uri": "/StopPoint/940GZZLUHWE"
             },
             {
              "$type": "Tfl.Api.Presentation.Entities.Identifier, Tfl.Api.Presentation.Entities",
              "id": "940GZZLUOSY",
              "name": "Osterley Underground Station",
              "routeType": "Unknown",
              "status": "Unknown",
              "type": "StopPoint",
              "uri": "/StopPoint/940GZZLUOSY"
             },
             {
              "$type": "Tfl.Api.Presentation.Entities.Identifier, Tfl.Api.Presentation.Entities",
              "id": "940GZZLUBOS",
              "name": "Boston Manor Underground Station",
              "routeType": "Unknown",
              "status": "Unknown",
              "type": "StopPoint",
              "uri": "/StopPoint/940GZZLUBOS"
             },
             {
              "$type": "Tfl.Api.Presentation.Entities.Identifier, Tfl.Api.Presentation.Entities",
              "id": "940GZZLUNFD",
              "name": "Northfields Underground Station",
              "routeType": "Unknown",
              "status": "Unknown",
              "type": "StopPoint",
              "uri": "/StopPoint/940GZZLUNFD"
             },
             {
              "$type": "Tfl.Api.Presentation.Entities.Identifier, Tfl.Api.Presentation.Entities",
              "id": "940GZZLUSEA",
              "name": "South Ealing Underground Station",
              "routeType": "Unknown",
              "status": "Unknown",
              "type": "StopPoint",
              "uri": "/StopPoint/940GZZLUSEA"
             },
             {
              "$type": "Tfl.Api.Presentation.Entities.Identifier, Tfl.Api.Presentation.Entities",
              "id": "940GZZLUACT",
              "name": "Acton Town Underground Station",
              "routeType": "Unknown",
              "status": "Unknown",
              "type": "StopPoint",
              "uri": "/StopPoint/940GZZLUACT"
             }
            ]
           },
           "plannedWorks": [],
           "routeOptions": [
            {
             "$type": "Tfl.Api.Presentation.Entities.JourneyPlanner.RouteOption, Tfl.Api.Presentation.Entities",
             "directions": [
              "Acton Town Underground Station"
             ],
             "lineIdentifier": {
              "$type": "Tfl.Api.Presentation.Entities.Identifier, Tfl.Api.Presentation.Entities",
              "crowding": {
               "$type": "Tfl.Api.Presentation.Entities.Crowding, Tfl.Api.Presentation.Entities"
              },
              "id": "piccadilly",
              "name": "Piccadilly",
              "routeType": "Unknown",
              "status": "Unknown",
              "type": "Line",
              "uri": "/Line/piccadilly"
             },
             "name": "Piccadilly"
            }
           ]
          },
          {
           "$type": "Tfl.Api.Presentation.Entities.JourneyPlanner.Leg, Tfl.Api.Presentation.Entities",
           "arrivalPoint": {
            "$type": "Tfl.Api.Presentation.Entities.StopPoint, Tfl.Api.Presentation.Entities",
            "additionalProperties": [],
            "commonName": "Ealing Broadway Underground Station",
            "icsCode": "1000062",
            "lat": 51.515198654260004,
            "lon": -0.30107544683,
            "naptanId": "940GZZLUEBY",
            "placeType": "StopPoint",
            "platformName": ""
           },
           "arrivalTime": "2022-02-11T00:57:00",
           "departurePoint": {
            "$type": "Tfl.Api.Presentation.Entities.StopPoint, Tfl.Api.Presentation.Entities",
            "additionalProperties": [],
            "commonName": "Acton Town Underground Station",
            "icsCode": "1000002",
            "lat": 51.502887867919995,
            "lon": -0.28007905392,
            "naptanId": "940GZZLUACT",
            "placeType": "StopPoint",
            "platformName": ""
           },
           "departureTime": "2022-02-11T00:52:00",
           "disruptions": [],
           "duration": 5,
           "hasFixedLocations": true,
           "instruction": {
            "$type": "Tfl.Api.Presentation.Entities.Instruction, Tfl.Api.Presentation.Entities",
            "detailed": "District line towards Ealing Broadway",
            "steps": [],
            "summary": "District line to Ealing Broadway"
           },
           "isDisrupted": false,
           "mode": {
            "$type": "Tfl.Api.Presentation.Entities.Identifier, Tfl.Api.Presentation.Entities",
            "id": "tube",
            "name": "tube",
            "routeType": "Unknown",
            "status": "Unknown",
            "type": "Mode"
           },
           "obstacles": [
            {
             "$type": "Tfl.Api.Presentation.Entities.JourneyPlanner.Obstacle, Tfl.Api.Presentation.Entities",
             "incline": "LEVEL",
             "position": "AFTER",
             "stopId": 1000062,
             "type": "WALKWAY"
            }
           ],
           "path": {
            "$type": "Tfl.Api.Presentation.Entities.JourneyPlanner.Path, Tfl.Api.Presentation.Entities",
            "elevation": [],
            "lineString": "[[51.50289319766, -0.28007117856],[51.50364425624, -0.28137618171],[51.50538968178, -0.28450937827],[51.50602209238, -0.28594098697],[51.50639920459, -0.28651763007],[51.50673762993, -0.28690840696],[51.50712829613, -0.28718195194],[51.50763579834, -0.2874511209],[51.50825135939, -0.2877306549],[51.50891958304, -0.28792175979],[51.50993997786, -0.28819875263],[51.50993997786, -0.28819875263],[51.51003906981, -0.28822565243],[51.51038038204, -0.28819844899],[51.51205977025, -0.28804903199],[51.51313447714, -0.28774933211],[51.51367330211, -0.28770030484],[51.51413397365, -0.28784156363],[51.51453299444, -0.28807160963],[51.51483399388, -0.288362983],[51.5150260927, -0.2885863798],[51.51507438402, -0.29189941031],[51.51521182831, -0.29516588096],[51.51520242295, -0.30107546248]]",
            "stopPoints": [
             {
              "$type": "Tfl.Api.Presentation.Entities.Identifier, Tfl.Api.Presentation.Entities",
              "id": "940GZZLUECM",
              "name": "Ealing Common Underground Station",
              "routeType": "Unknown",
              "status": "Unknown",
              "type": "StopPoint",
              "uri": "/StopPoint/940GZZLUECM"
             },
             {
              "$type": "Tfl.Api.Presentation.Entities.Identifier, Tfl.Api.Presentation.Entities",
              "id": "940GZZLUEBY",
              "name": "Ealing Broadway Underground Station",
              "routeType": "Unknown",
              "status": "Unknown",
              "type": "StopPoint",
              "uri": "/StopPoint/940GZZLUEBY"
             }
            ]
           },
           "plannedWorks": [],
           "routeOptions": [
            {
             "$type": "Tfl.Api.Presentation.Entities.JourneyPlanner.RouteOption, Tfl.Api.Presentation.Entities",
             "directions": [
              "Ealing Broadway Underground Station"
             ],
             "lineIdentifier": {
              "$type": "Tfl.Api.Presentation.Entities.Identifier, Tfl.Api.Presentation.Entities",
              "crowding": {
               "$type": "Tfl.Api.Presentation.Entities.Crowding, Tfl.Api.Presentation.Entities"
              },
              "id": "district",
              "name": "District",
              "routeType": "Unknown",
              "status": "Unknown",
              "type": "Line",
              "uri": "/Line/district"
             },
             "name": "District"
            }
           ]
          },
          {
           "$type": "Tfl.Api.Presentation.Entities.JourneyPlanner.Leg, Tfl.Api.Presentation.Entities",
           "arrivalPoint": {
            "$type": "Tfl.Api.Presentation.Entities.StopPoint, Tfl.Api.Presentation.Entities",
            "additionalProperties": [],
            "commonName": "White City Underground Station",
            "icsCode": "1000269",
            "lat": 51.51200238775,
            "lon": -0.22430939357,
            "naptanId": "940GZZLUWCY",
            "placeType": "StopPoint",
            "platformName": ""
           },
           "arrivalTime": "2022-02-11T01:17:00",
           "departurePoint": {
            "$type": "Tfl.Api.Presentation.Entities.StopPoint, Tfl.Api.Presentation.Entities",
            "additionalProperties": [],
            "commonName": "Ealing Broadway Underground Station",
            "icsCode": "1000062",
            "lat": 51.515204078100005,
            "lon": -0.3014499667,
            "naptanId": "940GZZLUEBY",
            "placeType": "StopPoint",
            "platformName": ""
           },
           "departureTime": "2022-02-11T01:08:00",
           "disruptions": [],
           "duration": 9,
           "hasFixedLocations": true,
           "instruction": {
            "$type": "Tfl.Api.Presentation.Entities.Instruction, Tfl.Api.Presentation.Entities",
            "detailed": "Central line towards White City",
            "steps": [],
            "summary": "Central line to White City"
           },
           "isDisrupted": false,
           "mode": {
            "$type": "Tfl.Api.Presentation.Entities.Identifier, Tfl.Api.Presentation.Entities",
            "id": "tube",
            "name": "tube",
            "routeType": "Unknown",
            "status": "Unknown",
            "type": "Mode"
           },
           "obstacles": [],
           "path": {
            "$type": "Tfl.Api.Presentation.Entities.JourneyPlanner.Path, Tfl.Api.Presentation.Entities",
            "elevation": [],
            "lineString": "[[51.51520181689, -0.3014499573],[51.51521182831, -0.29516588096],[51.51507438402, -0.29189941031],[51.5150260927, -0.2885863798],[51.51507801835, -0.28721525997],[51.51516383582, -0.28631847323],[51.51534871847, -0.28543237569],[51.51562388975, -0.28457170394],[51.51592019071, -0.28392641689],[51.51781304001, -0.28116000174],[51.51819013421, -0.28063760282],[51.51819013421, -0.28063760282],[51.51971671151, -0.27852267072],[51.52263331871, -0.27444862894],[51.52419163228, -0.27218418879],[51.52446259902, -0.27165497989],[51.52481062689, -0.27086336771],[51.52504096419, -0.27001854147],[51.52508228848, -0.26977191102],[51.52515764864, -0.26939424967],[51.52522253202, -0.2689160752],[51.52522322618, -0.26835384078],[51.52518047028, -0.26789416423],[51.52498864193, -0.26647430682],[51.52488147676, -0.26591617259],[51.52457108449, -0.26438551709],[51.52447417613, -0.26391349478],[51.52397056394, -0.26148206307],[51.52361749055, -0.2597087199],[51.52361749055, -0.2597087199],[51.52326127212, -0.25791974413],[51.52293173117, -0.25631785261],[51.52257007747, -0.2549766776],[51.52237019843, -0.25423475294],[51.52211767819, -0.25358133646],[51.52179368551, -0.25295949144],[51.52103100332, -0.2518643629],[51.51973419697, -0.25053028517],[51.51729676551, -0.24808697043],[51.51711074932, -0.24785435522],[51.51711074932, -0.24785435522],[51.5166369885, -0.24726192337],[51.51626824235, -0.24665632781],[51.51595147789, -0.24591903085],[51.51547841164, -0.24435182264],[51.51537157395, -0.24382266711],[51.51527601991, -0.24284629259],[51.51526112671, -0.24185240386],[51.51532667783, -0.24082659147],[51.51603788428, -0.23310278488],[51.51611104305, -0.23199017013],[51.51612323639, -0.23100962884],[51.51608215073, -0.23007439051],[51.51595734613, -0.22895503511],[51.5157895538, -0.22796706824],[51.51555797235, -0.22692393499],[51.51521744684, -0.22581298249],[51.51502370565, -0.22548902404],[51.51470414386, -0.22516995878],[51.51434972264, -0.22492431423],[51.51358870024, -0.22455036123],[51.51310099726, -0.22441079283],[51.51200243291, -0.22430815205]]",
            "stopPoints": [
             {
              "$type": "Tfl.Api.Presentation.Entities.Identifier, Tfl.Api.Presentation.Entities",
              "id": "940GZZLUWTA",
              "name": "West Acton Underground Station",
              "routeType": "Unknown",
              "status": "Unknown",
              "type": "StopPoint",
              "uri": "/StopPoint/940GZZLUWTA"
             },
             {
              "$type": "Tfl.Api.Presentation.Entities.Identifier, Tfl.Api.Presentation.Entities",
              "id": "940GZZLUNAN",
              "name": "North Acton Underground Station",
              "routeType": "Unknown",
              "status": "Unknown",
              "type": "StopPoint",
              "uri": "/StopPoint/940GZZLUNAN"
             },
             {
              "$type": "Tfl.Api.Presentation.Entities.Identifier, Tfl.Api.Presentation.Entities",
              "id": "940GZZLUWCY",
              "name": "White City Underground Station",
              "routeType": "Unknown",
              "status": "Unknown",
              "type": "StopPoint",
              "uri": "/StopPoint/940GZZLUWCY"
             }
            ]
           },
           "plannedWorks": [],
           "routeOptions": [
            {
             "$type": "Tfl.Api.Presentation.Entities.JourneyPlanner.RouteOption, Tfl.Api.Presentation.Entities",
             "directions": [
              "White City Underground Station"
             ],
             "lineIdentifier": {
              "$type": "Tfl.Api.Presentation.Entities.Identifier, Tfl.Api.Presentation.Entities",
              "crowding": {
               "$type": "Tfl.Api.Presentation.Entities.Crowding, Tfl.Api.Presentation.Entities"
              },
              "id": "central",
              "name": "Central",
              "routeType": "Unknown",
              "status": "Unknown",
              "type": "Line",
              "uri": "/Line/central"
             },
             "name": "Central"
            }
           ]
          },
          {
           "$type": "Tfl.Api.Presentation.Entities.JourneyPlanner.Leg, Tfl.Api.Presentation.Entities",
           "arrivalPoint": {
            "$type": "Tfl.Api.Presentation.Entities.StopPoint, Tfl.Api.Presentation.Entities",
            "additionalProperties": [],
            "commonName": "Wood Lane Underground Station",
            "icsCode": "1000278",
            "lat": 51.50969051594,
            "lon": -0.22425517359,
            "naptanId": "940GZZLUWLA",
            "placeType": "StopPoint",
            "platformName": ""
           },
           "arrivalTime": "2022-02-11T01:28:00",
           "departurePoint": {
            "$type": "Tfl.Api.Presentation.Entities.StopPoint, Tfl.Api.Presentation.Entities",
            "additionalProperties": [],
            "commonName": "White City Underground Station",
            "icsCode": "1000269",
            "lat": 51.51200238775,
            "lon": -0.22430939357,
            "naptanId": "940GZZLUWCY",
            "placeType": "StopPoint",
            "platformName": ""
           },
           "departureTime": "2022-02-11T01:17:00",
           "disruptions": [],
           "duration": 11,
           "hasFixedLocations": true,
           "instruction": {
            "$type": "Tfl.Api.Presentation.Entities.Instruction, Tfl.Api.Presentation.Entities",
            "detailed": "Walk to Wood Lane",
            "steps": [
             {
              "$type": "Tfl.Api.Presentation.Entities.InstructionStep, Tfl.Api.Presentation.Entities",
              "cumulativeDistance": 23,
              "cumulativeTravelTime": 21,
              "description": "Wood Lane for 23 metres",
              "descriptionHeading": "Continue along ",
              "distance": 23,
              "latitude": 51.51196399278,
              "longitude": -0.22474323091,
              "pathAttribute": {
               "$type": "Tfl.Api.Presentation.Entities.PathAttribute, Tfl.Api.Presentation.Entities"
              },
              "skyDirection": 529,
              "skyDirectionDescription": "North",
              "streetName": "Wood Lane",
              "trackType": "None",
              "turnDirection": "STRAIGHT"
             }
            ],
            "summary": "Walk to Wood Lane"
           },
           "isDisrupted": false,
           "mode": {
            "$type": "Tfl.Api.Presentation.Entities.Identifier, Tfl.Api.Presentation.Entities",
            "id": "walking",
            "name": "walking",
            "routeType": "Unknown",
            "status": "Unknown",
            "type": "Mode"
           },
           "obstacles": [
            {
             "$type": "Tfl.Api.Presentation.Entities.JourneyPlanner.Obstacle, Tfl.Api.Presentation.Entities",
             "incline": "UP",
             "position": "IDEST",
             "stopId": 1000269,
             "type": "STAIRS"
            },
            {
             "$type": "Tfl.Api.Presentation.Entities.JourneyPlanner.Obstacle, Tfl.Api.Presentation.Entities",
             "incline": "DOWN",
             "position": "IDEST",
             "stopId": 1000269,
             "type": "STAIRS"
            },
            {
             "$type": "Tfl.Api.Presentation.Entities.JourneyPlanner.Obstacle, Tfl.Api.Presentation.Entities",
             "incline": "LEVEL",
             "position": "IDEST",
             "stopId": 1000269,
             "type": "WALKWAY"
            },
            {
             "$type": "Tfl.Api.Presentation.Entities.JourneyPlanner.Obstacle, Tfl.Api.Presentation.Entities",
             "incline": "LEVEL",
             "position": "IDEST",
             "stopId": 1000269,
             "type": "WALKWAY"
            },
            {
             "$type": "Tfl.Api.Presentation.Entities.JourneyPlanner.Obstacle, Tfl.Api.Presentation.Entities",
             "incline": "UP",
             "position": "IDEST",
             "stopId": 1000278,
             "type": "STAIRS"
            }
           ],
           "path": {
            "$type": "Tfl.Api.Presentation.Entities.JourneyPlanner.Path, Tfl.Api.Presentation.Entities",
            "elevation": [],
            "lineString": "[[51.51200238775, -0.22430939357],[51.51205565634, -0.22426408776],[51.51196399278, -0.22474323091],[51.51196399278, -0.22474323091],[51.51194423282, -0.22488664324],[51.51173871726, -0.22483375089],[51.51187564743, -0.2248475454],[51.50967559418, -0.22445750438],[51.50969051594, -0.22425517359]]",
            "stopPoints": [
             {
              "$type": "Tfl.Api.Presentation.Entities.Identifier, Tfl.Api.Presentation.Entities",
              "name": "Wood Lane",
              "routeType": "Unknown",
              "status": "Unknown",
              "type": "StopPoint",
              "uri": "/StopPoint/"
             }
            ]
           },
           "plannedWorks": [],
           "routeOptions": [
            {
             "$type": "Tfl.Api.Presentation.Entities.JourneyPlanner.RouteOption, Tfl.Api.Presentation.Entities",
             "directions": [
              ""
             ],
             "name": ""
            }
           ]
          },
          {
           "$type": "Tfl.Api.Presentation.Entities.JourneyPlanner.Leg, Tfl.Api.Presentation.Entities",
           "arrivalPoint": {
            "$type": "Tfl.Api.Presentation.Entities.StopPoint, Tfl.Api.Presentation.Entities",
            "additionalProperties": [],
            "commonName": "Aldgate Underground Station",
            "icsCode": "1000003",
            "lat": 51.514142438840004,
            "lon": -0.07550562182,
            "naptanId": "940GZZLUALD",
            "placeType": "StopPoint",
            "platformName": ""
           },
           "arrivalTime": "2022-02-11T05:11:00",
           "departurePoint": {
            "$type": "Tfl.Api.Presentation.Entities.StopPoint, Tfl.Api.Presentation.Entities",
            "additionalProperties": [],
            "commonName": "Wood Lane Underground Station",
            "icsCode": "1000278",
            "lat": 51.50969051594,
            "lon": -0.22425517359,
            "naptanId": "940GZZLUWLA",
            "placeType": "StopPoint",
            "platformName": ""
           },
           "departureTime": "2022-02-11T04:43:00",
           "disruptions": [
            {
             "$type": "Tfl.Api.Presentation.Entities.Disruption, Tfl.Api.Presentation.Entities",
             "additionalInfo": "Check our <a href=\"http://www.tfl.gov.uk/northern-line-closure\">travel advice page </a>for more information",
             "category": "PlannedWork",
             "categoryDescription": "PlannedWork",
             "created": "2021-11-04T17:09:00",
             "description": "From Saturday 15 January to mid May 2022, the Northern line will be closed between Kennington and Moorgate as part of major upgrade works. \n\nDuring this time, Aldgate Station is expected to be busy between 07:45-08:45 and 16:30-18:45. \n\nPlease consider travelling at the quieter times for a more comfortable journey. If you must travel at the busier times, allow more time for your journey",
             "lastUpdate": "2021-11-04T17:10:00",
             "summary": "",
             "type": "stopInfo"
            }
           ],
           "duration": 28,
           "hasFixedLocations": true,
           "instruction": {
            "$type": "Tfl.Api.Presentation.Entities.Instruction, Tfl.Api.Presentation.Entities",
            "detailed": "Circle line towards Paddington and Baker Street",
            "steps": [],
            "summary": "Circle line to Aldgate"
           },
           "isDisrupted": true,
           "mode": {
            "$type": "Tfl.Api.Presentation.Entities.Identifier, Tfl.Api.Presentation.Entities",
            "id": "tube",
            "name": "tube",
            "routeType": "Unknown",
            "status": "Unknown",
            "type": "Mode"
           },
           "obstacles": [],
           "path": {
            "$type": "Tfl.Api.Presentation.Entities.JourneyPlanner.Path, Tfl.Api.Presentation.Entities",
            "elevation": [],
            "lineString": "[[51.50968301009, -0.22424226511],[51.51020897901, -0.2234568246],[51.51061082215, -0.22267740689],[51.5112614931, -0.22111007887],[51.51164600159, -0.22037453178],[51.51350452502, -0.21778388977],[51.51350452502, -0.21778388977],[51.51353929977, -0.21773541357],[51.51609428864, -0.21426309051],[51.51654012627, -0.213424116],[51.51690265954, -0.21242984237],[51.51718430073, -0.21143872154],[51.51735107887, -0.21075301625],[51.51735107887, -0.21075301625],[51.51792044875, -0.20841189933],[51.51840545487, -0.20719654313],[51.51876379333, -0.20651944358],[51.52041963261, -0.20424902398],[51.52067187422, -0.20369135983],[51.52089295893, -0.20286104335],[51.52097355763, -0.20225246716],[51.52098203628, -0.20163231542],[51.52098203628, -0.20163231542],[51.52082079093, -0.20049993614],[51.52055080628, -0.19931419666],[51.52000181443, -0.1969431155],[51.51983419592, -0.19598399644],[51.51970408319, -0.19395676707],[51.51963141362, -0.19332542775],[51.51930875278, -0.19106080695],[51.51911386746, -0.18892087259],[51.51907754187, -0.18823032626],[51.51907754187, -0.18823032626],[51.51868080221, -0.18069343121],[51.51861794246, -0.18011938969],[51.51851957946, -0.17957559261],[51.51820555647, -0.17858816995],[51.51820555647, -0.17858816995],[51.51777270416, -0.1772271618],[51.51759322206, -0.17667220697],[51.51748406447, -0.17601355398],[51.51750094353, -0.17536428045],[51.51832131831, -0.17087769803],[51.51851813044, -0.17023561253],[51.51950689036, -0.16848072256],[51.51991875165, -0.16752169977],[51.51991875165, -0.16752169977],[51.52035721818, -0.16650068694],[51.52062116971, -0.16555315517],[51.52094148363, -0.16418532797],[51.52218288716, -0.15733160822],[51.52226700329, -0.15683475944],[51.52226700329, -0.15683475944],[51.52253671206, -0.15524157388],[51.52302385185, -0.152483018],[51.52331869053, -0.14893936086],[51.52388780596, -0.14568723551],[51.52392965361, -0.14492151917],[51.52386593493, -0.14430424725],[51.52383984407, -0.14364205716],[51.52383984407, -0.14364205716],[51.5238358799, -0.14354145423],[51.52385235005, -0.14287767682],[51.52400530137, -0.14174705022],[51.52496215061, -0.13744103657],[51.5253885995, -0.13598204663],[51.52564614629, -0.13530186722],[51.52564614629, -0.13530186722],[51.52630338608, -0.13356601838],[51.5276703022, -0.12961763388],[51.52852618865, -0.12746327497],[51.52928571468, -0.125471381],[51.5297269887, -0.12438637723],[51.52990258571, -0.1239923675],[51.52990258571, -0.1239923675],[51.53055167348, -0.1225358727],[51.53064913358, -0.12188307245],[51.53060255943, -0.12065949701],[51.53053249675, -0.12021543878],[51.53036219443, -0.11968900705],[51.52840314755, -0.1158483344],[51.52782032832, -0.11483439414],[51.52750575432, -0.11428514092],[51.52687891607, -0.11333072536],[51.52427170691, -0.10945979548],[51.52378380948, -0.10875923219],[51.5233777161, -0.10811295423],[51.52298037334, -0.10745190966],[51.5224940918, -0.10685222524],[51.52135263716, -0.10577522016],[51.52094932018, -0.10530186156],[51.52064140985, -0.10504955105],[51.52064140985, -0.10504955105],[51.52022937874, -0.10471192692],[51.51999959493, -0.10440435359],[51.51981241446, -0.10395087222],[51.51970634371, -0.10350843915],[51.51964473789, -0.10303533224],[51.51963648036, -0.1019690301],[51.51968014151, -0.10133299265],[51.5200825659, -0.09952888607],[51.52030272291, -0.09798206726],[51.52030272291, -0.09798206726],[51.52035704894, -0.09760034925],[51.52038411554, -0.0970514752],[51.52031139335, -0.09644910396],[51.52018498315, -0.09586338829],[51.51852361145, -0.08939385129],[51.51852361145, -0.08939385129],[51.51813042367, -0.08786301218],[51.51761119202, -0.08469937193],[51.51727769164, -0.08245045646],[51.51726066329, -0.08236792657],[51.51726066329, -0.08236792657],[51.51696515615, -0.08093577104],[51.5166871068, -0.07988087888],[51.51589993069, -0.07793940407],[51.51523213444, -0.07669919123],[51.51470786395, -0.07598623153],[51.51414424881, -0.07550023006]]",
            "stopPoints": [
             {
              "$type": "Tfl.Api.Presentation.Entities.Identifier, Tfl.Api.Presentation.Entities",
              "id": "940GZZLULRD",
              "name": "Latimer Road Underground Station",
              "routeType": "Unknown",
              "status": "Unknown",
              "type": "StopPoint",
              "uri": "/StopPoint/940GZZLULRD"
             },
             {
              "$type": "Tfl.Api.Presentation.Entities.Identifier, Tfl.Api.Presentation.Entities",
              "id": "940GZZLULAD",
              "name": "Ladbroke Grove Underground Station",
              "routeType": "Unknown",
              "status": "Unknown",
              "type": "StopPoint",
              "uri": "/StopPoint/940GZZLULAD"
             },
             {
              "$type": "Tfl.Api.Presentation.Entities.Identifier, Tfl.Api.Presentation.Entities",
              "id": "940GZZLUWSP",
              "name": "Westbourne Park Underground Station",
              "routeType": "Unknown",
              "status": "Unknown",
              "type": "StopPoint",
              "uri": "/StopPoint/940GZZLUWSP"
             },
             {
              "$type": "Tfl.Api.Presentation.Entities.Identifier, Tfl.Api.Presentation.Entities",
              "id": "940GZZLURYO",
              "name": "Royal Oak Underground Station",
              "routeType": "Unknown",
              "status": "Unknown",
              "type": "StopPoint",
              "uri": "/StopPoint/940GZZLURYO"
             },
             {
              "$type": "Tfl.Api.Presentation.Entities.Identifier, Tfl.Api.Presentation.Entities",
              "id": "940GZZLUPAH",
              "name": "Paddington (H&C Line)-Underground",
              "routeType": "Unknown",
              "status": "Unknown",
              "type": "StopPoint",
              "uri": "/StopPoint/940GZZLUPAH"
             },
             {
              "$type": "Tfl.Api.Presentation.Entities.Identifier, Tfl.Api.Presentation.Entities",
              "id": "940GZZLUERC",
              "name": "Edgware Road (Circle Line) Underground Station",
              "routeType": "Unknown",
              "status": "Unknown",
              "type": "StopPoint",
              "uri": "/StopPoint/940GZZLUERC"
             },
             {
              "$type": "Tfl.Api.Presentation.Entities.Identifier, Tfl.Api.Presentation.Entities",
              "id": "940GZZLUBST",
              "name": "Baker Street Underground Station",
              "routeType": "Unknown",
              "status": "Unknown",
              "type": "StopPoint",
              "uri": "/StopPoint/940GZZLUBST"
             },
             {
              "$type": "Tfl.Api.Presentation.Entities.Identifier, Tfl.Api.Presentation.Entities",
              "id": "940GZZLUGPS",
              "name": "Great Portland Street Underground Station",
              "routeType": "Unknown",
              "status": "Unknown",
              "type": "StopPoint",
              "uri": "/StopPoint/940GZZLUGPS"
             },
             {
              "$type": "Tfl.Api.Presentation.Entities.Identifier, Tfl.Api.Presentation.Entities",
              "id": "940GZZLUESQ",
              "name": "Euston Square Underground Station",
              "routeType": "Unknown",
              "status": "Unknown",
              "type": "StopPoint",
              "uri": "/StopPoint/940GZZLUESQ"
             },
             {
              "$type": "Tfl.Api.Presentation.Entities.Identifier, Tfl.Api.Presentation.Entities",
              "id": "940GZZLUKSX",
              "name": "King's Cross St. Pancras Underground Station",
              "routeType": "Unknown",
              "status": "Unknown",
              "type": "StopPoint",
              "uri": "/StopPoint/940GZZLUKSX"
             },
             {
              "$type": "Tfl.Api.Presentation.Entities.Identifier, Tfl.Api.Presentation.Entities",
              "id": "940GZZLUFCN",
              "name": "Farringdon Underground Station",
              "routeType": "Unknown",
              "status": "Unknown",
              "type": "StopPoint",
              "uri": "/StopPoint/940GZZLUFCN"
             },
             {
              "$type": "Tfl.Api.Presentation.Entities.Identifier, Tfl.Api.Presentation.Entities",
              "id": "940GZZLUBBN",
              "name": "Barbican Underground Station",
              "routeType": "Unknown",
              "status": "Unknown",
              "type": "StopPoint",
              "uri": "/StopPoint/940GZZLUBBN"
             },
             {
              "$type": "Tfl.Api.Presentation.Entities.Identifier, Tfl.Api.Presentation.Entities",
              "id": "940GZZLUMGT",
              "name": "Moorgate Underground Station",
              "routeType": "Unknown",
              "status": "Unknown",
              "type": "StopPoint",
              "uri": "/StopPoint/940GZZLUMGT"
             },
             {
              "$type": "Tfl.Api.Presentation.Entities.Identifier, Tfl.Api.Presentation.Entities",
              "id": "940GZZLULVT",
              "name": "Liverpool Street Underground Station",
              "routeType": "Unknown",
              "status": "Unknown",
              "type": "StopPoint",
              "uri": "/StopPoint/940GZZLULVT"
             },
             {
              "$type": "Tfl.Api.Presentation.Entities.Identifier, Tfl.Api.Presentation.Entities",
              "id": "940GZZLUALD",
              "name": "Aldgate Underground Station",
              "routeType": "Unknown",
              "status": "Unknown",
              "type": "StopPoint",
              "uri": "/StopPoint/940GZZLUALD"
             }
            ]
           },
           "plannedWorks": [],
           "routeOptions": [
            {
             "$type": "Tfl.Api.Presentation.Entities.JourneyPlanner.RouteOption, Tfl.Api.Presentation.Entities",
             "directions": [
              "Paddington and Baker Street"
             ],
             "lineIdentifier": {
              "$type": "Tfl.Api.Presentation.Entities.Identifier, Tfl.Api.Presentation.Entities",
              "crowding": {
               "$type": "Tfl.Api.Presentation.Entities.Crowding, Tfl.Api.Presentation.Entities"
              },
              "id": "circle",
              "name": "Circle",
              "routeType": "Unknown",
              "status": "Unknown",
              "type": "Line",
              "uri": "/Line/circle"
             },
             "name": "Circle"
            }
           ]
          },
          {
           "$type": "Tfl.Api.Presentation.Entities.JourneyPlanner.Leg, Tfl.Api.Presentation.Entities",
           "arrivalPoint": {
            "$type": "Tfl.Api.Presentation.Entities.Place, Tfl.Api.Presentation.Entities",
            "commonName": "1 Tower Bridge, Tower Hamlets",
            "lat": 51.505498499990004,
            "lon": -0.07537992570999999,
            "placeType": "StopPoint"
           },
           "arrivalTime": "2022-02-11T05:30:00",
           "departurePoint": {
            "$type": "Tfl.Api.Presentation.Entities.StopPoint, Tfl.Api.Presentation.Entities",
            "additionalProperties": [],
            "commonName": "Aldgate Underground Station",
            "icsCode": "1000003",
            "lat": 51.514142438840004,
            "lon": -0.07550562182,
            "naptanId": "940GZZLUALD",
            "placeType": "StopPoint",
            "platformName": ""
           },
           "departureTime": "2022-02-11T05:11:00",
           "disruptions": [],
           "distance": 1037,
           "duration": 19,
           "hasFixedLocations": false,
           "instruction": {
            "$type": "Tfl.Api.Presentation.Entities.Instruction, Tfl.Api.Presentation.Entities",
            "detailed": "Walk to 1 Tower Bridge, Tower Hamlets",
            "steps": [
             {
              "$type": "Tfl.Api.Presentation.Entities.InstructionStep, Tfl.Api.Presentation.Entities",
              "cumulativeDistance": 55,
              "cumulativeTravelTime": 49,
              "description": "Aldgate High Street for 55 metres",
              "descriptionHeading": "Continue along ",
              "distance": 55,
              "latitude": 51.51402136197,
              "longitude": -0.07525130171,
              "pathAttribute": {
               "$type": "Tfl.Api.Presentation.Entities.PathAttribute, Tfl.Api.Presentation.Entities"
              },
              "skyDirection": 239,
              "skyDirectionDescription": "SouthWest",
              "streetName": "Aldgate High Street",
              "trackType": "None",
              "turnDirection": "STRAIGHT"
             },
             {
              "$type": "Tfl.Api.Presentation.Entities.InstructionStep, Tfl.Api.Presentation.Entities",
              "cumulativeDistance": 508,
              "cumulativeTravelTime": 460,
              "description": "on to Minories, continue for 453 metres",
              "descriptionHeading": "Take a slight left",
              "distance": 453,
              "latitude": 51.51378108665,
              "longitude": -0.07595322173,
              "pathAttribute": {
               "$type": "Tfl.Api.Presentation.Entities.PathAttribute, Tfl.Api.Presentation.Entities"
              },
              "skyDirection": 535,
              "skyDirectionDescription": "North",
              "streetName": "Minories",
              "trackType": "None",
              "turnDirection": "SLIGHT_LEFT"
             },
             {
              "$type": "Tfl.Api.Presentation.Entities.InstructionStep, Tfl.Api.Presentation.Entities",
              "cumulativeDistance": 598,
              "cumulativeTravelTime": 541,
              "description": "on to Tower Hill, continue for 90 metres",
              "descriptionHeading": "Continue along ",
              "distance": 90,
              "latitude": 51.509919091069996,
              "longitude": -0.07460277288,
              "pathAttribute": {
               "$type": "Tfl.Api.Presentation.Entities.PathAttribute, Tfl.Api.Presentation.Entities"
              },
              "skyDirection": 500,
              "skyDirectionDescription": "North",
              "streetName": "Tower Hill",
              "trackType": "None",
              "turnDirection": "STRAIGHT"
             },
             {
              "$type": "Tfl.Api.Presentation.Entities.InstructionStep, Tfl.Api.Presentation.Entities",
              "cumulativeDistance": 914,
              "cumulativeTravelTime": 825,
              "description": "on to Tower Bridge Approach, continue for 316 metres",
              "descriptionHeading": "Take a slight right",
              "distance": 316,
              "latitude": 51.509285553039994,
              "longitude": -0.07380806143,
              "pathAttribute": {
               "$type": "Tfl.Api.Presentation.Entities.PathAttribute, Tfl.Api.Presentation.Entities"
              },
              "skyDirection": 190,
              "skyDirectionDescription": "North",
              "streetName": "Tower Bridge Approach",
              "trackType": "None",
              "turnDirection": "SLIGHT_RIGHT"
             },
             {
              "$type": "Tfl.Api.Presentation.Entities.InstructionStep, Tfl.Api.Presentation.Entities",
              "cumulativeDistance": 1037,
              "cumulativeTravelTime": 930,
              "description": "on to Tower Bridge, continue for 123 metres",
              "descriptionHeading": "Continue along ",
              "distance": 123,
              "latitude": 51.50651207448,
              "longitude": -0.07467435327000001,
              "pathAttribute": {
               "$type": "Tfl.Api.Presentation.Entities.PathAttribute, Tfl.Api.Presentation.Entities"
              },
              "skyDirection": 202,
              "skyDirectionDescription": "North",
              "streetName": "Tower Bridge",
              "trackType": "None",
              "turnDirection": "STRAIGHT"
             }
            ],
            "summary": "Walk to 1 Tower Bridge, Tower Hamlets"
           },
           "isDisrupted": false,
           "mode": {
            "$type": "Tfl.Api.Presentation.Entities.Identifier, Tfl.Api.Presentation.Entities",
            "id": "walking",
            "name": "walking",
            "routeType": "Unknown",
            "status": "Unknown",
            "type": "Mode"
           },
           "obstacles": [
            {
             "$type": "Tfl.Api.Presentation.Entities.JourneyPlanner.Obstacle, Tfl.Api.Presentation.Entities",
             "incline": "UP",
             "position": "BEFORE",
             "stopId": 1000003,
             "type": "STAIRS"
            },
            {
             "$type": "Tfl.Api.Presentation.Entities.JourneyPlanner.Obstacle, Tfl.Api.Presentation.Entities",
             "incline": "LEVEL",
             "position": "BEFORE",
             "stopId": 1000003,
             "type": "WALKWAY"
            }
           ],
           "path": {
            "$type": "Tfl.Api.Presentation.Entities.JourneyPlanner.Path, Tfl.Api.Presentation.Entities",
            "elevation": [],
            "lineString": "[[51.51414243884, -0.07550562182],[51.51399014325, -0.07554086554],[51.51404879377, -0.07527897019],[51.51402136197, -0.07525130171],[51.51390122485, -0.07560226264],[51.51382389201, -0.07582170696],[51.51378108665, -0.07595322173],[51.51357392762, -0.07593312636],[51.51296711518, -0.07567045429],[51.5126963426, -0.07560980536],[51.51257881087, -0.07557152271],[51.51209165641, -0.07547675883],[51.51195638823, -0.07545363626],[51.51161254289, -0.07532401136],[51.51138693829, -0.07527587384],[51.51114738359, -0.07492568336],[51.51099745182, -0.07510494126],[51.5108983654, -0.07509470653],[51.51072644255, -0.0750298966],[51.51063610611, -0.0750048819],[51.51056374241, -0.07497910967],[51.51029273305, -0.0749040664],[51.51018418746, -0.07486540859],[51.51004726435, -0.07474148037],[51.50991909107, -0.07460277288],[51.50968024384, -0.07429580021],[51.5094690644, -0.07403089675],[51.50928555304, -0.07380806143],[51.50908879906, -0.07387400345],[51.50877593176, -0.07398807411],[51.50857823169, -0.0739964117],[51.50844390916, -0.07403089771],[51.50782550511, -0.07415784955],[51.50715365551, -0.07431587169],[51.50694815118, -0.07439658728],[51.50688571945, -0.07442803979],[51.50651207448, -0.07467435327],[51.50549849999, -0.07537992571]]",
            "stopPoints": []
           },
           "plannedWorks": [],
           "routeOptions": [
            {
             "$type": "Tfl.Api.Presentation.Entities.JourneyPlanner.RouteOption, Tfl.Api.Presentation.Entities",
             "directions": [
              ""
             ],
             "name": ""
            }
           ]
          }
         ],
         "startDateTime": "2022-02-11T00:11:00"
        },
        {
         "$type": "Tfl.Api.Presentation.Entities.JourneyPlanner.Journey, Tfl.Api.Presentation.Entities",
         "arrivalDateTime": "2022-02-11T06:27:00",
         "duration": 85,
         "fare": {
          "$type": "Tfl.Api.Presentation.Entities.JourneyPlanner.JourneyFare, Tfl.Api.Presentation.Entities",
          "caveats": [
           {
            "$type": "Tfl.Api.Presentation.Entities.JourneyPlanner.FareCaveat, Tfl.Api.Presentation.Entities",
            "text": "<p>Fares between two stations may vary depending on the direction of travel, time of day and day of the week.</p><p>We charge higher fares at the busiest times of the day (usually between 06:30 and 09:30, and between 16:00 and 19:00, Monday to Friday).</p><p>When you pay as you go, you must touch your contactless or Oyster card on a yellow reader at the start and end of your journey.</p><p>Some journeys are charged via Zone 1 regardless of the route taken.</p><p>If your journey avoids Zone 1 and you see a pink card reader when changing trains, touch your contactless or Oyster card on it to pay the right fare.</p>",
            "type": "allRailModes"
           },
           {
            "$type": "Tfl.Api.Presentation.Entities.JourneyPlanner.FareCaveat, Tfl.Api.Presentation.Entities",
            "text": "The price shown is a single adult pay as you go fare.",
            "type": "generic"
           }
          ],
          "fares": [
           {
            "$type": "Tfl.Api.Presentation.Entities.JourneyPlanner.Fare, Tfl.Api.Presentation.Entities",
            "chargeLevel": "Off Peak",
            "chargeProfileName": "Z1 PM Counterflow",
            "cost": 330,
            "highZone": 6,
            "isHopperFare": false,
            "lowZone": 1,
            "offPeak": 330,
            "peak": 530,
            "taps": [
             {
              "$type": "Tfl.Api.Presentation.Entities.JourneyPlanner.FareTap, Tfl.Api.Presentation.Entities",
              "atcoCode": "940GZZLUHRC",
              "tapDetails": {
               "$type": "Tfl.Api.Presentation.Entities.JourneyPlanner.FareTapDetails, Tfl.Api.Presentation.Entities",
               "hostDeviceType": "Gate",
               "modeType": "Rail",
               "nationalLocationCode": 780,
               "tapTimestamp": "2022-02-11T05:12:00+00:00",
               "validationType": "None"
              }
             },
             {
              "$type": "Tfl.Api.Presentation.Entities.JourneyPlanner.FareTap, Tfl.Api.Presentation.Entities",
              "atcoCode": "940GZZLUTWH",
              "tapDetails": {
               "$type": "Tfl.Api.Presentation.Entities.JourneyPlanner.FareTapDetails, Tfl.Api.Presentation.Entities",
               "hostDeviceType": "Gate",
               "modeType": "Rail",
               "nationalLocationCode": 731,
               "tapTimestamp": "2022-02-11T06:15:00+00:00",
               "validationType": "None"
              }
             }
            ]
           }
          ],
          "totalCost": 330
         },
         "legs": [
          {
           "$type": "Tfl.Api.Presentation.Entities.JourneyPlanner.Leg, Tfl.Api.Presentation.Entities",
           "arrivalPoint": {
            "$type": "Tfl.Api.Presentation.Entities.StopPoint, Tfl.Api.Presentation.Entities",
            "additionalProperties": [],
            "commonName": "Heathrow Terminals 2 & 3 Underground Station",
            "icsCode": "1000105",
            "lat": 51.471637629,
            "lon": -0.45295694328,
            "naptanId": "940GZZLUHRC",
            "placeType": "StopPoint",
            "platformName": ""
           },
           "arrivalTime": "2022-02-11T05:12:00",
           "departurePoint": {
            "$type": "Tfl.Api.Presentation.Entities.StopPoint, Tfl.Api.Presentation.Entities",
            "additionalProperties": [],
            "commonName": "Cosmopolitan Way, Heathrow Airport Terminals 1-3",
            "icsCode": "99999997",
            "lat": 51.469775979350004,
            "lon": -0.45430131310000005,
            "placeType": "StopPoint",
            "platformName": ""
           },
           "departureTime": "2022-02-11T05:02:00",
           "disruptions": [],
           "distance": 218,
           "duration": 10,
           "hasFixedLocations": true,
           "instruction": {
            "$type": "Tfl.Api.Presentation.Entities.Instruction, Tfl.Api.Presentation.Entities",
            "detailed": "Walk to Heathrow Terminals 2 & 3 Underground Station",
            "steps": [
             {
              "$type": "Tfl.Api.Presentation.Entities.InstructionStep, Tfl.Api.Presentation.Entities",
              "cumulativeDistance": 117,
              "cumulativeTravelTime": 107,
              "description": "Cosmopolitan Way for 117 metres",
              "descriptionHeading": "Continue along ",
              "distance": 117,
              "latitude": 51.46977635875,
              "longitude": -0.45433009588,
              "pathAttribute": {
               "$type": "Tfl.Api.Presentation.Entities.PathAttribute, Tfl.Api.Presentation.Entities"
              },
              "skyDirection": 262,
              "skyDirectionDescription": "West",
              "streetName": "Cosmopolitan Way",
              "trackType": "None",
              "turnDirection": "STRAIGHT"
             },
             {
              "$type": "Tfl.Api.Presentation.Entities.InstructionStep, Tfl.Api.Presentation.Entities",
              "cumulativeDistance": 161,
              "cumulativeTravelTime": 147,
              "description": "on to Camborne Way, continue for 44 metres",
              "descriptionHeading": "Turn right",
              "distance": 44,
              "latitude": 51.47042260114,
              "longitude": -0.45560407814,
              "pathAttribute": {
               "$type": "Tfl.Api.Presentation.Entities.PathAttribute, Tfl.Api.Presentation.Entities"
              },
              "skyDirection": 423,
              "skyDirectionDescription": "North",
              "streetName": "Camborne Way",
              "trackType": "None",
              "turnDirection": "RIGHT"
             },
             {
              "$type": "Tfl.Api.Presentation.Entities.InstructionStep, Tfl.Api.Presentation.Entities",
              "cumulativeDistance": 201,
              "cumulativeTravelTime": 183,
              "description": "on to Camborne Road, continue for 40 metres",
              "descriptionHeading": "Take a slight right",
              "distance": 40,
              "latitude": 51.47073377748,
              "longitude": -0.45533440541000003,
              "pathAttribute": {
               "$type": "Tfl.Api.Presentation.Entities.PathAttribute, Tfl.Api.Presentation.Entities"
              },
              "skyDirection": 418,
              "skyDirectionDescription": "North",
              "streetName": "Camborne Road",
              "trackType": "None",
              "turnDirection": "SLIGHT_RIGHT"
             },
             {
              "$type": "Tfl.Api.Presentation.Entities.InstructionStep, Tfl.Api.Presentation.Entities",
              "cumulativeDistance": 218,
              "cumulativeTravelTime": 198,
              "description": "on to Camborne Crescent, continue for 17 metres",
              "descriptionHeading": "Continue along ",
              "distance": 17,
              "latitude": 51.47091608387,
              "longitude": -0.45483871127000003,
              "pathAttribute": {
               "$type": "Tfl.Api.Presentation.Entities.PathAttribute, Tfl.Api.Presentation.Entities"
              },
              "skyDirection": 400,
              "skyDirectionDescription": "North",
              "streetName": "Camborne Crescent",
              "trackType": "None",
              "turnDirection": "STRAIGHT"
             }
            ],
            "summary": "Walk to Heathrow Terminals 2 & 3 Underground Station"
           },
           "isDisrupted": false,
           "mode": {
            "$type": "Tfl.Api.Presentation.Entities.Identifier, Tfl.Api.Presentation.Entities",
            "id": "walking",
            "name": "walking",
            "routeType": "Unknown",
            "status": "Unknown",
            "type": "Mode"
           },
           "obstacles": [
            {
             "$type": "Tfl.Api.Presentation.Entities.JourneyPlanner.Obstacle, Tfl.Api.Presentation.Entities",
             "incline": "DOWN",
             "position": "IDEST",
             "stopId": 1000105,
             "type": "RAMP"
            },
            {
             "$type": "Tfl.Api.Presentation.Entities.JourneyPlanner.Obstacle, Tfl.Api.Presentation.Entities",
             "incline": "DOWN",
             "position": "IDEST",
             "stopId": 1000105,
             "type": "ESCALATOR"
            }
           ],
           "path": {
            "$type": "Tfl.Api.Presentation.Entities.JourneyPlanner.Path, Tfl.Api.Presentation.Entities",
            "elevation": [],
            "lineString": "[[51.46977597935, -0.4543013131],[51.46977635875, -0.45433009588],[51.46977806594, -0.45445961842],[51.46985167889, -0.45458671153],[51.47012929044, -0.45518204429],[51.47042260114, -0.45560407814],[51.47048286506, -0.45540047102],[51.47073377748, -0.45533440541],[51.47091608387, -0.45483871127],[51.47103084483, -0.45467645423],[51.47107692392, -0.45476128667],[51.4714450785, -0.45267548951],[51.471637629, -0.45295694328],[51.47133397351, -0.45296249441]]",
            "stopPoints": []
           },
           "plannedWorks": [],
           "routeOptions": [
            {
             "$type": "Tfl.Api.Presentation.Entities.JourneyPlanner.RouteOption, Tfl.Api.Presentation.Entities",
             "directions": [
              ""
             ],
             "name": ""
            }
           ]
          },
          {
           "$type": "Tfl.Api.Presentation.Entities.JourneyPlanner.Leg, Tfl.Api.Presentation.Entities",
           "arrivalPoint": {
            "$type": "Tfl.Api.Presentation.Entities.StopPoint, Tfl.Api.Presentation.Entities",
            "additionalProperties": [],
            "commonName": "Hammersmith (Dist&Picc Line) Underground Station",
            "icsCode": "1000096",
            "lat": 51.4922132859,
            "lon": -0.22333538775,
            "naptanId": "940GZZLUHSD",
            "placeType": "StopPoint",
            "platformName": ""
           },
           "arrivalTime": "2022-02-11T05:43:00",
           "departurePoint": {
            "$type": "Tfl.Api.Presentation.Entities.StopPoint, Tfl.Api.Presentation.Entities",
            "additionalProperties": [],
            "commonName": "Heathrow Terminals 2 & 3 Underground Station",
            "icsCode": "1000105",
            "lat": 51.471637629,
            "lon": -0.45295694328,
            "naptanId": "940GZZLUHRC",
            "placeType": "StopPoint",
            "platformName": ""
           },
           "departureTime": "2022-02-11T05:12:00",
           "disruptions": [],
           "duration": 31,
           "hasFixedLocations": true,
           "instruction": {
            "$type": "Tfl.Api.Presentation.Entities.Instruction, Tfl.Api.Presentation.Entities",
            "detailed": "Piccadilly line towards Cockfosters",
            "steps": [],
            "summary": "Piccadilly line to Hammersmith (Dist&Picc Line)"
           },
           "isDisrupted": false,
           "mode": {
            "$type": "Tfl.Api.Presentation.Entities.Identifier, Tfl.Api.Presentation.Entities",
            "id": "tube",
            "name": "tube",
            "routeType": "Unknown",
            "status": "Unknown",
            "type": "Mode"
           },
           "obstacles": [
            {
             "$type": "Tfl.Api.Presentation.Entities.JourneyPlanner.Obstacle, Tfl.Api.Presentation.Entities",
             "incline": "LEVEL",
             "position": "AFTER",
             "stopId": 1000096,
             "type": "WALKWAY"
            }
           ],
           "path": {
            "$type": "Tfl.Api.Presentation.Entities.JourneyPlanner.Path, Tfl.Api.Presentation.Entities",
            "elevation": [],
            "lineString": "[[51.47133414008, -0.45297143671],[51.47129625217, -0.45093833188],[51.47119705219, -0.45023617707],[51.46562304245, -0.42736179058],[51.46551394189, -0.42660252651],[51.46550583066, -0.42599815248],[51.46559697209, -0.42541915544],[51.46638638497, -0.42360158321],[51.46638638497, -0.42360158321],[51.46680937918, -0.42262761335],[51.46718153783, -0.42154940001],[51.46922027601, -0.41469773922],[51.46967581535, -0.41314138278],[51.47188053313, -0.40662874577],[51.47266595611, -0.40421118384],[51.4731883564, -0.40229229392],[51.47494220963, -0.39704719586],[51.47507814629, -0.39646644862],[51.47513338514, -0.39590292812],[51.47512038717, -0.39495301203],[51.47498856672, -0.39386327385],[51.47478680503, -0.39291999464],[51.47423550195, -0.39075067401],[51.47358430283, -0.38851292937],[51.47345075673, -0.38795607167],[51.47337113566, -0.38739731574],[51.47335965335, -0.38656257661],[51.4733866923, -0.3859136657],[51.47341926289, -0.385734712],[51.47341926289, -0.385734712],[51.47387990381, -0.38320360757],[51.47400981566, -0.38219106752],[51.47403106901, -0.38112477083],[51.47390051231, -0.38013584652],[51.47368006827, -0.37915011351],[51.47336774641, -0.3780236576],[51.47223737126, -0.37496802597],[51.47157888271, -0.37287484377],[51.47133340786, -0.37138614109],[51.47123772117, -0.37032406734],[51.47125106032, -0.36869657304],[51.47133422543, -0.36620170922],[51.47133422543, -0.36620170922],[51.4713462021, -0.36584229009],[51.471437203, -0.36462956768],[51.47170628789, -0.36264734459],[51.47193784297, -0.36119919215],[51.47212169283, -0.36019909501],[51.47247924827, -0.35876079367],[51.4728923255, -0.35743566677],[51.47309198812, -0.35692453078],[51.47355472319, -0.35612620222],[51.47355472319, -0.35612620222],[51.47425972115, -0.35490986263],[51.47481464229, -0.35408352575],[51.47528513595, -0.35364900059],[51.47574088603, -0.35344539471],[51.47624258518, -0.35331212994],[51.47762670379, -0.35326228544],[51.47850114607, -0.35341800242],[51.47920219297, -0.35339275658],[51.4798650653, -0.35321047201],[51.48028385213, -0.35293616543],[51.48149076439, -0.35181184571],[51.48149076439, -0.35181184571],[51.48165077802, -0.35166277698],[51.48209207177, -0.35107079292],[51.48236279739, -0.35049935335],[51.48257878341, -0.34987227464],[51.48300527151, -0.34822943966],[51.48345936458, -0.34599508165],[51.48368842655, -0.34502183634],[51.48392951692, -0.34426418194],[51.48425966623, -0.34344568222],[51.48476834345, -0.34253428178],[51.49278966746, -0.32986928129],[51.49298247444, -0.32951650763],[51.49354004044, -0.32825725451],[51.4938018695, -0.3277002646],[51.49405676184, -0.32728757871],[51.49505998532, -0.32575263528],[51.49573468815, -0.32481625777],[51.49573468815, -0.32481625777],[51.49669122554, -0.3234886738],[51.49709621533, -0.32288314316],[51.49733208505, -0.32239906485],[51.49831750614, -0.31962555272],[51.49858208852, -0.31863613968],[51.49971676663, -0.31353113831],[51.49971676663, -0.31353113831],[51.50036424411, -0.31061752396],[51.50108944725, -0.30739114955],[51.50108944725, -0.30739114955],[51.50118391718, -0.30697082307],[51.50132127291, -0.30651908558],[51.50231360067, -0.30424901532],[51.502829938, -0.30264491839],[51.50303125403, -0.30164325011],[51.50329277414, -0.29983245096],[51.50433859847, -0.29320863743],[51.50460043866, -0.29204613102],[51.50562103371, -0.28865058866],[51.50578964306, -0.28788057234],[51.50587715008, -0.28709918206],[51.50585659227, -0.28630743346],[51.50570999464, -0.28550600685],[51.50538968178, -0.28450937827],[51.50364425624, -0.28137618171],[51.50277167788, -0.27986003801],[51.50277167788, -0.27986003801],[51.50276765264, -0.27985304418],[51.50209223387, -0.27917247055],[51.50052843591, -0.2780067116],[51.49987182754, -0.27738311875],[51.49874479649, -0.27595607466],[51.49570540839, -0.27107177814],[51.4952880256, -0.27020879586],[51.49492158603, -0.26914221544],[51.49461741054, -0.26803007429],[51.49447542257, -0.26694060845],[51.49450009304, -0.2661761603],[51.49460760363, -0.26493317096],[51.49470011041, -0.26389242917],[51.49510405624, -0.26020352799],[51.49529069168, -0.25642200817],[51.49529539136, -0.25552864659],[51.49526890491, -0.25462221712],[51.49526890491, -0.25462221712],[51.49490995737, -0.24236181984],[51.49482848299, -0.24112603403],[51.49463612357, -0.23969283971],[51.49416765347, -0.23664244205],[51.49413246427, -0.23609637831],[51.4938625608, -0.22952336733],[51.49389162508, -0.22847062012],[51.49387241422, -0.22779429393],[51.4937344074, -0.22699292561],[51.49354399647, -0.22629443585],[51.49330755644, -0.22552571115],[51.49310068802, -0.22492871185],[51.4928333043, -0.22449252917],[51.4920959202, -0.2235783194]]",
            "stopPoints": [
             {
              "$type": "Tfl.Api.Presentation.Entities.Identifier, Tfl.Api.Presentation.Entities",
              "id": "940GZZLUHNX",
              "name": "Hatton Cross Underground Station",
              "routeType": "Unknown",
              "status": "Unknown",
              "type": "StopPoint",
              "uri": "/StopPoint/940GZZLUHNX"
             },
             {
              "$type": "Tfl.Api.Presentation.Entities.Identifier, Tfl.Api.Presentation.Entities",
              "id": "940GZZLUHWT",
              "name": "Hounslow West Underground Station",
              "routeType": "Unknown",
              "status": "Unknown",
              "type": "StopPoint",
              "uri": "/StopPoint/940GZZLUHWT"
             },
             {
              "$type": "Tfl.Api.Presentation.Entities.Identifier, Tfl.Api.Presentation.Entities",
              "id": "940GZZLUHWC",
              "name": "Hounslow Central Underground Station",
              "routeType": "Unknown",
              "status": "Unknown",
              "type": "StopPoint",
              "uri": "/StopPoint/940GZZLUHWC"
             },
             {
              "$type": "Tfl.Api.Presentation.Entities.Identifier, Tfl.Api.Presentation.Entities",
              "id": "940GZZLUHWE",
              "name": "Hounslow East Underground Station",
              "routeType": "Unknown",
              "status": "Unknown",
              "type": "StopPoint",
              "uri": "/StopPoint/940GZZLUHWE"
             },
             {
              "$type": "Tfl.Api.Presentation.Entities.Identifier, Tfl.Api.Presentation.Entities",
              "id": "940GZZLUOSY",
              "name": "Osterley Underground Station",
              "routeType": "Unknown",
              "status": "Unknown",
              "type": "StopPoint",
              "uri": "/StopPoint/940GZZLUOSY"
             },
             {
              "$type": "Tfl.Api.Presentation.Entities.Identifier, Tfl.Api.Presentation.Entities",
              "id": "940GZZLUBOS",
              "name": "Boston Manor Underground Station",
              "routeType": "Unknown",
              "status": "Unknown",
              "type": "StopPoint",
              "uri": "/StopPoint/940GZZLUBOS"
             },
             {
              "$type": "Tfl.Api.Presentation.Entities.Identifier, Tfl.Api.Presentation.Entities",
              "id": "940GZZLUNFD",
              "name": "Northfields Underground Station",
              "routeType": "Unknown",
              "status": "Unknown",
              "type": "StopPoint",
              "uri": "/StopPoint/940GZZLUNFD"
             },
             {
              "$type": "Tfl.Api.Presentation.Entities.Identifier, Tfl.Api.Presentation.Entities",
              "id": "940GZZLUSEA",
              "name": "South Ealing Underground Station",
              "routeType": "Unknown",
              "status": "Unknown",
              "type": "StopPoint",
              "uri": "/StopPoint/940GZZLUSEA"
             },
             {
              "$type": "Tfl.Api.Presentation.Entities.Identifier, Tfl.Api.Presentation.Entities",
              "id": "940GZZLUACT",
              "name": "Acton Town Underground Station",
              "routeType": "Unknown",
              "status": "Unknown",
              "type": "StopPoint",
              "uri": "/StopPoint/940GZZLUACT"
             },
             {
              "$type": "Tfl.Api.Presentation.Entities.Identifier, Tfl.Api.Presentation.Entities",
              "id": "940GZZLUTNG",
              "name": "Turnham Green Underground Station",
              "routeType": "Unknown",
              "status": "Unknown",
              "type": "StopPoint",
              "uri": "/StopPoint/940GZZLUTNG"
             },
             {
              "$type": "Tfl.Api.Presentation.Entities.Identifier, Tfl.Api.Presentation.Entities",
              "id": "940GZZLUHSD",
              "name": "Hammersmith (Dist&Picc Line) Underground Station",
              "routeType": "Unknown",
              "status": "Unknown",
              "type": "StopPoint",
              "uri": "/StopPoint/940GZZLUHSD"
             }
            ]
           },
           "plannedWorks": [],
           "routeOptions": [
            {
             "$type": "Tfl.Api.Presentation.Entities.JourneyPlanner.RouteOption, Tfl.Api.Presentation.Entities",
             "directions": [
              "Cockfosters Underground Station"
             ],
             "lineIdentifier": {
              "$type": "Tfl.Api.Presentation.Entities.Identifier, Tfl.Api.Presentation.Entities",
              "crowding": {
               "$type": "Tfl.Api.Presentation.Entities.Crowding, Tfl.Api.Presentation.Entities"
              },
              "id": "piccadilly",
              "name": "Piccadilly",
              "routeType": "Unknown",
              "status": "Unknown",
              "type": "Line",
              "uri": "/Line/piccadilly"
             },
             "name": "Piccadilly"
            }
           ]
          },
          {
           "$type": "Tfl.Api.Presentation.Entities.JourneyPlanner.Leg, Tfl.Api.Presentation.Entities",
           "arrivalPoint": {
            "$type": "Tfl.Api.Presentation.Entities.StopPoint, Tfl.Api.Presentation.Entities",
            "additionalProperties": [],
            "commonName": "Tower Hill Underground Station",
            "icsCode": "1000238",
            "lat": 51.50965277573,
            "lon": -0.0770062307,
            "naptanId": "940GZZLUTWH",
            "placeType": "StopPoint",
            "platformName": ""
           },
           "arrivalTime": "2022-02-11T06:15:00",
           "departurePoint": {
            "$type": "Tfl.Api.Presentation.Entities.StopPoint, Tfl.Api.Presentation.Entities",
            "additionalProperties": [],
            "commonName": "Hammersmith (Dist&Picc Line) Underground Station",
            "icsCode": "1000096",
            "lat": 51.492256476719994,
            "lon": -0.22321846650000002,
            "naptanId": "940GZZLUHSD",
            "placeType": "StopPoint",
            "platformName": ""
           },
           "departureTime": "2022-02-11T05:46:00",
           "disruptions": [],
           "duration": 29,
           "hasFixedLocations": true,
           "instruction": {
            "$type": "Tfl.Api.Presentation.Entities.Instruction, Tfl.Api.Presentation.Entities",
            "detailed": "District line towards Upminster",
            "steps": [],
            "summary": "District line to Tower Hill"
           },
           "isDisrupted": false,
           "mode": {
            "$type": "Tfl.Api.Presentation.Entities.Identifier, Tfl.Api.Presentation.Entities",
            "id": "tube",
            "name": "tube",
            "routeType": "Unknown",
            "status": "Unknown",
            "type": "Mode"
           },
           "obstacles": [],
           "path": {
            "$type": "Tfl.Api.Presentation.Entities.JourneyPlanner.Path, Tfl.Api.Presentation.Entities",
            "elevation": [],
            "lineString": "[[51.49208760477, -0.22356801013],[51.4910645424, -0.22229967955],[51.49062992288, -0.22150991913],[51.49034895321, -0.22077181035],[51.49018503026, -0.22004355659],[51.49011471448, -0.21896595054],[51.4901460911, -0.21807164222],[51.49041793613, -0.21643331258],[51.49047428308, -0.21540837889],[51.49042292219, -0.21415752913],[51.49042292219, -0.21415752913],[51.49040282633, -0.21366820117],[51.49016057498, -0.21134412118],[51.49031239024, -0.20891819446],[51.49082224137, -0.20617272801],[51.49082224137, -0.20617272801],[51.49101029725, -0.20515997396],[51.4910095878, -0.20452618611],[51.49090274014, -0.20342120885],[51.49062705245, -0.2018619248],[51.49049372764, -0.20137740912],[51.49021616645, -0.20086976491],[51.48981978322, -0.20023716482],[51.48967724378, -0.19973862077],[51.48961337489, -0.19909293535],[51.4896001071, -0.19822919003],[51.4896975539, -0.19754833679],[51.48997363039, -0.19678841006],[51.49053241398, -0.19570040991],[51.49176926194, -0.19383235919],[51.49176926194, -0.19383235919],[51.49250094582, -0.19272720411],[51.4940688846, -0.19060515021],[51.49446241221, -0.18988367282],[51.49475396596, -0.18896453843],[51.49486799732, -0.18819649308],[51.49495269862, -0.18669489221],[51.49488363497, -0.18571801418],[51.4946523523, -0.18471877111],[51.49429434407, -0.18311980226],[51.49429434407, -0.18311980226],[51.49420795866, -0.18273399814],[51.49394701123, -0.18156309445],[51.49383207696, -0.18053044806],[51.49388296801, -0.17917427153],[51.49418157766, -0.17524395382],[51.49413444819, -0.17394930107],[51.49410537443, -0.17304276088],[51.49410537443, -0.17304276088],[51.49397701935, -0.16904318096],[51.49388955135, -0.16574773969],[51.4935821644, -0.16104938568],[51.4933850391, -0.15994807731],[51.49232944642, -0.15611967477],[51.49232944642, -0.15611967477],[51.49220260052, -0.1556596748],[51.49203419789, -0.15467250467],[51.49196864177, -0.15336426993],[51.4919550368, -0.15250050208],[51.49203596861, -0.15135920979],[51.49217467015, -0.15046046611],[51.4924521552, -0.14923917703],[51.49279354996, -0.1486491277],[51.49433974243, -0.14747721673],[51.49559299982, -0.14654761224],[51.49602447545, -0.14596825275],[51.4964152192, -0.14508799447],[51.49666102898, -0.1441415737],[51.49677372683, -0.14350601902],[51.49677372683, -0.14350601902],[51.49705728358, -0.14190681254],[51.4973873904, -0.13947300677],[51.49759187705, -0.13875873199],[51.49935006435, -0.13452329177],[51.49937923781, -0.13443898791],[51.49937923781, -0.13443898791],[51.49960798215, -0.13377796535],[51.49976612469, -0.13297907664],[51.49979592553, -0.13202694365],[51.49977810033, -0.12978005537],[51.49984405157, -0.12884084682],[51.50000376901, -0.12814272697],[51.50102555928, -0.12568028136],[51.50137149336, -0.12498395938],[51.50137149336, -0.12498395938],[51.50147859369, -0.12476837597],[51.50174266672, -0.12441173341],[51.502161354, -0.12416400578],[51.50480089264, -0.12333513804],[51.50680168156, -0.12248919741],[51.50704777138, -0.1223154693],[51.50704777138, -0.1223154693],[51.50714847102, -0.12224437937],[51.50741599446, -0.12210368848],[51.5085669555, -0.12097556868],[51.50911166347, -0.12017497591],[51.50952962959, -0.11932193936],[51.51001139472, -0.11796187151],[51.51045488464, -0.11645924112],[51.51083544893, -0.11495917859],[51.51087243493, -0.11475352518],[51.51087243493, -0.11475352518],[51.51109134004, -0.11353629815],[51.51122232911, -0.11217621086],[51.51116494362, -0.10638518564],[51.51121598831, -0.10564808458],[51.51143102308, -0.10448624196],[51.51165437619, -0.10306849119],[51.51165437619, -0.10306849119],[51.51184694383, -0.10184605465],[51.51186610327, -0.10080761779],[51.51162170646, -0.09682576886],[51.51164315965, -0.09593135482],[51.51170825371, -0.09474586467],[51.51170825371, -0.09474586467],[51.51178194535, -0.09340352761],[51.51173593074, -0.09278574798],[51.51162536775, -0.09206978502],[51.5114190761, -0.09099753782],[51.51137539369, -0.09052378318],[51.51137426445, -0.09049453],[51.51137426445, -0.09049453],[51.5113287325, -0.08931516623],[51.51126824381, -0.08891417494],[51.51074116443, -0.08616777694],[51.51074116443, -0.08616777694],[51.51072772627, -0.08609776127],[51.50944454652, -0.08021422998],[51.50931357635, -0.0793550812],[51.50932022697, -0.07866307777],[51.50938267981, -0.07808401299],[51.50948131137, -0.07751783453],[51.50965515438, -0.07700831491]]",
            "stopPoints": [
             {
              "$type": "Tfl.Api.Presentation.Entities.Identifier, Tfl.Api.Presentation.Entities",
              "id": "940GZZLUBSC",
              "name": "Barons Court Underground Station",
              "routeType": "Unknown",
              "status": "Unknown",
              "type": "StopPoint",
              "uri": "/StopPoint/940GZZLUBSC"
             },
             {
              "$type": "Tfl.Api.Presentation.Entities.Identifier, Tfl.Api.Presentation.Entities",
              "id": "940GZZLUWKN",
              "name": "West Kensington Underground Station",
              "routeType": "Unknown",
              "status": "Unknown",
              "type": "StopPoint",
              "uri": "/StopPoint/940GZZLUWKN"
             },
             {
              "$type": "Tfl.Api.Presentation.Entities.Identifier, Tfl.Api.Presentation.Entities",
              "id": "940GZZLUECT",
              "name": "Earl's Court Underground Station",
              "routeType": "Unknown",
              "status": "Unknown",
              "type": "StopPoint",
              "uri": "/StopPoint/940GZZLUECT"
             },
             {
              "$type": "Tfl.Api.Presentation.Entities.Identifier, Tfl.Api.Presentation.Entities",
              "id": "940GZZLUGTR",
              "name": "Gloucester Road Underground Station",
              "routeType": "Unknown",
              "status": "Unknown",
              "type": "StopPoint",
              "uri": "/StopPoint/940GZZLUGTR"
             },
             {
              "$type": "Tfl.Api.Presentation.Entities.Identifier, Tfl.Api.Presentation.Entities",
              "id": "940GZZLUSKS",
              "name": "South Kensington Underground Station",
              "routeType": "Unknown",
              "status": "Unknown",
              "type": "StopPoint",
              "uri": "/StopPoint/940GZZLUSKS"
             },
             {
              "$type": "Tfl.Api.Presentation.Entities.Identifier, Tfl.Api.Presentation.Entities",
              "id": "940GZZLUSSQ",
              "name": "Sloane Square Underground Station",
              "routeType": "Unknown",
              "status": "Unknown",
              "type": "StopPoint",
              "uri": "/StopPoint/940GZZLUSSQ"
             },
             {
              "$type": "Tfl.Api.Presentation.Entities.Identifier, Tfl.Api.Presentation.Entities",
              "id": "940GZZLUVIC",
              "name": "Victoria Underground Station",
              "routeType": "Unknown",
              "status": "Unknown",
              "type": "StopPoint",
              "uri": "/StopPoint/940GZZLUVIC"
             },
             {
              "$type": "Tfl.Api.Presentation.Entities.Identifier, Tfl.Api.Presentation.Entities",
              "id": "940GZZLUSJP",
              "name": "St. James's Park Underground Station",
              "routeType": "Unknown",
              "status": "Unknown",
              "type": "StopPoint",
              "uri": "/StopPoint/940GZZLUSJP"
             },
             {
              "$type": "Tfl.Api.Presentation.Entities.Identifier, Tfl.Api.Presentation.Entities",
              "id": "940GZZLUWSM",
              "name": "Westminster Underground Station",
              "routeType": "Unknown",
              "status": "Unknown",
              "type": "StopPoint",
              "uri": "/StopPoint/940GZZLUWSM"
             },
             {
              "$type": "Tfl.Api.Presentation.Entities.Identifier, Tfl.Api.Presentation.Entities",
              "id": "940GZZLUEMB",
              "name": "Embankment Underground Station",
              "routeType": "Unknown",
              "status": "Unknown",
              "type": "StopPoint",
              "uri": "/StopPoint/940GZZLUEMB"
             },
             {
              "$type": "Tfl.Api.Presentation.Entities.Identifier, Tfl.Api.Presentation.Entities",
              "id": "940GZZLUTMP",
              "name": "Temple Underground Station",
              "routeType": "Unknown",
              "status": "Unknown",
              "type": "StopPoint",
              "uri": "/StopPoint/940GZZLUTMP"
             },
             {
              "$type": "Tfl.Api.Presentation.Entities.Identifier, Tfl.Api.Presentation.Entities",
              "id": "940GZZLUBKF",
              "name": "Blackfriars Underground Station",
              "routeType": "Unknown",
              "status": "Unknown",
              "type": "StopPoint",
              "uri": "/StopPoint/940GZZLUBKF"
             },
             {
              "$type": "Tfl.Api.Presentation.Entities.Identifier, Tfl.Api.Presentation.Entities",
              "id": "940GZZLUMSH",
              "name": "Mansion House Underground Station",
              "routeType": "Unknown",
              "status": "Unknown",
              "type": "StopPoint",
              "uri": "/StopPoint/940GZZLUMSH"
             },
             {
              "$type": "Tfl.Api.Presentation.Entities.Identifier, Tfl.Api.Presentation.Entities",
              "id": "940GZZLUCST",
              "name": "Cannon Street Underground Station",
              "routeType": "Unknown",
              "status": "Unknown",
              "type": "StopPoint",
              "uri": "/StopPoint/940GZZLUCST"
             },
             {
              "$type": "Tfl.Api.Presentation.Entities.Identifier, Tfl.Api.Presentation.Entities",
              "id": "940GZZLUMMT",
              "name": "Monument Underground Station",
              "routeType": "Unknown",
              "status": "Unknown",
              "type": "StopPoint",
              "uri": "/StopPoint/940GZZLUMMT"
             },
             {
              "$type": "Tfl.Api.Presentation.Entities.Identifier, Tfl.Api.Presentation.Entities",
              "id": "940GZZLUTWH",
              "name": "Tower Hill Underground Station",
              "routeType": "Unknown",
              "status": "Unknown",
              "type": "StopPoint",
              "uri": "/StopPoint/940GZZLUTWH"
             }
            ]
           },
           "plannedWorks": [],
           "routeOptions": [
            {
             "$type": "Tfl.Api.Presentation.Entities.JourneyPlanner.RouteOption, Tfl.Api.Presentation.Entities",
             "directions": [
              "Upminster Underground Station"
             ],
             "lineIdentifier": {
              "$type": "Tfl.Api.Presentation.Entities.Identifier, Tfl.Api.Presentation.Entities",
              "crowding": {
               "$type": "Tfl.Api.Presentation.Entities.Crowding, Tfl.Api.Presentation.Entities"
              },
              "id": "district",
              "name": "District",
              "routeType": "Unknown",
              "status": "Unknown",
              "type": "Line",
              "uri": "/Line/district"
             },
             "name": "District"
            }
           ]
          },
          {
           "$type": "Tfl.Api.Presentation.Entities.JourneyPlanner.Leg, Tfl.Api.Presentation.Entities",
           "arrivalPoint": {
            "$type": "Tfl.Api.Presentation.Entities.Place, Tfl.Api.Presentation.Entities",
            "commonName": "1 Tower Bridge, Tower Hamlets",
            "lat": 51.505498499990004,
            "lon": -0.07537992570999999,
            "placeType": "StopPoint"
           },
           "arrivalTime": "2022-02-11T06:27:00",
           "departurePoint": {
            "$type": "Tfl.Api.Presentation.Entities.StopPoint, Tfl.Api.Presentation.Entities",
            "additionalProperties": [],
            "commonName": "Tower Hill Underground Station",
            "icsCode": "1000238",
            "lat": 51.50965277573,
            "lon": -0.0770062307,
            "naptanId": "940GZZLUTWH",
            "placeType": "StopPoint",
            "platformName": ""
           },
           "departureTime": "2022-02-11T06:15:00",
           "disruptions": [],
           "distance": 669,
           "duration": 12,
           "hasFixedLocations": false,
           "instruction": {
            "$type": "Tfl.Api.Presentation.Entities.Instruction, Tfl.Api.Presentation.Entities",
            "detailed": "Walk to 1 Tower Bridge, Tower Hamlets",
            "steps": [
             {
              "$type": "Tfl.Api.Presentation.Entities.InstructionStep, Tfl.Api.Presentation.Entities",
              "cumulativeDistance": 123,
              "cumulativeTravelTime": 111,
              "description": " for 123 metres",
              "descriptionHeading": "Continue along ",
              "distance": 123,
              "latitude": 51.50988714247,
              "longitude": -0.07649197353000001,
              "pathAttribute": {
               "$type": "Tfl.Api.Presentation.Entities.PathAttribute, Tfl.Api.Presentation.Entities"
              },
              "skyDirection": 441,
              "skyDirectionDescription": "North",
              "streetName": "",
              "trackType": "None",
              "turnDirection": "STRAIGHT"
             },
             {
              "$type": "Tfl.Api.Presentation.Entities.InstructionStep, Tfl.Api.Presentation.Entities",
              "cumulativeDistance": 140,
              "cumulativeTravelTime": 126,
              "description": "on to Minories, continue for 17 metres",
              "descriptionHeading": "Take a slight right",
              "distance": 17,
              "latitude": 51.51004726435,
              "longitude": -0.07474148037,
              "pathAttribute": {
               "$type": "Tfl.Api.Presentation.Entities.PathAttribute, Tfl.Api.Presentation.Entities"
              },
              "skyDirection": 504,
              "skyDirectionDescription": "North",
              "streetName": "Minories",
              "trackType": "None",
              "turnDirection": "SLIGHT_RIGHT"
             },
             {
              "$type": "Tfl.Api.Presentation.Entities.InstructionStep, Tfl.Api.Presentation.Entities",
              "cumulativeDistance": 230,
              "cumulativeTravelTime": 207,
              "description": "on to Tower Hill, continue for 90 metres",
              "descriptionHeading": "Continue along ",
              "distance": 90,
              "latitude": 51.509919091069996,
              "longitude": -0.07460277288,
              "pathAttribute": {
               "$type": "Tfl.Api.Presentation.Entities.PathAttribute, Tfl.Api.Presentation.Entities"
              },
              "skyDirection": 500,
              "skyDirectionDescription": "North",
              "streetName": "Tower Hill",
              "trackType": "None",
              "turnDirection": "STRAIGHT"
             },
             {
              "$type": "Tfl.Api.Presentation.Entities.InstructionStep, Tfl.Api.Presentation.Entities",
              "cumulativeDistance": 546,
              "cumulativeTravelTime": 491,
              "description": "on to Tower Bridge Approach, continue for 316 metres",
              "descriptionHeading": "Take a slight right",
              "distance": 316,
              "latitude": 51.509285553039994,
              "longitude": -0.07380806143,
              "pathAttribute": {
               "$type": "Tfl.Api.Presentation.Entities.PathAttribute, Tfl.Api.Presentation.Entities"
              },
              "skyDirection": 190,
              "skyDirectionDescription": "North",
              "streetName": "Tower Bridge Approach",
              "trackType": "None",
              "turnDirection": "SLIGHT_RIGHT"
             },
             {
              "$type": "Tfl.Api.Presentation.Entities.InstructionStep, Tfl.Api.Presentation.Entities",
              "cumulativeDistance": 669,
              "cumulativeTravelTime": 600,
              "description": "on to Tower Bridge, continue for 123 metres",
              "descriptionHeading": "Continue along ",
              "distance": 123,
              "latitude": 51.50651207448,
              "longitude": -0.07467435327000001,
              "pathAttribute": {
               "$type": "Tfl.Api.Presentation.Entities.PathAttribute, Tfl.Api.Presentation.Entities"
              },
              "skyDirection": 202,
              "skyDirectionDescription": "North",
              "streetName": "Tower Bridge",
              "trackType": "None",
              "turnDirection": "STRAIGHT"
             }
            ],
            "summary": "Walk to 1 Tower Bridge, Tower Hamlets"
           },
           "isDisrupted": false,
           "mode": {
            "$type": "Tfl.Api.Presentation.Entities.Identifier, Tfl.Api.Presentation.Entities",
            "id": "walking",
            "name": "walking",
            "routeType": "Unknown",
            "status": "Unknown",
            "type": "Mode"
           },
           "obstacles": [
            {
             "$type": "Tfl.Api.Presentation.Entities.JourneyPlanner.Obstacle, Tfl.Api.Presentation.Entities",
             "incline": "UP",
             "position": "BEFORE",
             "stopId": 1000238,
             "type": "STAIRS"
            },
            {
             "$type": "Tfl.Api.Presentation.Entities.JourneyPlanner.Obstacle, Tfl.Api.Presentation.Entities",
             "incline": "UP",
             "position": "BEFORE",
             "stopId": 1000238,
             "type": "STAIRS"
            }
           ],
           "path": {
            "$type": "Tfl.Api.Presentation.Entities.JourneyPlanner.Path, Tfl.Api.Presentation.Entities",
            "elevation": [],
            "lineString": "[[51.50965277573, -0.0770062307],[51.50983534983, -0.07662385474],[51.50983298801, -0.07647984344],[51.50988714247, -0.07649197353],[51.50994604037, -0.07569688147],[51.50997087283, -0.07556613498],[51.51004726435, -0.07474148037],[51.50991909107, -0.07460277288],[51.50968024384, -0.07429580021],[51.5094690644, -0.07403089675],[51.50928555304, -0.07380806143],[51.50908879906, -0.07387400345],[51.50877593176, -0.07398807411],[51.50857823169, -0.0739964117],[51.50844390916, -0.07403089771],[51.50782550511, -0.07415784955],[51.50715365551, -0.07431587169],[51.50694815118, -0.07439658728],[51.50688571945, -0.07442803979],[51.50651207448, -0.07467435327],[51.50549849999, -0.07537992571]]",
            "stopPoints": []
           },
           "plannedWorks": [],
           "routeOptions": [
            {
             "$type": "Tfl.Api.Presentation.Entities.JourneyPlanner.RouteOption, Tfl.Api.Presentation.Entities",
             "directions": [
              ""
             ],
             "name": ""
            }
           ]
          }
         ],
         "startDateTime": "2022-02-11T05:02:00"
        },
        {
         "$type": "Tfl.Api.Presentation.Entities.JourneyPlanner.Journey, Tfl.Api.Presentation.Entities",
         "arrivalDateTime": "2022-02-11T06:40:00",
         "duration": 84,
         "fare": {
          "$type": "Tfl.Api.Presentation.Entities.JourneyPlanner.JourneyFare, Tfl.Api.Presentation.Entities",
          "caveats": [
           {
            "$type": "Tfl.Api.Presentation.Entities.JourneyPlanner.FareCaveat, Tfl.Api.Presentation.Entities",
            "text": "<p>Fares between two stations may vary depending on the direction of travel, time of day and day of the week.</p><p>We charge higher fares at the busiest times of the day (usually between 06:30 and 09:30, and between 16:00 and 19:00, Monday to Friday).</p><p>When you pay as you go, you must touch your contactless or Oyster card on a yellow reader at the start and end of your journey.</p><p>Some journeys are charged via Zone 1 regardless of the route taken.</p><p>If your journey avoids Zone 1 and you see a pink card reader when changing trains, touch your contactless or Oyster card on it to pay the right fare.</p>",
            "type": "allRailModes"
           },
           {
            "$type": "Tfl.Api.Presentation.Entities.JourneyPlanner.FareCaveat, Tfl.Api.Presentation.Entities",
            "text": "The price shown is a single adult pay as you go fare.",
            "type": "generic"
           }
          ],
          "fares": [
           {
            "$type": "Tfl.Api.Presentation.Entities.JourneyPlanner.Fare, Tfl.Api.Presentation.Entities",
            "chargeLevel": "Off Peak",
            "chargeProfileName": "Z1 PM Counterflow",
            "cost": 330,
            "highZone": 6,
            "isHopperFare": false,
            "lowZone": 1,
            "offPeak": 330,
            "peak": 530,
            "taps": [
             {
              "$type": "Tfl.Api.Presentation.Entities.JourneyPlanner.FareTap, Tfl.Api.Presentation.Entities",
              "atcoCode": "940GZZLUHRC",
              "tapDetails": {
               "$type": "Tfl.Api.Presentation.Entities.JourneyPlanner.FareTapDetails, Tfl.Api.Presentation.Entities",
               "hostDeviceType": "Gate",
               "modeType": "Rail",
               "nationalLocationCode": 780,
               "tapTimestamp": "2022-02-11T05:26:00+00:00",
               "validationType": "None"
              }
             },
             {
              "$type": "Tfl.Api.Presentation.Entities.JourneyPlanner.FareTap, Tfl.Api.Presentation.Entities",
              "atcoCode": "940GZZLUTWH",
              "tapDetails": {
               "$type": "Tfl.Api.Presentation.Entities.JourneyPlanner.FareTapDetails, Tfl.Api.Presentation.Entities",
               "hostDeviceType": "Gate",
               "modeType": "Rail",
               "nationalLocationCode": 731,
               "tapTimestamp": "2022-02-11T06:28:00+00:00",
               "validationType": "None"
              }
             }
            ]
           }
          ],
          "totalCost": 330
         },
         "legs": [
          {
           "$type": "Tfl.Api.Presentation.Entities.JourneyPlanner.Leg, Tfl.Api.Presentation.Entities",
           "arrivalPoint": {
            "$type": "Tfl.Api.Presentation.Entities.StopPoint, Tfl.Api.Presentation.Entities",
            "additionalProperties": [],
            "commonName": "Heathrow Terminals 2 & 3 Underground Station",
            "icsCode": "1000105",
            "lat": 51.471637629,
            "lon": -0.45295694328,
            "naptanId": "940GZZLUHRC",
            "placeType": "StopPoint",
            "platformName": ""
           },
           "arrivalTime": "2022-02-11T05:26:00",
           "departurePoint": {
            "$type": "Tfl.Api.Presentation.Entities.StopPoint, Tfl.Api.Presentation.Entities",
            "additionalProperties": [],
            "commonName": "Cosmopolitan Way, Heathrow Airport Terminals 1-3",
            "icsCode": "99999997",
            "lat": 51.469775979350004,
            "lon": -0.45430131310000005,
            "placeType": "StopPoint",
            "platformName": ""
           },
           "departureTime": "2022-02-11T05:16:00",
           "disruptions": [],
           "distance": 218,
           "duration": 10,
           "hasFixedLocations": true,
           "instruction": {
            "$type": "Tfl.Api.Presentation.Entities.Instruction, Tfl.Api.Presentation.Entities",
            "detailed": "Walk to Heathrow Terminals 2 & 3 Underground Station",
            "steps": [
             {
              "$type": "Tfl.Api.Presentation.Entities.InstructionStep, Tfl.Api.Presentation.Entities",
              "cumulativeDistance": 117,
              "cumulativeTravelTime": 107,
              "description": "Cosmopolitan Way for 117 metres",
              "descriptionHeading": "Continue along ",
              "distance": 117,
              "latitude": 51.46977635875,
              "longitude": -0.45433009588,
              "pathAttribute": {
               "$type": "Tfl.Api.Presentation.Entities.PathAttribute, Tfl.Api.Presentation.Entities"
              },
              "skyDirection": 262,
              "skyDirectionDescription": "West",
              "streetName": "Cosmopolitan Way",
              "trackType": "None",
              "turnDirection": "STRAIGHT"
             },
             {
              "$type": "Tfl.Api.Presentation.Entities.InstructionStep, Tfl.Api.Presentation.Entities",
              "cumulativeDistance": 161,
              "cumulativeTravelTime": 147,
              "description": "on to Camborne Way, continue for 44 metres",
              "descriptionHeading": "Turn right",
              "distance": 44,
              "latitude": 51.47042260114,
              "longitude": -0.45560407814,
              "pathAttribute": {
               "$type": "Tfl.Api.Presentation.Entities.PathAttribute, Tfl.Api.Presentation.Entities"
              },
              "skyDirection": 423,
              "skyDirectionDescription": "North",
              "streetName": "Camborne Way",
              "trackType": "None",
              "turnDirection": "RIGHT"
             },
             {
              "$type": "Tfl.Api.Presentation.Entities.InstructionStep, Tfl.Api.Presentation.Entities",
              "cumulativeDistance": 201,
              "cumulativeTravelTime": 183,
              "description": "on to Camborne Road, continue for 40 metres",
              "descriptionHeading": "Take a slight right",
              "distance": 40,
              "latitude": 51.47073377748,
              "longitude": -0.45533440541000003,
              "pathAttribute": {
               "$type": "Tfl.Api.Presentation.Entities.PathAttribute, Tfl.Api.Presentation.Entities"
              },
              "skyDirection": 418,
              "skyDirectionDescription": "North",
              "streetName": "Camborne Road",
              "trackType": "None",
              "turnDirection": "SLIGHT_RIGHT"
             },
             {
              "$type": "Tfl.Api.Presentation.Entities.InstructionStep, Tfl.Api.Presentation.Entities",
              "cumulativeDistance": 218,
              "cumulativeTravelTime": 198,
              "description": "on to Camborne Crescent, continue for 17 metres",
              "descriptionHeading": "Continue along ",
              "distance": 17,
              "latitude": 51.47091608387,
              "longitude": -0.45483871127000003,
              "pathAttribute": {
               "$type": "Tfl.Api.Presentation.Entities.PathAttribute, Tfl.Api.Presentation.Entities"
              },
              "skyDirection": 400,
              "skyDirectionDescription": "North",
              "streetName": "Camborne Crescent",
              "trackType": "None",
              "turnDirection": "STRAIGHT"
             }
            ],
            "summary": "Walk to Heathrow Terminals 2 & 3 Underground Station"
           },
           "isDisrupted": false,
           "mode": {
            "$type": "Tfl.Api.Presentation.Entities.Identifier, Tfl.Api.Presentation.Entities",
            "id": "walking",
            "name": "walking",
            "routeType": "Unknown",
            "status": "Unknown",
            "type": "Mode"
           },
           "obstacles": [
            {
             "$type": "Tfl.Api.Presentation.Entities.JourneyPlanner.Obstacle, Tfl.Api.Presentation.Entities",
             "incline": "DOWN",
             "position": "IDEST",
             "stopId": 1000105,
             "type": "RAMP"
            },
            {
             "$type": "Tfl.Api.Presentation.Entities.JourneyPlanner.Obstacle, Tfl.Api.Presentation.Entities",
             "incline": "DOWN",
             "position": "IDEST",
             "stopId": 1000105,
             "type": "ESCALATOR"
            }
           ],
           "path": {
            "$type": "Tfl.Api.Presentation.Entities.JourneyPlanner.Path, Tfl.Api.Presentation.Entities",
            "elevation": [],
            "lineString": "[[51.46977597935, -0.4543013131],[51.46977635875, -0.45433009588],[51.46977806594, -0.45445961842],[51.46985167889, -0.45458671153],[51.47012929044, -0.45518204429],[51.47042260114, -0.45560407814],[51.47048286506, -0.45540047102],[51.47073377748, -0.45533440541],[51.47091608387, -0.45483871127],[51.47103084483, -0.45467645423],[51.47107692392, -0.45476128667],[51.4714450785, -0.45267548951],[51.471637629, -0.45295694328],[51.47133397351, -0.45296249441]]",
            "stopPoints": []
           },
           "plannedWorks": [],
           "routeOptions": [
            {
             "$type": "Tfl.Api.Presentation.Entities.JourneyPlanner.RouteOption, Tfl.Api.Presentation.Entities",
             "directions": [
              ""
             ],
             "name": ""
            }
           ]
          },
          {
           "$type": "Tfl.Api.Presentation.Entities.JourneyPlanner.Leg, Tfl.Api.Presentation.Entities",
           "arrivalPoint": {
            "$type": "Tfl.Api.Presentation.Entities.StopPoint, Tfl.Api.Presentation.Entities",
            "additionalProperties": [],
            "commonName": "Hammersmith (Dist&Picc Line) Underground Station",
            "icsCode": "1000096",
            "lat": 51.4922132859,
            "lon": -0.22333538775,
            "naptanId": "940GZZLUHSD",
            "placeType": "StopPoint",
            "platformName": ""
           },
           "arrivalTime": "2022-02-11T05:57:00",
           "departurePoint": {
            "$type": "Tfl.Api.Presentation.Entities.StopPoint, Tfl.Api.Presentation.Entities",
            "additionalProperties": [],
            "commonName": "Heathrow Terminals 2 & 3 Underground Station",
            "icsCode": "1000105",
            "lat": 51.471637629,
            "lon": -0.45295694328,
            "naptanId": "940GZZLUHRC",
            "placeType": "StopPoint",
            "platformName": ""
           },
           "departureTime": "2022-02-11T05:26:00",
           "disruptions": [],
           "duration": 31,
           "hasFixedLocations": true,
           "instruction": {
            "$type": "Tfl.Api.Presentation.Entities.Instruction, Tfl.Api.Presentation.Entities",
            "detailed": "Piccadilly line towards Cockfosters",
            "steps": [],
            "summary": "Piccadilly line to Hammersmith (Dist&Picc Line)"
           },
           "isDisrupted": false,
           "mode": {
            "$type": "Tfl.Api.Presentation.Entities.Identifier, Tfl.Api.Presentation.Entities",
            "id": "tube",
            "name": "tube",
            "routeType": "Unknown",
            "status": "Unknown",
            "type": "Mode"
           },
           "obstacles": [
            {
             "$type": "Tfl.Api.Presentation.Entities.JourneyPlanner.Obstacle, Tfl.Api.Presentation.Entities",
             "incline": "LEVEL",
             "position": "AFTER",
             "stopId": 1000096,
             "type": "WALKWAY"
            }
           ],
           "path": {
            "$type": "Tfl.Api.Presentation.Entities.JourneyPlanner.Path, Tfl.Api.Presentation.Entities",
            "elevation": [],
            "lineString": "[[51.47133414008, -0.45297143671],[51.47129625217, -0.45093833188],[51.47119705219, -0.45023617707],[51.46562304245, -0.42736179058],[51.46551394189, -0.42660252651],[51.46550583066, -0.42599815248],[51.46559697209, -0.42541915544],[51.46638638497, -0.42360158321],[51.46638638497, -0.42360158321],[51.46680937918, -0.42262761335],[51.46718153783, -0.42154940001],[51.46922027601, -0.41469773922],[51.46967581535, -0.41314138278],[51.47188053313, -0.40662874577],[51.47266595611, -0.40421118384],[51.4731883564, -0.40229229392],[51.47494220963, -0.39704719586],[51.47507814629, -0.39646644862],[51.47513338514, -0.39590292812],[51.47512038717, -0.39495301203],[51.47498856672, -0.39386327385],[51.47478680503, -0.39291999464],[51.47423550195, -0.39075067401],[51.47358430283, -0.38851292937],[51.47345075673, -0.38795607167],[51.47337113566, -0.38739731574],[51.47335965335, -0.38656257661],[51.4733866923, -0.3859136657],[51.47341926289, -0.385734712],[51.47341926289, -0.385734712],[51.47387990381, -0.38320360757],[51.47400981566, -0.38219106752],[51.47403106901, -0.38112477083],[51.47390051231, -0.38013584652],[51.47368006827, -0.37915011351],[51.47336774641, -0.3780236576],[51.47223737126, -0.37496802597],[51.47157888271, -0.37287484377],[51.47133340786, -0.37138614109],[51.47123772117, -0.37032406734],[51.47125106032, -0.36869657304],[51.47133422543, -0.36620170922],[51.47133422543, -0.36620170922],[51.4713462021, -0.36584229009],[51.471437203, -0.36462956768],[51.47170628789, -0.36264734459],[51.47193784297, -0.36119919215],[51.47212169283, -0.36019909501],[51.47247924827, -0.35876079367],[51.4728923255, -0.35743566677],[51.47309198812, -0.35692453078],[51.47355472319, -0.35612620222],[51.47355472319, -0.35612620222],[51.47425972115, -0.35490986263],[51.47481464229, -0.35408352575],[51.47528513595, -0.35364900059],[51.47574088603, -0.35344539471],[51.47624258518, -0.35331212994],[51.47762670379, -0.35326228544],[51.47850114607, -0.35341800242],[51.47920219297, -0.35339275658],[51.4798650653, -0.35321047201],[51.48028385213, -0.35293616543],[51.48149076439, -0.35181184571],[51.48149076439, -0.35181184571],[51.48165077802, -0.35166277698],[51.48209207177, -0.35107079292],[51.48236279739, -0.35049935335],[51.48257878341, -0.34987227464],[51.48300527151, -0.34822943966],[51.48345936458, -0.34599508165],[51.48368842655, -0.34502183634],[51.48392951692, -0.34426418194],[51.48425966623, -0.34344568222],[51.48476834345, -0.34253428178],[51.49278966746, -0.32986928129],[51.49298247444, -0.32951650763],[51.49354004044, -0.32825725451],[51.4938018695, -0.3277002646],[51.49405676184, -0.32728757871],[51.49505998532, -0.32575263528],[51.49573468815, -0.32481625777],[51.49573468815, -0.32481625777],[51.49669122554, -0.3234886738],[51.49709621533, -0.32288314316],[51.49733208505, -0.32239906485],[51.49831750614, -0.31962555272],[51.49858208852, -0.31863613968],[51.49971676663, -0.31353113831],[51.49971676663, -0.31353113831],[51.50036424411, -0.31061752396],[51.50108944725, -0.30739114955],[51.50108944725, -0.30739114955],[51.50118391718, -0.30697082307],[51.50132127291, -0.30651908558],[51.50231360067, -0.30424901532],[51.502829938, -0.30264491839],[51.50303125403, -0.30164325011],[51.50329277414, -0.29983245096],[51.50433859847, -0.29320863743],[51.50460043866, -0.29204613102],[51.50562103371, -0.28865058866],[51.50578964306, -0.28788057234],[51.50587715008, -0.28709918206],[51.50585659227, -0.28630743346],[51.50570999464, -0.28550600685],[51.50538968178, -0.28450937827],[51.50364425624, -0.28137618171],[51.50277167788, -0.27986003801],[51.50277167788, -0.27986003801],[51.50276765264, -0.27985304418],[51.50209223387, -0.27917247055],[51.50052843591, -0.2780067116],[51.49987182754, -0.27738311875],[51.49874479649, -0.27595607466],[51.49570540839, -0.27107177814],[51.4952880256, -0.27020879586],[51.49492158603, -0.26914221544],[51.49461741054, -0.26803007429],[51.49447542257, -0.26694060845],[51.49450009304, -0.2661761603],[51.49460760363, -0.26493317096],[51.49470011041, -0.26389242917],[51.49510405624, -0.26020352799],[51.49529069168, -0.25642200817],[51.49529539136, -0.25552864659],[51.49526890491, -0.25462221712],[51.49526890491, -0.25462221712],[51.49490995737, -0.24236181984],[51.49482848299, -0.24112603403],[51.49463612357, -0.23969283971],[51.49416765347, -0.23664244205],[51.49413246427, -0.23609637831],[51.4938625608, -0.22952336733],[51.49389162508, -0.22847062012],[51.49387241422, -0.22779429393],[51.4937344074, -0.22699292561],[51.49354399647, -0.22629443585],[51.49330755644, -0.22552571115],[51.49310068802, -0.22492871185],[51.4928333043, -0.22449252917],[51.4920959202, -0.2235783194]]",
            "stopPoints": [
             {
              "$type": "Tfl.Api.Presentation.Entities.Identifier, Tfl.Api.Presentation.Entities",
              "id": "940GZZLUHNX",
              "name": "Hatton Cross Underground Station",
              "routeType": "Unknown",
              "status": "Unknown",
              "type": "StopPoint",
              "uri": "/StopPoint/940GZZLUHNX"
             },
             {
              "$type": "Tfl.Api.Presentation.Entities.Identifier, Tfl.Api.Presentation.Entities",
              "id": "940GZZLUHWT",
              "name": "Hounslow West Underground Station",
              "routeType": "Unknown",
              "status": "Unknown",
              "type": "StopPoint",
              "uri": "/StopPoint/940GZZLUHWT"
             },
             {
              "$type": "Tfl.Api.Presentation.Entities.Identifier, Tfl.Api.Presentation.Entities",
              "id": "940GZZLUHWC",
              "name": "Hounslow Central Underground Station",
              "routeType": "Unknown",
              "status": "Unknown",
              "type": "StopPoint",
              "uri": "/StopPoint/940GZZLUHWC"
             },
             {
              "$type": "Tfl.Api.Presentation.Entities.Identifier, Tfl.Api.Presentation.Entities",
              "id": "940GZZLUHWE",
              "name": "Hounslow East Underground Station",
              "routeType": "Unknown",
              "status": "Unknown",
              "type": "StopPoint",
              "uri": "/StopPoint/940GZZLUHWE"
             },
             {
              "$type": "Tfl.Api.Presentation.Entities.Identifier, Tfl.Api.Presentation.Entities",
              "id": "940GZZLUOSY",
              "name": "Osterley Underground Station",
              "routeType": "Unknown",
              "status": "Unknown",
              "type": "StopPoint",
              "uri": "/StopPoint/940GZZLUOSY"
             },
             {
              "$type": "Tfl.Api.Presentation.Entities.Identifier, Tfl.Api.Presentation.Entities",
              "id": "940GZZLUBOS",
              "name": "Boston Manor Underground Station",
              "routeType": "Unknown",
              "status": "Unknown",
              "type": "StopPoint",
              "uri": "/StopPoint/940GZZLUBOS"
             },
             {
              "$type": "Tfl.Api.Presentation.Entities.Identifier, Tfl.Api.Presentation.Entities",
              "id": "940GZZLUNFD",
              "name": "Northfields Underground Station",
              "routeType": "Unknown",
              "status": "Unknown",
              "type": "StopPoint",
              "uri": "/StopPoint/940GZZLUNFD"
             },
             {
              "$type": "Tfl.Api.Presentation.Entities.Identifier, Tfl.Api.Presentation.Entities",
              "id": "940GZZLUSEA",
              "name": "South Ealing Underground Station",
              "routeType": "Unknown",
              "status": "Unknown",
              "type": "StopPoint",
              "uri": "/StopPoint/940GZZLUSEA"
             },
             {
              "$type": "Tfl.Api.Presentation.Entities.Identifier, Tfl.Api.Presentation.Entities",
              "id": "940GZZLUACT",
              "name": "Acton Town Underground Station",
              "routeType": "Unknown",
              "status": "Unknown",
              "type": "StopPoint",
              "uri": "/StopPoint/940GZZLUACT"
             },
             {
              "$type": "Tfl.Api.Presentation.Entities.Identifier, Tfl.Api.Presentation.Entities",
              "id": "940GZZLUTNG",
              "name": "Turnham Green Underground Station",
              "routeType": "Unknown",
              "status": "Unknown",
              "type": "StopPoint",
              "uri": "/StopPoint/940GZZLUTNG"
             },
             {
              "$type": "Tfl.Api.Presentation.Entities.Identifier, Tfl.Api.Presentation.Entities",
              "id": "940GZZLUHSD",
              "name": "Hammersmith (Dist&Picc Line) Underground Station",
              "routeType": "Unknown",
              "status": "Unknown",
              "type": "StopPoint",
              "uri": "/StopPoint/940GZZLUHSD"
             }
            ]
           },
           "plannedWorks": [],
           "routeOptions": [
            {
             "$type": "Tfl.Api.Presentation.Entities.JourneyPlanner.RouteOption, Tfl.Api.Presentation.Entities",
             "directions": [
              "Cockfosters Underground Station"
             ],
             "lineIdentifier": {
              "$type": "Tfl.Api.Presentation.Entities.Identifier, Tfl.Api.Presentation.Entities",
              "crowding": {
               "$type": "Tfl.Api.Presentation.Entities.Crowding, Tfl.Api.Presentation.Entities"
              },
              "id": "piccadilly",
              "name": "Piccadilly",
              "routeType": "Unknown",
              "status": "Unknown",
              "type": "Line",
              "uri": "/Line/piccadilly"
             },
             "name": "Piccadilly"
            }
           ]
          },
          {
           "$type": "Tfl.Api.Presentation.Entities.JourneyPlanner.Leg, Tfl.Api.Presentation.Entities",
           "arrivalPoint": {
            "$type": "Tfl.Api.Presentation.Entities.StopPoint, Tfl.Api.Presentation.Entities",
            "additionalProperties": [],
            "commonName": "Tower Hill Underground Station",
            "icsCode": "1000238",
            "lat": 51.50965277573,
            "lon": -0.0770062307,
            "naptanId": "940GZZLUTWH",
            "placeType": "StopPoint",
            "platformName": ""
           },
           "arrivalTime": "2022-02-11T06:28:00",
           "departurePoint": {
            "$type": "Tfl.Api.Presentation.Entities.StopPoint, Tfl.Api.Presentation.Entities",
            "additionalProperties": [],
            "commonName": "Hammersmith (Dist&Picc Line) Underground Station",
            "icsCode": "1000096",
            "lat": 51.492256476719994,
            "lon": -0.22321846650000002,
            "naptanId": "940GZZLUHSD",
            "placeType": "StopPoint",
            "platformName": ""
           },
           "departureTime": "2022-02-11T05:58:00",
           "disruptions": [],
           "duration": 30,
           "hasFixedLocations": true,
           "instruction": {
            "$type": "Tfl.Api.Presentation.Entities.Instruction, Tfl.Api.Presentation.Entities",
            "detailed": "District line towards Barking",
            "steps": [],
            "summary": "District line to Tower Hill"
           },
           "isDisrupted": false,
           "mode": {
            "$type": "Tfl.Api.Presentation.Entities.Identifier, Tfl.Api.Presentation.Entities",
            "id": "tube",
            "name": "tube",
            "routeType": "Unknown",
            "status": "Unknown",
            "type": "Mode"
           },
           "obstacles": [],
           "path": {
            "$type": "Tfl.Api.Presentation.Entities.JourneyPlanner.Path, Tfl.Api.Presentation.Entities",
            "elevation": [],
            "lineString": "[[51.49208760477, -0.22356801013],[51.4910645424, -0.22229967955],[51.49062992288, -0.22150991913],[51.49034895321, -0.22077181035],[51.49018503026, -0.22004355659],[51.49011471448, -0.21896595054],[51.4901460911, -0.21807164222],[51.49041793613, -0.21643331258],[51.49047428308, -0.21540837889],[51.49042292219, -0.21415752913],[51.49042292219, -0.21415752913],[51.49040282633, -0.21366820117],[51.49016057498, -0.21134412118],[51.49031239024, -0.20891819446],[51.49082224137, -0.20617272801],[51.49082224137, -0.20617272801],[51.49101029725, -0.20515997396],[51.4910095878, -0.20452618611],[51.49090274014, -0.20342120885],[51.49062705245, -0.2018619248],[51.49049372764, -0.20137740912],[51.49021616645, -0.20086976491],[51.48981978322, -0.20023716482],[51.48967724378, -0.19973862077],[51.48961337489, -0.19909293535],[51.4896001071, -0.19822919003],[51.4896975539, -0.19754833679],[51.48997363039, -0.19678841006],[51.49053241398, -0.19570040991],[51.49176926194, -0.19383235919],[51.49176926194, -0.19383235919],[51.49250094582, -0.19272720411],[51.4940688846, -0.19060515021],[51.49446241221, -0.18988367282],[51.49475396596, -0.18896453843],[51.49486799732, -0.18819649308],[51.49495269862, -0.18669489221],[51.49488363497, -0.18571801418],[51.4946523523, -0.18471877111],[51.49429434407, -0.18311980226],[51.49429434407, -0.18311980226],[51.49420795866, -0.18273399814],[51.49394701123, -0.18156309445],[51.49383207696, -0.18053044806],[51.49388296801, -0.17917427153],[51.49418157766, -0.17524395382],[51.49413444819, -0.17394930107],[51.49410537443, -0.17304276088],[51.49410537443, -0.17304276088],[51.49397701935, -0.16904318096],[51.49388955135, -0.16574773969],[51.4935821644, -0.16104938568],[51.4933850391, -0.15994807731],[51.49232944642, -0.15611967477],[51.49232944642, -0.15611967477],[51.49220260052, -0.1556596748],[51.49203419789, -0.15467250467],[51.49196864177, -0.15336426993],[51.4919550368, -0.15250050208],[51.49203596861, -0.15135920979],[51.49217467015, -0.15046046611],[51.4924521552, -0.14923917703],[51.49279354996, -0.1486491277],[51.49433974243, -0.14747721673],[51.49559299982, -0.14654761224],[51.49602447545, -0.14596825275],[51.4964152192, -0.14508799447],[51.49666102898, -0.1441415737],[51.49677372683, -0.14350601902],[51.49677372683, -0.14350601902],[51.49705728358, -0.14190681254],[51.4973873904, -0.13947300677],[51.49759187705, -0.13875873199],[51.49935006435, -0.13452329177],[51.49937923781, -0.13443898791],[51.49937923781, -0.13443898791],[51.49960798215, -0.13377796535],[51.49976612469, -0.13297907664],[51.49979592553, -0.13202694365],[51.49977810033, -0.12978005537],[51.49984405157, -0.12884084682],[51.50000376901, -0.12814272697],[51.50102555928, -0.12568028136],[51.50137149336, -0.12498395938],[51.50137149336, -0.12498395938],[51.50147859369, -0.12476837597],[51.50174266672, -0.12441173341],[51.502161354, -0.12416400578],[51.50480089264, -0.12333513804],[51.50680168156, -0.12248919741],[51.50704777138, -0.1223154693],[51.50704777138, -0.1223154693],[51.50714847102, -0.12224437937],[51.50741599446, -0.12210368848],[51.5085669555, -0.12097556868],[51.50911166347, -0.12017497591],[51.50952962959, -0.11932193936],[51.51001139472, -0.11796187151],[51.51045488464, -0.11645924112],[51.51083544893, -0.11495917859],[51.51087243493, -0.11475352518],[51.51087243493, -0.11475352518],[51.51109134004, -0.11353629815],[51.51122232911, -0.11217621086],[51.51116494362, -0.10638518564],[51.51121598831, -0.10564808458],[51.51143102308, -0.10448624196],[51.51165437619, -0.10306849119],[51.51165437619, -0.10306849119],[51.51184694383, -0.10184605465],[51.51186610327, -0.10080761779],[51.51162170646, -0.09682576886],[51.51164315965, -0.09593135482],[51.51170825371, -0.09474586467],[51.51170825371, -0.09474586467],[51.51178194535, -0.09340352761],[51.51173593074, -0.09278574798],[51.51162536775, -0.09206978502],[51.5114190761, -0.09099753782],[51.51137539369, -0.09052378318],[51.51137426445, -0.09049453],[51.51137426445, -0.09049453],[51.5113287325, -0.08931516623],[51.51126824381, -0.08891417494],[51.51074116443, -0.08616777694],[51.51074116443, -0.08616777694],[51.51072772627, -0.08609776127],[51.50944454652, -0.08021422998],[51.50931357635, -0.0793550812],[51.50932022697, -0.07866307777],[51.50938267981, -0.07808401299],[51.50948131137, -0.07751783453],[51.50965515438, -0.07700831491]]",
            "stopPoints": [
             {
              "$type": "Tfl.Api.Presentation.Entities.Identifier, Tfl.Api.Presentation.Entities",
              "id": "940GZZLUBSC",
              "name": "Barons Court Underground Station",
              "routeType": "Unknown",
              "status": "Unknown",
              "type": "StopPoint",
              "uri": "/StopPoint/940GZZLUBSC"
             },
             {
              "$type": "Tfl.Api.Presentation.Entities.Identifier, Tfl.Api.Presentation.Entities",
              "id": "940GZZLUWKN",
              "name": "West Kensington Underground Station",
              "routeType": "Unknown",
              "status": "Unknown",
              "type": "StopPoint",
              "uri": "/StopPoint/940GZZLUWKN"
             },
             {
              "$type": "Tfl.Api.Presentation.Entities.Identifier, Tfl.Api.Presentation.Entities",
              "id": "940GZZLUECT",
              "name": "Earl's Court Underground Station",
              "routeType": "Unknown",
              "status": "Unknown",
              "type": "StopPoint",
              "uri": "/StopPoint/940GZZLUECT"
             },
             {
              "$type": "Tfl.Api.Presentation.Entities.Identifier, Tfl.Api.Presentation.Entities",
              "id": "940GZZLUGTR",
              "name": "Gloucester Road Underground Station",
              "routeType": "Unknown",
              "status": "Unknown",
              "type": "StopPoint",
              "uri": "/StopPoint/940GZZLUGTR"
             },
             {
              "$type": "Tfl.Api.Presentation.Entities.Identifier, Tfl.Api.Presentation.Entities",
              "id": "940GZZLUSKS",
              "name": "South Kensington Underground Station",
              "routeType": "Unknown",
              "status": "Unknown",
              "type": "StopPoint",
              "uri": "/StopPoint/940GZZLUSKS"
             },
             {
              "$type": "Tfl.Api.Presentation.Entities.Identifier, Tfl.Api.Presentation.Entities",
              "id": "940GZZLUSSQ",
              "name": "Sloane Square Underground Station",
              "routeType": "Unknown",
              "status": "Unknown",
              "type": "StopPoint",
              "uri": "/StopPoint/940GZZLUSSQ"
             },
             {
              "$type": "Tfl.Api.Presentation.Entities.Identifier, Tfl.Api.Presentation.Entities",
              "id": "940GZZLUVIC",
              "name": "Victoria Underground Station",
              "routeType": "Unknown",
              "status": "Unknown",
              "type": "StopPoint",
              "uri": "/StopPoint/940GZZLUVIC"
             },
             {
              "$type": "Tfl.Api.Presentation.Entities.Identifier, Tfl.Api.Presentation.Entities",
              "id": "940GZZLUSJP",
              "name": "St. James's Park Underground Station",
              "routeType": "Unknown",
              "status": "Unknown",
              "type": "StopPoint",
              "uri": "/StopPoint/940GZZLUSJP"
             },
             {
              "$type": "Tfl.Api.Presentation.Entities.Identifier, Tfl.Api.Presentation.Entities",
              "id": "940GZZLUWSM",
              "name": "Westminster Underground Station",
              "routeType": "Unknown",
              "status": "Unknown",
              "type": "StopPoint",
              "uri": "/StopPoint/940GZZLUWSM"
             },
             {
              "$type": "Tfl.Api.Presentation.Entities.Identifier, Tfl.Api.Presentation.Entities",
              "id": "940GZZLUEMB",
              "name": "Embankment Underground Station",
              "routeType": "Unknown",
              "status": "Unknown",
              "type": "StopPoint",
              "uri": "/StopPoint/940GZZLUEMB"
             },
             {
              "$type": "Tfl.Api.Presentation.Entities.Identifier, Tfl.Api.Presentation.Entities",
              "id": "940GZZLUTMP",
              "name": "Temple Underground Station",
              "routeType": "Unknown",
              "status": "Unknown",
              "type": "StopPoint",
              "uri": "/StopPoint/940GZZLUTMP"
             },
             {
              "$type": "Tfl.Api.Presentation.Entities.Identifier, Tfl.Api.Presentation.Entities",
              "id": "940GZZLUBKF",
              "name": "Blackfriars Underground Station",
              "routeType": "Unknown",
              "status": "Unknown",
              "type": "StopPoint",
              "uri": "/StopPoint/940GZZLUBKF"
             },
             {
              "$type": "Tfl.Api.Presentation.Entities.Identifier, Tfl.Api.Presentation.Entities",
              "id": "940GZZLUMSH",
              "name": "Mansion House Underground Station",
              "routeType": "Unknown",
              "status": "Unknown",
              "type": "StopPoint",
              "uri": "/StopPoint/940GZZLUMSH"
             },
             {
              "$type": "Tfl.Api.Presentation.Entities.Identifier, Tfl.Api.Presentation.Entities",
              "id": "940GZZLUCST",
              "name": "Cannon Street Underground Station",
              "routeType": "Unknown",
              "status": "Unknown",
              "type": "StopPoint",
              "uri": "/StopPoint/940GZZLUCST"
             },
             {
              "$type": "Tfl.Api.Presentation.Entities.Identifier, Tfl.Api.Presentation.Entities",
              "id": "940GZZLUMMT",
              "name": "Monument Underground Station",
              "routeType": "Unknown",
              "status": "Unknown",
              "type": "StopPoint",
              "uri": "/StopPoint/940GZZLUMMT"
             },
             {
              "$type": "Tfl.Api.Presentation.Entities.Identifier, Tfl.Api.Presentation.Entities",
              "id": "940GZZLUTWH",
              "name": "Tower Hill Underground Station",
              "routeType": "Unknown",
              "status": "Unknown",
              "type": "StopPoint",
              "uri": "/StopPoint/940GZZLUTWH"
             }
            ]
           },
           "plannedWorks": [],
           "routeOptions": [
            {
             "$type": "Tfl.Api.Presentation.Entities.JourneyPlanner.RouteOption, Tfl.Api.Presentation.Entities",
             "directions": [
              "Barking Underground Station"
             ],
             "lineIdentifier": {
              "$type": "Tfl.Api.Presentation.Entities.Identifier, Tfl.Api.Presentation.Entities",
              "crowding": {
               "$type": "Tfl.Api.Presentation.Entities.Crowding, Tfl.Api.Presentation.Entities"
              },
              "id": "district",
              "name": "District",
              "routeType": "Unknown",
              "status": "Unknown",
              "type": "Line",
              "uri": "/Line/district"
             },
             "name": "District"
            }
           ]
          },
          {
           "$type": "Tfl.Api.Presentation.Entities.JourneyPlanner.Leg, Tfl.Api.Presentation.Entities",
           "arrivalPoint": {
            "$type": "Tfl.Api.Presentation.Entities.Place, Tfl.Api.Presentation.Entities",
            "commonName": "1 Tower Bridge, Tower Hamlets",
            "lat": 51.505498499990004,
            "lon": -0.07537992570999999,
            "placeType": "StopPoint"
           },
           "arrivalTime": "2022-02-11T06:40:00",
           "departurePoint": {
            "$type": "Tfl.Api.Presentation.Entities.StopPoint, Tfl.Api.Presentation.Entities",
            "additionalProperties": [],
            "commonName": "Tower Hill Underground Station",
            "icsCode": "1000238",
            "lat": 51.50965277573,
            "lon": -0.0770062307,
            "naptanId": "940GZZLUTWH",
            "placeType": "StopPoint",
            "platformName": ""
           },
           "departureTime": "2022-02-11T06:28:00",
           "disruptions": [],
           "distance": 669,
           "duration": 12,
           "hasFixedLocations": false,
           "instruction": {
            "$type": "Tfl.Api.Presentation.Entities.Instruction, Tfl.Api.Presentation.Entities",
            "detailed": "Walk to 1 Tower Bridge, Tower Hamlets",
            "steps": [
             {
              "$type": "Tfl.Api.Presentation.Entities.InstructionStep, Tfl.Api.Presentation.Entities",
              "cumulativeDistance": 123,
              "cumulativeTravelTime": 111,
              "description": " for 123 metres",
              "descriptionHeading": "Continue along ",
              "distance": 123,
              "latitude": 51.50988714247,
              "longitude": -0.07649197353000001,
              "pathAttribute": {
               "$type": "Tfl.Api.Presentation.Entities.PathAttribute, Tfl.Api.Presentation.Entities"
              },
              "skyDirection": 441,
              "skyDirectionDescription": "North",
              "streetName": "",
              "trackType": "None",
              "turnDirection": "STRAIGHT"
             },
             {
              "$type": "Tfl.Api.Presentation.Entities.InstructionStep, Tfl.Api.Presentation.Entities",
              "cumulativeDistance": 140,
              "cumulativeTravelTime": 126,
              "description": "on to Minories, continue for 17 metres",
              "descriptionHeading": "Take a slight right",
              "distance": 17,
              "latitude": 51.51004726435,
              "longitude": -0.07474148037,
              "pathAttribute": {
               "$type": "Tfl.Api.Presentation.Entities.PathAttribute, Tfl.Api.Presentation.Entities"
              },
              "skyDirection": 504,
              "skyDirectionDescription": "North",
              "streetName": "Minories",
              "trackType": "None",
              "turnDirection": "SLIGHT_RIGHT"
             },
             {
              "$type": "Tfl.Api.Presentation.Entities.InstructionStep, Tfl.Api.Presentation.Entities",
              "cumulativeDistance": 230,
              "cumulativeTravelTime": 207,
              "description": "on to Tower Hill, continue for 90 metres",
              "descriptionHeading": "Continue along ",
              "distance": 90,
              "latitude": 51.509919091069996,
              "longitude": -0.07460277288,
              "pathAttribute": {
               "$type": "Tfl.Api.Presentation.Entities.PathAttribute, Tfl.Api.Presentation.Entities"
              },
              "skyDirection": 500,
              "skyDirectionDescription": "North",
              "streetName": "Tower Hill",
              "trackType": "None",
              "turnDirection": "STRAIGHT"
             },
             {
              "$type": "Tfl.Api.Presentation.Entities.InstructionStep, Tfl.Api.Presentation.Entities",
              "cumulativeDistance": 546,
              "cumulativeTravelTime": 491,
              "description": "on to Tower Bridge Approach, continue for 316 metres",
              "descriptionHeading": "Take a slight right",
              "distance": 316,
              "latitude": 51.509285553039994,
              "longitude": -0.07380806143,
              "pathAttribute": {
               "$type": "Tfl.Api.Presentation.Entities.PathAttribute, Tfl.Api.Presentation.Entities"
              },
              "skyDirection": 190,
              "skyDirectionDescription": "North",
              "streetName": "Tower Bridge Approach",
              "trackType": "None",
              "turnDirection": "SLIGHT_RIGHT"
             },
             {
              "$type": "Tfl.Api.Presentation.Entities.InstructionStep, Tfl.Api.Presentation.Entities",
              "cumulativeDistance": 669,
              "cumulativeTravelTime": 600,
              "description": "on to Tower Bridge, continue for 123 metres",
              "descriptionHeading": "Continue along ",
              "distance": 123,
              "latitude": 51.50651207448,
              "longitude": -0.07467435327000001,
              "pathAttribute": {
               "$type": "Tfl.Api.Presentation.Entities.PathAttribute, Tfl.Api.Presentation.Entities"
              },
              "skyDirection": 202,
              "skyDirectionDescription": "North",
              "streetName": "Tower Bridge",
              "trackType": "None",
              "turnDirection": "STRAIGHT"
             }
            ],
            "summary": "Walk to 1 Tower Bridge, Tower Hamlets"
           },
           "isDisrupted": false,
           "mode": {
            "$type": "Tfl.Api.Presentation.Entities.Identifier, Tfl.Api.Presentation.Entities",
            "id": "walking",
            "name": "walking",
            "routeType": "Unknown",
            "status": "Unknown",
            "type": "Mode"
           },
           "obstacles": [
            {
             "$type": "Tfl.Api.Presentation.Entities.JourneyPlanner.Obstacle, Tfl.Api.Presentation.Entities",
             "incline": "UP",
             "position": "BEFORE",
             "stopId": 1000238,
             "type": "STAIRS"
            },
            {
             "$type": "Tfl.Api.Presentation.Entities.JourneyPlanner.Obstacle, Tfl.Api.Presentation.Entities",
             "incline": "UP",
             "position": "BEFORE",
             "stopId": 1000238,
             "type": "STAIRS"
            }
           ],
           "path": {
            "$type": "Tfl.Api.Presentation.Entities.JourneyPlanner.Path, Tfl.Api.Presentation.Entities",
            "elevation": [],
            "lineString": "[[51.50965277573, -0.0770062307],[51.50983534983, -0.07662385474],[51.50983298801, -0.07647984344],[51.50988714247, -0.07649197353],[51.50994604037, -0.07569688147],[51.50997087283, -0.07556613498],[51.51004726435, -0.07474148037],[51.50991909107, -0.07460277288],[51.50968024384, -0.07429580021],[51.5094690644, -0.07403089675],[51.50928555304, -0.07380806143],[51.50908879906, -0.07387400345],[51.50877593176, -0.07398807411],[51.50857823169, -0.0739964117],[51.50844390916, -0.07403089771],[51.50782550511, -0.07415784955],[51.50715365551, -0.07431587169],[51.50694815118, -0.07439658728],[51.50688571945, -0.07442803979],[51.50651207448, -0.07467435327],[51.50549849999, -0.07537992571]]",
            "stopPoints": []
           },
           "plannedWorks": [],
           "routeOptions": [
            {
             "$type": "Tfl.Api.Presentation.Entities.JourneyPlanner.RouteOption, Tfl.Api.Presentation.Entities",
             "directions": [
              ""
             ],
             "name": ""
            }
           ]
          }
         ],
         "startDateTime": "2022-02-11T05:16:00"
        }
       ],
       "lines": [
        {
         "$type": "Tfl.Api.Presentation.Entities.Line, Tfl.Api.Presentation.Entities",
         "created": "2022-02-08T17:26:20.88Z",
         "crowding": {
          "$type": "Tfl.Api.Presentation.Entities.Crowding, Tfl.Api.Presentation.Entities"
         },
         "disruptions": [],
         "id": "central",
         "lineStatuses": [
          {
           "$type": "Tfl.Api.Presentation.Entities.LineStatus, Tfl.Api.Presentation.Entities",
           "created": "0001-01-01T00:00:00",
           "id": 0,
           "statusSeverity": 10,
           "statusSeverityDescription": "Good Service",
           "validityPeriods": []
          }
         ],
         "modeName": "tube",
         "modified": "2022-02-08T17:26:20.88Z",
         "name": "Central",
         "routeSections": [],
         "serviceTypes": [
          {
           "$type": "Tfl.Api.Presentation.Entities.LineServiceTypeInfo, Tfl.Api.Presentation.Entities",
           "name": "Regular",
           "uri": "/Line/Route?ids=Central&serviceTypes=Regular"
          },
          {
           "$type": "Tfl.Api.Presentation.Entities.LineServiceTypeInfo, Tfl.Api.Presentation.Entities",
           "name": "Night",
           "uri": "/Line/Route?ids=Central&serviceTypes=Night"
          }
         ]
        },
        {
         "$type": "Tfl.Api.Presentation.Entities.Line, Tfl.Api.Presentation.Entities",
         "created": "2022-02-08T17:26:20.863Z",
         "crowding": {
          "$type": "Tfl.Api.Presentation.Entities.Crowding, Tfl.Api.Presentation.Entities"
         },
         "disruptions": [],
         "id": "circle",
         "lineStatuses": [
          {
           "$type": "Tfl.Api.Presentation.Entities.LineStatus, Tfl.Api.Presentation.Entities",
           "created": "0001-01-01T00:00:00",
           "id": 0,
           "statusSeverity": 10,
           "statusSeverityDescription": "Good Service",
           "validityPeriods": []
          }
         ],
         "modeName": "tube",
         "modified": "2022-02-08T17:26:20.863Z",
         "name": "Circle",
         "routeSections": [],
         "serviceTypes": [
          {
           "$type": "Tfl.Api.Presentation.Entities.LineServiceTypeInfo, Tfl.Api.Presentation.Entities",
           "name": "Regular",
           "uri": "/Line/Route?ids=Circle&serviceTypes=Regular"
          }
         ]
        },
        {
         "$type": "Tfl.Api.Presentation.Entities.Line, Tfl.Api.Presentation.Entities",
         "created": "2022-02-08T17:26:20.863Z",
         "crowding": {
          "$type": "Tfl.Api.Presentation.Entities.Crowding, Tfl.Api.Presentation.Entities"
         },
         "disruptions": [],
         "id": "district",
         "lineStatuses": [
          {
           "$type": "Tfl.Api.Presentation.Entities.LineStatus, Tfl.Api.Presentation.Entities",
           "created": "0001-01-01T00:00:00",
           "id": 0,
           "statusSeverity": 10,
           "statusSeverityDescription": "Good Service",
           "validityPeriods": []
          }
         ],
         "modeName": "tube",
         "modified": "2022-02-08T17:26:20.863Z",
         "name": "District",
         "routeSections": [],
         "serviceTypes": [
          {
           "$type": "Tfl.Api.Presentation.Entities.LineServiceTypeInfo, Tfl.Api.Presentation.Entities",
           "name": "Regular",
           "uri": "/Line/Route?ids=District&serviceTypes=Regular"
          }
         ]
        },
        {
         "$type": "Tfl.Api.Presentation.Entities.Line, Tfl.Api.Presentation.Entities",
         "created": "2022-02-08T17:26:20.88Z",
         "crowding": {
          "$type": "Tfl.Api.Presentation.Entities.Crowding, Tfl.Api.Presentation.Entities"
         },
         "disruptions": [],
         "id": "piccadilly",
         "lineStatuses": [
          {
           "$type": "Tfl.Api.Presentation.Entities.LineStatus, Tfl.Api.Presentation.Entities",
           "created": "0001-01-01T00:00:00",
           "id": 0,
           "statusSeverity": 10,
           "statusSeverityDescription": "Good Service",
           "validityPeriods": []
          }
         ],
         "modeName": "tube",
         "modified": "2022-02-08T17:26:20.88Z",
         "name": "Piccadilly",
         "routeSections": [],
         "serviceTypes": [
          {
           "$type": "Tfl.Api.Presentation.Entities.LineServiceTypeInfo, Tfl.Api.Presentation.Entities",
           "name": "Regular",
           "uri": "/Line/Route?ids=Piccadilly&serviceTypes=Regular"
          },
          {
           "$type": "Tfl.Api.Presentation.Entities.LineServiceTypeInfo, Tfl.Api.Presentation.Entities",
           "name": "Night",
           "uri": "/Line/Route?ids=Piccadilly&serviceTypes=Night"
          }
         ]
        }
       ],
       "recommendedMaxAgeMinutes": 5,
       "searchCriteria": {
        "$type": "Tfl.Api.Presentation.Entities.JourneyPlanner.SearchCriteria, Tfl.Api.Presentation.Entities",
        "dateTime": "2022-02-11T04:27:00",
        "dateTimeType": "Departing",
        "timeAdjustments": {
         "$type": "Tfl.Api.Presentation.Entities.JourneyPlanner.TimeAdjustments, Tfl.Api.Presentation.Entities",
         "earlier": {
          "$type": "Tfl.Api.Presentation.Entities.JourneyPlanner.TimeAdjustment, Tfl.Api.Presentation.Entities",
          "date": "20220211",
          "time": "0011",
          "timeIs": "departing",
          "uri": "/journey/journeyresults/51.4700,%20-0.4543/to/51.5055,%20-0.0754?mode=tube&time=0011&date=20220211&timeIs=departing"
         },
         "earliest": {
          "$type": "Tfl.Api.Presentation.Entities.JourneyPlanner.TimeAdjustment, Tfl.Api.Presentation.Entities",
          "date": "20220211",
          "time": "0300",
          "timeIs": "departing",
          "uri": "/journey/journeyresults/51.4700,%20-0.4543/to/51.5055,%20-0.0754?mode=tube&time=0300&date=20220211&timeIs=departing"
         },
         "later": {
          "$type": "Tfl.Api.Presentation.Entities.JourneyPlanner.TimeAdjustment, Tfl.Api.Presentation.Entities",
          "date": "20220211",
          "time": "0516",
          "timeIs": "departing",
          "uri": "/journey/journeyresults/51.4700,%20-0.4543/to/51.5055,%20-0.0754?mode=tube&time=0516&date=20220211&timeIs=departing"
         },
         "latest": {
          "$type": "Tfl.Api.Presentation.Entities.JourneyPlanner.TimeAdjustment, Tfl.Api.Presentation.Entities",
          "date": "20220212",
          "time": "0300",
          "timeIs": "departing",
          "uri": "/journey/journeyresults/51.4700,%20-0.4543/to/51.5055,%20-0.0754?mode=tube&time=0300&date=20220212&timeIs=departing"
         }
        }
       },
       "stopMessages": []
      },
      "text/plain": [
       "<IPython.core.display.JSON object>"
      ]
     },
     "execution_count": 77,
     "metadata": {
      "application/json": {
       "expanded": false,
       "root": "root"
      }
     },
     "output_type": "execute_result"
    }
   ],
   "source": [
    "JSON(tube_journey)"
   ]
  },
  {
   "cell_type": "code",
   "execution_count": 67,
   "metadata": {},
   "outputs": [
    {
     "name": "stdout",
     "output_type": "stream",
     "text": [
      "Planned durations:\n",
      "Bus: 109 min\n",
      "Tube: 84 min\n"
     ]
    }
   ],
   "source": [
    "# extract durations of each journey plan from response within key 'journeys'; store in lists\n",
    "bus_dur = [journey['duration'] for journey in bus_journey['journeys']]\n",
    "tube_dur = [journey['duration'] for journey in tube_journey['journeys']]\n",
    "\n",
    "print('Planned durations:\\nBus: {} min\\nTube: {} min'.format(min(bus_dur), min(tube_dur)))"
   ]
  },
  {
   "cell_type": "code",
   "execution_count": null,
   "metadata": {},
   "outputs": [],
   "source": []
  }
 ],
 "metadata": {
  "kernelspec": {
   "display_name": "Python 3 (ipykernel)",
   "language": "python",
   "name": "python3"
  },
  "language_info": {
   "codemirror_mode": {
    "name": "ipython",
    "version": 3
   },
   "file_extension": ".py",
   "mimetype": "text/x-python",
   "name": "python",
   "nbconvert_exporter": "python",
   "pygments_lexer": "ipython3",
   "version": "3.9.7"
  }
 },
 "nbformat": 4,
 "nbformat_minor": 4
}
